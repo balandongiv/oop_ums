{
 "cells": [
  {
   "cell_type": "code",
   "execution_count": null,
   "metadata": {
    "collapsed": true
   },
   "outputs": [],
   "source": [
    "import numpy as np\n",
    "import sys\n",
    "\n",
    "my_arr = np.arange(1000000)\n",
    "my_list = list(range(1000000))\n",
    "\n",
    "# Check memory usage of NumPy array\n",
    "numpy_memory_usage = sys.getsizeof(my_arr)\n",
    "print(f\"Memory usage of NumPy array: {numpy_memory_usage} bytes\")\n",
    "\n",
    "# Check memory usage of Python list\n",
    "list_memory_usage = sys.getsizeof(my_list)\n",
    "print(f\"Memory usage of Python list: {list_memory_usage} bytes\")"
   ]
  },
  {
   "cell_type": "markdown",
   "source": [
    "CREATING A 2D NUMPY ARRAY FROM PYTHON LIST"
   ],
   "metadata": {
    "collapsed": false
   }
  },
  {
   "cell_type": "code",
   "execution_count": 1,
   "outputs": [
    {
     "name": "stdout",
     "output_type": "stream",
     "text": [
      "2D NumPy Array:\n",
      "[[1 2 3]\n",
      " [4 5 6]\n",
      " [7 8 9]]\n"
     ]
    }
   ],
   "source": [
    "import numpy as np\n",
    "\n",
    "# Create a 2D Python list\n",
    "data_2d = [[1, 2, 3],\n",
    "           [4, 5, 6],\n",
    "           [7, 8, 9]]\n",
    "\n",
    "# Convert the 2D Python list to a NumPy array\n",
    "arr_2d = np.array(data_2d)\n",
    "\n",
    "# Display the 2D NumPy array\n",
    "print(\"2D NumPy Array:\")\n",
    "print(arr_2d)"
   ],
   "metadata": {
    "collapsed": false,
    "ExecuteTime": {
     "end_time": "2023-08-21T01:28:33.328363600Z",
     "start_time": "2023-08-21T01:28:33.264527400Z"
    }
   }
  },
  {
   "cell_type": "markdown",
   "source": [
    "# CREATING A 3D NUMPY ARRAY FROM PYTHON LIST"
   ],
   "metadata": {
    "collapsed": false
   }
  },
  {
   "cell_type": "code",
   "execution_count": null,
   "outputs": [],
   "source": [
    "import numpy as np\n",
    "\n",
    "# Create a 3D Python list\n",
    "data_3d = [[[1, 2, 3],\n",
    "            [4, 5, 6]],\n",
    "\n",
    "           [[7, 8, 9],\n",
    "            [10, 11, 12]]]\n",
    "\n",
    "# Convert the 3D Python list to a NumPy array\n",
    "arr_3d = np.array(data_3d)\n",
    "\n",
    "# Display the 3D NumPy array\n",
    "print(\"3D NumPy Array:\")\n",
    "print(arr_3d)"
   ],
   "metadata": {
    "collapsed": false
   }
  },
  {
   "cell_type": "code",
   "execution_count": 2,
   "outputs": [
    {
     "name": "stdout",
     "output_type": "stream",
     "text": [
      "1D NumPy Array:\n",
      "[0 1 2 3 4 5 6 7 8 9]\n"
     ]
    }
   ],
   "source": [
    "import numpy as np\n",
    "\n",
    "# Creating a 1D NumPy Array\n",
    "arr_1d = np.arange(10)  # Creates a 1D array from 0 to 9\n",
    "print(\"1D NumPy Array:\")\n",
    "print(arr_1d)"
   ],
   "metadata": {
    "collapsed": false,
    "ExecuteTime": {
     "end_time": "2023-08-21T01:35:09.914534300Z",
     "start_time": "2023-08-21T01:35:09.899536400Z"
    }
   }
  },
  {
   "cell_type": "code",
   "execution_count": 4,
   "outputs": [
    {
     "name": "stdout",
     "output_type": "stream",
     "text": [
      "1D NumPy Array:\n",
      "[ 5  7  9 11 13]\n"
     ]
    }
   ],
   "source": [
    "# Creating a 1D NumPy Array\n",
    "arr_1d = np.arange(5,15,2)\n",
    "print(\"1D NumPy Array:\")\n",
    "print(arr_1d)"
   ],
   "metadata": {
    "collapsed": false,
    "ExecuteTime": {
     "end_time": "2023-08-21T01:36:35.734967600Z",
     "start_time": "2023-08-21T01:36:35.722428900Z"
    }
   }
  },
  {
   "cell_type": "code",
   "execution_count": 6,
   "outputs": [
    {
     "name": "stdout",
     "output_type": "stream",
     "text": [
      "[10.  11.5 13.  14.5 16. ]\n"
     ]
    }
   ],
   "source": [
    "import numpy as np\n",
    "arr = np.linspace(10, 16, 5)\n",
    "print(arr)"
   ],
   "metadata": {
    "collapsed": false,
    "ExecuteTime": {
     "end_time": "2023-08-21T07:16:39.491915300Z",
     "start_time": "2023-08-21T07:16:39.482709400Z"
    }
   }
  },
  {
   "cell_type": "code",
   "execution_count": 7,
   "outputs": [
    {
     "name": "stdout",
     "output_type": "stream",
     "text": [
      "[[0.34590813 0.54590139]\n",
      " [0.09394015 0.35125857]]\n"
     ]
    }
   ],
   "source": [
    "import numpy as np\n",
    "print(np.random.rand(2, 2))"
   ],
   "metadata": {
    "collapsed": false,
    "ExecuteTime": {
     "end_time": "2023-08-21T07:18:35.194866700Z",
     "start_time": "2023-08-21T07:18:35.188802300Z"
    }
   }
  },
  {
   "cell_type": "code",
   "execution_count": 13,
   "outputs": [
    {
     "name": "stdout",
     "output_type": "stream",
     "text": [
      "[[[[[0.36519907 0.03084903]\n",
      "    [0.68289848 0.52272888]]\n",
      "\n",
      "   [[0.10630187 0.47814808]\n",
      "    [0.14888334 0.20549683]]]\n",
      "\n",
      "\n",
      "  [[[0.33905393 0.09846189]\n",
      "    [0.12859467 0.97074255]]\n",
      "\n",
      "   [[0.26658398 0.62412114]\n",
      "    [0.8655281  0.00358722]]]]\n",
      "\n",
      "\n",
      "\n",
      " [[[[0.39362244 0.34095622]\n",
      "    [0.0705317  0.72443718]]\n",
      "\n",
      "   [[0.37480231 0.58029721]\n",
      "    [0.76494958 0.37812368]]]\n",
      "\n",
      "\n",
      "  [[[0.35136098 0.44575652]\n",
      "    [0.90097729 0.26968975]]\n",
      "\n",
      "   [[0.93304527 0.40715364]\n",
      "    [0.17517483 0.43548671]]]]]\n"
     ]
    }
   ],
   "source": [
    "print(np.random.rand(2,2,2,2,2))"
   ],
   "metadata": {
    "collapsed": false,
    "ExecuteTime": {
     "end_time": "2023-08-21T07:20:39.980709300Z",
     "start_time": "2023-08-21T07:20:39.967161400Z"
    }
   }
  },
  {
   "cell_type": "code",
   "execution_count": 3,
   "outputs": [
    {
     "name": "stdout",
     "output_type": "stream",
     "text": [
      "[0 1 2 3 4 5 6 7 8 9]\n"
     ]
    }
   ],
   "source": [
    "import numpy as np\n",
    "arr = np.arange(10)\n",
    "\n",
    "print(arr)"
   ],
   "metadata": {
    "collapsed": false,
    "ExecuteTime": {
     "end_time": "2023-08-21T10:03:24.257994400Z",
     "start_time": "2023-08-21T10:03:24.243013Z"
    }
   }
  },
  {
   "cell_type": "code",
   "execution_count": 2,
   "outputs": [
    {
     "name": "stdout",
     "output_type": "stream",
     "text": [
      "[[0 1 2 3 4 5 6 7 8 9]]\n"
     ]
    }
   ],
   "source": [
    "\n",
    "import numpy as np\n",
    "arr = np.arange(10)\n",
    "\n",
    "print(arr[np.newaxis, :])"
   ],
   "metadata": {
    "collapsed": false,
    "ExecuteTime": {
     "end_time": "2023-08-21T10:03:04.586023400Z",
     "start_time": "2023-08-21T10:03:04.534986Z"
    }
   }
  },
  {
   "cell_type": "code",
   "execution_count": 4,
   "outputs": [],
   "source": [
    "cube = np.random.rand(3, 3, 3)\n",
    "result = cube[..., 1]"
   ],
   "metadata": {
    "collapsed": false,
    "ExecuteTime": {
     "end_time": "2023-08-21T10:04:24.686061600Z",
     "start_time": "2023-08-21T10:04:24.665982200Z"
    }
   }
  },
  {
   "cell_type": "code",
   "execution_count": 5,
   "outputs": [
    {
     "name": "stdout",
     "output_type": "stream",
     "text": [
      "[[1 2 3]\n",
      " [4 5 6]]\n"
     ]
    }
   ],
   "source": [
    "import numpy as np\n",
    "arr = np.array([1, 2, 3, 4, 5, 6])\n",
    "reshaped_arr = arr.reshape((2, -1))\n",
    "print(reshaped_arr)"
   ],
   "metadata": {
    "collapsed": false,
    "ExecuteTime": {
     "end_time": "2023-08-21T11:42:25.420421500Z",
     "start_time": "2023-08-21T11:42:25.406391100Z"
    }
   }
  },
  {
   "cell_type": "markdown",
   "source": [
    "Arithmetic operations are element-wise"
   ],
   "metadata": {
    "collapsed": false
   }
  },
  {
   "cell_type": "code",
   "execution_count": 6,
   "outputs": [
    {
     "name": "stdout",
     "output_type": "stream",
     "text": [
      "[5 7 9]\n"
     ]
    }
   ],
   "source": [
    "a = np.array([1, 2, 3])\n",
    "b = np.array([4, 5, 6])\n",
    "c = a + b\n",
    "\n",
    "print(c)"
   ],
   "metadata": {
    "collapsed": false,
    "ExecuteTime": {
     "end_time": "2023-08-21T11:55:06.121334300Z",
     "start_time": "2023-08-21T11:55:06.098334600Z"
    }
   }
  },
  {
   "cell_type": "markdown",
   "source": [
    "The output array c has the same shape as the input arrays a and b. Each element of c is the sum of the corresponding elements of a and b.\n",
    "\n",
    "Element-wise operations are very efficient in NumPy because they can be performed using vectorized operations. Vectorized operations are operations that are applied to each element of an array in a single pass. This is in contrast to looping operations, which iterate over each element of an array one at a time.\n",
    "\n",
    "Vectorized operations are much faster than looping operations because they can take advantage of the parallel processing capabilities of modern CPUs. This is why NumPy is often used for scientific computing and machine learning applications, where speed is essential."
   ],
   "metadata": {
    "collapsed": false
   }
  },
  {
   "cell_type": "markdown",
   "source": [
    "element-wise multiplication in NumPy"
   ],
   "metadata": {
    "collapsed": false
   }
  },
  {
   "cell_type": "code",
   "execution_count": 8,
   "outputs": [
    {
     "name": "stdout",
     "output_type": "stream",
     "text": [
      "[ 4 10 18]\n"
     ]
    }
   ],
   "source": [
    "a = np.array([1, 2, 3])\n",
    "b = np.array([4, 5, 6])\n",
    "\n",
    "c = np.multiply(a, b)  # another alternative is c = a * b\n",
    "\n",
    "print(c)"
   ],
   "metadata": {
    "collapsed": false,
    "ExecuteTime": {
     "end_time": "2023-08-21T11:56:33.613086Z",
     "start_time": "2023-08-21T11:56:33.596753500Z"
    }
   }
  },
  {
   "cell_type": "markdown",
   "source": [
    "broadcasting mechanism:"
   ],
   "metadata": {
    "collapsed": false
   }
  },
  {
   "cell_type": "code",
   "execution_count": 9,
   "outputs": [
    {
     "name": "stdout",
     "output_type": "stream",
     "text": [
      "[ 4  8 12]\n"
     ]
    }
   ],
   "source": [
    "a = np.array([1, 2, 3])\n",
    "b = 4\n",
    "\n",
    "c = a * b\n",
    "\n",
    "print(c)"
   ],
   "metadata": {
    "collapsed": false,
    "ExecuteTime": {
     "end_time": "2023-08-21T11:57:23.268294100Z",
     "start_time": "2023-08-21T11:57:23.267293900Z"
    }
   }
  },
  {
   "cell_type": "markdown",
   "source": [
    "The broadcasting mechanism allows you to multiply an array with a scalar. In this case, the scalar 4 is broadcasted to the shape of the array a, resulting in an array of the same shape as a. The element-wise multiplication is then performed on the two arrays."
   ],
   "metadata": {
    "collapsed": false
   }
  }
 ],
 "metadata": {
  "kernelspec": {
   "display_name": "Python 3",
   "language": "python",
   "name": "python3"
  },
  "language_info": {
   "codemirror_mode": {
    "name": "ipython",
    "version": 2
   },
   "file_extension": ".py",
   "mimetype": "text/x-python",
   "name": "python",
   "nbconvert_exporter": "python",
   "pygments_lexer": "ipython2",
   "version": "2.7.6"
  }
 },
 "nbformat": 4,
 "nbformat_minor": 0
}
