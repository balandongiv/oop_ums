{
 "cells": [
  {
   "cell_type": "markdown",
   "source": [
    "# Section 1: Motivation"
   ],
   "metadata": {
    "collapsed": false
   }
  },
  {
   "cell_type": "markdown",
   "source": [
    "Lists are great for storing small amounts of one-dimensional data. \n",
    "\n",
    "However, they can't be used directly with arithmetic operators such as ($+$, $-$, $*$, $/$, …)\n"
   ],
   "metadata": {
    "collapsed": false
   }
  },
  {
   "cell_type": "code",
   "execution_count": 2,
   "outputs": [
    {
     "name": "stdout",
     "output_type": "stream",
     "text": [
      "[5, 10, 15, 20, 3, 6, 9, 12]\n"
     ]
    }
   ],
   "source": [
    "a= [5, 10, 15, 20]\n",
    "b=  [3, 6, 9, 12]\n",
    "print(a+b)"
   ],
   "metadata": {
    "collapsed": false,
    "ExecuteTime": {
     "end_time": "2023-08-24T08:57:00.959594300Z",
     "start_time": "2023-08-24T08:57:00.862671700Z"
    }
   }
  },
  {
   "cell_type": "code",
   "execution_count": 3,
   "outputs": [
    {
     "name": "stdout",
     "output_type": "stream",
     "text": [
      "[8, 16, 24, 32]\n"
     ]
    }
   ],
   "source": [
    "a = [5, 10, 15, 20]\n",
    "b = [3, 6, 9, 12]\n",
    "print([x + y for x, y in zip(a, b)])\n"
   ],
   "metadata": {
    "collapsed": false,
    "ExecuteTime": {
     "end_time": "2023-08-24T08:57:01.001758Z",
     "start_time": "2023-08-24T08:57:00.866671600Z"
    }
   }
  },
  {
   "cell_type": "markdown",
   "source": [
    "When it comes to efficient array manipulation, especially for multidimensional data, NumPy comes to the rescue.\n"
   ],
   "metadata": {
    "collapsed": false
   }
  },
  {
   "cell_type": "markdown",
   "source": [
    "\n",
    "<img src=\"images/numpy_image.png\" width=\"532\" height=\"213\">\n",
    "\n",
    "\n",
    "* Stands for Numerical Python\n",
    "* Is the fundamental package required for high performance computing and data analysis\n",
    "* NumPy is so important for numerical computations in Python is because it is designed for efficiency on large arrays of data.\n",
    "\n",
    "<br>\n",
    "\n",
    "Some advantage\n",
    "\n",
    "* ndarray: \n",
    "    - It efficiently stores data in a contiguous block of memory, making it faster and more memory-efficient than built-in Python sequences. <br> Whenever you see “array,” “NumPy array,” or “ndarray” in the text, with few exceptions they all refer to the same thing: the ndarray object.\n",
    "* Vectorization: \n",
    "    - NumPy Arrays are important because they enable you to express batch operations on data without writing any for loops. We call this vectorization. \n",
    "* Speed: \n",
    " - Standard math functions for fast operations on entire arrays of data without having to write loops\n",
    "\n",
    "\n",
    "\n"
   ],
   "metadata": {
    "collapsed": false
   }
  },
  {
   "cell_type": "markdown",
   "source": [],
   "metadata": {
    "collapsed": false
   }
  },
  {
   "cell_type": "code",
   "execution_count": 4,
   "outputs": [
    {
     "name": "stdout",
     "output_type": "stream",
     "text": [
      "Memory usage of NumPy array: 4000112 bytes\n",
      "Memory usage of Python list: 8000056 bytes\n",
      "NumPy is 50.00% more memory-efficient compared to a Python list.\n"
     ]
    }
   ],
   "source": [
    "import numpy as np\n",
    "import sys\n",
    "\n",
    "# Create a NumPy array and a Python list\n",
    "my_arr = np.arange(1000000)\n",
    "my_list = list(range(1000000))\n",
    "\n",
    "# Check memory usage of NumPy array\n",
    "numpy_memory_usage = sys.getsizeof(my_arr)\n",
    "\n",
    "# Check memory usage of Python list\n",
    "list_memory_usage = sys.getsizeof(my_list)\n",
    "\n",
    "# Calculate efficiency as a percentage\n",
    "efficiency_percentage = (1 - (numpy_memory_usage / list_memory_usage)) * 100\n",
    "\n",
    "# Print results\n",
    "print(f\"Memory usage of NumPy array: {numpy_memory_usage} bytes\")\n",
    "print(f\"Memory usage of Python list: {list_memory_usage} bytes\")\n",
    "print(f\"NumPy is {efficiency_percentage:.2f}% more memory-efficient compared to a Python list.\")\n"
   ],
   "metadata": {
    "collapsed": false,
    "ExecuteTime": {
     "end_time": "2023-08-24T08:57:01.084822300Z",
     "start_time": "2023-08-24T08:57:00.882837Z"
    }
   }
  },
  {
   "cell_type": "markdown",
   "source": [
    "# Section 2: Getting Started with NumPy\n",
    "\n",
    "To begin using NumPy, you first need to import the library using the import keyword\n",
    "\n",
    "<pre><code class=\"python\" language=\"python\" style=\"font-size:0.8em\">\n",
    "import numpy as np\n",
    "</code></pre>\n",
    "\n",
    "In the code snippet above, we import NumPy and alias it as np. \n",
    "\n",
    "\n",
    "It is also possible to import NumPy and alias it with a different name. For example, you could import NumPy and alias it as mynumpy:\n",
    "\n",
    "<br>\n",
    "<pre><code class=\"python\" language=\"python\" style=\"font-size:0.8em\">\n",
    "import numpy as mynumpy\n",
    "</code></pre>\n",
    "\n",
    "However, it is recommended to use the alias np because it is the standard convention used by Python programmers and data scientists. This will make your code easier to read and understand for other Python programmers and data scientists."
   ],
   "metadata": {
    "collapsed": false
   }
  },
  {
   "cell_type": "markdown",
   "source": [
    "# Section 3: ndarray\n",
    "\n",
    "The core data structure in NumPy is the ndarray. Here are some key points about it:\n",
    "\n",
    "* It's used for storing homogeneous data, meaning all elements are of the same data type.\n",
    "* Every array must have a shape and a data type (dtype).\n",
    "* It supports convenient slicing, indexing, and efficient vectorized computations."
   ],
   "metadata": {
    "collapsed": false
   }
  },
  {
   "cell_type": "code",
   "execution_count": 5,
   "outputs": [
    {
     "name": "stdout",
     "output_type": "stream",
     "text": [
      "[]\n",
      "float64\n",
      "(0,)\n",
      "1\n"
     ]
    }
   ],
   "source": [
    "# Remark, from here on, we will not import the numpy library anymore as it is already imported in the first cell of this notebook.\n",
    "\n",
    "# To show that numpy has a shape, data type\n",
    "# Create a 1D NumPy with zero elements\n",
    "arr1 =  np.empty((0,))\n",
    "print(arr1)\n",
    "print(arr1.dtype)\n",
    "print(arr1.shape)\n",
    "print(arr1.ndim)\n"
   ],
   "metadata": {
    "collapsed": false,
    "ExecuteTime": {
     "end_time": "2023-08-24T08:57:01.090387500Z",
     "start_time": "2023-08-24T08:57:00.959594300Z"
    }
   }
  },
  {
   "cell_type": "markdown",
   "source": [
    "## Creating NumPy Arrays\n",
    "\n",
    "NumPy arrays can be created from Python lists. "
   ],
   "metadata": {
    "collapsed": false
   }
  },
  {
   "cell_type": "markdown",
   "source": [
    "### Using a Python List\n",
    "Creating a 1D NumPy Array:\n",
    "\n",
    "In these lines of code, you are creating a NumPy array named 'arr' from a regular Python list named 'data'.\n",
    "\n",
    "\n"
   ],
   "metadata": {
    "collapsed": false
   }
  },
  {
   "cell_type": "markdown",
   "source": [
    "#### CREATING A 1D NUMPY ARRAY FROM PYTHON LIST\n"
   ],
   "metadata": {
    "collapsed": false
   }
  },
  {
   "cell_type": "code",
   "execution_count": 6,
   "outputs": [
    {
     "name": "stdout",
     "output_type": "stream",
     "text": [
      "The array: [1 2 3 4]\n",
      "The shape of the array: (4,)\n",
      "The array has a dimension of: 1\n"
     ]
    }
   ],
   "source": [
    "# Code Snippet 1\n",
    "# The snippet below creates a 1D NumPy array from a Python list\n",
    "\n",
    "data = [1, 2, 3, 4]\n",
    "arr = np.array(data)\n",
    "\n",
    "# Let's print the array and its type\n",
    "print(f'The array: {arr}')\n",
    "print(f'The shape of the array: {arr.shape}')\n",
    "print(f'The array has a dimension of: {arr.ndim}')\n"
   ],
   "metadata": {
    "collapsed": false,
    "ExecuteTime": {
     "end_time": "2023-08-24T08:57:01.091387Z",
     "start_time": "2023-08-24T08:57:00.976265400Z"
    }
   }
  },
  {
   "cell_type": "markdown",
   "source": [
    "#### CREATING A 2D NUMPY ARRAY FROM PYTHON LIST"
   ],
   "metadata": {
    "collapsed": false
   }
  },
  {
   "cell_type": "code",
   "execution_count": 7,
   "outputs": [
    {
     "name": "stdout",
     "output_type": "stream",
     "text": [
      "The array: \n",
      " [[1 2 3]\n",
      " [4 5 6]\n",
      " [7 8 9]]\n",
      "The shape of the array: (3, 3)\n",
      "The array has a dimension of: 2\n"
     ]
    }
   ],
   "source": [
    "# Code Snippet 2\n",
    "# The snippet below creates a 2D NumPy array from a Python list of lists\n",
    "\n",
    "# Lets create 3 Python lists\n",
    "data1 = [1, 2, 3]\n",
    "data2 = [4, 5, 6]\n",
    "data3 = [7, 8, 9]\n",
    "\n",
    "# Now, let's create a list of lists\n",
    "data_2d = [data1, data2, data3]\n",
    "\n",
    "# Similarly, you can create the variable data as the commented line below\n",
    "\n",
    "\n",
    "# data_2d = [[1, 2, 3],\n",
    "#            [4, 5, 6],\n",
    "#            [7, 8, 9]]\n",
    "\n",
    "# Convert the 2D Python list to a NumPy array\n",
    "arr_2d = np.array(data_2d)\n",
    "\n",
    "# Let's print the array and its type\n",
    "print(f'The array: \\n {arr_2d}')\n",
    "print(f'The shape of the array: {arr_2d.shape}')\n",
    "print(f'The array has a dimension of: {arr_2d.ndim}')"
   ],
   "metadata": {
    "collapsed": false,
    "ExecuteTime": {
     "end_time": "2023-08-24T08:57:01.092386900Z",
     "start_time": "2023-08-24T08:57:00.995512500Z"
    }
   }
  },
  {
   "cell_type": "markdown",
   "source": [
    "#### CREATING A 3D NUMPY ARRAY FROM PYTHON LIST\n"
   ],
   "metadata": {
    "collapsed": false
   }
  },
  {
   "cell_type": "code",
   "execution_count": 8,
   "outputs": [
    {
     "name": "stdout",
     "output_type": "stream",
     "text": [
      "The array: \n",
      " [[[ 1  2  3]\n",
      "  [ 4  5  6]]\n",
      "\n",
      " [[ 7  8  9]\n",
      "  [10 11 12]]\n",
      "\n",
      " [[13 14 15]\n",
      "  [16 17 18]]]\n",
      "The shape of the array: (3, 2, 3)\n",
      "The array has a dimension of: 3\n"
     ]
    }
   ],
   "source": [
    "# Code Snippet 3\n",
    "# The snippet below creates a 3D NumPy array from a Python list of lists of lists\n",
    "data1 = [[1, 2, 3],\n",
    "         [4, 5, 6]]\n",
    "data2= [[7, 8, 9],\n",
    "        [10, 11, 12]]\n",
    "data3 = [[13, 14, 15],\n",
    "         [16, 17, 18]]\n",
    "\n",
    "# Now, let's create a list of lists of lists\n",
    "data_3d = [data1, data2, data3]\n",
    "\n",
    "# Convert the 3D Python list to a NumPy array\n",
    "arr_3d = np.array(data_3d)\n",
    "\n",
    "# Let's print the array and its type\n",
    "print(f'The array: \\n {arr_3d}')\n",
    "print(f'The shape of the array: {arr_3d.shape}')\n",
    "print(f'The array has a dimension of: {arr_3d.ndim}')"
   ],
   "metadata": {
    "collapsed": false,
    "ExecuteTime": {
     "end_time": "2023-08-24T08:57:01.093387300Z",
     "start_time": "2023-08-24T08:57:01.004758Z"
    }
   }
  },
  {
   "cell_type": "markdown",
   "source": [
    "### USING NUMPY BUILD IN FUNCTION\n",
    "\n",
    "It is possible to create numpy array using build in function such as\n",
    "\n",
    "<br>\n",
    "\n",
    "| Type                 | Description                                          |\n",
    "|----------------------|------------------------------------------------------|\n",
    "| numpy.linspace       | When you need to generate an array of evenly spaced values over a specified range with a specific number of points. |\n",
    "| numpy.random.rand    | Generate an array of random numbers sampled from a uniform distribution between 0 and 1. |\n",
    "| numpy.random.randn   | Generate an array of random numbers sampled from a standard normal distribution (mean 0, standard deviation 1). May include negative values. |\n",
    "| numpy.random.eye     | Create an identity matrix, which is a square matrix with ones on the main diagonal and zeros elsewhere.|\n",
    "| numpy.arange         | Generate an array with evenly spaced values within a specified interval.|\n",
    "| numpy.zeros          | Create an array filled with zeros.|\n",
    "| numpy.ones           | Create an array filled with ones.|\n",
    "| np.concatenate       | Concatenate (combine) multiple arrays along a specified axis. |\n",
    "\n",
    "\n"
   ],
   "metadata": {
    "collapsed": false
   }
  },
  {
   "cell_type": "markdown",
   "source": [
    "#### CREATING A NUMPY ARRAY FROM `numpy.linspace`\n",
    "\n",
    "when you need to generate an array of evenly spaced values over a specified range with a specific number of points.\n",
    "\n",
    "\n",
    "It's particularly useful when you want to create arrays for tasks like data visualization, plotting, interpolation, or when you need a set of values for mathematical functions.\n",
    "\n",
    "<br>\n",
    "<pre><code class=\"python\" language=\"python\" style=\"font-size:0.8em\">\n",
    "numpy.linspace(start, stop, num)\n",
    "</code></pre>\n",
    "\n",
    "<br>\n",
    "\n",
    "| Keyword        | Description                                     |\n",
    "| -------------- | ----------------------------------------------- |\n",
    "| start          | The starting value of the sequence.             |\n",
    "| stop           | The end value of the sequence, included if endpoint is set to true. |\n",
    "| num            | The number of evenly spaced samples to generate. Default is 50. |\n"
   ],
   "metadata": {
    "collapsed": false
   }
  },
  {
   "cell_type": "code",
   "execution_count": 9,
   "outputs": [
    {
     "name": "stdout",
     "output_type": "stream",
     "text": [
      "The array: \n",
      " [ 0.   2.5  5.   7.5 10. ]\n",
      "The shape of the array: (5,)\n",
      "The array has a dimension of: 1\n"
     ]
    }
   ],
   "source": [
    "# Code Snippet 4\n",
    "# The snippet below creates a 1D NumPy array using numpy.linspace\n",
    "arr_1d=np.linspace(0, 10, 5)\n",
    "\n",
    "# Let's print the array and its type\n",
    "print(f'The array: \\n {arr_1d}')\n",
    "print(f'The shape of the array: {arr_1d.shape}')\n",
    "print(f'The array has a dimension of: {arr_1d.ndim}')\n"
   ],
   "metadata": {
    "collapsed": false,
    "ExecuteTime": {
     "end_time": "2023-08-24T08:57:01.137615800Z",
     "start_time": "2023-08-24T08:57:01.020925900Z"
    }
   }
  },
  {
   "cell_type": "markdown",
   "source": [
    "Do you know how to generate 2D array using `numpy.linspace`?"
   ],
   "metadata": {
    "collapsed": false
   }
  },
  {
   "cell_type": "markdown",
   "source": [
    "#### CREATING A NUMPY ARRAY FROM `numpy.random.rand`\n",
    "\n",
    "Generate an array of random numbers sampled from a uniform distribution between 0 and 1. generate random data in nd space\n",
    "\n",
    "<br>\n",
    "<pre><code class=\"python\" language=\"python\" style=\"font-size:0.8em\">\n",
    "numpy.random.rand(d0, d1, ..., dn)\n",
    "</code></pre>\n",
    "\n",
    "<br>\n",
    "\n",
    "| Keyword               | Description                                       |\n",
    "|-----------------------| ------------------------------------------------- |\n",
    "| $d0$, $d1$, ..., $dn$ | The dimensions of the returned array.  |\n",
    "\n",
    "<br>\n",
    "\n",
    "Each value ($d0$, $d1$, ..., $dn$) should be a positive integer. If no arguments are given, a single Python float is returned, creating a $0D$ array.\n"
   ],
   "metadata": {
    "collapsed": false
   }
  },
  {
   "cell_type": "markdown",
   "source": [
    "##### CREATING A 1D NUMPY ARRAY FROM numpy.random.rand\n",
    "\n",
    "To generate a 1D NumPy array using numpy.random.rand, you need to specify the number of elements in the array as the argument to the function."
   ],
   "metadata": {
    "collapsed": false
   }
  },
  {
   "cell_type": "code",
   "execution_count": 10,
   "outputs": [
    {
     "name": "stdout",
     "output_type": "stream",
     "text": [
      "The array: \n",
      " [0.54289628 0.92534695 0.20585283 0.97737456 0.95170948]\n",
      "The shape of the array: (5,)\n",
      "The array has a dimension of: 1\n"
     ]
    }
   ],
   "source": [
    "# Code Snippet 5\n",
    "# The snippet below creates a 1D NumPy array using numpy.random.rand\n",
    "\n",
    "arr_1d = np.random.rand(5) # Here we specify the number of elements in the array to be 5\n",
    "print(f'The array: \\n {arr_1d}')\n",
    "print(f'The shape of the array: {arr_1d.shape}')\n",
    "print(f'The array has a dimension of: {arr_1d.ndim}')"
   ],
   "metadata": {
    "collapsed": false,
    "ExecuteTime": {
     "end_time": "2023-08-24T08:57:01.137615800Z",
     "start_time": "2023-08-24T08:57:01.036493100Z"
    }
   }
  },
  {
   "cell_type": "markdown",
   "source": [
    "##### CREATING A 2D NUMPY ARRAY FROM numpy.random.rand\n",
    "\n",
    "To generate a $2D$ NumPy array using numpy.random.rand, you need to specify the number of rows and columns in the array as the argument to the function.The first integer specifies the number of rows in the array, and the second integer specifies the number of columns in the array\n"
   ],
   "metadata": {
    "collapsed": false
   }
  },
  {
   "cell_type": "code",
   "execution_count": 11,
   "outputs": [
    {
     "name": "stdout",
     "output_type": "stream",
     "text": [
      "The array: \n",
      " [[0.51496524 0.61028929 0.20530928 0.37054835]\n",
      " [0.45361025 0.37760755 0.53973641 0.55691498]\n",
      " [0.02695655 0.99068666 0.60298211 0.26141219]]\n",
      "The shape of the array: (3, 4)\n",
      "The array has a dimension of: 2\n"
     ]
    }
   ],
   "source": [
    "# Code Snippet 6\n",
    "# The snippet below creates a 2D NumPy array using numpy.random.rand\n",
    "arr_2d=np.random.rand(3, 4) # Here we specify the number of rows and columns in the array to be 3 and 4 respectively\n",
    "print(f'The array: \\n {arr_2d}')\n",
    "print(f'The shape of the array: {arr_2d.shape}')\n",
    "print(f'The array has a dimension of: {arr_2d.ndim}')\n"
   ],
   "metadata": {
    "collapsed": false,
    "ExecuteTime": {
     "end_time": "2023-08-24T08:57:01.137615800Z",
     "start_time": "2023-08-24T08:57:01.052612Z"
    }
   }
  },
  {
   "cell_type": "markdown",
   "source": [
    "#### CREATING A 3D NUMPY ARRAY FROM numpy.random.rand\n",
    "To generate a 3D array of random numbers, you can pass a tuple of three integers to the np.random.rand() function. \n",
    "<br>\n",
    "The first integer specifies the number of rows in the array, the second integer specifies the number of columns in the array, and the third integer specifies the number of layers in the array. \n"
   ],
   "metadata": {
    "collapsed": false
   }
  },
  {
   "cell_type": "code",
   "execution_count": 12,
   "outputs": [
    {
     "name": "stdout",
     "output_type": "stream",
     "text": [
      "The array: \n",
      " [[[0.76676511 0.43799769 0.63859604 0.74902151]\n",
      "  [0.60883156 0.21876201 0.6702968  0.75068047]\n",
      "  [0.43719296 0.44537885 0.24582115 0.92000416]]\n",
      "\n",
      " [[0.44883719 0.85757029 0.1282188  0.3177679 ]\n",
      "  [0.74138726 0.93315919 0.92707295 0.53240474]\n",
      "  [0.71261761 0.23877214 0.9679164  0.55206912]]]\n",
      "The shape of the array: (2, 3, 4)\n",
      "The array has a dimension of: 3\n"
     ]
    }
   ],
   "source": [
    "# Code Snippet 7\n",
    "# The snippet below creates a 3D NumPy array using numpy.random.rand\n",
    "arr_3d=np.random.rand(2, 3, 4) # Here we specify the number of rows, columns and depth in the array to be 2, 3 and 4 respectively\n",
    "print(f'The array: \\n {arr_3d}')\n",
    "print(f'The shape of the array: {arr_3d.shape}')\n",
    "print(f'The array has a dimension of: {arr_3d.ndim}')"
   ],
   "metadata": {
    "collapsed": false,
    "ExecuteTime": {
     "end_time": "2023-08-24T08:57:01.137615800Z",
     "start_time": "2023-08-24T08:57:01.068823100Z"
    }
   }
  },
  {
   "cell_type": "markdown",
   "source": [
    "### CREATING A NUMPY ARRAY FROM numpy.random.randn\n",
    "Generate an array of random numbers sampled from a standard normal distribution (mean 0, standard deviation 1). Ada –ve value\n",
    "\n",
    "<br>\n",
    "<pre><code class=\"python\" language=\"python\" style=\"font-size:0.8em\">\n",
    "numpy.random.randn(d0, d1, ..., dn)\n",
    "</code></pre>\n",
    "\n",
    "<br>\n",
    "\n",
    "| Keyword               | Description                                       |\n",
    "|-----------------------| ------------------------------------------------- |\n",
    "| $d0$, $d1$, ..., $dn$ | The dimensions of the returned array.  |\n",
    "\n",
    "<br>\n",
    "\n"
   ],
   "metadata": {
    "collapsed": false
   }
  },
  {
   "cell_type": "markdown",
   "source": [
    "#### CREATING A 1D NUMPY ARRAY FROM numpy.random.randn\n",
    "\n",
    "To generate a 1D NumPy array using numpy.random.randn, you need to specify the number of elements in the array as the argument to the function."
   ],
   "metadata": {
    "collapsed": false
   }
  },
  {
   "cell_type": "code",
   "execution_count": 13,
   "outputs": [
    {
     "name": "stdout",
     "output_type": "stream",
     "text": [
      "The array: \n",
      " [-2.25966148 -0.85626021  0.27566605 -0.6123135   0.33848067  1.82711706\n",
      "  0.54661544  1.92517421  0.50700042  0.50670689]\n",
      "The shape of the array: (10,)\n",
      "The array has a dimension of: 1\n"
     ]
    }
   ],
   "source": [
    "# Code Snippet 8\n",
    "# The snippet below creates a 1D NumPy array using numpy.random.randn\n",
    "arr_1d= np.random.randn(10) # Here we specify the number of elements in the array to be 10\n",
    "print(f'The array: \\n {arr_1d}')\n",
    "print(f'The shape of the array: {arr_1d.shape}')\n",
    "print(f'The array has a dimension of: {arr_1d.ndim}')"
   ],
   "metadata": {
    "collapsed": false,
    "ExecuteTime": {
     "end_time": "2023-08-24T08:57:01.190250Z",
     "start_time": "2023-08-24T08:57:01.084822300Z"
    }
   }
  },
  {
   "cell_type": "markdown",
   "source": [
    "##### CREATING A 2D NUMPY ARRAY FROM numpy.random.randn\n",
    "\n",
    "To generate a 2D NumPy array using numpy.random.randn, you need to specify the number of rows and columns in the array as the argument to the function.The first integer specifies the number of rows in the array, and the second integer specifies the number of columns in the array"
   ],
   "metadata": {
    "collapsed": false
   }
  },
  {
   "cell_type": "code",
   "execution_count": 14,
   "outputs": [
    {
     "name": "stdout",
     "output_type": "stream",
     "text": [
      "The array: \n",
      " [[-0.13987219  0.63490458  2.53711004 -1.79332691]\n",
      " [ 1.84817365  0.8721086   1.9236083  -0.52174479]\n",
      " [-0.36074274 -1.21412615 -1.09266796  0.48662474]]\n",
      "The shape of the array: (3, 4)\n",
      "The array has a dimension of: 2\n"
     ]
    }
   ],
   "source": [
    "# Code Snippet 9\n",
    "# The snippet below creates a 2D NumPy array using numpy.random.randn\n",
    "arr_2d=np.random.randn(3, 4) # Here we specify the number of rows and columns in the array to be 3 and 4 respectively   \n",
    "print(f'The array: \\n {arr_2d}')\n",
    "print(f'The shape of the array: {arr_2d.shape}')\n",
    "print(f'The array has a dimension of: {arr_2d.ndim}')"
   ],
   "metadata": {
    "collapsed": false,
    "ExecuteTime": {
     "end_time": "2023-08-24T08:57:01.191250Z",
     "start_time": "2023-08-24T08:57:01.098861300Z"
    }
   }
  },
  {
   "cell_type": "markdown",
   "source": [
    "##### CREATING A 3D NUMPY ARRAY FROM numpy.random.randn\n",
    "To generate a 3D array of random numbers, you can pass a tuple of three integers to the np.random.randn() function."
   ],
   "metadata": {
    "collapsed": false
   }
  },
  {
   "cell_type": "code",
   "execution_count": 15,
   "outputs": [
    {
     "name": "stdout",
     "output_type": "stream",
     "text": [
      "The array: \n",
      " [[[-1.70570408 -0.18272646  1.4174374  -1.65312179]\n",
      "  [-1.40385095 -0.10555542  1.74270339 -0.24891971]\n",
      "  [ 0.87573485  0.73162254 -0.50989037 -2.36965412]]\n",
      "\n",
      " [[-1.18321841  0.59951696 -0.92302531  1.65195443]\n",
      "  [-1.12214971  0.43268359  0.70000484 -0.68268667]\n",
      "  [-0.55781534  0.35070814 -1.71392444  0.33399565]]]\n",
      "The shape of the array: (2, 3, 4)\n",
      "The array has a dimension of: 3\n"
     ]
    }
   ],
   "source": [
    "# Code Snippet 10\n",
    "# The snippet below creates a 3D NumPy array using numpy.random.randn\n",
    "arr_3d=np.random.randn(2, 3, 4) # Here we specify the number of rows, columns and depth in the array to be 2, 3 and 4 respectively\n",
    "print(f'The array: \\n {arr_3d}')\n",
    "print(f'The shape of the array: {arr_3d.shape}')\n",
    "print(f'The array has a dimension of: {arr_3d.ndim}')"
   ],
   "metadata": {
    "collapsed": false,
    "ExecuteTime": {
     "end_time": "2023-08-24T08:57:01.191250Z",
     "start_time": "2023-08-24T08:57:01.115381800Z"
    }
   }
  },
  {
   "cell_type": "markdown",
   "source": [],
   "metadata": {
    "collapsed": false
   }
  },
  {
   "cell_type": "markdown",
   "source": [
    "### ARRAY DANGER ZONE\n",
    "\n",
    "Must be dense, no holes.\n",
    "Must be one type\n",
    "Cannot combine arrays of different shape\n"
   ],
   "metadata": {
    "collapsed": false
   }
  },
  {
   "cell_type": "code",
   "execution_count": 17,
   "outputs": [
    {
     "ename": "ValueError",
     "evalue": "operands could not be broadcast together with shapes (7,8) (9,3) ",
     "output_type": "error",
     "traceback": [
      "\u001B[1;31m---------------------------------------------------------------------------\u001B[0m",
      "\u001B[1;31mValueError\u001B[0m                                Traceback (most recent call last)",
      "Cell \u001B[1;32mIn[17], line 1\u001B[0m\n\u001B[1;32m----> 1\u001B[0m \u001B[43mnp\u001B[49m\u001B[38;5;241;43m.\u001B[39;49m\u001B[43mones\u001B[49m\u001B[43m(\u001B[49m\u001B[43m[\u001B[49m\u001B[38;5;241;43m7\u001B[39;49m\u001B[43m,\u001B[49m\u001B[38;5;241;43m8\u001B[39;49m\u001B[43m]\u001B[49m\u001B[43m)\u001B[49m\u001B[38;5;241;43m+\u001B[39;49m\u001B[43mnp\u001B[49m\u001B[38;5;241;43m.\u001B[39;49m\u001B[43mones\u001B[49m\u001B[43m(\u001B[49m\u001B[43m[\u001B[49m\u001B[38;5;241;43m9\u001B[39;49m\u001B[43m,\u001B[49m\u001B[38;5;241;43m3\u001B[39;49m\u001B[43m]\u001B[49m\u001B[43m)\u001B[49m\n",
      "\u001B[1;31mValueError\u001B[0m: operands could not be broadcast together with shapes (7,8) (9,3) "
     ]
    }
   ],
   "source": [
    "np.ones([7,8])+np.ones([9,3])"
   ],
   "metadata": {
    "collapsed": false,
    "ExecuteTime": {
     "end_time": "2023-08-24T12:02:57.840240200Z",
     "start_time": "2023-08-24T12:02:57.800370700Z"
    }
   }
  },
  {
   "cell_type": "markdown",
   "source": [
    "# Section 4: Basic Indexing and Slicing\n",
    "Basic indexing and slicing is similar to Python lists.\n",
    "\n",
    "\n"
   ],
   "metadata": {
    "collapsed": false
   }
  },
  {
   "cell_type": "code",
   "execution_count": 18,
   "outputs": [
    {
     "name": "stdout",
     "output_type": "stream",
     "text": [
      "1\n"
     ]
    }
   ],
   "source": [
    "arr = np.array([1, 2, 3, 4, 5])\n",
    "print(arr[0]) # Get the first element"
   ],
   "metadata": {
    "collapsed": false,
    "ExecuteTime": {
     "end_time": "2023-08-24T12:04:55.020892400Z",
     "start_time": "2023-08-24T12:04:55.006892Z"
    }
   }
  },
  {
   "cell_type": "markdown",
   "source": [
    "To acess a slice of an array, you use the colon operator (:). The colon operator is used to specify the start and end indices of the slice.\n",
    "\n",
    "The syntax for slicing is as follows:\n",
    "\n",
    "<pre><code class=\"python\" language=\"python\" style=\"font-size:0.8em\">\n",
    "arr[start:end]\n",
    "</code></pre>\n",
    "\n",
    "<br>\n",
    "\n",
    "| Keyword        | Description                                     |\n",
    "| -------------- | ----------------------------------------------- |\n",
    "| start          | The starting index of the slice.                |\n",
    "| end            | The end index of the slice, excluded if endpoint is set to true. |\n"
   ],
   "metadata": {
    "collapsed": false
   }
  },
  {
   "cell_type": "code",
   "execution_count": 20,
   "outputs": [
    {
     "name": "stdout",
     "output_type": "stream",
     "text": [
      "[4 5 6]\n"
     ]
    }
   ],
   "source": [
    "# Code Snippet 11\n",
    "# The snippet below creates a 1D NumPy array and slices it\n",
    "arr = np.arange(1, 10)\n",
    "\n",
    "# The line below slices the array from index 2 to 5, and print the slice\n",
    "print(arr[3:6]) # Get values in a range"
   ],
   "metadata": {
    "collapsed": false,
    "ExecuteTime": {
     "end_time": "2023-08-24T12:07:52.037542Z",
     "start_time": "2023-08-24T12:07:52.026541700Z"
    }
   }
  },
  {
   "cell_type": "markdown",
   "source": [
    "## Integer Array Indexing\n",
    "\n",
    "Integer array indexing allows you to select arbitrary items in an array based on their index.\n",
    "\n",
    "The syntax for integer array indexing is as follows:\n",
    "\n",
    "<pre><code class=\"python\" language=\"python\" style=\"font-size:0.8em\">\n",
    "arr[[i1, i2, i3, ..., in]]\n",
    "</code></pre>\n",
    "\n",
    "<br>\n",
    "\n",
    "| Keyword        | Description                                     |\n",
    "| -------------- | ----------------------------------------------- |\n",
    "| $i1$, $i2$, ..., $in$ | The indices of the elements to be selected.  |\n"
   ],
   "metadata": {
    "collapsed": false
   }
  },
  {
   "cell_type": "code",
   "execution_count": 21,
   "outputs": [
    {
     "name": "stdout",
     "output_type": "stream",
     "text": [
      "[3 5 7]\n"
     ]
    }
   ],
   "source": [
    "# Code Snippet 12   \n",
    "# The snippet below creates a 1D NumPy array and slices it using integer array indexing\n",
    "arr = np.arange(1, 10)\n",
    "indices = [2, 4, 6] # Create a list of indices used to slice the array\n",
    "\n",
    "# The line below slices the array using the indices list, and print the slice\n",
    "print(arr[indices]) # Get values by index\n"
   ],
   "metadata": {
    "collapsed": false,
    "ExecuteTime": {
     "end_time": "2023-08-24T12:10:39.602830700Z",
     "start_time": "2023-08-24T12:10:39.584822300Z"
    }
   }
  },
  {
   "cell_type": "markdown",
   "source": [
    "## Boolean Array Indexing\n",
    "\n",
    "Boolean array indexing allows you to select arbitrary items in an array based on a boolean mask.\n",
    "\n",
    "The syntax for boolean array indexing is as follows:\n",
    "\n",
    "<pre><code class=\"python\" language=\"python\" style=\"font-size:0.8em\">\n",
    "arr[bool_arr]\n",
    "</code></pre>\n",
    "\n",
    "<br>\n",
    "\n",
    "| Keyword        | Description                                     |\n",
    "| -------------- | ----------------------------------------------- |\n",
    "| $bool\\_arr$    | A boolean array that specifies which elements to select.  |\n"
   ],
   "metadata": {
    "collapsed": false
   }
  },
  {
   "cell_type": "code",
   "execution_count": 22,
   "outputs": [
    {
     "name": "stdout",
     "output_type": "stream",
     "text": [
      "[6 7 8 9]\n"
     ]
    }
   ],
   "source": [
    "# Code Snippet 13\n",
    "# The snippet below creates a 1D NumPy array and slices it using boolean array indexing\n",
    "arr = np.arange(1, 10)\n",
    "bool_arr = arr > 5 # Create a boolean array that specifies which elements to select\n",
    "\n",
    "# The line below slices the array using the boolean array, and print the slice\n",
    "print(arr[bool_arr]) # Get values by boolean array\n"
   ],
   "metadata": {
    "collapsed": false,
    "ExecuteTime": {
     "end_time": "2023-08-24T12:12:17.379443Z",
     "start_time": "2023-08-24T12:12:17.373443100Z"
    }
   }
  },
  {
   "cell_type": "markdown",
   "source": [
    "## Multiple Dimensional Arrays\n",
    "\n",
    "You can also slice multiple dimensional arrays. The syntax for slicing multiple dimensional arrays is as follows:\n",
    "For multi-dimensional arrays, you can use a comma-separated tuple of indices or slices.\n"
   ],
   "metadata": {
    "collapsed": false
   }
  },
  {
   "cell_type": "code",
   "execution_count": 25,
   "outputs": [
    {
     "name": "stdout",
     "output_type": "stream",
     "text": [
      "6\n"
     ]
    }
   ],
   "source": [
    "# Code Snippet 14\n",
    "# The snippet below creates a 2D NumPy array and slices it\n",
    "\n",
    "# Create a 2D array\n",
    "\n",
    "            #   Col 0  1  2  \n",
    "matrix = np.array([[5, 2, 7],   # Row 0\n",
    "                   [4, 4, 6],   # Row 1\n",
    "                   [8, 2, 3]])  # Row 2 \n",
    "\n",
    "\n",
    "# Access an element\n",
    "print(matrix[1, 2]) # Get a value from a 2D array"
   ],
   "metadata": {
    "collapsed": false,
    "ExecuteTime": {
     "end_time": "2023-08-24T12:18:09.988480900Z",
     "start_time": "2023-08-24T12:18:09.983480900Z"
    }
   }
  },
  {
   "cell_type": "markdown",
   "source": [
    "To slice row and column of a 2D array, you can use the following syntax:"
   ],
   "metadata": {
    "collapsed": false
   }
  },
  {
   "cell_type": "code",
   "execution_count": 40,
   "outputs": [
    {
     "name": "stdout",
     "output_type": "stream",
     "text": [
      "[[1 7]\n",
      " [4 6]]\n"
     ]
    }
   ],
   "source": [
    "# Code Snippet 15\n",
    "# The snippet below creates a 2D NumPy array and slices it\n",
    "\n",
    "# Create a 2D array\n",
    "\n",
    "            #   Col 0  1  2 \n",
    "matrix = np.array([[5, 1, 7],   # Row 0\n",
    "                   [4, 4, 6],   # Row 1\n",
    "                   [8, 2, 3]])  # Row 2\n",
    "# Access a row and a column\n",
    "print(matrix[0:2, 1:3])\n"
   ],
   "metadata": {
    "collapsed": false,
    "ExecuteTime": {
     "end_time": "2023-08-24T12:24:19.643778600Z",
     "start_time": "2023-08-24T12:24:19.631777900Z"
    }
   }
  },
  {
   "cell_type": "markdown",
   "source": [
    "## Ellipsis Indexing\n",
    "The ellipsis (...) can be used to index higher-dimensional arrays more flexibly.\n",
    "\n",
    "\n",
    "\n",
    "More details can be found [documentation](https://python-reference.readthedocs.io/en/latest/docs/brackets/ellipsis.html)"
   ],
   "metadata": {
    "collapsed": false
   }
  },
  {
   "cell_type": "code",
   "execution_count": 58,
   "outputs": [
    {
     "name": "stdout",
     "output_type": "stream",
     "text": [
      "[2 7]\n",
      "[2 7]\n"
     ]
    }
   ],
   "source": [
    "# Code Snippet 16\n",
    "import copy\n",
    "arr = np.arange(10).reshape(2, 5)\n",
    "arr_copy = copy.deepcopy(arr)\n",
    "# For convenience, the arr variable is printed below\n",
    "# [[0 1 2 3 4]\n",
    "#  [5 6 7 8 9]]\n",
    "\n",
    "print(arr[Ellipsis, 2]) \n",
    "\n",
    "# Instead of using the ellipsis, you can also use the following syntax\n",
    "print(arr_copy [..., 2]) # You can read this as slice all ro"
   ],
   "metadata": {
    "collapsed": false,
    "ExecuteTime": {
     "end_time": "2023-08-24T12:33:19.118271700Z",
     "start_time": "2023-08-24T12:33:19.105271500Z"
    }
   }
  },
  {
   "cell_type": "markdown",
   "source": [
    "## Fancy Indexing\n",
    "You can use combinations of these techniques for more complex indexing."
   ],
   "metadata": {
    "collapsed": false
   }
  },
  {
   "cell_type": "code",
   "execution_count": 67,
   "outputs": [
    {
     "name": "stdout",
     "output_type": "stream",
     "text": [
      "The indices value [0 2]\n",
      "The mask value [False False  True  True  True]\n",
      "The filtered_arr value [3 4 5]\n",
      "[3 5]\n"
     ]
    }
   ],
   "source": [
    "# Code Snippet 17\n",
    "arr = np.array([1, 2, 3, 4, 5])\n",
    "indices = np.array([0, 2])\n",
    "print(f'The indices value {indices}')\n",
    "mask = arr > 2\n",
    "print(f'The mask value {mask}')\n",
    "# Apply the mask first and then use indices\n",
    "filtered_arr = arr[mask]\n",
    "print(f'The filtered_arr value {filtered_arr}')\n",
    "\n",
    "result = filtered_arr[indices]\n",
    "\n",
    "print(result)"
   ],
   "metadata": {
    "collapsed": false,
    "ExecuteTime": {
     "end_time": "2023-08-24T12:43:21.415947500Z",
     "start_time": "2023-08-24T12:43:21.404947600Z"
    }
   }
  },
  {
   "cell_type": "markdown",
   "source": [
    "# Section 5: Shaping\n",
    "\n",
    "The are several way to reshape an array\n",
    "reshape()\n",
    "resize()\n",
    "ravel()\n",
    "flatten()\n",
    "transpose()\n",
    "\n",
    "While reshaping, the total number of element cannot change."
   ],
   "metadata": {
    "collapsed": false
   }
  },
  {
   "cell_type": "markdown",
   "source": [
    "Reshape ()"
   ],
   "metadata": {
    "collapsed": false
   }
  },
  {
   "cell_type": "code",
   "execution_count": 68,
   "outputs": [
    {
     "name": "stdout",
     "output_type": "stream",
     "text": [
      "[1 2 3 4 5 6]\n"
     ]
    }
   ],
   "source": [
    "# Code Snippet 18\n",
    "a = np.array([[1, 2, 3], [4, 5, 6]])\n",
    "\n",
    "b = a.reshape(6)\n",
    "\n",
    "print(b)\n"
   ],
   "metadata": {
    "collapsed": false,
    "ExecuteTime": {
     "end_time": "2023-08-24T12:47:42.366608600Z",
     "start_time": "2023-08-24T12:47:42.358608400Z"
    }
   }
  },
  {
   "cell_type": "code",
   "execution_count": 69,
   "outputs": [
    {
     "name": "stdout",
     "output_type": "stream",
     "text": [
      "[[1 2 3]\n",
      " [4 5 6]]\n"
     ]
    }
   ],
   "source": [
    "arr = np.array([1, 2, 3, 4, 5, 6])\n",
    "reshaped_arr = arr.reshape((2, -1))\n",
    "print(reshaped_arr)"
   ],
   "metadata": {
    "collapsed": false,
    "ExecuteTime": {
     "end_time": "2023-08-24T12:47:58.828134900Z",
     "start_time": "2023-08-24T12:47:58.813134900Z"
    }
   }
  },
  {
   "cell_type": "markdown",
   "source": [
    "Resize()\n",
    "\n",
    "The resize() function is similar to the reshape() function, but it does not require the new shape to be compatible with the original shape. If the new shape is not compatible, the resize() function will add or remove dimensions to the array as needed.\n",
    "\n"
   ],
   "metadata": {
    "collapsed": false
   }
  },
  {
   "cell_type": "markdown",
   "source": [
    "For example, the following code resizes a 2D array into a 3D array:"
   ],
   "metadata": {
    "collapsed": false
   }
  },
  {
   "cell_type": "code",
   "execution_count": 70,
   "outputs": [
    {
     "name": "stdout",
     "output_type": "stream",
     "text": [
      "[[1 2]\n",
      " [3 4]\n",
      " [5 6]]\n"
     ]
    }
   ],
   "source": [
    "a = np.array([[1, 2, 3], [4, 5, 6]])\n",
    "\n",
    "a.resize(3, 2)\n",
    "\n",
    "print(a)\n"
   ],
   "metadata": {
    "collapsed": false,
    "ExecuteTime": {
     "end_time": "2023-08-24T12:48:48.521587Z",
     "start_time": "2023-08-24T12:48:48.512586800Z"
    }
   }
  },
  {
   "cell_type": "markdown",
   "source": [
    " The ravel() function flattens an array into a 1D array. This means that all the elements of the array are placed in a single row.\n",
    "For example, the following code ravels a 2D array:\n"
   ],
   "metadata": {
    "collapsed": false
   }
  },
  {
   "cell_type": "code",
   "execution_count": 74,
   "outputs": [
    {
     "name": "stdout",
     "output_type": "stream",
     "text": [
      "[1 2 3 4 5 6]\n",
      "[[1 2 3]\n",
      " [4 5 6]]\n"
     ]
    }
   ],
   "source": [
    "a = np.array([[1, 2, 3], [4, 5, 6]])\n",
    "\n",
    "b = a.ravel()\n",
    "\n",
    "print(b)\n",
    "print(a)"
   ],
   "metadata": {
    "collapsed": false,
    "ExecuteTime": {
     "end_time": "2023-08-24T12:50:03.349629Z",
     "start_time": "2023-08-24T12:50:03.339629400Z"
    }
   }
  },
  {
   "cell_type": "markdown",
   "source": [
    "flatten()\n",
    "The flatten() function is similar to the ravel() function, but it returns a copy of the flattened array. The ravel() function modifies the original array. cross check the accuracy of this statement\n"
   ],
   "metadata": {
    "collapsed": false
   }
  },
  {
   "cell_type": "markdown",
   "source": [
    "For example, the following code flattens a 2D array and saves it to a new array:\n"
   ],
   "metadata": {
    "collapsed": false
   }
  },
  {
   "cell_type": "code",
   "execution_count": 72,
   "outputs": [
    {
     "name": "stdout",
     "output_type": "stream",
     "text": [
      "[1 2 3 4 5 6]\n"
     ]
    }
   ],
   "source": [
    "a = np.array([[1, 2, 3], [4, 5, 6]])\n",
    "\n",
    "b = a.flatten()\n",
    "\n",
    "print(b)\n"
   ],
   "metadata": {
    "collapsed": false,
    "ExecuteTime": {
     "end_time": "2023-08-24T12:49:41.303736500Z",
     "start_time": "2023-08-24T12:49:41.294736Z"
    }
   }
  },
  {
   "cell_type": "markdown",
   "source": [
    "transpose()\n"
   ],
   "metadata": {
    "collapsed": false
   }
  },
  {
   "cell_type": "code",
   "execution_count": 76,
   "outputs": [
    {
     "name": "stdout",
     "output_type": "stream",
     "text": [
      "[[1 2 3]\n",
      " [4 5 6]]\n",
      "[[1 4]\n",
      " [2 5]\n",
      " [3 6]]\n"
     ]
    }
   ],
   "source": [
    "arr = np.array([[1, 2, 3], [4, 5, 6]])\n",
    "print(arr)\n",
    "transposed_arr = arr.transpose()\n",
    "print(transposed_arr)"
   ],
   "metadata": {
    "collapsed": false,
    "ExecuteTime": {
     "end_time": "2023-08-24T12:51:05.476885900Z",
     "start_time": "2023-08-24T12:51:05.452406500Z"
    }
   }
  },
  {
   "cell_type": "code",
   "execution_count": 77,
   "outputs": [
    {
     "name": "stdout",
     "output_type": "stream",
     "text": [
      "[[1 2 3]\n",
      " [4 5 6]]\n",
      "[[1 4]\n",
      " [2 5]\n",
      " [3 6]]\n"
     ]
    }
   ],
   "source": [
    "# An alternative way to transpose an array is to use the T attribute.\n",
    "arr = np.array([[1, 2, 3], [4, 5, 6]])\n",
    "print(arr)\n",
    "transposed_arr = arr.T\n",
    "print(transposed_arr)\n"
   ],
   "metadata": {
    "collapsed": false,
    "ExecuteTime": {
     "end_time": "2023-08-24T12:51:41.444750300Z",
     "start_time": "2023-08-24T12:51:41.428286400Z"
    }
   }
  },
  {
   "cell_type": "markdown",
   "source": [
    "# Section 6: Mathematical operators"
   ],
   "metadata": {
    "collapsed": false
   }
  },
  {
   "cell_type": "markdown",
   "source": [
    "\n",
    "\n",
    "\n",
    "Addition: + or add()\n",
    "Subtraction: - or subtract()\n",
    "Multiplication: * or multiply()\n",
    "Division: / or divide()\n",
    "Exponentiation: ** or power()\n",
    "Modulus: % or mod()\n",
    "Remainder: // or remainder()\n",
    "Absolute value: abs()\n",
    "Negation: -\n",
    "Reciprocal: 1 / x or reciprocal()\n",
    "Root: np.sqrt(x)\n",
    "Trigonometric functions: sin(), cos(), tan(), arcsin(), arccos(), arctan()\n",
    "Hyperbolic functions: sinh(), cosh(), tanh(), arcsinh(), arccosh(), arctanh()\n",
    "Logarithmic functions: log(), log10(), np.log2(x)\n",
    "Exponential functions: exp()\n",
    "Power functions: pow(x, y)\n"
   ],
   "metadata": {
    "collapsed": false
   }
  },
  {
   "cell_type": "markdown",
   "source": [
    "## Arithmetic operations are element-wise\n",
    "\n",
    "Arithmetic operations are element-wise"
   ],
   "metadata": {
    "collapsed": false
   }
  },
  {
   "cell_type": "code",
   "execution_count": 78,
   "outputs": [
    {
     "name": "stdout",
     "output_type": "stream",
     "text": [
      "[5 7 9]\n"
     ]
    }
   ],
   "source": [
    "a = np.array([1, 2, 3])\n",
    "b = np.array([4, 5, 6])\n",
    "c = a + b\n",
    "print(c)\n"
   ],
   "metadata": {
    "collapsed": false,
    "ExecuteTime": {
     "end_time": "2023-08-24T12:53:59.015460900Z",
     "start_time": "2023-08-24T12:53:59.002460900Z"
    }
   }
  },
  {
   "cell_type": "markdown",
   "source": [
    "# Section 7: Logical operator return a bool array"
   ],
   "metadata": {
    "collapsed": false
   }
  },
  {
   "cell_type": "markdown",
   "source": [
    "\n",
    "\n",
    "The following are some of the logical operators in NumPy:\n",
    "\n",
    ">: Greater than\n",
    "<: Less than\n",
    ">=: Greater than or equal to\n",
    "<=: Less than or equal to\n",
    "==: Equal to\n",
    "!=: Not equal to\n",
    "and: Logical AND\n",
    "or: Logical OR\n",
    "not: Logical NOT\n"
   ],
   "metadata": {
    "collapsed": false
   }
  },
  {
   "cell_type": "code",
   "execution_count": 79,
   "outputs": [
    {
     "name": "stdout",
     "output_type": "stream",
     "text": [
      "[False False False]\n"
     ]
    }
   ],
   "source": [
    "a = np.array([1, 2, 3])\n",
    "b = np.array([4, 5, 6])\n",
    "\n",
    "c = a > b\n",
    "\n",
    "print(c)\n"
   ],
   "metadata": {
    "collapsed": false,
    "ExecuteTime": {
     "end_time": "2023-08-24T12:54:30.909370800Z",
     "start_time": "2023-08-24T12:54:30.896820Z"
    }
   }
  },
  {
   "cell_type": "markdown",
   "source": [
    "In place operations modify the array\n",
    "\n",
    "\n",
    "In NumPy, an in-place operation is an operation that modifies the original array rather than creating a new one. In-place operations are often denoted with the +=, -=, *=, /=, and **= operators.\n"
   ],
   "metadata": {
    "collapsed": false
   }
  },
  {
   "cell_type": "markdown",
   "source": [
    "For example, the following code creates an array a and then adds 1 to each element of the array using the += operator:\n"
   ],
   "metadata": {
    "collapsed": false
   }
  },
  {
   "cell_type": "code",
   "execution_count": 80,
   "outputs": [
    {
     "name": "stdout",
     "output_type": "stream",
     "text": [
      "[2 3 4]\n"
     ]
    }
   ],
   "source": [
    "a = np.array([1, 2, 3])\n",
    "\n",
    "a += 1  # The original array a is modified, and the new values are printed.\n",
    "\n",
    "\n",
    "print(a)\n"
   ],
   "metadata": {
    "collapsed": false,
    "ExecuteTime": {
     "end_time": "2023-08-24T12:55:34.202531200Z",
     "start_time": "2023-08-24T12:55:34.189682600Z"
    }
   }
  },
  {
   "cell_type": "markdown",
   "source": [
    "# Section 8: upcasting\n"
   ],
   "metadata": {
    "collapsed": false
   }
  },
  {
   "cell_type": "markdown",
   "source": [
    "For example, the following code explicitly upcasts the array a to int16:\n"
   ],
   "metadata": {
    "collapsed": false
   }
  },
  {
   "cell_type": "code",
   "execution_count": 81,
   "outputs": [
    {
     "name": "stdout",
     "output_type": "stream",
     "text": [
      "[1 2 3]\n"
     ]
    }
   ],
   "source": [
    "a = np.array([1, 2, 3], dtype=np.int8)\n",
    "\n",
    "a = a.astype(np.int16)\n",
    "\n",
    "print(a)\n"
   ],
   "metadata": {
    "collapsed": false,
    "ExecuteTime": {
     "end_time": "2023-08-24T12:56:09.499805500Z",
     "start_time": "2023-08-24T12:56:09.483805400Z"
    }
   }
  }
 ],
 "metadata": {
  "kernelspec": {
   "display_name": "Python 3",
   "language": "python",
   "name": "python3"
  },
  "language_info": {
   "codemirror_mode": {
    "name": "ipython",
    "version": 2
   },
   "file_extension": ".py",
   "mimetype": "text/x-python",
   "name": "python",
   "nbconvert_exporter": "python",
   "pygments_lexer": "ipython2",
   "version": "2.7.6"
  }
 },
 "nbformat": 4,
 "nbformat_minor": 0
}
