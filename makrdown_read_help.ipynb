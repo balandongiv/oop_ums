{
 "cells": [
  {
   "cell_type": "markdown",
   "source": [
    "!<img src=\"https://i.imgur.com/Ppjq4FD.png\" alt=\"Alt text\" width=\"400\" height=\"200\">"
   ],
   "metadata": {
    "collapsed": false
   },
   "id": "d1b7492727248f6c"
  },
  {
   "cell_type": "markdown",
   "source": [
    "!%%html\n",
    "<!DOCTYPE html>\n",
    "<html>\n",
    "<head>\n",
    "<meta charset=\"UTF-8\">\n",
    "<meta name=\"viewport\" content=\"width=device-width, initial-scale=1.0\">\n",
    "<meta http-equiv=\"X-UA-Compatible\" content=\"ie=edge\">\n",
    "<title>Markmap</title>\n",
    "<style>\n",
    "* {\n",
    "  margin: 0;\n",
    "  padding: 0;\n",
    "}\n",
    "#mindmap {\n",
    "  display: block;\n",
    "  width: 100vw;\n",
    "  height: 100vh;\n",
    "}\n",
    "</style>\n",
    "<link rel=\"stylesheet\" href=\"https://cdn.jsdelivr.net/npm/markmap-toolbar@0.15.3/dist/style.css\">\n",
    "</head>\n",
    "<body>\n",
    "<svg id=\"mindmap\"></svg>\n",
    "<script src=\"https://cdn.jsdelivr.net/npm/d3@7.8.5/dist/d3.min.js\"></script>\n",
    "<script src=\"https://cdn.jsdelivr.net/npm/markmap-view@0.15.3/dist/browser/index.js\"></script>\n",
    "<script src=\"https://cdn.jsdelivr.net/npm/markmap-toolbar@0.15.3/dist/index.js\"></script>\n",
    "<script>(r => {\n",
    "    setTimeout(r);\n",
    "})(() => {\n",
    "    const {\n",
    "        markmap,\n",
    "        mm\n",
    "    } = window;\n",
    "    const {\n",
    "        el\n",
    "    } = markmap.Toolbar.create(mm);\n",
    "    el.setAttribute('style', 'position:absolute;bottom:20px;right:20px');\n",
    "    document.body.append(el);\n",
    "})</script>\n",
    "<script>((getMarkmap, getOptions, root, jsonOptions) => {\n",
    "    const markmap = getMarkmap();\n",
    "    window.mm = markmap.Markmap.create('svg#mindmap', (getOptions || markmap.deriveOptions)(jsonOptions), root);\n",
    "})(() => window.markmap, null, {\"type\": \"heading\", \"depth\": 0, \"payload\": {\"lines\": [0, 1]}, \"content\": \"Python Data Type\", \"children\": [{\"type\": \"heading\", \"depth\": 1, \"payload\": {\"lines\": [1, 2]}, \"content\": \"Numeric Types:\", \"children\": [{\"type\": \"heading\", \"depth\": 2, \"payload\": {\"lines\": [3, 4]}, \"content\": \"int\", \"children\": []}, {\"type\": \"heading\", \"depth\": 2, \"payload\": {\"lines\": [5, 6]}, \"content\": \"float\", \"children\": []}, {\"type\": \"heading\", \"depth\": 2, \"payload\": {\"lines\": [7, 8]}, \"content\": \"complex\", \"children\": []}]}, {\"type\": \"heading\", \"depth\": 1, \"payload\": {\"lines\": [9, 10]}, \"content\": \"Sequence Types\", \"children\": [{\"type\": \"heading\", \"depth\": 2, \"payload\": {\"lines\": [11, 12]}, \"content\": \"list\", \"children\": []}, {\"type\": \"heading\", \"depth\": 2, \"payload\": {\"lines\": [14, 15]}, \"content\": \"tuple\", \"children\": []}, {\"type\": \"heading\", \"depth\": 2, \"payload\": {\"lines\": [17, 18]}, \"content\": \"range\", \"children\": []}]}, {\"type\": \"heading\", \"depth\": 1, \"payload\": {\"lines\": [19, 20]}, \"content\": \"Text Type\", \"children\": [{\"type\": \"heading\", \"depth\": 2, \"payload\": {\"lines\": [22, 23]}, \"content\": \"str\", \"children\": []}]}, {\"type\": \"heading\", \"depth\": 1, \"payload\": {\"lines\": [25, 26]}, \"content\": \"Mapping Type\", \"children\": [{\"type\": \"heading\", \"depth\": 2, \"payload\": {\"lines\": [28, 29]}, \"content\": \"dict\", \"children\": []}]}, {\"type\": \"heading\", \"depth\": 1, \"payload\": {\"lines\": [30, 31]}, \"content\": \"Set Types\", \"children\": [{\"type\": \"heading\", \"depth\": 2, \"payload\": {\"lines\": [33, 34]}, \"content\": \"set\", \"children\": []}, {\"type\": \"heading\", \"depth\": 2, \"payload\": {\"lines\": [36, 37]}, \"content\": \"frozenset\", \"children\": []}]}, {\"type\": \"heading\", \"depth\": 1, \"payload\": {\"lines\": [39, 40]}, \"content\": \"Boolean Type\", \"children\": [{\"type\": \"heading\", \"depth\": 2, \"payload\": {\"lines\": [42, 43]}, \"content\": \"bool\", \"children\": []}]}, {\"type\": \"heading\", \"depth\": 1, \"payload\": {\"lines\": [45, 46]}, \"content\": \"Binary Types\", \"children\": [{\"type\": \"heading\", \"depth\": 2, \"payload\": {\"lines\": [48, 49]}, \"content\": \"bytes\", \"children\": []}, {\"type\": \"heading\", \"depth\": 2, \"payload\": {\"lines\": [51, 52]}, \"content\": \"bytearray\", \"children\": []}, {\"type\": \"heading\", \"depth\": 2, \"payload\": {\"lines\": [54, 55]}, \"content\": \"memoryview\", \"children\": []}]}, {\"type\": \"heading\", \"depth\": 1, \"payload\": {\"lines\": [57, 58]}, \"content\": \"None Type\", \"children\": [{\"type\": \"heading\", \"depth\": 2, \"payload\": {\"lines\": [60, 61]}, \"content\": \"NoneType\", \"children\": []}]}]});\n",
    "</script>\n",
    "</body>\n",
    "</html>\n"
   ],
   "metadata": {
    "collapsed": false
   },
   "id": "127d9a219a00a910"
  }
 ],
 "metadata": {
  "kernelspec": {
   "display_name": "Python 3",
   "language": "python",
   "name": "python3"
  },
  "language_info": {
   "codemirror_mode": {
    "name": "ipython",
    "version": 2
   },
   "file_extension": ".py",
   "mimetype": "text/x-python",
   "name": "python",
   "nbconvert_exporter": "python",
   "pygments_lexer": "ipython2",
   "version": "2.7.6"
  }
 },
 "nbformat": 4,
 "nbformat_minor": 5
}
