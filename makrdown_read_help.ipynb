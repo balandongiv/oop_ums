{
 "cells": [
  {
   "cell_type": "markdown",
   "source": [
    "# Code block with syntax highlighting"
   ],
   "metadata": {
    "collapsed": false
   },
   "id": "d1b7492727248f6c"
  },
  {
   "cell_type": "markdown",
   "source": [
    "<pre><code class=\"python\" language=\"python\" style=\"font-size:15px\">\n",
    "        def function_name(param0):\n",
    "          statement\n",
    "            …   \n",
    "          statement\n",
    "          \n",
    "          <span style=\"color: red;\">return value1, value2, ...</span>\n",
    "</code></pre>"
   ],
   "metadata": {
    "collapsed": false
   },
   "id": "127d9a219a00a910"
  },
  {
   "cell_type": "markdown",
   "source": [
    "text with code higlighting\n",
    "\n",
    "<span style=\"font-size:20px;\"><code>your code</code></span>"
   ],
   "metadata": {
    "collapsed": false
   },
   "id": "7502f5a2e6334ccb"
  },
  {
   "cell_type": "markdown",
   "source": [
    "Change text font\n",
    "\n",
    "<span style=\"color: red;\">your text</span>"
   ],
   "metadata": {
    "collapsed": false
   },
   "id": "73683186b5d51dbc"
  }
 ],
 "metadata": {
  "kernelspec": {
   "display_name": "Python 3",
   "language": "python",
   "name": "python3"
  },
  "language_info": {
   "codemirror_mode": {
    "name": "ipython",
    "version": 2
   },
   "file_extension": ".py",
   "mimetype": "text/x-python",
   "name": "python",
   "nbconvert_exporter": "python",
   "pygments_lexer": "ipython2",
   "version": "2.7.6"
  }
 },
 "nbformat": 4,
 "nbformat_minor": 5
}
