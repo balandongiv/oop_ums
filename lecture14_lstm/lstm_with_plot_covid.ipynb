{
  "nbformat": 4,
  "nbformat_minor": 0,
  "metadata": {
    "colab": {
      "provenance": [],
      "toc_visible": true
    },
    "kernelspec": {
      "name": "python3",
      "display_name": "Python 3"
    },
    "language_info": {
      "name": "python"
    }
  },
  "cells": [
    {
      "cell_type": "markdown",
      "source": [
        "# Lets tweak the code"
      ],
      "metadata": {
        "id": "LIRqr5U56m6I"
      }
    },
    {
      "cell_type": "code",
      "source": [
        "import torch\n",
        "import os\n",
        "import numpy as np\n",
        "import pandas as pd\n",
        "from tqdm import tqdm\n",
        "import seaborn as sns\n",
        "from pylab import rcParams\n",
        "import matplotlib.pyplot as plt\n",
        "from matplotlib import rc\n",
        "from sklearn.preprocessing import MinMaxScaler\n",
        "from pandas.plotting import register_matplotlib_converters\n",
        "from torch import nn, optim\n",
        "\n",
        "%matplotlib inline\n",
        "%config InlineBackend.figure_format='retina'\n",
        "\n",
        "sns.set(style='whitegrid', palette='muted', font_scale=1.2)\n",
        "\n",
        "HAPPY_COLORS_PALETTE = [\"#01BEFE\", \"#FFDD00\", \"#FF7D00\", \"#FF006D\", \"#93D30C\", \"#8F00FF\"]\n",
        "\n",
        "sns.set_palette(sns.color_palette(HAPPY_COLORS_PALETTE))\n",
        "\n",
        "rcParams['figure.figsize'] = 14, 10\n",
        "register_matplotlib_converters()\n",
        "\n",
        "RANDOM_SEED = 42\n",
        "np.random.seed(RANDOM_SEED)\n",
        "torch.manual_seed(RANDOM_SEED)\n",
        "\n",
        "!gdown --id 1AsfdLrGESCQnRW5rbMz56A1KBc3Fe5aV\n",
        "\n",
        "df = pd.read_csv('time_series_19-covid-Confirmed.csv')\n",
        "df.head()\n",
        "\n",
        "df = df.iloc[:, 4:]\n",
        "\n",
        "daily_cases = df.sum(axis=0)\n",
        "daily_cases.index = pd.to_datetime(daily_cases.index)\n",
        "daily_cases.head()\n",
        "\n",
        "daily_cases = daily_cases.diff().fillna(daily_cases[0]).astype(np.int64)\n",
        "daily_cases.head()"
      ],
      "metadata": {
        "colab": {
          "base_uri": "https://localhost:8080/"
        },
        "id": "ZNs-ZWYc9c6q",
        "outputId": "e8193d1b-0bbc-4aea-bd3a-88f0387e6a21"
      },
      "execution_count": 1,
      "outputs": [
        {
          "output_type": "stream",
          "name": "stdout",
          "text": [
            "/usr/local/lib/python3.10/dist-packages/gdown/cli.py:121: FutureWarning: Option `--id` was deprecated in version 4.3.1 and will be removed in 5.0. You don't need to pass it anymore to use a file ID.\n",
            "  warnings.warn(\n",
            "Downloading...\n",
            "From: https://drive.google.com/uc?id=1AsfdLrGESCQnRW5rbMz56A1KBc3Fe5aV\n",
            "To: /content/time_series_19-covid-Confirmed.csv\n",
            "100% 19.2k/19.2k [00:00<00:00, 32.4MB/s]\n"
          ]
        },
        {
          "output_type": "execute_result",
          "data": {
            "text/plain": [
              "2020-01-22    555\n",
              "2020-01-23     98\n",
              "2020-01-24    288\n",
              "2020-01-25    493\n",
              "2020-01-26    684\n",
              "dtype: int64"
            ]
          },
          "metadata": {},
          "execution_count": 1
        }
      ]
    },
    {
      "cell_type": "code",
      "source": [
        "# Normalize the data using Min-Max scaling\n",
        "scaler = MinMaxScaler()\n",
        "scaled_data = scaler.fit_transform(daily_cases.values.reshape(-1, 1))\n",
        "data_tensor = torch.FloatTensor(scaled_data)"
      ],
      "metadata": {
        "id": "g1aUb7vA7Bmv"
      },
      "execution_count": 2,
      "outputs": []
    },
    {
      "cell_type": "code",
      "source": [
        "print(data_tensor.shape)"
      ],
      "metadata": {
        "id": "2NjJSeZH7SrB"
      },
      "execution_count": null,
      "outputs": []
    },
    {
      "cell_type": "code",
      "source": [
        "split_ratio = 0.8\n",
        "split_idx = int(len(daily_cases) * split_ratio)\n",
        "train_data = daily_cases[:split_idx]\n",
        "test_data = daily_cases[split_idx:]"
      ],
      "metadata": {
        "id": "LKj5LUXv8ezq"
      },
      "execution_count": 3,
      "outputs": []
    },
    {
      "cell_type": "code",
      "source": [
        "print(train_data.shape)"
      ],
      "metadata": {
        "id": "yIp9DlL584-p"
      },
      "execution_count": null,
      "outputs": []
    },
    {
      "cell_type": "code",
      "source": [
        "scaler = MinMaxScaler()\n",
        "\n",
        "scaler = scaler.fit(np.expand_dims(train_data, axis=1))\n",
        "\n",
        "train_data = scaler.transform(np.expand_dims(train_data, axis=1))\n",
        "\n",
        "test_data = scaler.transform(np.expand_dims(test_data, axis=1))\n",
        "\n",
        "def create_sequences(data, seq_length):\n",
        "    xs = []\n",
        "    ys = []\n",
        "\n",
        "    for i in range(len(data)-seq_length-1):\n",
        "        x = data[i:(i+seq_length)]\n",
        "        y = data[i+seq_length]\n",
        "        xs.append(x)\n",
        "        ys.append(y)\n",
        "\n",
        "    return np.array(xs), np.array(ys)\n",
        "\n",
        "\n",
        "# Hyperparameters\n",
        "seq_length = 7\n",
        "input_size = 1\n",
        "hidden_size = 64\n",
        "num_layers = 2\n",
        "output_size = 1\n",
        "learning_rate = 0.001\n",
        "num_epochs = 1000\n",
        "\n",
        "seq_length = 5\n",
        "X_train, y_train = create_sequences(train_data, seq_length)\n",
        "X_test, y_test = create_sequences(test_data, seq_length)"
      ],
      "metadata": {
        "id": "jMRrYB4T9qhV"
      },
      "execution_count": 4,
      "outputs": []
    },
    {
      "cell_type": "code",
      "source": [
        "print(X_train[0])\n",
        "print(y_train[0])\n",
        "print(X_train[1])\n",
        "print(y_train[1])\n",
        "print(X_train[2])\n",
        "print(y_train[2])"
      ],
      "metadata": {
        "id": "RimGpDIB91bb"
      },
      "execution_count": null,
      "outputs": []
    },
    {
      "cell_type": "code",
      "source": [
        "X_train = torch.tensor(X_train, dtype=torch.float32)\n",
        "y_train = torch.tensor(y_train, dtype=torch.float32)\n",
        "\n",
        "X_test = torch.tensor(X_test, dtype=torch.float32)\n",
        "y_test = torch.tensor(y_test, dtype=torch.float32)\n",
        "\n"
      ],
      "metadata": {
        "id": "seuYvXwg-zYV"
      },
      "execution_count": 6,
      "outputs": []
    },
    {
      "cell_type": "code",
      "source": [
        "# Define the LSTM model\n",
        "class LSTM(nn.Module):\n",
        "    def __init__(self, input_size, hidden_size, num_layers, output_size):\n",
        "        super(LSTM, self).__init__()\n",
        "        self.hidden_size = hidden_size\n",
        "        self.num_layers = num_layers\n",
        "        self.lstm = nn.LSTM(input_size, hidden_size, num_layers, batch_first=True)\n",
        "        self.fc = nn.Linear(hidden_size, output_size)\n",
        "\n",
        "    def forward(self, x):\n",
        "        h0 = torch.zeros(self.num_layers, x.size(0), self.hidden_size).to(x.device)\n",
        "        c0 = torch.zeros(self.num_layers, x.size(0), self.hidden_size).to(x.device)\n",
        "        out, _ = self.lstm(x, (h0, c0))\n",
        "        out = self.fc(out[:, -1, :])\n",
        "        return out"
      ],
      "metadata": {
        "id": "0OGkojuQBdMw"
      },
      "execution_count": 7,
      "outputs": []
    },
    {
      "cell_type": "code",
      "source": [
        "num_epochs=10\n",
        "\n",
        "# Initialize the model\n",
        "model = LSTM(input_size, hidden_size, num_layers, output_size)\n",
        "\n",
        "# Loss and optimizer\n",
        "criterion = nn.MSELoss()\n",
        "optimizer = optim.Adam(model.parameters(), lr=learning_rate)\n",
        "\n",
        "# Training loop\n",
        "for epoch in range(num_epochs):\n",
        "    model.train()  # Set the model back to training mode\n",
        "    outputs = model(X_train.float())\n",
        "    optimizer.zero_grad()\n",
        "    loss = criterion(outputs, y_train.float())\n",
        "    loss.backward()\n",
        "    optimizer.step()\n",
        "\n",
        "     # RMSE calculation for X_test and y_test\n",
        "    model.eval()\n",
        "    with torch.no_grad():\n",
        "        test_inputs = X_test.float()\n",
        "        predicted = model(test_inputs)\n",
        "        predicted_actual = scaler.inverse_transform(predicted)\n",
        "        ggg=scaler.inverse_transform(y_test.numpy())\n",
        "        print(f'The predicted value: {predicted_actual} \\n the y_test: {ggg}')\n",
        "        rmse = np.sqrt(((predicted_actual - ggg) ** 2).mean())\n",
        "\n",
        "\n",
        "\n",
        "    if (epoch + 1) % 10 == 0:\n",
        "        print(f'Epoch [{epoch + 1}/{num_epochs}], Loss: {loss.item():.4f}, RMSE: {rmse:.4f}')\n",
        "\n",
        "    # if (epoch + 1) % 1 == 0:\n",
        "    #     print(f'Epoch [{epoch + 1}/{num_epochs}], Loss: {loss.item():.4f}')\n",
        "\n",
        "# Evaluation\n",
        "# model.eval()\n",
        "# with torch.no_grad():\n",
        "#     test_inputs = X_test.float()\n",
        "#     predicted = model(test_inputs)\n",
        "#     predicted = scaler.inverse_transform(predicted)\n",
        "\n",
        "# # Plot the results\n",
        "# plt.figure(figsize=(12, 6))\n",
        "# plt.title(\"COVID-19 Daily Cases Forecast\")\n",
        "# plt.xlabel(\"Day\")\n",
        "# plt.ylabel(\"Daily Cases\")\n",
        "# plt.plot(daily_cases.index[-len(test_data):], test_data, label=\"Actual\", color=\"blue\")\n",
        "# plt.plot(daily_cases.index[-len(test_data):], predicted, label=\"Predicted\", color=\"red\")\n",
        "# plt.legend()\n",
        "# plt.show()\n"
      ],
      "metadata": {
        "id": "RPg9_ioJ6pes"
      },
      "execution_count": null,
      "outputs": []
    },
    {
      "cell_type": "code",
      "source": [
        "# Make predictions\n",
        "model.eval()\n",
        "with torch.no_grad():\n",
        "  test_inputs = X_test[0].float().unsqueeze(0)\n",
        "  print(test_inputs)\n",
        "  predicted = model(test_inputs)\n",
        "\n",
        "  x_test_actual=scaler.inverse_transform(X_test[0])\n",
        "  print(x_test_actual)\n",
        "  predicted_model= scaler.inverse_transform(predicted)\n",
        "  y_test_reshaped = y_test[0].numpy().reshape(1, -1)  # Reshape to a 2D array\n",
        "  ggg = scaler.inverse_transform(y_test_reshaped)\n",
        "  print(f'The predicted model: {predicted_model} \\n the y_test: {ggg}')"
      ],
      "metadata": {
        "colab": {
          "base_uri": "https://localhost:8080/"
        },
        "id": "nbOUVrfjEf6C",
        "outputId": "4147c44a-784d-49bc-df7a-32f943649146"
      },
      "execution_count": 30,
      "outputs": [
        {
          "output_type": "stream",
          "name": "stdout",
          "text": [
            "tensor([[[0.0191],\n",
            "         [0.0324],\n",
            "         [0.0496],\n",
            "         [0.0587],\n",
            "         [0.0838]]])\n",
            "[[ 386.00000213]\n",
            " [ 584.99998297]\n",
            " [ 844.99997399]\n",
            " [ 982.00001433]\n",
            " [1358.99998169]]\n",
            "The predicted model: [[2361.00528497]] \n",
            " the y_test: [[1366.]]\n"
          ]
        }
      ]
    },
    {
      "cell_type": "code",
      "source": [
        "print(X_test.shape)"
      ],
      "metadata": {
        "id": "vFZOsLoQKLXL",
        "outputId": "a7e95acb-23dd-401c-b271-4e17b182686e",
        "colab": {
          "base_uri": "https://localhost:8080/"
        }
      },
      "execution_count": 37,
      "outputs": [
        {
          "output_type": "stream",
          "name": "stdout",
          "text": [
            "torch.Size([3, 5, 1])\n"
          ]
        }
      ]
    },
    {
      "cell_type": "code",
      "source": [
        "X_tes_reshaped_Sec = X_test[2].numpy().reshape(1, -1)  # Reshape to a 2D array\n",
        "x_test_Sec = scaler.inverse_transform(X_tes_reshaped_Sec )\n",
        "print(x_test_Sec)"
      ],
      "metadata": {
        "id": "c86HHvdhJ1O-",
        "outputId": "99963d06-55d8-4860-e913-6df6644b9270",
        "colab": {
          "base_uri": "https://localhost:8080/"
        }
      },
      "execution_count": 38,
      "outputs": [
        {
          "output_type": "stream",
          "name": "stdout",
          "text": [
            "[[ 845.       981.99994 1359.      1366.      1891.     ]]\n"
          ]
        }
      ]
    },
    {
      "cell_type": "code",
      "source": [
        "# Plot the historical data, actual value, and predicted value\n",
        "plt.figure(figsize=(10, 5))\n",
        "plt.plot(np.arange(1, 6), x_test_actual, marker='o', label='Historical Data')\n",
        "plt.plot(6, ggg, marker='o', label='Actual Value', color='red')\n",
        "plt.plot(6, predicted_model, marker='o', label='Predicted Value', color='green')\n",
        "# plt.xticks(np.arange(1, 12), labels=['t-9', 't-8', 't-7', 't-6', 't-5', 't-4', 't-3', 't-2', 't-1', 't0', 't1'])\n",
        "# plt.legend()\n",
        "# plt.grid()\n",
        "# plt.show()"
      ],
      "metadata": {
        "id": "1FKdo4K6Ia13",
        "outputId": "b4476724-30a6-4c81-fb4a-742e94877503",
        "colab": {
          "base_uri": "https://localhost:8080/",
          "height": 471
        }
      },
      "execution_count": 32,
      "outputs": [
        {
          "output_type": "execute_result",
          "data": {
            "text/plain": [
              "[<matplotlib.lines.Line2D at 0x7ff3c3d0c4c0>]"
            ]
          },
          "metadata": {},
          "execution_count": 32
        },
        {
          "output_type": "display_data",
          "data": {
            "text/plain": [
              "<Figure size 1000x500 with 1 Axes>"
            ],
            "image/png": "[encoded data removed]"
          },
          "metadata": {
            "image/png": {
              "width": 854,
              "height": 436
            }
          }
        }
      ]
    },
    {
      "cell_type": "markdown",
      "source": [
        "# The code below work like a charm"
      ],
      "metadata": {
        "id": "mCUq4rSz6jCw"
      }
    },
    {
      "cell_type": "code",
      "source": [
        "import torch\n",
        "import os\n",
        "import numpy as np\n",
        "import pandas as pd\n",
        "from tqdm import tqdm\n",
        "import seaborn as sns\n",
        "from pylab import rcParams\n",
        "import matplotlib.pyplot as plt\n",
        "from matplotlib import rc\n",
        "from sklearn.preprocessing import MinMaxScaler\n",
        "from pandas.plotting import register_matplotlib_converters\n",
        "from torch import nn, optim\n",
        "\n",
        "%matplotlib inline\n",
        "%config InlineBackend.figure_format='retina'\n",
        "\n",
        "sns.set(style='whitegrid', palette='muted', font_scale=1.2)\n",
        "\n",
        "HAPPY_COLORS_PALETTE = [\"#01BEFE\", \"#FFDD00\", \"#FF7D00\", \"#FF006D\", \"#93D30C\", \"#8F00FF\"]\n",
        "\n",
        "sns.set_palette(sns.color_palette(HAPPY_COLORS_PALETTE))\n",
        "\n",
        "rcParams['figure.figsize'] = 14, 10\n",
        "register_matplotlib_converters()\n",
        "\n",
        "RANDOM_SEED = 42\n",
        "np.random.seed(RANDOM_SEED)\n",
        "torch.manual_seed(RANDOM_SEED)\n",
        "\n",
        "!gdown --id 1AsfdLrGESCQnRW5rbMz56A1KBc3Fe5aV\n",
        "\n",
        "df = pd.read_csv('time_series_19-covid-Confirmed.csv')\n",
        "df.head()\n",
        "\n",
        "df = df.iloc[:, 4:]\n",
        "\n",
        "daily_cases = df.sum(axis=0)\n",
        "daily_cases.index = pd.to_datetime(daily_cases.index)\n",
        "daily_cases.head()\n",
        "\n",
        "daily_cases = daily_cases.diff().fillna(daily_cases[0]).astype(np.int64)\n",
        "daily_cases.head()\n",
        "\n",
        "test_data_size = 14\n",
        "\n",
        "train_data = daily_cases[:-test_data_size]\n",
        "test_data = daily_cases[-test_data_size:]\n",
        "\n",
        "train_data.shape\n",
        "\n",
        "scaler = MinMaxScaler()\n",
        "\n",
        "scaler = scaler.fit(np.expand_dims(train_data, axis=1))\n",
        "\n",
        "train_data = scaler.transform(np.expand_dims(train_data, axis=1))\n",
        "\n",
        "test_data = scaler.transform(np.expand_dims(test_data, axis=1))\n",
        "\n",
        "def create_sequences(data, seq_length):\n",
        "    xs = []\n",
        "    ys = []\n",
        "\n",
        "    for i in range(len(data)-seq_length-1):\n",
        "        x = data[i:(i+seq_length)]\n",
        "        y = data[i+seq_length]\n",
        "        xs.append(x)\n",
        "        ys.append(y)\n",
        "\n",
        "    return np.array(xs), np.array(ys)\n",
        "\n",
        "\n",
        "# Hyperparameters\n",
        "seq_length = 5\n",
        "input_size = 1\n",
        "hidden_size = 64\n",
        "num_layers = 2\n",
        "output_size = 1\n",
        "learning_rate = 0.001\n",
        "num_epochs = 100\n",
        "\n",
        "seq_length = 5\n",
        "X_train, y_train = create_sequences(train_data, seq_length)\n",
        "X_test, y_test = create_sequences(test_data, seq_length)\n",
        "\n",
        "X_train = torch.from_numpy(X_train).float()\n",
        "y_train = torch.from_numpy(y_train).float()\n",
        "\n",
        "X_test = torch.from_numpy(X_test).float()\n",
        "y_test = torch.from_numpy(y_test).float()\n",
        "\n",
        "\n",
        "# Define the LSTM model\n",
        "class LSTM(nn.Module):\n",
        "    def __init__(self, input_size, hidden_size, num_layers, output_size):\n",
        "        super(LSTM, self).__init__()\n",
        "        self.hidden_size = hidden_size\n",
        "        self.num_layers = num_layers\n",
        "        self.lstm = nn.LSTM(input_size, hidden_size, num_layers, batch_first=True)\n",
        "        self.fc = nn.Linear(hidden_size, output_size)\n",
        "\n",
        "    def forward(self, x):\n",
        "        h0 = torch.zeros(self.num_layers, x.size(0), self.hidden_size).to(x.device)\n",
        "        c0 = torch.zeros(self.num_layers, x.size(0), self.hidden_size).to(x.device)\n",
        "        out, _ = self.lstm(x, (h0, c0))\n",
        "        out = self.fc(out[:, -1, :])\n",
        "        return out\n",
        "\n",
        "\n",
        "\n",
        "\n",
        "# Initialize the model\n",
        "model = LSTM(input_size, hidden_size, num_layers, output_size)\n",
        "\n",
        "# Loss and optimizer\n",
        "criterion = nn.MSELoss()\n",
        "optimizer = optim.Adam(model.parameters(), lr=learning_rate)\n",
        "\n",
        "# Training loop\n",
        "for epoch in range(num_epochs):\n",
        "    outputs = model(X_train.float())\n",
        "    optimizer.zero_grad()\n",
        "    loss = criterion(outputs, y_train.float())\n",
        "    loss.backward()\n",
        "    optimizer.step()\n",
        "\n",
        "    if (epoch + 1) % 10 == 0:\n",
        "        print(f'Epoch [{epoch + 1}/{num_epochs}], Loss: {loss.item():.4f}')\n",
        "\n",
        "# Evaluation\n",
        "model.eval()\n",
        "with torch.no_grad():\n",
        "    test_inputs = X_test.float()\n",
        "    predicted = model(test_inputs)\n",
        "    predicted = scaler.inverse_transform(predicted)\n",
        "\n",
        "# # Plot the results\n",
        "# plt.figure(figsize=(12, 6))\n",
        "# plt.title(\"COVID-19 Daily Cases Forecast\")\n",
        "# plt.xlabel(\"Day\")\n",
        "# plt.ylabel(\"Daily Cases\")\n",
        "# plt.plot(daily_cases.index[-len(test_data):], test_data, label=\"Actual\", color=\"blue\")\n",
        "# plt.plot(daily_cases.index[-len(test_data):], predicted, label=\"Predicted\", color=\"red\")\n",
        "# plt.legend()\n",
        "# plt.show()\n"
      ],
      "metadata": {
        "id": "v-WSHu7l4e9r"
      },
      "execution_count": null,
      "outputs": []
    },
    {
      "cell_type": "code",
      "source": [
        "import torch\n",
        "import os\n",
        "import numpy as np\n",
        "import pandas as pd\n",
        "from tqdm import tqdm\n",
        "import seaborn as sns\n",
        "from pylab import rcParams\n",
        "import matplotlib.pyplot as plt\n",
        "from matplotlib import rc\n",
        "from sklearn.preprocessing import MinMaxScaler\n",
        "from pandas.plotting import register_matplotlib_converters\n",
        "from torch import nn, optim\n",
        "\n",
        "%matplotlib inline\n",
        "%config InlineBackend.figure_format='retina'\n",
        "\n",
        "sns.set(style='whitegrid', palette='muted', font_scale=1.2)\n",
        "\n",
        "HAPPY_COLORS_PALETTE = [\"#01BEFE\", \"#FFDD00\", \"#FF7D00\", \"#FF006D\", \"#93D30C\", \"#8F00FF\"]\n",
        "\n",
        "sns.set_palette(sns.color_palette(HAPPY_COLORS_PALETTE))\n",
        "\n",
        "rcParams['figure.figsize'] = 14, 10\n",
        "register_matplotlib_converters()\n",
        "\n",
        "RANDOM_SEED = 42\n",
        "np.random.seed(RANDOM_SEED)\n",
        "torch.manual_seed(RANDOM_SEED)\n",
        "\n",
        "!gdown --id 1AsfdLrGESCQnRW5rbMz56A1KBc3Fe5aV\n",
        "\n",
        "df = pd.read_csv('time_series_19-covid-Confirmed.csv')\n",
        "df.head()\n",
        "\n",
        "df = df.iloc[:, 4:]\n",
        "\n",
        "daily_cases = df.sum(axis=0)\n",
        "daily_cases.index = pd.to_datetime(daily_cases.index)\n",
        "daily_cases.head()\n",
        "\n",
        "daily_cases = daily_cases.diff().fillna(daily_cases[0]).astype(np.int64)\n",
        "daily_cases.head()\n",
        "\n",
        "test_data_size = 14\n",
        "\n",
        "train_data = daily_cases[:-test_data_size]\n",
        "test_data = daily_cases[-test_data_size:]\n",
        "\n",
        "train_data.shape\n",
        "\n",
        "scaler = MinMaxScaler()\n",
        "\n",
        "scaler = scaler.fit(np.expand_dims(train_data, axis=1))\n",
        "\n",
        "train_data = scaler.transform(np.expand_dims(train_data, axis=1))\n",
        "\n",
        "test_data = scaler.transform(np.expand_dims(test_data, axis=1))\n",
        "\n",
        "def create_sequences(data, seq_length):\n",
        "    xs = []\n",
        "    ys = []\n",
        "\n",
        "    for i in range(len(data)-seq_length-1):\n",
        "        x = data[i:(i+seq_length)]\n",
        "        y = data[i+seq_length]\n",
        "        xs.append(x)\n",
        "        ys.append(y)\n",
        "\n",
        "    return np.array(xs), np.array(ys)\n",
        "\n",
        "seq_length = 5\n",
        "X_train, y_train = create_sequences(train_data, seq_length)\n",
        "X_test, y_test = create_sequences(test_data, seq_length)\n",
        "\n",
        "X_train = torch.from_numpy(X_train).float()\n",
        "y_train = torch.from_numpy(y_train).float()\n",
        "\n",
        "X_test = torch.from_numpy(X_test).float()\n",
        "y_test = torch.from_numpy(y_test).float()\n",
        "\n",
        "class CoronaVirusPredictor(nn.Module):\n",
        "\n",
        "    def __init__(self, n_features, n_hidden, seq_len, n_layers=2):\n",
        "        super(CoronaVirusPredictor, self).__init__()\n",
        "\n",
        "        self.n_hidden = n_hidden\n",
        "        self.seq_len = seq_len\n",
        "        self.n_layers = n_layers\n",
        "\n",
        "        self.lstm = nn.LSTM(\n",
        "            input_size=n_features,\n",
        "            hidden_size=n_hidden,\n",
        "            num_layers=n_layers,\n",
        "            dropout=0.5\n",
        "        )\n",
        "\n",
        "        self.linear = nn.Linear(in_features=n_hidden, out_features=1)\n",
        "\n",
        "    def reset_hidden_state(self):\n",
        "        self.hidden = (\n",
        "            torch.zeros(self.n_layers, self.seq_len, self.n_hidden),\n",
        "            torch.zeros(self.n_layers, self.seq_len, self.n_hidden)\n",
        "        )\n",
        "\n",
        "    def forward(self, sequences):\n",
        "        lstm_out, self.hidden = self.lstm(\n",
        "            sequences.view(len(sequences), self.seq_len, -1),\n",
        "            self.hidden\n",
        "        )\n",
        "        last_time_step = \\\n",
        "            lstm_out.view(self.seq_len, len(sequences), self.n_hidden)[-1]\n",
        "        y_pred = self.linear(last_time_step)\n",
        "        return y_pred\n",
        "\n",
        "loss_fn = torch.nn.MSELoss(reduction='sum')\n",
        "model = CoronaVirusPredictor(\n",
        "    n_features=1,\n",
        "    n_hidden=512,\n",
        "    seq_len=seq_length,\n",
        "    n_layers=2\n",
        ")\n",
        "\n",
        "optimiser = torch.optim.Adam(model.parameters(), lr=1e-3)\n",
        "num_epochs = 60\n",
        "\n",
        "train_hist = np.zeros(num_epochs)\n",
        "test_hist = np.zeros(num_epochs)\n",
        "\n",
        "for t in range(num_epochs):\n",
        "    model.reset_hidden_state()\n",
        "\n",
        "    y_pred = model(X_train)\n",
        "\n",
        "    loss = loss_fn(y_pred.float(), y_train)\n",
        "\n",
        "    if t % 10 == 0:\n",
        "        print(f'Epoch {t} train loss: {loss.item()}')\n",
        "\n",
        "    train_hist[t] = loss.item()\n",
        "\n",
        "    optimiser.zero_grad()\n",
        "\n",
        "    loss.backward()\n",
        "\n",
        "    optimiser.step()\n",
        "# ```\n",
        "\n",
        "# This code combines the training logic into the main code without using a separate `train_model` function. It also prints the training loss for every 10 epochs for better tracking."
      ],
      "metadata": {
        "id": "lA_x3mIc3Gyg"
      },
      "execution_count": null,
      "outputs": []
    },
    {
      "cell_type": "code",
      "execution_count": null,
      "metadata": {
        "id": "eRQHBpDbnPZU"
      },
      "outputs": [],
      "source": [
        "import torch\n",
        "import numpy as np\n",
        "import pandas as pd\n",
        "import matplotlib.pyplot as plt\n",
        "import seaborn as sns\n",
        "from sklearn.preprocessing import MinMaxScaler\n",
        "from sklearn.metrics import mean_squared_error\n",
        "from torch import nn, optim\n",
        "from pandas.plotting import register_matplotlib_converters\n",
        "from torch.utils.data import DataLoader, TensorDataset\n",
        "\n",
        "# Set random seeds for reproducibility\n",
        "RANDOM_SEED = 42\n",
        "np.random.seed(RANDOM_SEED)\n",
        "torch.manual_seed(RANDOM_SEED)\n",
        "\n",
        "# Set visualization parameters\n",
        "%matplotlib inline\n",
        "%config InlineBackend.figure_format = 'retina'\n",
        "sns.set(style='whitegrid', palette='muted', font_scale=1.2)\n",
        "HAPPY_COLORS_PALETTE = [\"#01BEFE\", \"#FFDD00\", \"#FF7D00\", \"#FF006D\", \"#93D30C\", \"#8F00FF\"]\n",
        "sns.set_palette(sns.color_palette(HAPPY_COLORS_PALETTE))\n",
        "plt.rcParams['figure.figsize'] = (14, 10)\n",
        "register_matplotlib_converters()\n",
        "\n",
        "# Download data\n",
        "!gdown --id 1AsfdLrGESCQnRW5rbMz56A1KBc3Fe5aV\n",
        "\n"
      ]
    },
    {
      "cell_type": "code",
      "source": [
        "# Load and preprocess data\n",
        "df = pd.read_csv('time_series_19-covid-Confirmed.csv').iloc[:, 4:]\n",
        "daily_cases = df.sum(axis=0)\n",
        "daily_cases.index = pd.to_datetime(daily_cases.index)\n",
        "\n",
        "\n",
        "daily_cases = daily_cases.diff().fillna(daily_cases[0]).astype(np.int64)\n",
        "daily_cases.head()\n",
        "uni_data_df = daily_cases.copy()\n"
      ],
      "metadata": {
        "id": "wiSymdFm2epb"
      },
      "execution_count": null,
      "outputs": []
    },
    {
      "cell_type": "code",
      "source": [
        "# Normalize the data using Min-Max scaling\n",
        "scaler = MinMaxScaler()\n",
        "scaled_data = scaler.fit_transform(uni_data_df.values.reshape(-1, 1))\n",
        "data_tensor = torch.FloatTensor(scaled_data)\n",
        "\n",
        "# Define function to create sequences from time series data\n",
        "def create_sequences(data, seq_length):\n",
        "    sequences = []\n",
        "    for i in range(len(data) - seq_length):\n",
        "        x = data[i:i + seq_length]\n",
        "        y = data[i + seq_length:i + seq_length + 1]\n",
        "        sequences.append((x, y))\n",
        "    return sequences\n",
        "\n",
        "# Set sequence length\n",
        "seq_length = 5\n",
        "sequences = create_sequences(data_tensor, seq_length)\n",
        "\n",
        "# Split data into training and testing sets\n",
        "split_ratio = 0.8\n",
        "split_idx = int(len(sequences) * split_ratio)\n",
        "train_sequences = sequences[:split_idx]\n",
        "test_sequences = sequences[split_idx:]\n",
        "\n",
        "# Create DataLoader for training and testing\n",
        "batch_size = 64\n",
        "train_loader = DataLoader(train_sequences, batch_size=batch_size, shuffle=True)\n",
        "test_loader = DataLoader(test_sequences, batch_size=batch_size, shuffle=False)\n",
        "\n",
        "# Define LSTM Model\n",
        "class CoronaVirusPredictor(nn.Module):\n",
        "    def __init__(self, n_features, n_hidden, seq_len, n_layers=2):\n",
        "        super(CoronaVirusPredictor, self).__init__()\n",
        "        self.n_hidden = n_hidden\n",
        "        self.seq_len = seq_len\n",
        "        self.n_layers = n_layers\n",
        "        self.lstm = nn.LSTM(\n",
        "            input_size=n_features,\n",
        "            hidden_size=n_hidden,\n",
        "            num_layers=n_layers,\n",
        "            dropout=0.5\n",
        "        )\n",
        "        self.linear = nn.Linear(in_features=n_hidden, out_features=1)\n",
        "\n",
        "    def reset_hidden_state(self):\n",
        "        self.hidden = (\n",
        "            torch.zeros(self.n_layers, self.seq_len, self.n_hidden),\n",
        "            torch.zeros(self.n_layers, self.seq_len, self.n_hidden)\n",
        "        )\n",
        "\n",
        "    def forward(self, sequences):\n",
        "        lstm_out, self.hidden = self.lstm(\n",
        "            sequences.view(len(sequences), self.seq_len, -1),\n",
        "            self.hidden\n",
        "        )\n",
        "        last_time_step = lstm_out.view(self.seq_len, len(sequences), self.n_hidden)[-1]\n",
        "        y_pred = self.linear(last_time_step)\n",
        "        return y_pred\n",
        "\n",
        "# Create the model\n",
        "model = CoronaVirusPredictor(n_features=1, n_hidden=512, seq_len=seq_length, n_layers=2)\n",
        "\n",
        "# Define loss and optimizer\n",
        "criterion = nn.MSELoss()\n",
        "optimizer = optim.Adam(model.parameters(), lr=0.001)\n",
        "\n",
        "# Training loop\n",
        "num_epochs = 60\n",
        "for epoch in range(num_epochs):\n",
        "    model.train()\n",
        "    train_loss = 0.0\n",
        "\n",
        "    for batch_x, batch_y in train_loader:\n",
        "        batch_x, batch_y = batch_x.float(), batch_y.float()\n",
        "        model.reset_hidden_state()\n",
        "        optimizer.zero_grad()\n",
        "\n",
        "        # Forward pass\n",
        "        outputs = model(batch_x)\n",
        "\n",
        "        # Reshape the target tensor to match the output shape\n",
        "        batch_y = batch_y.squeeze(dim=1)\n",
        "\n",
        "        loss = criterion(outputs, batch_y)\n",
        "\n",
        "        # Backward pass and optimization\n",
        "        loss.backward()\n",
        "        optimizer.step()\n",
        "\n",
        "        train_loss += loss.item()\n",
        "\n",
        "    train_loss /= len(train_loader)\n",
        "\n",
        "    # Evaluation on the test set\n",
        "    model.eval()\n",
        "    test_loss = 0\n",
        "    predictions = []\n",
        "\n",
        "    with torch.no_grad():\n",
        "        for batch_x, batch_y in test_loader:\n",
        "            batch_x, batch_y = batch_x.float(), batch_y.float()\n",
        "            model.reset_hidden_state()\n",
        "            outputs = model(batch_x)\n",
        "\n",
        "            # Reshape the target tensor to match the output shape\n",
        "            batch_y = batch_y.squeeze(dim=1)\n",
        "\n",
        "            test_loss += criterion(outputs, batch_y).item()\n",
        "            predictions.append(outputs.numpy())\n",
        "\n",
        "    test_loss /= len(test_loader)\n",
        "\n",
        "    # Calculate RMSE\n",
        "    predictions = np.concatenate(predictions)\n",
        "    predictions = scaler.inverse_transform(predictions)\n",
        "    y_true = scaler.inverse_transform(np.concatenate([y.numpy() for _, y in test_sequences]))\n",
        "    rmse = np.sqrt(mean_squared_error(y_true, predictions))\n",
        "\n",
        "    print(f\"Epoch {epoch}: train RMSE {np.sqrt(train_loss):.4f}, test RMSE {rmse:.4f}\")"
      ],
      "metadata": {
        "id": "BcoNy04N0-_F"
      },
      "execution_count": null,
      "outputs": []
    },
    {
      "cell_type": "markdown",
      "source": [
        "# Time Series Forecasting with LSTMs for Daily Coronavirus Cases using PyTorch in Python"
      ],
      "metadata": {
        "id": "Qw6A9eC_nUjz"
      }
    },
    {
      "cell_type": "markdown",
      "source": [
        "> This tutorial is NOT trying to build a model that predicts the Covid-19 outbreak/pandemic in the best way possible. This is an example of how you can use Recurrent Neural Networks on some real-world Time Series data with PyTorch. Hopefully, there are much better models that predict the number of daily confirmed cases.\n",
        "\n",
        "Time series data captures a series of data points recorded at (usually) regular intervals. Some common examples include daily weather temperature, stock prices, and the number of sales a company makes.\n",
        "\n",
        "Many classical methods (e.g. ARIMA) try to deal with Time Series data with varying success (not to say they are bad at it). In the last couple of years, [Long Short Term Memory Networks (LSTM)](https://en.wikipedia.org/wiki/Long_short-term_memory) models have become a very useful method when dealing with those types of data.\n",
        "\n",
        "Recurrent Neural Networks (LSTMs are one type of those) are very good at processing sequences of data. They can \"recall\" patterns in the data that are very far into the past (or future). In this tutorial, you're going to learn how to use LSTMs to predict future Coronavirus cases based on real-world data.\n",
        "\n",
        "- [Run the complete notebook in your browser (Google Colab)](https://colab.research.google.com/drive/1nQYJq1f7f4R0yeZOzQ9rBKgk00AfLoS0)\n",
        "- [Read the Getting Things Done with Pytorch book](https://github.com/curiousily/Getting-Things-Done-with-Pytorch)"
      ],
      "metadata": {
        "id": "_MliMnA-nXAV"
      }
    },
    {
      "cell_type": "markdown",
      "source": [
        "## Novel Coronavirus (COVID-19)\n",
        "\n",
        "The novel Coronavirus (Covid-19) has spread around the world very rapidly. At the time of this writing, [Worldometers.info](https://www.worldometers.info/coronavirus/) shows that there are more than *95,488* confirmed cases in more than *84* countries.\n",
        "\n",
        "The top 4 worst-affected (by far) are China (the source of the virus), South Korea, Italy, and Iran. Unfortunately, many cases are currently not reported due to:\n",
        "\n",
        "- A person can get infected without even knowing (asymptomatic)\n",
        "- Incorrect data reporting\n",
        "- Not enough test kits\n",
        "- The symptoms look a lot like the common flu\n",
        "\n",
        "### How dangerous is this virus?\n",
        "\n",
        "Except for the common statistics you might see cited on the news, there are some good and some bad news:\n",
        "\n",
        "- More than 80% of the confirmed cases recover without any need of medical attention\n",
        "- [3.4% Mortality Rate estimate by the World Health Organization (WHO) as of March 3](https://www.worldometers.info/coronavirus/coronavirus-death-rate/#who-03-03-20)\n",
        "- The reproductive number which represents the average number of people to which a single infected person will transmit the virus is between 1.4 and 2.5 [(WHO's estimated on Jan. 23)](https://www.worldometers.info/coronavirus/#repro)\n",
        "\n",
        "The last one is really scary. It sounds like we can witness some crazy exponential growth if appropriate measures are not put in place.\n",
        "\n",
        "Let's get started!"
      ],
      "metadata": {
        "id": "PEqu5a6InYuf"
      }
    },
    {
      "cell_type": "code",
      "source": [
        "import torch\n",
        "\n",
        "import os\n",
        "import numpy as np\n",
        "import pandas as pd\n",
        "from tqdm import tqdm\n",
        "import seaborn as sns\n",
        "from pylab import rcParams\n",
        "import matplotlib.pyplot as plt\n",
        "from matplotlib import rc\n",
        "from sklearn.preprocessing import MinMaxScaler\n",
        "from pandas.plotting import register_matplotlib_converters\n",
        "from torch import nn, optim\n",
        "\n",
        "%matplotlib inline\n",
        "%config InlineBackend.figure_format='retina'\n",
        "\n",
        "sns.set(style='whitegrid', palette='muted', font_scale=1.2)\n",
        "\n",
        "HAPPY_COLORS_PALETTE = [\"#01BEFE\", \"#FFDD00\", \"#FF7D00\", \"#FF006D\", \"#93D30C\", \"#8F00FF\"]\n",
        "\n",
        "sns.set_palette(sns.color_palette(HAPPY_COLORS_PALETTE))\n",
        "\n",
        "rcParams['figure.figsize'] = 14, 10\n",
        "register_matplotlib_converters()\n",
        "\n",
        "RANDOM_SEED = 42\n",
        "np.random.seed(RANDOM_SEED)\n",
        "torch.manual_seed(RANDOM_SEED)"
      ],
      "metadata": {
        "id": "VAfsAzNonkmH"
      },
      "execution_count": null,
      "outputs": []
    },
    {
      "cell_type": "code",
      "source": [
        "# !wget https://raw.githubusercontent.com/CSSEGISandData/COVID-19/master/csse_covid_19_data/csse_covid_19_time_series/time_series_19-covid-Confirmed.csv"
      ],
      "metadata": {
        "id": "xvNdVWY6noB1"
      },
      "execution_count": null,
      "outputs": []
    },
    {
      "cell_type": "code",
      "source": [
        "!gdown --id 1AsfdLrGESCQnRW5rbMz56A1KBc3Fe5aV"
      ],
      "metadata": {
        "id": "GbRiMv9bnpjr"
      },
      "execution_count": null,
      "outputs": []
    },
    {
      "cell_type": "code",
      "source": [
        "df = pd.read_csv('time_series_19-covid-Confirmed.csv')\n",
        "df.head()"
      ],
      "metadata": {
        "id": "DemI4FclnrLR"
      },
      "execution_count": null,
      "outputs": []
    },
    {
      "cell_type": "markdown",
      "source": [
        "Two things to note here:\n",
        "\n",
        "- The data contains a province, country, latitude, and longitude. We won't be needing those.\n",
        "- The number of cases is cumulative. We'll undo the accumulation.\n",
        "\n",
        "Let's start by getting rid of the first four columns:"
      ],
      "metadata": {
        "id": "LzaDG38kntWn"
      }
    },
    {
      "cell_type": "code",
      "source": [
        "df = df.iloc[:, 4:]"
      ],
      "metadata": {
        "id": "buzBhZyvnvBX"
      },
      "execution_count": null,
      "outputs": []
    },
    {
      "cell_type": "code",
      "source": [
        "df.head()"
      ],
      "metadata": {
        "id": "3eBTaWxZnwWk"
      },
      "execution_count": null,
      "outputs": []
    },
    {
      "cell_type": "code",
      "source": [
        "df.isnull().sum().sum()"
      ],
      "metadata": {
        "id": "FMujbJsknxrT"
      },
      "execution_count": null,
      "outputs": []
    },
    {
      "cell_type": "code",
      "source": [
        "daily_cases = df.sum(axis=0)\n",
        "daily_cases.index = pd.to_datetime(daily_cases.index)\n",
        "daily_cases.head()"
      ],
      "metadata": {
        "id": "dCXpaQ35nyxt"
      },
      "execution_count": null,
      "outputs": []
    },
    {
      "cell_type": "code",
      "source": [
        "uni_data_df = daily_cases.copy()\n",
        "X = uni_data_df.values\n",
        "# print(uni_data_df)\n",
        "X_reshaped = X.reshape(-1, 1)"
      ],
      "metadata": {
        "id": "4u2m85VipZ7s"
      },
      "execution_count": null,
      "outputs": []
    },
    {
      "cell_type": "code",
      "source": [
        "# Normalize the data using Min-Max scaling\n",
        "scaler = MinMaxScaler()\n",
        "scaled_data = scaler.fit_transform(X_reshaped)\n",
        "\n",
        "# Convert the scaled data to PyTorch tensors\n",
        "data_tensor = torch.FloatTensor(scaled_data)"
      ],
      "metadata": {
        "id": "-GSyqoENpwpS"
      },
      "execution_count": null,
      "outputs": []
    },
    {
      "cell_type": "code",
      "source": [
        "# Define a function to create sequences from the time series data\n",
        "def create_sequences(data, seq_length):\n",
        "    sequences = []\n",
        "    for i in range(len(data) - seq_length):\n",
        "        x = data[i:i+seq_length]\n",
        "        y = data[i+seq_length:i+seq_length+1]\n",
        "        sequences.append((x, y))\n",
        "    return sequences"
      ],
      "metadata": {
        "id": "BVY38dInn0ZU"
      },
      "execution_count": null,
      "outputs": []
    },
    {
      "cell_type": "code",
      "source": [
        "# Set the sequence length\n",
        "seq_length = 5\n",
        "\n",
        "# Create sequences\n",
        "sequences = create_sequences(data_tensor, seq_length)\n",
        "\n",
        "# Split the data into training and testing sets\n",
        "split_ratio = 0.8\n",
        "split_idx = int(len(sequences) * split_ratio)\n",
        "train_sequences = sequences[:split_idx]\n",
        "test_sequences = sequences[split_idx:]"
      ],
      "metadata": {
        "id": "ZNQ8WSajn4AT"
      },
      "execution_count": null,
      "outputs": []
    },
    {
      "cell_type": "code",
      "source": [
        "# Create DataLoader for training and testing\n",
        "batch_size = 64\n",
        "train_loader = torch.utils.data.DataLoader(train_sequences, batch_size=batch_size, shuffle=True)\n",
        "test_loader = torch.utils.data.DataLoader(test_sequences, batch_size=batch_size, shuffle=False)"
      ],
      "metadata": {
        "id": "ztOS8_mOo8_T"
      },
      "execution_count": null,
      "outputs": []
    },
    {
      "cell_type": "code",
      "source": [
        "# Define LSTM Model\n",
        "class LSTM(nn.Module):\n",
        "    def __init__(self, input_size, hidden_size, num_layers, output_size):\n",
        "        super(LSTM, self).__init__()\n",
        "\n",
        "        self.hidden_size = hidden_size\n",
        "        self.num_layers = num_layers\n",
        "        self.lstm = nn.LSTM(input_size, hidden_size, num_layers, batch_first=True)\n",
        "        self.fc = nn.Linear(hidden_size, output_size)\n",
        "\n",
        "    def forward(self, x):\n",
        "        h0 = torch.zeros(self.num_layers, x.size(0), self.hidden_size).to(x.device)\n",
        "        c0 = torch.zeros(self.num_layers, x.size(0), self.hidden_size).to(x.device)\n",
        "        out, _ = self.lstm(x, (h0, c0))\n",
        "        out = self.fc(out[:, -1, :])\n",
        "        return out\n",
        "\n",
        "# Create the model\n",
        "input_size = 1  # Univariate data\n",
        "hidden_size = 64\n",
        "num_layers = 2\n",
        "output_size = 1\n",
        "\n",
        "model = LSTM(input_size, hidden_size, num_layers, output_size)\n",
        "\n",
        "# Define loss and optimizer\n",
        "criterion = nn.MSELoss()\n",
        "optimizer = torch.optim.Adam(model.parameters(), lr=0.001)\n",
        "\n",
        "# Training loop\n",
        "num_epochs = 2"
      ],
      "metadata": {
        "id": "38c0hBFar4xk"
      },
      "execution_count": null,
      "outputs": []
    },
    {
      "cell_type": "code",
      "source": [
        "import torch\n",
        "import torch.nn as nn\n",
        "\n",
        "# Define LSTM Model\n",
        "class CoronaVirusPredictor(nn.Module):\n",
        "\n",
        "  def __init__(self, n_features, n_hidden, seq_len, n_layers=2):\n",
        "    super(CoronaVirusPredictor, self).__init__()\n",
        "\n",
        "    self.n_hidden = n_hidden\n",
        "    self.seq_len = seq_len\n",
        "    self.n_layers = n_layers\n",
        "\n",
        "    self.lstm = nn.LSTM(\n",
        "      input_size=n_features,\n",
        "      hidden_size=n_hidden,\n",
        "      num_layers=n_layers,\n",
        "      dropout=0.5\n",
        "    )\n",
        "\n",
        "    self.linear = nn.Linear(in_features=n_hidden, out_features=1)\n",
        "\n",
        "  def reset_hidden_state(self):\n",
        "    self.hidden = (\n",
        "        torch.zeros(self.n_layers, self.seq_len, self.n_hidden),\n",
        "        torch.zeros(self.n_layers, self.seq_len, self.n_hidden)\n",
        "    )\n",
        "\n",
        "  def forward(self, sequences):\n",
        "    lstm_out, self.hidden = self.lstm(\n",
        "      sequences.view(len(sequences), self.seq_len, -1),\n",
        "      self.hidden\n",
        "    )\n",
        "    last_time_step = \\\n",
        "      lstm_out.view(self.seq_len, len(sequences), self.n_hidden)[-1]\n",
        "    y_pred = self.linear(last_time_step)\n",
        "    return y_pred\n",
        "\n",
        "# Create the model\n",
        "input_size = 1  # Univariate data\n",
        "hidden_size = 64\n",
        "num_layers = 2\n",
        "output_size = 1\n",
        "\n",
        "model = CoronaVirusPredictor(\n",
        "  n_features=1,\n",
        "  n_hidden=512,\n",
        "  seq_len=seq_length,\n",
        "  n_layers=2\n",
        ")\n",
        "\n",
        "# Define loss and optimizer\n",
        "criterion = nn.MSELoss()\n",
        "optimizer = torch.optim.Adam(model.parameters(), lr=0.001)\n",
        "\n",
        "# Training loop\n",
        "num_epochs = 2\n",
        "# Rest of your training code...\n"
      ],
      "metadata": {
        "id": "k7YA5U_jwKWJ"
      },
      "execution_count": null,
      "outputs": []
    },
    {
      "cell_type": "code",
      "source": [
        "# import tensorflow as tf\n",
        "import torch\n",
        "import torch.nn as nn\n",
        "import numpy as np\n",
        "import pandas as pd\n",
        "import matplotlib.pyplot as plt\n",
        "from sklearn.preprocessing import MinMaxScaler\n",
        "from sklearn.metrics import mean_squared_error\n",
        "# import tensorflow as tf\n",
        "import matplotlib as mpl\n",
        "import matplotlib.pyplot as plt\n",
        "import numpy as np\n",
        "import os\n",
        "import pandas as pd\n"
      ],
      "metadata": {
        "id": "IEG4rlsysBNG"
      },
      "execution_count": null,
      "outputs": []
    },
    {
      "cell_type": "code",
      "source": [
        "loss_fn = torch.nn.MSELoss(reduction='sum')\n",
        "\n",
        "optimiser = torch.optim.Adam(model.parameters(), lr=1e-3)\n",
        "num_epochs = 2\n",
        "\n",
        "train_hist = np.zeros(num_epochs)\n",
        "test_hist = np.zeros(num_epochs)\n",
        "\n",
        "for t in range(num_epochs):\n",
        "  model.reset_hidden_state()\n",
        "\n",
        "  y_pred = model(X_train)\n",
        "\n",
        "  loss = loss_fn(y_pred.float(), y_train)\n",
        "\n",
        "    if test_data is not None:\n",
        "      with torch.no_grad():\n",
        "        y_test_pred = model(X_test)\n",
        "        test_loss = loss_fn(y_test_pred.float(), y_test)\n",
        "      test_hist[t] = test_loss.item()\n",
        "\n",
        "      if t % 10 == 0:\n",
        "        print(f'Epoch {t} train loss: {loss.item()} test loss: {test_loss.item()}')\n",
        "    elif t % 10 == 0:\n",
        "      print(f'Epoch {t} train loss: {loss.item()}')\n",
        "\n",
        "    train_hist[t] = loss.item()\n",
        "\n",
        "    optimiser.zero_grad()\n",
        "\n",
        "    loss.backward()\n",
        "\n",
        "    optimiser.step()"
      ],
      "metadata": {
        "id": "64cAbg29zaKL"
      },
      "execution_count": null,
      "outputs": []
    },
    {
      "cell_type": "code",
      "source": [
        "# Inside the training loop\n",
        "\n",
        "\n",
        "\n",
        "\n",
        "\n",
        "for epoch in range(num_epochs):\n",
        "    model.train()\n",
        "    train_loss = 0.0\n",
        "\n",
        "    for batch_x, batch_y in train_loader:\n",
        "\n",
        "        batch_x, batch_y = batch_x.float(), batch_y.float()\n",
        "\n",
        "        # Forward pass\n",
        "        outputs = model(batch_x)\n",
        "\n",
        "        # Reshape the target tensor to match the output shape\n",
        "        batch_y = batch_y.squeeze(dim=1)\n",
        "\n",
        "        loss = criterion(outputs, batch_y)\n",
        "\n",
        "        # Backward pass and optimization\n",
        "        loss.backward()\n",
        "        optimizer.step()\n",
        "\n",
        "        train_loss += loss.item()\n",
        "\n",
        "    train_loss /= len(train_loader)\n",
        "\n",
        "    # Evaluation on the test set\n",
        "    model.eval()\n",
        "    test_loss = 0\n",
        "    predictions = []\n",
        "    for batch_x, batch_y in test_loader:\n",
        "        batch_x, batch_y = batch_x.float(), batch_y.float()\n",
        "        with torch.no_grad():\n",
        "            outputs = model(batch_x)\n",
        "\n",
        "            # Reshape the target tensor to match the output shape\n",
        "            batch_y = batch_y.squeeze(dim=1)\n",
        "\n",
        "            test_loss += criterion(outputs, batch_y).item()\n",
        "            predictions.append(outputs.numpy())\n",
        "\n",
        "    test_loss /= len(test_loader)\n",
        "\n",
        "    # Calculate RMSE\n",
        "    predictions = np.concatenate(predictions)\n",
        "    predictions = scaler.inverse_transform(predictions)\n",
        "    y_true = scaler.inverse_transform(np.concatenate([y.numpy() for _, y in test_sequences]))\n",
        "    rmse = np.sqrt(mean_squared_error(y_true, predictions))\n",
        "\n",
        "    print(\"Epoch %d: train RMSE %.4f, test RMSE %.4f\" % (epoch, np.sqrt(train_loss), rmse))\n"
      ],
      "metadata": {
        "id": "jBtNiiF6r6xL"
      },
      "execution_count": null,
      "outputs": []
    },
    {
      "cell_type": "code",
      "source": [
        "print(y_true[0])"
      ],
      "metadata": {
        "id": "Im0fpiLisWi6"
      },
      "execution_count": null,
      "outputs": []
    },
    {
      "cell_type": "code",
      "source": [
        "print(predictions[0])"
      ],
      "metadata": {
        "id": "BHlbYxdksYQP"
      },
      "execution_count": null,
      "outputs": []
    },
    {
      "cell_type": "code",
      "source": [
        "# Convert the data to PyTorch tensors\n",
        "# Assuming you have already defined 'test_sequences'\n",
        "data_tensor = torch.FloatTensor(test_sequences[0][0]).view(1, -1, 1)  # Use the first sequence in the test data"
      ],
      "metadata": {
        "id": "TQTrvbidsjlZ"
      },
      "execution_count": null,
      "outputs": []
    },
    {
      "cell_type": "code",
      "source": [
        "# Make predictions\n",
        "model.eval()\n",
        "with torch.no_grad():\n",
        "    predicted_value = model(data_tensor).item()  # Use .item() to convert to a scalar value"
      ],
      "metadata": {
        "id": "puifTPNNsmV4"
      },
      "execution_count": null,
      "outputs": []
    },
    {
      "cell_type": "code",
      "source": [
        "print(test_sequences[0][0])"
      ],
      "metadata": {
        "id": "uQxkhfews7cs"
      },
      "execution_count": null,
      "outputs": []
    },
    {
      "cell_type": "code",
      "source": [
        "# Plot the historical data, actual value, and predicted value\n",
        "plt.figure(figsize=(10, 5))\n",
        "plt.plot(np.arange(1, seq_length+1), test_sequences[0][0], marker='o', label='Historical Data')\n",
        "plt.plot((seq_length+1), test_sequences[0][1][0], marker='o', label='Actual Value', color='red')\n",
        "plt.plot((seq_length+1), predicted_value, marker='o', label='Predicted Value', color='green')\n",
        "labelsx=['t-5', 't-4', 't-3', 't-2', 't-1', 't0']\n",
        "plt.xticks(np.arange(1, seq_length+2), labels=labelsx)\n",
        "plt.legend()\n",
        "plt.grid()\n",
        "plt.show()\n",
        "\n",
        "\n",
        "# Print the actual and predicted values\n",
        "print(\"Actual Value:\", test_sequences[0][1][0])\n",
        "print(\"Predicted Value:\", predicted_value)"
      ],
      "metadata": {
        "id": "RJO0Hm03sn_l"
      },
      "execution_count": null,
      "outputs": []
    }
  ]
}