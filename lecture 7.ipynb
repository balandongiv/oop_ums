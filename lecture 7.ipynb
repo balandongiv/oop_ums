{
 "cells": [
  {
   "cell_type": "code",
   "execution_count": 3,
   "id": "initial_id",
   "metadata": {
    "collapsed": true,
    "ExecuteTime": {
     "end_time": "2023-08-22T12:15:54.552997600Z",
     "start_time": "2023-08-22T12:15:54.546997800Z"
    }
   },
   "outputs": [
    {
     "name": "stdout",
     "output_type": "stream",
     "text": [
      "The value of a: 10\n"
     ]
    }
   ],
   "source": []
  },
  {
   "cell_type": "raw",
   "source": [
    "# String Formatting using % operator"
   ],
   "metadata": {
    "collapsed": false
   },
   "id": "3e205519d8377f17"
  },
  {
   "cell_type": "code",
   "execution_count": 9,
   "outputs": [
    {
     "name": "stdout",
     "output_type": "stream",
     "text": [
      "The value of a: 10\n"
     ]
    }
   ],
   "source": [
    " # Example 1\n",
    "a = 10\n",
    "print(\"The value of a: %i\" %a)"
   ],
   "metadata": {
    "collapsed": false,
    "ExecuteTime": {
     "end_time": "2023-08-22T12:23:09.164658Z",
     "start_time": "2023-08-22T12:23:09.156150800Z"
    }
   },
   "id": "cbfe8d2c47159e76"
  },
  {
   "cell_type": "code",
   "execution_count": 12,
   "outputs": [
    {
     "name": "stdout",
     "output_type": "stream",
     "text": [
      "a: 10 \tb: 20\n"
     ]
    }
   ],
   "source": [
    "# Example 2\n",
    "a = 10\n",
    "b = 20\n",
    "\n",
    "# \\t is tab space\n",
    "print(\"a: %d \\tb: %d\" % (a, b)) "
   ],
   "metadata": {
    "collapsed": false,
    "ExecuteTime": {
     "end_time": "2023-08-22T12:24:39.788382300Z",
     "start_time": "2023-08-22T12:24:39.771351300Z"
    }
   },
   "id": "4d9c0654cf6a275d"
  },
  {
   "cell_type": "markdown",
   "source": [
    "# String Formatting using format() method"
   ],
   "metadata": {
    "collapsed": false
   },
   "id": "2147c31f1cf876c7"
  },
  {
   "cell_type": "code",
   "execution_count": 13,
   "outputs": [
    {
     "name": "stdout",
     "output_type": "stream",
     "text": [
      "The value of a: 10\n"
     ]
    }
   ],
   "source": [
    "# Example 3\n",
    "a = 10\n",
    "print(\"The value of a: {0}\".format(a))"
   ],
   "metadata": {
    "collapsed": false,
    "ExecuteTime": {
     "end_time": "2023-08-22T12:26:34.749262600Z",
     "start_time": "2023-08-22T12:26:34.740185500Z"
    }
   },
   "id": "955fcd07df14f0d3"
  },
  {
   "cell_type": "code",
   "execution_count": 16,
   "outputs": [
    {
     "name": "stdout",
     "output_type": "stream",
     "text": [
      "a: 10 \tb: 20\n"
     ]
    }
   ],
   "source": [
    "# Example 4\n",
    "a = 10\n",
    "b = 20\n",
    "print(\"a: {0:d} \\tb: {1:d}\".format(a, b))"
   ],
   "metadata": {
    "collapsed": false,
    "ExecuteTime": {
     "end_time": "2023-08-22T12:27:37.101461Z",
     "start_time": "2023-08-22T12:27:37.090119Z"
    }
   },
   "id": "6ba7205a6952c43a"
  },
  {
   "cell_type": "markdown",
   "source": [
    "## F-String"
   ],
   "metadata": {
    "collapsed": false
   },
   "id": "617d6127256ae0cd"
  },
  {
   "cell_type": "code",
   "execution_count": 17,
   "outputs": [
    {
     "name": "stdout",
     "output_type": "stream",
     "text": [
      "The value of a: 10\n"
     ]
    }
   ],
   "source": [
    "# Example 5\n",
    "a = 10\n",
    "print(f\"The value of a: {a}\")"
   ],
   "metadata": {
    "collapsed": false,
    "ExecuteTime": {
     "end_time": "2023-08-22T12:33:28.000925100Z",
     "start_time": "2023-08-22T12:33:27.991952700Z"
    }
   },
   "id": "32cc2ae441bb272f"
  },
  {
   "cell_type": "code",
   "execution_count": 18,
   "outputs": [
    {
     "name": "stdout",
     "output_type": "stream",
     "text": [
      "a: 10 \tb: 20\n"
     ]
    }
   ],
   "source": [
    "# Example 6\n",
    "a = 10\n",
    "b = 20\n",
    "print(f\"a: {a} \\tb: {b}\")"
   ],
   "metadata": {
    "collapsed": false,
    "ExecuteTime": {
     "end_time": "2023-08-22T12:33:45.937004400Z",
     "start_time": "2023-08-22T12:33:45.931463900Z"
    }
   },
   "id": "5bb4b1d98503d032"
  },
  {
   "cell_type": "markdown",
   "source": [
    "# Example 2\n",
    "a = 10\n",
    "b = 20\n",
    "print(\"a: %d, \\tb: %d\" % (a, b))"
   ],
   "metadata": {
    "collapsed": false
   },
   "id": "6926da2df9c91388"
  },
  {
   "cell_type": "code",
   "execution_count": 10,
   "outputs": [
    {
     "name": "stdout",
     "output_type": "stream",
     "text": [
      "a: 10, b: 20\n"
     ]
    }
   ],
   "source": [
    "# Example 2\n",
    "a,b = 10,20\n",
    "\n",
    "print(\"a: {0:d}, b: {1:d}\".format(a, b))\n"
   ],
   "metadata": {
    "collapsed": false,
    "ExecuteTime": {
     "end_time": "2023-08-22T12:23:26.685012Z",
     "start_time": "2023-08-22T12:23:26.674461500Z"
    }
   },
   "id": "29970b5d3a853908"
  },
  {
   "cell_type": "code",
   "execution_count": null,
   "outputs": [],
   "source": [
    "# Example 3"
   ],
   "metadata": {
    "collapsed": false
   },
   "id": "391395eef0ffe664"
  },
  {
   "cell_type": "code",
   "execution_count": null,
   "outputs": [],
   "source": [
    "\n",
    "# Example 2\n",
    "a = 10\n",
    "b = 20\n",
    "print(\"a: {0:d}, b: {1:d}\", a, b)\n",
    "\n",
    "# Example 3\n",
    "name = \"Ram\"\n",
    "print(\"Hai {0}\", name)\n",
    "\n",
    "# Example 4\n",
    "print(\"Hai ({0}) {1}\", 20, name)\n",
    "\n",
    "# Example 5\n",
    "print(\"Hai ({0}) {1}\", -20, name)\n",
    "\n",
    "# Example 6\n",
    "print(\"name [23]\", name)\n",
    "\n",
    "# Example 7\n",
    "print(\"name (0:21)\", name)\n",
    "\n",
    "# Example 8\n",
    "num = 123.345727\n",
    "print(\"Num: {0}\", num)\n",
    "\n",
    "# Example 9\n",
    "print(\"Num: {0:.2f}\", num)"
   ],
   "metadata": {
    "collapsed": false
   },
   "id": "ec4511f4a2a73ec"
  }
 ],
 "metadata": {
  "kernelspec": {
   "display_name": "Python 3",
   "language": "python",
   "name": "python3"
  },
  "language_info": {
   "codemirror_mode": {
    "name": "ipython",
    "version": 2
   },
   "file_extension": ".py",
   "mimetype": "text/x-python",
   "name": "python",
   "nbconvert_exporter": "python",
   "pygments_lexer": "ipython2",
   "version": "2.7.6"
  }
 },
 "nbformat": 4,
 "nbformat_minor": 5
}
