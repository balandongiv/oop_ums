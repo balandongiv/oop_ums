{
 "cells": [
  {
   "cell_type": "markdown",
   "metadata": {
    "id": "view-in-github",
    "colab_type": "text"
   },
   "source": [
    "<a href=\"https://colab.research.google.com/github/balandongiv/oop_ums/blob/master/lecture%207.ipynb\" target=\"_parent\"><img src=\"https://colab.research.google.com/assets/colab-badge.svg\" alt=\"Open In Colab\"/></a>"
   ],
   "id": "32cd5532a9465dee"
  },
  {
   "cell_type": "markdown",
   "source": [
    "# A) Different ways of String Formatting\n",
    "\n",
    "There are several ways to perform string formatting in Python.\n",
    "1. Using concatenation\n",
    "2. Using `%` operator\n",
    "3. Using `format()` method\n",
    "4. Using f-strings (formatted string literals)\n",
    "5. Using Template Strings"
   ],
   "metadata": {
    "collapsed": false,
    "id": "ffb0c20d05ca5d37"
   },
   "id": "ffb0c20d05ca5d37"
  },
  {
   "cell_type": "markdown",
   "source": [
    "## String Formatting using concatenation\n",
    "\n",
    "The simplest form of string formatting is concatenation, where you use the `+` operator to combine strings and values.\n"
   ],
   "metadata": {
    "collapsed": false,
    "id": "6867547d0600da65"
   },
   "id": "6867547d0600da65"
  },
  {
   "cell_type": "code",
   "execution_count": null,
   "outputs": [
    {
     "name": "stdout",
     "output_type": "stream",
     "text": [
      "The value of a: 10\n"
     ]
    }
   ],
   "source": [
    "# Example A1\n",
    "a = 10\n",
    "print(\"The value of a: \" + str(a))"
   ],
   "metadata": {
    "id": "7f7ff8fe2a23b6d9",
    "outputId": "e09b9b30-63da-4af7-b275-9d6c58af3c6c",
    "ExecuteTime": {
     "end_time": "2023-08-22T13:23:44.550833700Z",
     "start_time": "2023-08-22T13:23:44.523397100Z"
    }
   },
   "id": "7f7ff8fe2a23b6d9"
  },
  {
   "cell_type": "code",
   "execution_count": null,
   "outputs": [
    {
     "name": "stdout",
     "output_type": "stream",
     "text": [
      "a: 10\tb: 20\n"
     ]
    }
   ],
   "source": [
    "# Example A2\n",
    "a = 10\n",
    "b = 20\n",
    "print(\"a: \" + str(a) + \"\\tb: \" + str(b))"
   ],
   "metadata": {
    "id": "ab503c2986e4dca1",
    "outputId": "1f124dc3-59ee-439d-c84d-8d4bac25e2ee",
    "ExecuteTime": {
     "end_time": "2023-08-22T13:23:44.572768300Z",
     "start_time": "2023-08-22T13:23:44.541821800Z"
    }
   },
   "id": "ab503c2986e4dca1"
  },
  {
   "cell_type": "markdown",
   "source": [
    "## String Formatting using % operator"
   ],
   "metadata": {
    "collapsed": false,
    "id": "e18e6ae93ea81504"
   },
   "id": "e18e6ae93ea81504"
  },
  {
   "cell_type": "markdown",
   "source": [
    "`%` formatting uses placeholders and the `%` operator to insert values into a string.\n",
    "Placeholders include `%s` for strings, `%d` for integers, `%f` for floating-point numbers, etc."
   ],
   "metadata": {
    "collapsed": false,
    "id": "d8934b2691e9d9a"
   },
   "id": "d8934b2691e9d9a"
  },
  {
   "cell_type": "code",
   "execution_count": null,
   "outputs": [
    {
     "name": "stdout",
     "output_type": "stream",
     "text": [
      "The value of a: 10 as a string\n",
      "The value of a: 10 as a integer\n",
      "The value of a: 10.000000 as a floating-point numbers\n"
     ]
    }
   ],
   "source": [
    " # Example A3\n",
    "a = 10\n",
    "print(\"The value of a: %s as a string\" %a)\n",
    "print(\"The value of a: %d as a integer\" %a)\n",
    "print(\"The value of a: %f as a floating-point numbers\" %a)"
   ],
   "metadata": {
    "id": "cbfe8d2c47159e76",
    "outputId": "656fcb31-d8b0-4207-8174-413ef25e880f",
    "ExecuteTime": {
     "end_time": "2023-08-22T13:23:44.572768300Z",
     "start_time": "2023-08-22T13:23:44.556409200Z"
    }
   },
   "id": "cbfe8d2c47159e76"
  },
  {
   "cell_type": "code",
   "execution_count": null,
   "outputs": [
    {
     "name": "stdout",
     "output_type": "stream",
     "text": [
      "a: 10 \tb: 20.000000\n"
     ]
    }
   ],
   "source": [
    "# Example A4\n",
    "a = 10\n",
    "b = 20\n",
    "\n",
    "# \\t is tab space\n",
    "# Here, we are using two placeholders where a is an integer and b is a floating-point number\n",
    "print(\"a: %d \\tb: %f\" % (a, b))"
   ],
   "metadata": {
    "id": "4d9c0654cf6a275d",
    "outputId": "97498832-c670-4065-ce59-3b801dc394a8",
    "ExecuteTime": {
     "end_time": "2023-08-22T13:23:44.586549600Z",
     "start_time": "2023-08-22T13:23:44.571768400Z"
    }
   },
   "id": "4d9c0654cf6a275d"
  },
  {
   "cell_type": "markdown",
   "source": [
    "## String Formatting using `format()` method\n",
    "\n",
    "The `str.format()` method uses curly braces `{}` as placeholders and the `format()` method to specify values to replace those placeholders.\n",
    "\n"
   ],
   "metadata": {
    "collapsed": false,
    "id": "2147c31f1cf876c7"
   },
   "id": "2147c31f1cf876c7"
  },
  {
   "cell_type": "code",
   "execution_count": null,
   "outputs": [
    {
     "name": "stdout",
     "output_type": "stream",
     "text": [
      "The value of a: 10.0\n"
     ]
    }
   ],
   "source": [
    "# Example A5\n",
    "a = 10\n",
    "print(\"The value of a: {0}\".format(float(a)))"
   ],
   "metadata": {
    "id": "955fcd07df14f0d3",
    "outputId": "3e9ca95f-2433-486d-affc-af0f3f8d6060",
    "ExecuteTime": {
     "end_time": "2023-08-22T13:23:44.631799800Z",
     "start_time": "2023-08-22T13:23:44.587578100Z"
    }
   },
   "id": "955fcd07df14f0d3"
  },
  {
   "cell_type": "code",
   "execution_count": null,
   "outputs": [
    {
     "name": "stdout",
     "output_type": "stream",
     "text": [
      "a: 10\tb: 20.00\n",
      "a: 10 \tb: 20.0\n"
     ]
    }
   ],
   "source": [
    "# Example A6\n",
    "a = 10\n",
    "b = 20\n",
    "print(\"a: {0:d}\\tb: {1:.2f}\".format(a, b))  # Here, d and f are format specifiers\n",
    "print(\"a: {0} \\tb: {1}\".format(int(a), float(b))) # Here, int() and float() are type conversion functions and we just specify the values to replace the placeholders"
   ],
   "metadata": {
    "id": "6ba7205a6952c43a",
    "outputId": "0e27e6f5-f7b0-4bb8-a92f-ae838a1487dc",
    "ExecuteTime": {
     "end_time": "2023-08-22T13:23:44.635306100Z",
     "start_time": "2023-08-22T13:23:44.603606500Z"
    }
   },
   "id": "6ba7205a6952c43a"
  },
  {
   "cell_type": "markdown",
   "source": [
    "What is the issue with the example below?\n",
    "Uncomment and run the code to see the error."
   ],
   "metadata": {
    "collapsed": false,
    "id": "dddd9674f00670c0"
   },
   "id": "dddd9674f00670c0"
  },
  {
   "cell_type": "code",
   "execution_count": null,
   "outputs": [
    {
     "ename": "IndexError",
     "evalue": "Replacement index 3 out of range for positional args tuple",
     "output_type": "error",
     "traceback": [
      "\u001B[1;31m---------------------------------------------------------------------------\u001B[0m",
      "\u001B[1;31mIndexError\u001B[0m                                Traceback (most recent call last)",
      "Cell \u001B[1;32mIn[74], line 1\u001B[0m\n\u001B[1;32m----> 1\u001B[0m \u001B[38;5;28mprint\u001B[39m(\u001B[38;5;124;43m\"\u001B[39;49m\u001B[38;5;124;43ma: \u001B[39;49m\u001B[38;5;132;43;01m{3}\u001B[39;49;00m\u001B[38;5;124;43m \u001B[39;49m\u001B[38;5;130;43;01m\\t\u001B[39;49;00m\u001B[38;5;124;43mb: \u001B[39;49m\u001B[38;5;132;43;01m{1}\u001B[39;49;00m\u001B[38;5;124;43m\"\u001B[39;49m\u001B[38;5;241;43m.\u001B[39;49m\u001B[43mformat\u001B[49m\u001B[43m(\u001B[49m\u001B[38;5;28;43mint\u001B[39;49m\u001B[43m(\u001B[49m\u001B[43ma\u001B[49m\u001B[43m)\u001B[49m\u001B[43m,\u001B[49m\u001B[43m \u001B[49m\u001B[38;5;28;43mfloat\u001B[39;49m\u001B[43m(\u001B[49m\u001B[43mb\u001B[49m\u001B[43m)\u001B[49m\u001B[43m)\u001B[49m)\n",
      "\u001B[1;31mIndexError\u001B[0m: Replacement index 3 out of range for positional args tuple"
     ]
    }
   ],
   "source": [
    "#print(\"a: {3} \\tb: {1}\".format(int(a), float(b)))"
   ],
   "metadata": {
    "id": "ddb84286dea511d4",
    "ExecuteTime": {
     "end_time": "2023-08-22T13:23:44.635810600Z",
     "start_time": "2023-08-22T13:23:44.619566600Z"
    },
    "outputId": "16a19983-ee06-438f-c52a-40160b8652e6"
   },
   "id": "ddb84286dea511d4"
  },
  {
   "cell_type": "markdown",
   "source": [
    "## F-Strings (Formatted String Literals)"
   ],
   "metadata": {
    "collapsed": false,
    "id": "617d6127256ae0cd"
   },
   "id": "617d6127256ae0cd"
  },
  {
   "cell_type": "markdown",
   "source": [
    "F-strings are string literals that have an `f` at the beginning and curly braces containing expressions that will be replaced with their values."
   ],
   "metadata": {
    "collapsed": false,
    "id": "8b1ed1688ffe4a89"
   },
   "id": "8b1ed1688ffe4a89"
  },
  {
   "cell_type": "code",
   "execution_count": null,
   "outputs": [],
   "source": [
    "# Example A7\n",
    "a = 10\n",
    "print(f\"The value of a: {a}\")"
   ],
   "metadata": {
    "id": "32cc2ae441bb272f",
    "ExecuteTime": {
     "start_time": "2023-08-22T13:23:44.632799700Z"
    }
   },
   "id": "32cc2ae441bb272f"
  },
  {
   "cell_type": "code",
   "execution_count": null,
   "outputs": [],
   "source": [
    "# Example 6\n",
    "a,b = 10,20\n",
    "print(f\"a: {a} \\tb: {b}\")\n",
    "print(f\"a: {a} \\tb: {b:.2f}\")\n",
    "print(f\"a: {int(a)} \\tb: {float(b)}\")"
   ],
   "metadata": {
    "id": "5bb4b1d98503d032",
    "ExecuteTime": {
     "start_time": "2023-08-22T13:23:44.634304400Z"
    }
   },
   "id": "5bb4b1d98503d032"
  },
  {
   "cell_type": "markdown",
   "source": [
    "## Template Strings"
   ],
   "metadata": {
    "collapsed": false,
    "id": "975574f3f590a808"
   },
   "id": "975574f3f590a808"
  },
  {
   "cell_type": "markdown",
   "source": [
    "Template strings are a part of the string module and use `$` as placeholders for variables.\n",
    "They offer a simple and safe way to perform string substitutions.\n",
    "\n",
    "More detail available at [1](https://towardsdatascience.com/python-template-string-formatting-method-df282510a87a)"
   ],
   "metadata": {
    "collapsed": false,
    "id": "b373ca7c44f22d16"
   },
   "id": "b373ca7c44f22d16"
  },
  {
   "cell_type": "code",
   "execution_count": null,
   "outputs": [],
   "source": [
    "# Example A8\n",
    "from string import Template\n",
    "a = 10\n",
    "my_template=Template(\"The value of a: $a\").substitute(a=a)\n",
    "print(my_template)"
   ],
   "metadata": {
    "id": "3a15a68c7166aef3",
    "ExecuteTime": {
     "end_time": "2023-08-22T13:23:44.636202200Z",
     "start_time": "2023-08-22T13:23:44.635810600Z"
    }
   },
   "id": "3a15a68c7166aef3"
  },
  {
   "cell_type": "code",
   "execution_count": null,
   "outputs": [],
   "source": [
    "# Example A9\n",
    "from string import Template\n",
    "a,b = 10,20\n",
    "my_template=Template(\"a: $a \\tb: $b\").substitute(a=a,b=b)\n",
    "print(my_template)\n",
    "print(Template(\"a: $a \\tb: $b. This another approach\").substitute(a=a,b=float(b)))"
   ],
   "metadata": {
    "id": "59fcde9274fb065f",
    "ExecuteTime": {
     "end_time": "2023-08-22T13:23:44.636811800Z",
     "start_time": "2023-08-22T13:23:44.636811800Z"
    }
   },
   "id": "59fcde9274fb065f"
  },
  {
   "cell_type": "markdown",
   "source": [
    "More detail the advantage and disadvantage of each of formating style is given in the following link:\n",
    "\n",
    "https://realpython.com/python-f-strings/"
   ],
   "metadata": {
    "collapsed": false,
    "id": "27544b5a11d3d8d"
   },
   "id": "27544b5a11d3d8d"
  },
  {
   "cell_type": "markdown",
   "source": [
    "| Level    | When it's Used                                                |\n",
    "| -------- | ------------------------------------------------------------- |\n",
    "| DEBUG    | Detailed information, typically of interest for problem diagnosis. |\n",
    "| INFO     | Confirmation that things are working as expected.              |\n",
    "| WARNING  | Indicates something unexpected or a problem in the near future (e.g., 'disk space low'). Software still functions as expected. |\n",
    "| ERROR    | Indicates a more serious problem where the software cannot perform a specific function. |\n",
    "| CRITICAL | Signifies a severe error, suggesting that the program itself may be unable to continue running. |\n"
   ],
   "metadata": {
    "collapsed": false
   },
   "id": "720e844b33f78936"
  }
 ],
 "metadata": {
  "kernelspec": {
   "display_name": "Python 3",
   "language": "python",
   "name": "python3"
  },
  "language_info": {
   "codemirror_mode": {
    "name": "ipython",
    "version": 2
   },
   "file_extension": ".py",
   "mimetype": "text/x-python",
   "name": "python",
   "nbconvert_exporter": "python",
   "pygments_lexer": "ipython2",
   "version": "2.7.6"
  },
  "colab": {
   "provenance": [],
   "toc_visible": true,
   "include_colab_link": true
  }
 },
 "nbformat": 4,
 "nbformat_minor": 5
}
