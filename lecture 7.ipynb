{
  "cells": [
    {
      "cell_type": "markdown",
      "source": [
        "# Different ways of String Formatting"
      ],
      "metadata": {
        "collapsed": false,
        "id": "ffb0c20d05ca5d37"
      },
      "id": "ffb0c20d05ca5d37"
    },
    {
      "cell_type": "markdown",
      "source": [
        "## String Formatting using concatenation\n",
        "\n",
        "The simplest form of string formatting is concatenation, where you use the `+` operator to combine strings and values.\n"
      ],
      "metadata": {
        "collapsed": false,
        "id": "6867547d0600da65"
      },
      "id": "6867547d0600da65"
    },
    {
      "cell_type": "code",
      "execution_count": null,
      "outputs": [
        {
          "name": "stdout",
          "output_type": "stream",
          "text": [
            "The value of a: 10\n"
          ]
        }
      ],
      "source": [
        "# Example 1\n",
        "a = 10\n",
        "print(\"The value of a: \" + str(a))"
      ],
      "metadata": {
        "ExecuteTime": {
          "end_time": "2023-08-22T12:50:45.749132200Z",
          "start_time": "2023-08-22T12:50:45.732390300Z"
        },
        "id": "7f7ff8fe2a23b6d9",
        "outputId": "e09b9b30-63da-4af7-b275-9d6c58af3c6c"
      },
      "id": "7f7ff8fe2a23b6d9"
    },
    {
      "cell_type": "code",
      "execution_count": null,
      "outputs": [
        {
          "name": "stdout",
          "output_type": "stream",
          "text": [
            "a: 10\tb: 20\n"
          ]
        }
      ],
      "source": [
        "# Example 2\n",
        "a = 10\n",
        "b = 20\n",
        "print(\"a: \" + str(a) + \"\\tb: \" + str(b))"
      ],
      "metadata": {
        "ExecuteTime": {
          "end_time": "2023-08-22T12:51:36.828182700Z",
          "start_time": "2023-08-22T12:51:36.814561400Z"
        },
        "id": "ab503c2986e4dca1",
        "outputId": "1f124dc3-59ee-439d-c84d-8d4bac25e2ee"
      },
      "id": "ab503c2986e4dca1"
    },
    {
      "cell_type": "markdown",
      "source": [
        "## String Formatting using `%` operator"
      ],
      "metadata": {
        "collapsed": false,
        "id": "e18e6ae93ea81504"
      },
      "id": "e18e6ae93ea81504"
    },
    {
      "cell_type": "markdown",
      "source": [
        "`%` formatting uses placeholders and the `%` operator to insert values into a string.\n",
        "Placeholders include `%s` for strings, `%d` for integers, `%f` for floating-point numbers, etc."
      ],
      "metadata": {
        "collapsed": false,
        "id": "d8934b2691e9d9a"
      },
      "id": "d8934b2691e9d9a"
    },
    {
      "cell_type": "code",
      "execution_count": null,
      "outputs": [
        {
          "name": "stdout",
          "output_type": "stream",
          "text": [
            "The value of a: 10 as a string\n",
            "The value of a: 10 as a integer\n",
            "The value of a: 10.000000 as a floating-point numbers\n"
          ]
        }
      ],
      "source": [
        " # Example 3\n",
        "a = 10\n",
        "print(\"The value of a: %s as a string\" %a)\n",
        "print(\"The value of a: %d as a integer\" %a)\n",
        "print(\"The value of a: %f as a floating-point numbers\" %a)"
      ],
      "metadata": {
        "ExecuteTime": {
          "end_time": "2023-08-22T12:57:11.624353600Z",
          "start_time": "2023-08-22T12:57:11.607941100Z"
        },
        "id": "cbfe8d2c47159e76",
        "outputId": "656fcb31-d8b0-4207-8174-413ef25e880f"
      },
      "id": "cbfe8d2c47159e76"
    },
    {
      "cell_type": "code",
      "execution_count": null,
      "outputs": [
        {
          "name": "stdout",
          "output_type": "stream",
          "text": [
            "a: 10 \tb: 20.000000\n"
          ]
        }
      ],
      "source": [
        "# Example 2\n",
        "a = 10\n",
        "b = 20\n",
        "\n",
        "# \\t is tab space\n",
        "# Here, we are using two placeholders where a is an integer and b is a floating-point number\n",
        "print(\"a: %d \\tb: %f\" % (a, b))"
      ],
      "metadata": {
        "ExecuteTime": {
          "end_time": "2023-08-22T12:57:58.989214700Z",
          "start_time": "2023-08-22T12:57:58.983128600Z"
        },
        "id": "4d9c0654cf6a275d",
        "outputId": "97498832-c670-4065-ce59-3b801dc394a8"
      },
      "id": "4d9c0654cf6a275d"
    },
    {
      "cell_type": "markdown",
      "source": [
        "## String Formatting using `format()` method\n",
        "\n",
        "The `str.format()` method uses curly braces `{}` as placeholders and the `format()` method to specify values to replace those placeholders."
      ],
      "metadata": {
        "collapsed": false,
        "id": "2147c31f1cf876c7"
      },
      "id": "2147c31f1cf876c7"
    },
    {
      "cell_type": "code",
      "execution_count": null,
      "outputs": [
        {
          "name": "stdout",
          "output_type": "stream",
          "text": [
            "The value of a: 10.0\n"
          ]
        }
      ],
      "source": [
        "# Example 3\n",
        "a = 10\n",
        "print(\"The value of a: {0}\".format(float(a)))"
      ],
      "metadata": {
        "ExecuteTime": {
          "end_time": "2023-08-22T13:00:53.612732900Z",
          "start_time": "2023-08-22T13:00:53.607733Z"
        },
        "id": "955fcd07df14f0d3",
        "outputId": "3e9ca95f-2433-486d-affc-af0f3f8d6060"
      },
      "id": "955fcd07df14f0d3"
    },
    {
      "cell_type": "code",
      "execution_count": null,
      "outputs": [
        {
          "name": "stdout",
          "output_type": "stream",
          "text": [
            "a: 10\tb: 20.00\n",
            "a: 10 \tb: 20.0\n"
          ]
        }
      ],
      "source": [
        "# Example 4\n",
        "a = 10\n",
        "b = 20\n",
        "print(\"a: {0:d}\\tb: {1:.2f}\".format(a, b))  # Here, d and f are format specifiers\n",
        "print(\"a: {0} \\tb: {1}\".format(int(a), float(b))) # Here, int() and float() are type conversion functions and we just specify the values to replace the placeholders"
      ],
      "metadata": {
        "ExecuteTime": {
          "end_time": "2023-08-22T13:05:29.689979Z",
          "start_time": "2023-08-22T13:05:29.684432500Z"
        },
        "id": "6ba7205a6952c43a",
        "outputId": "0e27e6f5-f7b0-4bb8-a92f-ae838a1487dc"
      },
      "id": "6ba7205a6952c43a"
    },
    {
      "cell_type": "markdown",
      "source": [
        "What is the issue with the example below?"
      ],
      "metadata": {
        "collapsed": false,
        "id": "dddd9674f00670c0"
      },
      "id": "dddd9674f00670c0"
    },
    {
      "cell_type": "code",
      "execution_count": null,
      "outputs": [],
      "source": [
        "print(\"a: {3} \\tb: {1}\".format(int(a), float(b)))"
      ],
      "metadata": {
        "id": "ddb84286dea511d4"
      },
      "id": "ddb84286dea511d4"
    },
    {
      "cell_type": "markdown",
      "source": [
        "## F-Strings (Formatted String Literals)"
      ],
      "metadata": {
        "collapsed": false,
        "id": "617d6127256ae0cd"
      },
      "id": "617d6127256ae0cd"
    },
    {
      "cell_type": "markdown",
      "source": [
        "F-strings are string literals that have an `f` at the beginning and curly braces containing expressions that will be replaced with their values."
      ],
      "metadata": {
        "collapsed": false,
        "id": "8b1ed1688ffe4a89"
      },
      "id": "8b1ed1688ffe4a89"
    },
    {
      "cell_type": "code",
      "execution_count": null,
      "outputs": [
        {
          "name": "stdout",
          "output_type": "stream",
          "text": [
            "The value of a: 10\n"
          ]
        }
      ],
      "source": [
        "# Example 5\n",
        "a = 10\n",
        "print(f\"The value of a: {a}\")"
      ],
      "metadata": {
        "ExecuteTime": {
          "end_time": "2023-08-22T12:33:28.000925100Z",
          "start_time": "2023-08-22T12:33:27.991952700Z"
        },
        "id": "32cc2ae441bb272f",
        "outputId": "31f9e8bf-8938-4639-e909-df032a5d42d8"
      },
      "id": "32cc2ae441bb272f"
    },
    {
      "cell_type": "code",
      "execution_count": null,
      "outputs": [
        {
          "name": "stdout",
          "output_type": "stream",
          "text": [
            "a: 10 \tb: 20\n",
            "a: 10 \tb: 20.00\n",
            "a: 10 \tb: 20.0\n"
          ]
        }
      ],
      "source": [
        "# Example 6\n",
        "a,b = 10,20\n",
        "print(f\"a: {a} \\tb: {b}\")\n",
        "print(f\"a: {a} \\tb: {b:.2f}\")\n",
        "print(f\"a: {int(a)} \\tb: {float(b)}\")"
      ],
      "metadata": {
        "ExecuteTime": {
          "end_time": "2023-08-22T13:11:11.107331900Z",
          "start_time": "2023-08-22T13:11:11.093468400Z"
        },
        "id": "5bb4b1d98503d032",
        "outputId": "c2364f8a-e78f-4281-caae-be64b9084ad0"
      },
      "id": "5bb4b1d98503d032"
    },
    {
      "cell_type": "markdown",
      "source": [
        "## Template Strings"
      ],
      "metadata": {
        "collapsed": false,
        "id": "975574f3f590a808"
      },
      "id": "975574f3f590a808"
    },
    {
      "cell_type": "markdown",
      "source": [
        "Template strings are a part of the string module and use `$` as placeholders for variables.\n",
        "They offer a simple and safe way to perform string substitutions."
      ],
      "metadata": {
        "collapsed": false,
        "id": "b373ca7c44f22d16"
      },
      "id": "b373ca7c44f22d16"
    },
    {
      "cell_type": "code",
      "execution_count": null,
      "outputs": [
        {
          "name": "stdout",
          "output_type": "stream",
          "text": [
            "The value of a: 10\n"
          ]
        }
      ],
      "source": [
        "# Example 7\n",
        "from string import Template\n",
        "a = 10\n",
        "my_template=Template(\"The value of a: $a\").substitute(a=a)\n",
        "print(my_template)"
      ],
      "metadata": {
        "ExecuteTime": {
          "end_time": "2023-08-22T13:13:43.497511300Z",
          "start_time": "2023-08-22T13:13:43.488983800Z"
        },
        "id": "3a15a68c7166aef3",
        "outputId": "9292198a-54b9-4812-90af-dd3ea549a5b9"
      },
      "id": "3a15a68c7166aef3"
    },
    {
      "cell_type": "code",
      "execution_count": null,
      "outputs": [
        {
          "name": "stdout",
          "output_type": "stream",
          "text": [
            "a: 10 \tb: 20\n",
            "a: 10 \tb: 20.0. This another approach\n"
          ]
        }
      ],
      "source": [
        "# Example 8\n",
        "from string import Template\n",
        "a,b = 10,20\n",
        "my_template=Template(\"a: $a \\tb: $b\").substitute(a=a,b=b)\n",
        "print(my_template)\n",
        "print(Template(\"a: $a \\tb: $b. This another approach\").substitute(a=a,b=float(b)))"
      ],
      "metadata": {
        "ExecuteTime": {
          "end_time": "2023-08-22T13:15:11.385769900Z",
          "start_time": "2023-08-22T13:15:11.370604100Z"
        },
        "id": "59fcde9274fb065f",
        "outputId": "14433084-44b3-46fd-d789-68ec4047d00d"
      },
      "id": "59fcde9274fb065f"
    },
    {
      "cell_type": "markdown",
      "source": [
        "More detail the advantage and disadvantage of each of formating style is given in the following link:\n",
        "\n",
        "https://realpython.com/python-f-strings/"
      ],
      "metadata": {
        "collapsed": false,
        "id": "27544b5a11d3d8d"
      },
      "id": "27544b5a11d3d8d"
    }
  ],
  "metadata": {
    "kernelspec": {
      "display_name": "Python 3",
      "language": "python",
      "name": "python3"
    },
    "language_info": {
      "codemirror_mode": {
        "name": "ipython",
        "version": 2
      },
      "file_extension": ".py",
      "mimetype": "text/x-python",
      "name": "python",
      "nbconvert_exporter": "python",
      "pygments_lexer": "ipython2",
      "version": "2.7.6"
    },
    "colab": {
      "provenance": [],
      "toc_visible": true
    }
  },
  "nbformat": 4,
  "nbformat_minor": 5
}