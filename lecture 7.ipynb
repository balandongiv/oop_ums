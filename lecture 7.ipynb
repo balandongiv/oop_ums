{
 "cells": [
  {
   "cell_type": "markdown",
   "metadata": {
    "id": "view-in-github",
    "colab_type": "text"
   },
   "source": [
    "<a href=\"https://colab.research.google.com/github/balandongiv/oop_ums/blob/master/lecture%207.ipynb\" target=\"_parent\"><img src=\"https://colab.research.google.com/assets/colab-badge.svg\" alt=\"Open In Colab\"/></a>"
   ],
   "id": "32cd5532a9465dee"
  },
  {
   "cell_type": "markdown",
   "source": [
    "# A) Different ways of String Formatting\n",
    "\n",
    "There are several ways to perform string formatting in Python.\n",
    "1. Using concatenation\n",
    "2. Using `%` operator\n",
    "3. Using `format()` method\n",
    "4. Using f-strings (formatted string literals)\n",
    "5. Using Template Strings"
   ],
   "metadata": {
    "collapsed": false,
    "id": "ffb0c20d05ca5d37"
   },
   "id": "ffb0c20d05ca5d37"
  },
  {
   "cell_type": "markdown",
   "source": [
    "## String Formatting using concatenation\n",
    "\n",
    "The simplest form of string formatting is concatenation, where you use the `+` operator to combine strings and values.\n"
   ],
   "metadata": {
    "collapsed": false,
    "id": "6867547d0600da65"
   },
   "id": "6867547d0600da65"
  },
  {
   "cell_type": "code",
   "execution_count": null,
   "outputs": [
    {
     "name": "stdout",
     "output_type": "stream",
     "text": [
      "The value of a: 10\n"
     ]
    }
   ],
   "source": [
    "# Example A1\n",
    "a = 10\n",
    "print(\"The value of a: \" + str(a))"
   ],
   "metadata": {
    "id": "7f7ff8fe2a23b6d9",
    "outputId": "e09b9b30-63da-4af7-b275-9d6c58af3c6c",
    "ExecuteTime": {
     "end_time": "2023-08-22T13:23:44.550833700Z",
     "start_time": "2023-08-22T13:23:44.523397100Z"
    }
   },
   "id": "7f7ff8fe2a23b6d9"
  },
  {
   "cell_type": "code",
   "execution_count": null,
   "outputs": [
    {
     "name": "stdout",
     "output_type": "stream",
     "text": [
      "a: 10\tb: 20\n"
     ]
    }
   ],
   "source": [
    "# Example A2\n",
    "a = 10\n",
    "b = 20\n",
    "print(\"a: \" + str(a) + \"\\tb: \" + str(b))"
   ],
   "metadata": {
    "id": "ab503c2986e4dca1",
    "outputId": "1f124dc3-59ee-439d-c84d-8d4bac25e2ee",
    "ExecuteTime": {
     "end_time": "2023-08-22T13:23:44.572768300Z",
     "start_time": "2023-08-22T13:23:44.541821800Z"
    }
   },
   "id": "ab503c2986e4dca1"
  },
  {
   "cell_type": "markdown",
   "source": [
    "## String Formatting using % operator"
   ],
   "metadata": {
    "collapsed": false,
    "id": "e18e6ae93ea81504"
   },
   "id": "e18e6ae93ea81504"
  },
  {
   "cell_type": "markdown",
   "source": [
    "`%` formatting uses placeholders and the `%` operator to insert values into a string.\n",
    "Placeholders include `%s` for strings, `%d` for integers, `%f` for floating-point numbers, etc."
   ],
   "metadata": {
    "collapsed": false,
    "id": "d8934b2691e9d9a"
   },
   "id": "d8934b2691e9d9a"
  },
  {
   "cell_type": "code",
   "execution_count": null,
   "outputs": [
    {
     "name": "stdout",
     "output_type": "stream",
     "text": [
      "The value of a: 10 as a string\n",
      "The value of a: 10 as a integer\n",
      "The value of a: 10.000000 as a floating-point numbers\n"
     ]
    }
   ],
   "source": [
    " # Example A3\n",
    "a = 10\n",
    "print(\"The value of a: %s as a string\" %a)\n",
    "print(\"The value of a: %d as a integer\" %a)\n",
    "print(\"The value of a: %f as a floating-point numbers\" %a)"
   ],
   "metadata": {
    "id": "cbfe8d2c47159e76",
    "outputId": "656fcb31-d8b0-4207-8174-413ef25e880f",
    "ExecuteTime": {
     "end_time": "2023-08-22T13:23:44.572768300Z",
     "start_time": "2023-08-22T13:23:44.556409200Z"
    }
   },
   "id": "cbfe8d2c47159e76"
  },
  {
   "cell_type": "code",
   "execution_count": null,
   "outputs": [
    {
     "name": "stdout",
     "output_type": "stream",
     "text": [
      "a: 10 \tb: 20.000000\n"
     ]
    }
   ],
   "source": [
    "# Example A4\n",
    "a = 10\n",
    "b = 20\n",
    "\n",
    "# \\t is tab space\n",
    "# Here, we are using two placeholders where a is an integer and b is a floating-point number\n",
    "print(\"a: %d \\tb: %f\" % (a, b))"
   ],
   "metadata": {
    "id": "4d9c0654cf6a275d",
    "outputId": "97498832-c670-4065-ce59-3b801dc394a8",
    "ExecuteTime": {
     "end_time": "2023-08-22T13:23:44.586549600Z",
     "start_time": "2023-08-22T13:23:44.571768400Z"
    }
   },
   "id": "4d9c0654cf6a275d"
  },
  {
   "cell_type": "markdown",
   "source": [
    "## String Formatting using `format()` method\n",
    "\n",
    "The `str.format()` method uses curly braces `{}` as placeholders and the `format()` method to specify values to replace those placeholders.\n",
    "\n"
   ],
   "metadata": {
    "collapsed": false,
    "id": "2147c31f1cf876c7"
   },
   "id": "2147c31f1cf876c7"
  },
  {
   "cell_type": "code",
   "execution_count": null,
   "outputs": [
    {
     "name": "stdout",
     "output_type": "stream",
     "text": [
      "The value of a: 10.0\n"
     ]
    }
   ],
   "source": [
    "# Example A5\n",
    "a = 10\n",
    "print(\"The value of a: {0}\".format(float(a)))"
   ],
   "metadata": {
    "id": "955fcd07df14f0d3",
    "outputId": "3e9ca95f-2433-486d-affc-af0f3f8d6060",
    "ExecuteTime": {
     "end_time": "2023-08-22T13:23:44.631799800Z",
     "start_time": "2023-08-22T13:23:44.587578100Z"
    }
   },
   "id": "955fcd07df14f0d3"
  },
  {
   "cell_type": "code",
   "execution_count": null,
   "outputs": [
    {
     "name": "stdout",
     "output_type": "stream",
     "text": [
      "a: 10\tb: 20.00\n",
      "a: 10 \tb: 20.0\n"
     ]
    }
   ],
   "source": [
    "# Example A6\n",
    "a = 10\n",
    "b = 20\n",
    "print(\"a: {0:d}\\tb: {1:.2f}\".format(a, b))  # Here, d and f are format specifiers\n",
    "print(\"a: {0} \\tb: {1}\".format(int(a), float(b))) # Here, int() and float() are type conversion functions and we just specify the values to replace the placeholders"
   ],
   "metadata": {
    "id": "6ba7205a6952c43a",
    "outputId": "0e27e6f5-f7b0-4bb8-a92f-ae838a1487dc",
    "ExecuteTime": {
     "end_time": "2023-08-22T13:23:44.635306100Z",
     "start_time": "2023-08-22T13:23:44.603606500Z"
    }
   },
   "id": "6ba7205a6952c43a"
  },
  {
   "cell_type": "markdown",
   "source": [
    "What is the issue with the example below?\n",
    "Uncomment and run the code to see the error."
   ],
   "metadata": {
    "collapsed": false,
    "id": "dddd9674f00670c0"
   },
   "id": "dddd9674f00670c0"
  },
  {
   "cell_type": "code",
   "execution_count": null,
   "outputs": [
    {
     "ename": "IndexError",
     "evalue": "Replacement index 3 out of range for positional args tuple",
     "output_type": "error",
     "traceback": [
      "\u001B[1;31m---------------------------------------------------------------------------\u001B[0m",
      "\u001B[1;31mIndexError\u001B[0m                                Traceback (most recent call last)",
      "Cell \u001B[1;32mIn[74], line 1\u001B[0m\n\u001B[1;32m----> 1\u001B[0m \u001B[38;5;28mprint\u001B[39m(\u001B[38;5;124;43m\"\u001B[39;49m\u001B[38;5;124;43ma: \u001B[39;49m\u001B[38;5;132;43;01m{3}\u001B[39;49;00m\u001B[38;5;124;43m \u001B[39;49m\u001B[38;5;130;43;01m\\t\u001B[39;49;00m\u001B[38;5;124;43mb: \u001B[39;49m\u001B[38;5;132;43;01m{1}\u001B[39;49;00m\u001B[38;5;124;43m\"\u001B[39;49m\u001B[38;5;241;43m.\u001B[39;49m\u001B[43mformat\u001B[49m\u001B[43m(\u001B[49m\u001B[38;5;28;43mint\u001B[39;49m\u001B[43m(\u001B[49m\u001B[43ma\u001B[49m\u001B[43m)\u001B[49m\u001B[43m,\u001B[49m\u001B[43m \u001B[49m\u001B[38;5;28;43mfloat\u001B[39;49m\u001B[43m(\u001B[49m\u001B[43mb\u001B[49m\u001B[43m)\u001B[49m\u001B[43m)\u001B[49m)\n",
      "\u001B[1;31mIndexError\u001B[0m: Replacement index 3 out of range for positional args tuple"
     ]
    }
   ],
   "source": [
    "#print(\"a: {3} \\tb: {1}\".format(int(a), float(b)))"
   ],
   "metadata": {
    "id": "ddb84286dea511d4",
    "ExecuteTime": {
     "end_time": "2023-08-22T13:23:44.635810600Z",
     "start_time": "2023-08-22T13:23:44.619566600Z"
    },
    "outputId": "16a19983-ee06-438f-c52a-40160b8652e6"
   },
   "id": "ddb84286dea511d4"
  },
  {
   "cell_type": "markdown",
   "source": [
    "## F-Strings (Formatted String Literals)"
   ],
   "metadata": {
    "collapsed": false,
    "id": "617d6127256ae0cd"
   },
   "id": "617d6127256ae0cd"
  },
  {
   "cell_type": "markdown",
   "source": [
    "F-strings are string literals that have an `f` at the beginning and curly braces containing expressions that will be replaced with their values."
   ],
   "metadata": {
    "collapsed": false,
    "id": "8b1ed1688ffe4a89"
   },
   "id": "8b1ed1688ffe4a89"
  },
  {
   "cell_type": "code",
   "execution_count": null,
   "outputs": [],
   "source": [
    "# Example A7\n",
    "a = 10\n",
    "print(f\"The value of a: {a}\")"
   ],
   "metadata": {
    "id": "32cc2ae441bb272f",
    "ExecuteTime": {
     "start_time": "2023-08-22T13:23:44.632799700Z"
    }
   },
   "id": "32cc2ae441bb272f"
  },
  {
   "cell_type": "code",
   "execution_count": null,
   "outputs": [],
   "source": [
    "# Example 6\n",
    "a,b = 10,20\n",
    "print(f\"a: {a} \\tb: {b}\")\n",
    "print(f\"a: {a} \\tb: {b:.2f}\")\n",
    "print(f\"a: {int(a)} \\tb: {float(b)}\")"
   ],
   "metadata": {
    "id": "5bb4b1d98503d032",
    "ExecuteTime": {
     "start_time": "2023-08-22T13:23:44.634304400Z"
    }
   },
   "id": "5bb4b1d98503d032"
  },
  {
   "cell_type": "markdown",
   "source": [
    "## Template Strings"
   ],
   "metadata": {
    "collapsed": false,
    "id": "975574f3f590a808"
   },
   "id": "975574f3f590a808"
  },
  {
   "cell_type": "markdown",
   "source": [
    "Template strings are a part of the string module and use `$` as placeholders for variables.\n",
    "They offer a simple and safe way to perform string substitutions.\n",
    "\n",
    "More detail available at [1](https://towardsdatascience.com/python-template-string-formatting-method-df282510a87a)"
   ],
   "metadata": {
    "collapsed": false,
    "id": "b373ca7c44f22d16"
   },
   "id": "b373ca7c44f22d16"
  },
  {
   "cell_type": "code",
   "execution_count": null,
   "outputs": [],
   "source": [
    "# Example A8\n",
    "from string import Template\n",
    "a = 10\n",
    "my_template=Template(\"The value of a: $a\").substitute(a=a)\n",
    "print(my_template)"
   ],
   "metadata": {
    "id": "3a15a68c7166aef3",
    "ExecuteTime": {
     "end_time": "2023-08-22T13:23:44.636202200Z",
     "start_time": "2023-08-22T13:23:44.635810600Z"
    }
   },
   "id": "3a15a68c7166aef3"
  },
  {
   "cell_type": "code",
   "execution_count": null,
   "outputs": [],
   "source": [
    "# Example A9\n",
    "from string import Template\n",
    "a,b = 10,20\n",
    "my_template=Template(\"a: $a \\tb: $b\").substitute(a=a,b=b)\n",
    "print(my_template)\n",
    "print(Template(\"a: $a \\tb: $b. This another approach\").substitute(a=a,b=float(b)))"
   ],
   "metadata": {
    "id": "59fcde9274fb065f",
    "ExecuteTime": {
     "end_time": "2023-08-22T13:23:44.636811800Z",
     "start_time": "2023-08-22T13:23:44.636811800Z"
    }
   },
   "id": "59fcde9274fb065f"
  },
  {
   "cell_type": "markdown",
   "source": [
    "More detail the advantage and disadvantage of each of formating style is given in the following link:\n",
    "\n",
    "https://realpython.com/python-f-strings/"
   ],
   "metadata": {
    "collapsed": false,
    "id": "27544b5a11d3d8d"
   },
   "id": "27544b5a11d3d8d"
  },
  {
   "cell_type": "markdown",
   "source": [
    "| Level    | When it's Used                                                |\n",
    "| -------- | ------------------------------------------------------------- |\n",
    "| DEBUG    | Detailed information, typically of interest for problem diagnosis. |\n",
    "| INFO     | Confirmation that things are working as expected.              |\n",
    "| WARNING  | Indicates something unexpected or a problem in the near future (e.g., 'disk space low'). Software still functions as expected. |\n",
    "| ERROR    | Indicates a more serious problem where the software cannot perform a specific function. |\n",
    "| CRITICAL | Signifies a severe error, suggesting that the program itself may be unable to continue running. |\n",
    "\n",
    "Table extracted from [source](https://docs.python.org/3/howto/logging.html)\n"
   ],
   "metadata": {
    "collapsed": false
   },
   "id": "720e844b33f78936"
  },
  {
   "cell_type": "markdown",
   "source": [
    "## DEFAULT LOGGING LEVEL"
   ],
   "metadata": {
    "collapsed": false
   },
   "id": "325804a06e4d80b2"
  },
  {
   "cell_type": "code",
   "execution_count": 77,
   "outputs": [
    {
     "name": "stderr",
     "output_type": "stream",
     "text": [
      "WARNING:root:Watch out!\n",
      "INFO:root:I told you so\n"
     ]
    }
   ],
   "source": [
    "import logging\n",
    "logging.warning('Watch out!')  # will print a message to the console \n",
    "logging.info('I told you so')  # will not print anything "
   ],
   "metadata": {
    "collapsed": false,
    "ExecuteTime": {
     "end_time": "2023-08-22T14:20:30.355051200Z",
     "start_time": "2023-08-22T14:20:30.339022800Z"
    }
   },
   "id": "fb3ff1e1c60f28a9"
  },
  {
   "cell_type": "markdown",
   "source": [
    "The INFO message doesn’t appear because the default level is WARNING. "
   ],
   "metadata": {
    "collapsed": false
   },
   "id": "e49a4c123c70af4d"
  },
  {
   "cell_type": "markdown",
   "source": [
    "\n",
    "\n",
    "We can change the setting as follow.\n",
    "\n",
    "REMARK: FOR SOME REASON GOOGLE COLAB DOES NOT PRODUCE THE INTENDED OUTPUT, BUT THE CODE DISPLAY CORRECTLY TESTED IN LOCAL INTEPRETER\n"
   ],
   "metadata": {
    "collapsed": false
   },
   "id": "973b07088d26e6ed"
  },
  {
   "cell_type": "code",
   "execution_count": null,
   "outputs": [],
   "source": [
    "import logging\n",
    "logging.basicConfig(filename='example.log', encoding='utf-8', level=logging.DEBUG)\n",
    "logging.debug('This message should go to the log file')\n",
    "logging.info('So should this')\n",
    "logging.warning('And this, too')\n",
    "logging.error('And non-ASCII stuff, too, like Øresund and Malmö')"
   ],
   "metadata": {
    "collapsed": false
   },
   "id": "e4218d09012a6b4a"
  },
  {
   "cell_type": "markdown",
   "source": [
    "SETTING UP THE LOGGING LEVEL "
   ],
   "metadata": {
    "collapsed": false
   },
   "id": "13e7e0d8f411a4bb"
  },
  {
   "cell_type": "code",
   "execution_count": null,
   "outputs": [],
   "source": [
    "import logging\n",
    "\n",
    "logging.basicConfig(level=logging.DEBUG)\n",
    "logging.debug('This will get logged')"
   ],
   "metadata": {
    "collapsed": false
   },
   "id": "e4efa579aa52c6fd"
  },
  {
   "cell_type": "code",
   "execution_count": 78,
   "outputs": [
    {
     "name": "stderr",
     "output_type": "stream",
     "text": [
      "WARNING:root:look before you leap\n"
     ]
    }
   ],
   "source": [
    "import logging\n",
    "\n",
    "# Configure the logger to write to a file\n",
    "logging.basicConfig(filename='example.log', level=logging.WARNING)\n",
    "\n",
    "# Define variables for dynamic content\n",
    "action = 'look'\n",
    "result = 'leap'\n",
    "\n",
    "# Create a warning message with dynamic content\n",
    "warning_message = \"{0} before you {1}\".format(action, result)\n",
    "\n",
    "# Log the warning message\n",
    "logging.warning(warning_message)"
   ],
   "metadata": {
    "collapsed": false,
    "ExecuteTime": {
     "end_time": "2023-08-22T14:21:08.011615900Z",
     "start_time": "2023-08-22T14:21:08.006614100Z"
    }
   },
   "id": "4cf36588f41b2cf3"
  },
  {
   "cell_type": "code",
   "execution_count": null,
   "outputs": [],
   "source": [],
   "metadata": {
    "collapsed": false
   },
   "id": "83786effbede90ec"
  },
  {
   "cell_type": "markdown",
   "source": [
    "## DISPLAYING THE DATE AND TIME IN MESSAGES"
   ],
   "metadata": {
    "collapsed": false
   },
   "id": "7726c391d5845b24"
  },
  {
   "cell_type": "code",
   "execution_count": 98,
   "outputs": [
    {
     "name": "stderr",
     "output_type": "stream",
     "text": [
      "2023-08-22 22:30:23,697 - FSSA_APPLICATIONr - CRITICAL - This is a critical message\n",
      "2023-08-22 22:30:23,697 - FSSA_APPLICATIONr - CRITICAL - This is a critical message\n",
      "CRITICAL:FSSA_APPLICATIONr:This is a critical message\n"
     ]
    }
   ],
   "source": [
    "import logging\n",
    "\n",
    "# Create a logger\n",
    "logger = logging.getLogger('FSSA_APPLICATIONr')\n",
    "logger.setLevel(logging.DEBUG)\n",
    "\n",
    "# Create a formatter with a date and time format\n",
    "formatter = logging.Formatter('%(asctime)s - %(name)s - %(levelname)s - %(message)s')\n",
    "\n",
    "# Create a handler for output (e.g., console or file)\n",
    "# handler = logging.StreamHandler()  # Console handler\n",
    "# handler.setFormatter(formatter)\n",
    "\n",
    "# Add the handler to the logger\n",
    "# logger.addHandler(handler)\n",
    "\n",
    "# Log some messages\n",
    "# logger.debug('This is a debug message')\n",
    "# logger.info('This is an info message')\n",
    "# logger.warning('This is a warning message')\n",
    "# logger.error('This is an error message')\n",
    "logger.critical('This is a critical message')\n"
   ],
   "metadata": {
    "collapsed": false,
    "ExecuteTime": {
     "end_time": "2023-08-22T14:30:23.709278800Z",
     "start_time": "2023-08-22T14:30:23.698352200Z"
    }
   },
   "id": "c055773350ee6d50"
  },
  {
   "cell_type": "code",
   "execution_count": 99,
   "outputs": [
    {
     "name": "stderr",
     "output_type": "stream",
     "text": [
      "2023-08-22 22:30:42,166 - FSSA_APPLICATIONr - CRITICAL - This is a critical message\n",
      "2023-08-22 22:30:42,166 - FSSA_APPLICATIONr - CRITICAL - This is a critical message\n",
      "CRITICAL:FSSA_APPLICATIONr:This is a critical message\n"
     ]
    }
   ],
   "source": [
    "import logging\n",
    "\n",
    "# Create a logger\n",
    "logger = logging.getLogger('FSSA_APPLICATIONr')\n",
    "logger.setLevel(logging.DEBUG)\n",
    "\n",
    "# Create a formatter with a date and time format\n",
    "formatter = logging.Formatter('%(asctime)s - %(name)s - %(levelname)s - %(message)s')\n",
    "\n",
    "# Create a handler for output (e.g., console or file)\n",
    "# handler = logging.StreamHandler()  # Console handler\n",
    "# handler.setFormatter(formatter)\n",
    "\n",
    "# Add the handler to the logger\n",
    "# logger.addHandler(handler)\n",
    "\n",
    "# Log some messages\n",
    "# logger.debug('This is a debug message')\n",
    "# logger.info('This is an info message')\n",
    "# logger.warning('This is a warning message')\n",
    "# logger.error('This is an error message')\n",
    "logger.critical('This is a critical message')"
   ],
   "metadata": {
    "collapsed": false,
    "ExecuteTime": {
     "end_time": "2023-08-22T14:30:42.172152Z",
     "start_time": "2023-08-22T14:30:42.166062Z"
    }
   },
   "id": "b4cb00e2c9e2618"
  }
 ],
 "metadata": {
  "kernelspec": {
   "display_name": "Python 3",
   "language": "python",
   "name": "python3"
  },
  "language_info": {
   "codemirror_mode": {
    "name": "ipython",
    "version": 2
   },
   "file_extension": ".py",
   "mimetype": "text/x-python",
   "name": "python",
   "nbconvert_exporter": "python",
   "pygments_lexer": "ipython2",
   "version": "2.7.6"
  },
  "colab": {
   "provenance": [],
   "toc_visible": true,
   "include_colab_link": true
  }
 },
 "nbformat": 4,
 "nbformat_minor": 5
}
