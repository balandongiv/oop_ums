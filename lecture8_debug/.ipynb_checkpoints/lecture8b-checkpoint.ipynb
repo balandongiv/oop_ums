{
 "cells": [
  {
   "cell_type": "markdown",
   "id": "d4110751b77ab2dc",
   "metadata": {},
   "source": [
    "Lesson Objectives\n",
    "\n",
    "Understand how exceptions are generated and handled in Python\n",
    "Use the raise statement to generate exceptions\n",
    "Use the try…except statement to intercept and handle exceptions\n",
    "List the common built-in exceptions\n"
   ]
  },
  {
   "cell_type": "markdown",
   "id": "579bd06581395698",
   "metadata": {},
   "source": [
    "Some of the material is adapted from\n",
    "\n",
    "Python Mini-Course\n",
    "University of Oklahoma\n",
    "Department of Psychology \n",
    "\n",
    "\n",
    "C:\\Users\\balan\\OneDrive - ums.edu.my\\0 fi\\OOP\\python\\MIT 6_0001\\Lec7 "
   ]
  },
  {
   "cell_type": "markdown",
   "id": "939594b75cbee276",
   "metadata": {},
   "source": [
    "Debugging Slide\n",
    "C:\\Users\\balan\\OneDrive - ums.edu.my\\0 fi\\OOP\\python\\MIT 6_0001\\Lec7"
   ]
  },
  {
   "cell_type": "markdown",
   "id": "a402a25bd604cab1",
   "metadata": {},
   "source": [
    "This notebook discuss about diffrent types of Python errors and how to handle them\n",
    "\n",
    "Souce: https://rollbar.com/blog/python-errors-and-how-to-handle-them/#\n",
    "\n",
    "https://code.tutsplus.com/error-handling-logging-in-python--cms-27932t\n",
    "\n",
    "https://www.tutorialsteacher.com/python/error-types-in-python\n",
    "\n"
   ]
  },
  {
   "cell_type": "markdown",
   "id": "86af77ed08dde2de",
   "metadata": {},
   "source": [
    "# ERRORS\n",
    "\n",
    "- **Error**: An abnormal condition; whenever it occurs, the execution of the program is stopped.\n",
    "\n",
    "- **Error Types**:\n",
    "  - **Software Errors**: Issues that arise unexpectedly in the software, causing the computer to not function properly.\n",
    "  - **Hardware Errors**: Problems related to the physical components of the computer that disrupt its normal operation.\n",
    "\n",
    "<!-- Error is a abnormal condition whenever it occurs execution of the program is stopped.\n",
    "\n",
    "\tAn error is a term used to describe any issue that arises unexpectedly that cause a computer to not function properly. Computers can encounter either software errors or hardware errors. -->"
   ]
  },
  {
   "cell_type": "markdown",
   "id": "15b69c738342140e",
   "metadata": {},
   "source": [
    "Errors are mainly classified into following types. \n",
    "\t\n",
    "1. Syntax Errors\n",
    "2. Semantic Errors\n",
    "3. Run Time Errors.\n",
    "4. Logical Errors.\n"
   ]
  },
  {
   "cell_type": "markdown",
   "id": "4b51822d5849003d",
   "metadata": {},
   "source": [
    "## Syntax Errors\n",
    "\n",
    "- Syntax errors refer to formal rules governing the construction of valid statements in a language.\n",
    "- Syntax errors occur when rules of a programming language are misused, i.e., when a grammatical rule of the language is violated.\n",
    "\n",
    "\n",
    "<pre><code class=\"python\" language=\"python\" style=\"font-size:0.8em;\">\n",
    "    For instance in the following program segment,\n",
    "    def main()                      # : (Colon) Missing \n",
    "        a = 10\n",
    "        b = 3\n",
    "        print(\"Sum is\", a + b)      # ) Missing \n",
    "</code></pre>\n"
   ]
  },
  {
   "cell_type": "markdown",
   "id": "85bce2b503836b41",
   "metadata": {},
   "source": [
    "## Semantic Errors\n",
    "\n",
    "- Semantics errors occur when statements are not meaningful.\n",
    "- Semantics refers to the set of rules which give the meaning of the statement.\n",
    "\n",
    "- For example,\n",
    "\n",
    "  - \"Rama plays Guitar\"\n",
    "    - This statement is syntactically and semantically correct, and it has some meaning.\n"
   ]
  },
  {
   "cell_type": "markdown",
   "id": "3043af00ec88ab3d",
   "metadata": {},
   "source": [
    "- See the following statement,\n",
    "  - \"Guitar plays Rama\"\n",
    "    - It is syntactically correct (syntax is correct) but semantically incorrect. Similarly, there are semantics rules of a programming language, violation of which results in semantic errors.\n",
    "  \n",
    "- For example,\n",
    "  - \"X * Y = Z\"\n",
    "    - This will result in a semantic error as an expression cannot appear on the left side of an assignment statement.\n"
   ]
  },
  {
   "cell_type": "markdown",
   "id": "ffaf74ba64eaa808",
   "metadata": {},
   "source": [
    "## Run Time Errors:\n",
    "  - A Run time error occurs during the execution of the program. It is caused by some illegal operation taking place.\n",
    "  \n",
    "    - For example:\n",
    "      1. If a program is trying to open a file that does not exist or cannot be opened (meaning the file is corrupted), it results in an execution error.\n",
    "      2. An expression attempting to divide a number by zero is a RUN TIME ERROR.\n"
   ]
  },
  {
   "cell_type": "markdown",
   "id": "13245c1be1d44fcb",
   "metadata": {},
   "source": [
    "## Logical Errors:\n",
    "  - A Logical Error is an error that causes a program to produce incorrect or undesired output.\n",
    "  \n",
    "    - For instance:\n",
    "      ```\n",
    "      ctr = 1;\n",
    "      while(ctr < 10):\n",
    "          print(n * ctr)\n",
    "      ```"
   ]
  },
  {
   "cell_type": "markdown",
   "id": "5c44e5f467a5de4b",
   "metadata": {},
   "source": [
    "# Handling Exceptions"
   ]
  },
  {
   "cell_type": "markdown",
   "id": "c9e25187292b089f",
   "metadata": {},
   "source": [
    "1. Understand how exceptions are generated and handled in Python\n",
    "2. Use the `raise` statement to generate exceptions\n",
    "3. Use the `try…except` statement to intercept and handle exceptions\n",
    "4. List the common built-in exceptions\n"
   ]
  },
  {
   "cell_type": "markdown",
   "id": "1fca9527d04acfa6",
   "metadata": {},
   "source": [
    "## What is an exception?\n",
    "\n",
    "* Exceptions are run-time errors\n",
    "* Whenever the interpreter has a problem it notifies the user/programmer by raising an exception\n",
    "\n",
    "<->\n",
    "\tEven if a statement or expression is syntactically correct, it may cause an error when an attempt is made to execute it. Errors detected during execution are called exceptions\n"
   ]
  },
  {
   "cell_type": "markdown",
   "id": "aaabeefe9e3490c7",
   "metadata": {},
   "source": [
    "The programmer can write code that catches and deals with errors that arise while the program is running, i.e., “Do these steps, and if any problem crops up, handle it this way.”\n",
    "This approach obviates the need to do explicit checking at each step in the algorithm.\n",
    "\n",
    "<->\n",
    "\n",
    "\tIt is possible to write programs that handle selected exceptions. Look at the following example, which asks the user for input until a valid integer has been entered, but allows the user to interrupt the program (using Control-C or whatever the operating system supports); note that a user-generated interruption is signalled by raising the KeyboardInterrupt exception.\n",
    "\n"
   ]
  },
  {
   "cell_type": "markdown",
   "id": "4483107ea662964e",
   "metadata": {},
   "source": [
    "Python provides two very important features to handle any unexpected error in your Python programs and to add debugging capabilities in them:\n",
    "\n",
    "1. **Exception Handling:** This would be covered in this tutorial.\n",
    "\n",
    "2. **Assertions:** This would be covered in Assertions in Python tutorial.\n",
    "\n",
    "## What is an Exception?\n",
    "\n",
    "An exception is an event that occurs during the execution of a program, disrupting the normal flow of the program's instructions.\n",
    "\n",
    "In general, when a Python script encounters a situation it can't cope with, it raises an exception. An exception is a Python object that represents an error.\n",
    "\n",
    "When a Python script raises an exception, it must either handle the exception immediately, or the program would terminate and exit.\n"
   ]
  },
  {
   "cell_type": "markdown",
   "id": "ea94340c1ab940a4",
   "metadata": {},
   "source": [
    "## Handling exceptions\n",
    "\n",
    "* By default, the interpreter handles exceptions by stopping the program and printing an error message\n",
    "* However, we can override this behavior by catching the exception\n",
    "\n",
    "\n"
   ]
  },
  {
   "cell_type": "markdown",
   "id": "fd63b4599e37f5d0",
   "metadata": {},
   "source": [
    "## Handling an Exception\n",
    "\n",
    "If you have some suspicious code that may raise an exception, you can defend your program by placing the suspicious code in a `try:` block. After the `try:` block, include an `except:` statement, followed by a block of code which handles the problem as elegantly as possible.\n",
    "\n",
    "**Syntax:**\n",
    "\n",
    "```python\n",
    "try: \n",
    "    # You do your operations here; \n",
    "    # ...................... \n",
    "except ExceptionI: \n",
    "    # If there is ExceptionI, then execute this block. \n",
    "except ExceptionII: \n",
    "    # If there is ExceptionII, then execute this block. \n",
    "    # ...................... \n",
    "else: \n",
    "    # If there is no exception, then execute this block. \n",
    "```\n",
    "\n",
    "Here are a few important points about the mentioned syntax:\n",
    "\n",
    "- A single `try` statement can have multiple `except` statements. This is useful when the `try` block contains statements that may throw different types of exceptions.\n",
    "\n",
    "- You can also provide a generic `except` clause, which handles any exception.\n",
    "\n",
    "- After the `except` clause(s), you can include an `else`-clause. The code in the `else`-block executes if the code in the `try:` block does not raise an exception.\n",
    "\n",
    "- The `else`-block is a good place for code that does not need the `try:` block's protection.\n",
    "\n",
    "\n",
    "\n",
    "**Example:**\n",
    "\n",
    "```python\n",
    "try:\n",
    "    fh = open(\"testfile\", \"w\")\n",
    "    fh.write(\"This is my test file for exception handling!!\")\n",
    "except IOError:\n",
    "    print(\"Error: can't find file or read data\")\n",
    "else:\n",
    "    print(\"Written content in the file successfully\")\n",
    "finally:\n",
    "    fh.close()\n",
    "\n",
    "```"
   ]
  },
  {
   "cell_type": "code",
   "execution_count": 1,
   "id": "af60b8e7c01f5f9",
   "metadata": {
    "ExecuteTime": {
     "end_time": "2023-08-29T23:29:42.460635700Z",
     "start_time": "2023-08-29T23:29:42.447634Z"
    }
   },
   "outputs": [],
   "source": [
    "# quadratic5.py\n",
    "#    A program that computes the real roots of a quadratic equation.\n",
    "#    Illustrates exception handling to avoid crash on bad inputs\n",
    "\n",
    "import math\n",
    "\n",
    "def main():\n",
    "    print(\"This program finds the real solutions to a quadratic\\n\")\n",
    "\n",
    "    try:\n",
    "        a, b, c = eval(input(\"Please enter the coefficients (a, b, c): \"))\n",
    "        discRoot = math.sqrt(b * b - 4 * a * c)\n",
    "        root1 = (-b + discRoot) / (2 * a)\n",
    "        root2 = (-b - discRoot) / (2 * a)\n",
    "        print(\"\\nThe solutions are:\", root1, root2)\n",
    "    except ValueError:\n",
    "        print(\"\\nNo real roots\")\n",
    "\n"
   ]
  },
  {
   "cell_type": "markdown",
   "id": "d2f5735386b67df7",
   "metadata": {},
   "source": [
    "First, the try clause (the statement(s) between the try and except keywords) is executed.\n",
    "\n",
    "If no exception occurs, the except clause is skipped and execution of the try statement is finished.\n"
   ]
  },
  {
   "cell_type": "markdown",
   "id": "8e4666645e8f131d",
   "metadata": {},
   "source": [
    "- The `try` statement works as follows:\n",
    "  - If an exception occurs during the execution of the `try` clause, the rest of the clause is skipped.\n",
    "  - Then, if the type of the exception matches the exception named after the `except` keyword, the `except` clause is executed.\n",
    "  - Execution then continues after the `try` statement.\n",
    "\n",
    "  - If an exception occurs that does not match the exception named in the `except` clause, it is passed on to outer `try` statements.\n",
    "  - If no handler is found in any of the `try` statements, it becomes an unhandled exception, and execution stops with an error message.\n"
   ]
  },
  {
   "cell_type": "markdown",
   "id": "c59771ee8a885554",
   "metadata": {},
   "source": [
    "# test"
   ]
  },
  {
   "cell_type": "markdown",
   "id": "b5ad00e9db1a388c",
   "metadata": {},
   "source": []
  },
  {
   "cell_type": "markdown",
   "id": "465735fd5cb27972",
   "metadata": {},
   "source": [
    "The try statement has the following form:\n",
    "**Syntax:**\n",
    "\n",
    "```python\n",
    "\n",
    "try:\n",
    "\t<body>\n",
    "except <ErrorType>:\n",
    "\t<handler>\n",
    "\n",
    "```\n",
    "When Python encounters a try statement, it attempts to execute the statements inside the body.\n",
    "If there is no error, control passes to the next statement after the try…except.\n"
   ]
  },
  {
   "cell_type": "markdown",
   "id": "4878174fc19d8b64",
   "metadata": {},
   "source": [
    "# test"
   ]
  },
  {
   "cell_type": "markdown",
   "id": "4a0552d86fd90471",
   "metadata": {},
   "source": [
    "# Example: nocatch.py\n",
    "fin = open('bad_file')\n",
    "for line in fin:\n",
    "    print(line)\n",
    "fin.close()"
   ]
  },
  {
   "cell_type": "code",
   "execution_count": 2,
   "id": "2fd9ba1d9ad88590",
   "metadata": {
    "ExecuteTime": {
     "end_time": "2023-08-29T23:29:42.473146700Z",
     "start_time": "2023-08-29T23:29:42.454635900Z"
    }
   },
   "outputs": [
    {
     "name": "stdout",
     "output_type": "stream",
     "text": [
      "Something went wrong.\n"
     ]
    }
   ],
   "source": [
    "try:\n",
    "    fin = open('bad_file')\n",
    "    for line in fin:\n",
    "        print(line)\n",
    "    fin.close()\n",
    "except:\n",
    "    print('Something went wrong.')\n",
    "\n"
   ]
  },
  {
   "cell_type": "markdown",
   "id": "ee26130dd3932b57",
   "metadata": {},
   "source": [
    "## Catching specific problems\n",
    "\n",
    "* There are a number of kinds of exceptions, including:\n",
    "    - IndexError\n",
    "    - EOFError\n",
    "    - KeyError\n",
    "    - SyntaxError\n",
    "http://docs.python.org/library/exceptions.html#bltin-exceptions\n"
   ]
  },
  {
   "cell_type": "code",
   "execution_count": 3,
   "id": "4459a9973c69f166",
   "metadata": {
    "ExecuteTime": {
     "end_time": "2023-08-29T23:29:42.516152100Z",
     "start_time": "2023-08-29T23:29:42.470147Z"
    }
   },
   "outputs": [
    {
     "name": "stdout",
     "output_type": "stream",
     "text": [
      "Something went wrong.\n"
     ]
    }
   ],
   "source": [
    "try:\n",
    "    fin = open('bad_file')\n",
    "    for line in fin:\n",
    "        print(line)\n",
    "    fin.close()\n",
    "except IOError:\n",
    "    print('Something went wrong.')"
   ]
  },
  {
   "cell_type": "markdown",
   "id": "1c9fc86c86bcc9c",
   "metadata": {},
   "source": [
    "## Error handling\n",
    "\n",
    "* Once you catch the error, you need to handle it\n",
    "    1. Perform an alternate action\n",
    "    2. Generate a customized error message and gracefully end the program\n"
   ]
  },
  {
   "cell_type": "markdown",
   "id": "a177c938081a7046",
   "metadata": {},
   "source": [
    "## Raising exceptions\n",
    "\n",
    "* You can also create your own error generating and handling routines by raising an exception\n",
    "    Example:\n",
    "    study147.py line 146\n",
    "\n",
    "\tYou can raise an exception in your own program by using the raise exception.\n",
    "\n",
    "\tRaising an exception breaks current code execution and returns the exception back until it is handled.\n",
    "Syntax:\n",
    "\n",
    "raise [expression1[, expression2]]\n"
   ]
  },
  {
   "cell_type": "code",
   "execution_count": 4,
   "id": "7cbeabd0cae05770",
   "metadata": {
    "ExecuteTime": {
     "end_time": "2023-08-29T23:29:42.791675200Z",
     "start_time": "2023-08-29T23:29:42.486152300Z"
    }
   },
   "outputs": [
    {
     "ename": "TypeError",
     "evalue": "Only integers are allowed",
     "output_type": "error",
     "traceback": [
      "\u001b[1;31m---------------------------------------------------------------------------\u001b[0m",
      "\u001b[1;31mTypeError\u001b[0m                                 Traceback (most recent call last)",
      "Cell \u001b[1;32mIn[4], line 4\u001b[0m\n\u001b[0;32m      2\u001b[0m a\u001b[38;5;241m=\u001b[39m\u001b[38;5;124m'\u001b[39m\u001b[38;5;124mhi\u001b[39m\u001b[38;5;124m'\u001b[39m\n\u001b[0;32m      3\u001b[0m \u001b[38;5;28;01mif\u001b[39;00m \u001b[38;5;129;01mnot\u001b[39;00m \u001b[38;5;28mtype\u001b[39m(a) \u001b[38;5;129;01mis\u001b[39;00m \u001b[38;5;28mint\u001b[39m:\n\u001b[1;32m----> 4\u001b[0m     \u001b[38;5;28;01mraise\u001b[39;00m \u001b[38;5;167;01mTypeError\u001b[39;00m(\u001b[38;5;124m'\u001b[39m\u001b[38;5;124mOnly integers are allowed\u001b[39m\u001b[38;5;124m'\u001b[39m)\n",
      "\u001b[1;31mTypeError\u001b[0m: Only integers are allowed"
     ]
    }
   ],
   "source": [
    "# Raise Example\n",
    "a='hi'\n",
    "if not type(a) is int:\n",
    "    raise TypeError('Only integers are allowed')"
   ]
  },
  {
   "cell_type": "markdown",
   "id": "73e5796ae24e0270",
   "metadata": {},
   "source": []
  },
  {
   "cell_type": "markdown",
   "id": "67ea5b75ae0dcd30",
   "metadata": {},
   "source": [
    "## Raising Exceptions in Python\n",
    "\n",
    "In Python, you can raise exceptions using the `raise` statement. The general syntax for the `raise` statement is as follows:\n",
    "\n",
    "```python\n",
    "raise [Exception [, args [, traceback]]]\n",
    "```\n",
    "Here\n",
    "Exception represents the type of exception (e.g., NameError).\n",
    "args is an optional value for the exception argument. If not supplied, the exception argument is set to None.\n",
    "The final argument, traceback, is also optional and is rarely used in practice. It represents the traceback object associated with the exception.\n",
    "\n",
    "For example\n",
    "**Example:**\n",
    "```python\n",
    "\n",
    "def functionName(level):\n",
    "    if level < 1:\n",
    "        raise \"Invalid level!\", level\n",
    "    # The code below this would not be executed\n",
    "    # if we raise the exception\n",
    "\n",
    "```\n",
    "\n",
    "In this example, the raise statement is used to raise an exception with an optional argument, which is the level. If the level is less than 1, it raises a \"Invalid level!\" exception along with the level value.\n",
    "\n",
    "\n",
    "Note: In order to catch an exception, an \"except\" clause must refer to the same exception thrown either class object or simple string. For example to capture above exception we must write our except clause as follows:\n",
    "try: \n",
    "\tBusiness Logic here... \n",
    "except \"Invalid level!\": \n",
    "\tException handling here... \n",
    "else: \n",
    "\tRest of the code here... \n"
   ]
  },
  {
   "cell_type": "markdown",
   "id": "b1cf1649590a504",
   "metadata": {},
   "source": []
  },
  {
   "cell_type": "markdown",
   "id": "813384f720457601",
   "metadata": {},
   "source": [
    "Exercise\n",
    "\n",
    "Write a short program to divide two numbers\n",
    "Include a routine to handle division by zero\n"
   ]
  },
  {
   "cell_type": "markdown",
   "id": "dcc268b1929ca30c",
   "metadata": {},
   "source": [
    "- **The `except` Clause with No Exceptions:**\n",
    "  - You can also use the `except` statement with no exceptions defined as follows:\n",
    "    ```\n",
    "    try:\n",
    "        # You do your operations here;\n",
    "    except:\n",
    "        # If there is any exception, then execute this block...\n",
    "    else:\n",
    "        # If there is no exception, then execute this block.\n",
    "    ```\n",
    "  - This kind of `try-except` statement catches all the exceptions that occur.\n",
    "  - Using this kind of try-except statement is not considered good programming practice because it catches all exceptions but does not make the programmer identify the root cause of the problem that may occur.\n"
   ]
  },
  {
   "cell_type": "markdown",
   "id": "dc876d777cb2ddef",
   "metadata": {},
   "source": []
  },
  {
   "cell_type": "markdown",
   "id": "5da065d9b5f1c04",
   "metadata": {},
   "source": [
    "# The except Clause with No Exceptions\n",
    "\n"
   ]
  },
  {
   "cell_type": "markdown",
   "id": "f392c0c40a70bcf8",
   "metadata": {},
   "source": [
    "## The `except` Clause with No Exceptions\n",
    "\n",
    "You can also use the `except` statement with no exceptions defined as follows:\n",
    "**Example:**\n",
    "```python\n",
    "try: \n",
    "    # You do your operations here; \n",
    "    # ...................... \n",
    "except: \n",
    "    # If there is any exception, then execute this block. \n",
    "    # ...................... \n",
    "else: \n",
    "    # If there is no exception, then execute this block. \n",
    "\n",
    "```\n",
    "\n",
    "  - This kind of a `try-except` statement catches all the exceptions that occur.\n",
    "  - Using this kind of try-except statement is not considered good programming practice because it catches all exceptions but does not make the programmer identify the root cause of the problem that may occur.\n",
    " \n",
    "For example\n",
    "def error_handling():\n",
    "try:\n",
    "print (1/0)\n",
    "except:\n",
    "print('Something went wrong')\n",
    "else:"
   ]
  },
  {
   "cell_type": "markdown",
   "id": "70ce602375c03db5",
   "metadata": {},
   "source": [
    "## The `except` Clause with Multiple Exceptions\n",
    "\n",
    "You can also use the same `except` statement to handle multiple exceptions as follows:\n",
    "**Example:**\n",
    "```python\n",
    "try: \n",
    "\tYou do your operations here; \n",
    "\t...................... \n",
    "except(Exception1[, Exception2[,...ExceptionN]]]): \n",
    "\tIf there is any exception from the given exception list, then execute this block\n",
    "\t....................... \n",
    "else: \n",
    "\tIf there is no exception then execute this block. \n",
    "\n",
    "```"
   ]
  },
  {
   "cell_type": "markdown",
   "id": "fc99cd8950d5d739",
   "metadata": {},
   "source": [
    "## Standard Exceptions\n",
    "\n",
    "Here is a list of standard exceptions available in Python: [Standard Exceptions](http://www.tutorialspoint.com/python/standard_exceptions.htm)\n",
    "\n",
    "## The `try-finally` Clause\n",
    "\n",
    "You can use a `finally:` block along with a `try:` block. The `finally` block is a place to put any code that must execute, whether the `try`-block raised an exception or not. The syntax of the `try-finally` statement is this:\n",
    "\n",
    "```python\n",
    "try: \n",
    "    # You do your operations here; \n",
    "    # ...................... \n",
    "    # Due to any exception, this may be skipped. \n",
    "finally: \n",
    "    # This would always be executed. \n",
    "    # ...................... \n",
    "\n",
    "\n",
    "For example:\n",
    "Example:\n",
    "try: \n",
    "\tfh = open(\"testfile\", \"w\") \n",
    "\tfh.write(\"This is my test file for exception handling!!\") \n",
    "finally: \n",
    "\tprint \"Error: can\\'t find file or read data\" \n",
    "\n",
    "If you do not have permission to open the file in writing mode then this will produce following result:\n",
    "Error: can't find file or read data \n",
    "\n"
   ]
  },
  {
   "cell_type": "markdown",
   "id": "5e148ff1d98e56eb",
   "metadata": {},
   "source": [
    "## Argument of an Exception\n",
    "\n",
    "An exception can have an argument, which is a value that provides additional information about the problem. The contents of the argument vary by exception. You capture an exception's argument by supplying a variable in the `except` clause as follows:\n",
    "\n",
    "```python\n",
    "try: \n",
    "    # You do your operations here; \n",
    "    # ...................... \n",
    "except ExceptionType, Argument: \n",
    "    # You can print the value of Argument here... \n",
    "\n",
    "\n",
    "* If you are writing the code to handle a single exception, you can have a variable follow the name of the exception in the except statement. If you are trapping multiple exceptions, you can have a variable follow the tuple of the exception.\n",
    "* This variable will receive the value of the exception mostly containing the cause of the exception. The variable can receive a single value or multiple values in the form of a tuple. This tuple usually contains the error string, the error number, and an error location.\n",
    "\n",
    "\n",
    "For example\n",
    "\n",
    "Example:\n",
    "\tFollowing is an example for a single exception:\n",
    "def temp_convert(var): \n",
    "\ttry: \n",
    "\t\t\treturn int(var) \n",
    "\texcept ValueError, Argument: \n",
    "\t\t\tprint \"The argument does not contain numbers\\n\", Argument \n",
    "temp_convert(\"xyz\");\n",
    " \n",
    "This would produce following result:\n",
    "The argument does not contain numbers \n",
    "invalid literal for int() with base 10: 'xyz' \n"
   ]
  },
  {
   "cell_type": "markdown",
   "id": "d6afb9362538f120",
   "metadata": {},
   "source": [
    "## Argument of an Exception"
   ]
  },
  {
   "cell_type": "markdown",
   "id": "c56730e42e8275c3",
   "metadata": {},
   "source": [
    "# Some common exception\n",
    "\n",
    "- **IOError**\n",
    "  - Occurs if the file cannot be opened.\n",
    "\n",
    "- **ImportError**\n",
    "  - Occurs if Python cannot find the module.\n",
    "\n",
    "- **ValueError**\n",
    "  - Raised when a built-in operation or function receives an argument that has the right type but an inappropriate value.\n",
    "\n",
    "- **KeyboardInterrupt**\n",
    "  - Raised when the user hits the interrupt key (normally Control-C or Delete).\n",
    "\n",
    "- **EOFError**\n",
    "  - Raised when one of the built-in functions (`input()` or `raw_input()`) hits an end-of-file condition (EOF) without reading any data.\n"
   ]
  },
  {
   "cell_type": "markdown",
   "id": "38b567a0ea67ab3e",
   "metadata": {},
   "source": []
  },
  {
   "cell_type": "markdown",
   "id": "b0b2a148fa203daf",
   "metadata": {},
   "source": [
    "Class Test"
   ]
  },
  {
   "cell_type": "markdown",
   "id": "bdade39d6ed655d0",
   "metadata": {},
   "source": [
    "| Question                                          | Marks |\n",
    "|---------------------------------------------------|-------|\n",
    "| Explain the types of errors                       |   5  |\n",
    "| What is an exception? Explain in detail           |   5  |\n",
    "| What is `raise`? Explain in detail                |   5  |\n",
    "| Explain some of the common built-in exceptions provided in Python |   05  |\n",
    "\n"
   ]
  },
  {
   "cell_type": "markdown",
   "id": "c055b2bbbfb4e398",
   "metadata": {},
   "source": [
    "## User-defined Exceptions\n",
    "\n",
    "Programs may name their own exceptions by creating a new exception class. These are derived from the Exception class, either directly or indirectly.\n",
    "\n",
    "\n",
    "\n",
    "\n",
    "\n",
    "\n",
    "Here, the def__init__() of Exception has been overridden. The new behavior simply creates the value attribute.\n"
   ]
  },
  {
   "cell_type": "markdown",
   "id": "ab2d035474cbba4e",
   "metadata": {},
   "source": [
    "## Defining Clean-up Actions\n",
    "\n",
    "The try statement has another optional clause which is intended to define clean-up actions that must be executed under all circumstances.\n",
    "\n",
    "... python code ...\n",
    "try:\n",
    "    raise KeyboardInterrupt\n",
    "finally:\n",
    "    print('Goodbye, world!')\n",
    "... python code ...\n",
    "A finally clause is executed before leaving the try statement, whether an exception has occurred or not. When an exception has occurred in the try clause and has not been handled by an except clause, it is re-raised after the finally clause has been executed. The finally clause is also executed “on the way out” when any other clause of the try statement is exited using break/continue/return.\n",
    "\n"
   ]
  },
  {
   "cell_type": "code",
   "execution_count": null,
   "id": "9de1a879fbbbfb39",
   "metadata": {
    "ExecuteTime": {
     "start_time": "2023-08-29T23:29:42.788675100Z"
    }
   },
   "outputs": [],
   "source": [
    "\n",
    "    "
   ]
  },
  {
   "cell_type": "markdown",
   "id": "247b5d5d620f54c7",
   "metadata": {},
   "source": [
    "## Grouping of Exceptions\n"
   ]
  },
  {
   "cell_type": "code",
   "execution_count": null,
   "id": "c688ce66684d833c",
   "metadata": {
    "ExecuteTime": {
     "start_time": "2023-08-29T23:29:42.789675900Z"
    }
   },
   "outputs": [],
   "source": [
    "Inheritance can be used to create sets of related exceptions:\n",
    "class MathErr {};\n",
    "class Underflow : public MathErr {};  class Overflow : public MathErr {};\n",
    "class DivisionByZero : public MathErr {};\n",
    "\n",
    "void g()\n",
    "{\n",
    "try\n",
    "    {\n",
    "        f();\n",
    "}\n",
    "catch (Overflow)\n",
    "{\n",
    "// treat all overflow errors here\n",
    "}\n",
    "catch (MathErr)\n",
    "{\n",
    "// treat all other math errors here\n",
    "}\n",
    "}\n",
    "All exceptions thrown by the standard library are derived from std::exception.\n"
   ]
  },
  {
   "cell_type": "markdown",
   "id": "be90412290381136",
   "metadata": {},
   "source": [
    "## User-Defined Exceptions:\n",
    "Python also allows you to create your own exceptions by deriving classes from the standard built-in exceptions.\n",
    "Here is an example related to RuntimeError. Here a class is created that is subclassed from RuntimeError. This is useful when you need to display more specific information when an exception is caught.\n",
    "In the try block, the user-defined exception is raised and caught in the except block. The variable e is used to create an instance of the class Networkerror.\n",
    "class Networkerror(RuntimeError): \n",
    "\tdef __init__(self, arg): \n",
    "\t\tself.args = arg \n",
    "So once you defined above class, you can raise your exception as follows:\n",
    "try: \n",
    "\traise Networkerror(\"Bad hostname\") \n",
    "except Networkerror,e: \n",
    "\tprint e.args \n"
   ]
  }
 ],
 "metadata": {
  "kernelspec": {
   "display_name": "Python 3 (ipykernel)",
   "language": "python",
   "name": "python3"
  },
  "language_info": {
   "codemirror_mode": {
    "name": "ipython",
    "version": 3
   },
   "file_extension": ".py",
   "mimetype": "text/x-python",
   "name": "python",
   "nbconvert_exporter": "python",
   "pygments_lexer": "ipython3",
   "version": "3.10.12"
  }
 },
 "nbformat": 4,
 "nbformat_minor": 5
}
