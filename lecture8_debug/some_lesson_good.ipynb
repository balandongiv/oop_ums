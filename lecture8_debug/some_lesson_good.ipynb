{
 "cells": [
  {
   "cell_type": "raw",
   "source": [
    "# Some Lessons\n",
    "\n",
    "- There’s usually more than one way to solve a problem.\n",
    "  - Don’t rush to code the first idea that pops out of your head. Think about the design and ask if there’s a better way to approach the problem.\n",
    "  - Your first task is to find a correct algorithm. After that, strive for clarity, simplicity, efficiency, scalability, and elegance.\n",
    "\n",
    "- Be the computer.\n",
    "  - One of the best ways to formulate an algorithm is to ask yourself how you would solve the problem.\n",
    "  - This straightforward approach is often simple, clear, and efficient enough.\n",
    "\n",
    "- Generality is good.\n",
    "  - Consideration of a more general problem can lead to a better solution for a special case.\n",
    "  - If the max of n program is just as easy to write as the max of three, write the more general program because it’s more likely to be useful in other situations.\n",
    "\n",
    "- Don’t reinvent the wheel.\n",
    "  - If the problem you’re trying to solve is one that lots of other people have encountered, find out if there’s already a solution for it!\n",
    "  - As you learn to program, designing programs from scratch is a great experience!\n",
    "  - Truly expert programmers know when to borrow.\n"
   ],
   "metadata": {
    "collapsed": false
   },
   "id": "46af06ccb0d69dee"
  },
  {
   "cell_type": "code",
   "execution_count": null,
   "outputs": [],
   "source": [],
   "metadata": {
    "collapsed": false
   },
   "id": "d6c189f8603bb819"
  },
  {
   "cell_type": "markdown",
   "source": [
    "# Some Lessons\n",
    "\n",
    "<!-- C:\\Users\\balan\\OneDrive - ums.edu.my\\0 fi\\OOP\\python\\python_exception_error/Chapter07 -->\n",
    "\n",
    "\n",
    "- There’s usually more than one way to solve a problem.\n",
    "  - Don’t rush to code the first idea that pops out of your head. Think about the design and ask if there’s a better way to approach the problem.\n",
    "  - Your first task is to find a correct algorithm. After that, strive for clarity, simplicity, efficiency, scalability, and elegance.\n",
    "\n",
    "- Be the computer.\n",
    "  - One of the best ways to formulate an algorithm is to ask yourself how you would solve the problem.\n",
    "  - This straightforward approach is often simple, clear, and efficient enough.\n",
    "\n",
    "- Generality is good.\n",
    "  - Consideration of a more general problem can lead to a better solution for a special case.\n",
    "  - If the max of n program is just as easy to write as the max of three, write the more general program because it’s more likely to be useful in other situations.\n",
    "\n",
    "- Don’t reinvent the wheel.\n",
    "  - If the problem you’re trying to solve is one that lots of other people have encountered, find out if there’s already a solution for it!\n",
    "  - As you learn to program, designing programs from scratch is a great experience!\n",
    "  - Truly expert programmers know when to borrow.\n",
    "#%"
   ],
   "metadata": {
    "collapsed": false
   },
   "id": "421b52d87d3d2969"
  },
  {
   "cell_type": "code",
   "execution_count": null,
   "outputs": [],
   "source": [],
   "metadata": {
    "collapsed": false
   },
   "id": "5ec0f32fac3f48d7"
  }
 ],
 "metadata": {
  "kernelspec": {
   "display_name": "Python 3",
   "language": "python",
   "name": "python3"
  },
  "language_info": {
   "codemirror_mode": {
    "name": "ipython",
    "version": 2
   },
   "file_extension": ".py",
   "mimetype": "text/x-python",
   "name": "python",
   "nbconvert_exporter": "python",
   "pygments_lexer": "ipython2",
   "version": "2.7.6"
  }
 },
 "nbformat": 4,
 "nbformat_minor": 5
}
