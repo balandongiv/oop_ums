{
 "cells": [
  {
   "cell_type": "code",
   "execution_count": null,
   "id": "initial_id",
   "metadata": {
    "collapsed": true
   },
   "outputs": [],
   "source": []
  },
  {
   "cell_type": "markdown",
   "source": [
    "# Arithmetic Operators\n",
    "\n",
    "In Python, we can use the following operators to perform arithmetic operations:\n",
    "\n",
    "| Operator              | Description                                                                                                                                                |\n",
    "|-----------------------|------------------------------------------------------------------------------------------------------------------------------------------------------------|\n",
    "| Addition ($+$)        | Addition is the mathematical operation that combines two or more numbers or expressions into a single sum.                                                 |\n",
    "| Subtraction ($-$)     | Subtraction is the mathematical operation used to find the difference between two numbers or quantities.                                                   |\n",
    "| Multiplication ($*$)  | Multiplication is the mathematical operation used to find the result of combining two or more quantities. Multiplication is essentially repeated addition. |\n",
    "| Division ($/$)        | Division is the mathematical operation used to find the result of sharing a quantity into equal parts.                                                     |\n",
    "| Modulus ($%$)         | Modulus is the mathematical operation used to find the remainder of a division operation.                                                                  |\n",
    "| Exponent ($**$)       | Exponent is the mathematical operation used to find the result of raising a number to an exponent.                                                         |\n",
    "| Floor Division ($//$) | Floor Division is the mathematical operation used to find the largest integer (floor) that is less than or equal to the result of dividing two numbers.    |\n"
   ],
   "metadata": {
    "collapsed": false
   },
   "id": "25a7f066a34b075"
  },
  {
   "cell_type": "markdown",
   "source": [
    "## Addition (+)\n",
    "Addition is a mathematical operation that combines two or more numbers or expressions into a single sum"
   ],
   "metadata": {
    "collapsed": false
   },
   "id": "5d3fbe705016fa1e"
  },
  {
   "cell_type": "code",
   "execution_count": null,
   "outputs": [],
   "source": [
    "# Example 1\n",
    "# Addition of two integers\n",
    "result = 5 + 3  # This will give you the result 8"
   ],
   "metadata": {
    "collapsed": false
   },
   "id": "2d9d2e77919426ce"
  },
  {
   "cell_type": "code",
   "execution_count": null,
   "outputs": [],
   "source": [
    "# Example 2\n",
    "# Addition of two floating point numbers\n",
    "result = 5.0 + 3.0  # This will give you the result 8.0"
   ],
   "metadata": {
    "collapsed": false
   },
   "id": "dabd660bdf100a81"
  },
  {
   "cell_type": "markdown",
   "source": [
    "In Python, the addition operator (+) can also be used to concatenate two strings."
   ],
   "metadata": {
    "collapsed": false
   },
   "id": "6d8900e56d10ae22"
  },
  {
   "cell_type": "code",
   "execution_count": null,
   "outputs": [],
   "source": [
    "# Example 2\n",
    "# Concatenation of two strings\n",
    "result = \"Hello\" + \"World\"  # This will give you the result \"HelloWorld\""
   ],
   "metadata": {
    "collapsed": false
   },
   "id": "946c8b34c5e9efdf"
  },
  {
   "cell_type": "markdown",
   "source": [
    "## Subtraction (-) "
   ],
   "metadata": {
    "collapsed": false
   },
   "id": "90847b0a5826785a"
  },
  {
   "cell_type": "code",
   "execution_count": null,
   "outputs": [],
   "source": [
    "# Example 2\n",
    "# Subtraction of two numbers\n",
    "result = 5 - 3  # This will give you the result 2"
   ],
   "metadata": {
    "collapsed": false
   },
   "id": "201476bdcb31ebe6"
  },
  {
   "cell_type": "code",
   "execution_count": null,
   "outputs": [],
   "source": [
    "# Example 2\n",
    "# Subtraction of two floating point numbers\n",
    "result = 5.0 - 3.0  # This will give you the result 2.0"
   ],
   "metadata": {
    "collapsed": false
   },
   "id": "afc99097e9ff4e76"
  },
  {
   "cell_type": "code",
   "execution_count": 2,
   "outputs": [
    {
     "name": "stdout",
     "output_type": "stream",
     "text": [
      "(1+1j)\n"
     ]
    }
   ],
   "source": [
    "# Example 3\n",
    "# Subtraction of two complex numbers\n",
    "result = (2 + 3j) - (1 + 2j)  # This will give you the result (1 + 1j)"
   ],
   "metadata": {
    "collapsed": false,
    "ExecuteTime": {
     "end_time": "2023-08-24T00:22:56.223736Z",
     "start_time": "2023-08-24T00:22:56.212736Z"
    }
   },
   "id": "42806c9e3fc6c754"
  },
  {
   "cell_type": "markdown",
   "source": [
    "QUESTION: \n",
    "\n",
    "What will be the result of the following code, which is substraction of two string?\n",
    "\n",
    "<span style=\"color:red; font-family: monospace;\">result = \"HelloWorld\" - \"World\"</span>\n",
    "\n"
   ],
   "metadata": {
    "collapsed": false
   },
   "id": "c2dc7e125d4c9b1"
  },
  {
   "cell_type": "markdown",
   "source": [
    "## Multiplication (*)"
   ],
   "metadata": {
    "collapsed": false
   },
   "id": "9ff80abc1478ce46"
  },
  {
   "cell_type": "code",
   "execution_count": null,
   "outputs": [],
   "source": [
    "# Example 1\n",
    "# Multiplication of two integers\n",
    "result = 5 * 3  # This will give you the result 15\n"
   ],
   "metadata": {
    "collapsed": false
   },
   "id": "971fa1160226d8e7"
  },
  {
   "cell_type": "code",
   "execution_count": null,
   "outputs": [],
   "source": [
    "# Example 2\n",
    "# Multiplication of two floating point numbers\n",
    "result = 5.0 * 3.0  # This will give you the result 15.0\n"
   ],
   "metadata": {
    "collapsed": false
   },
   "id": "a73dde5d02ac5839"
  },
  {
   "cell_type": "code",
   "execution_count": null,
   "outputs": [],
   "source": [
    "# Example 3\n",
    "# Multiplication of two complex numbers\n",
    "result = (2 + 3j) * (1 + 2j)  # This will give you the result (-4 + 7j)\n"
   ],
   "metadata": {
    "collapsed": false
   },
   "id": "dab2c2965a9e1d67"
  },
  {
   "cell_type": "code",
   "execution_count": null,
   "outputs": [],
   "source": [
    "# Example 4\n",
    "# Multiplication of a string with an integer\n",
    "result = \"Hello\" * 3  # This will give you the result \"HelloHelloHello\"\n"
   ],
   "metadata": {
    "collapsed": false
   },
   "id": "3e489d526fd2a8ba"
  },
  {
   "cell_type": "markdown",
   "source": [
    "## Division (/)"
   ],
   "metadata": {
    "collapsed": false
   },
   "id": "77668af674b5e52"
  },
  {
   "cell_type": "code",
   "execution_count": null,
   "outputs": [],
   "source": [
    "# Example 1\n",
    "# Division of two integers\n",
    "result = 5 / 3  # This will give you the result 1.6666666666666667\n"
   ],
   "metadata": {
    "collapsed": false
   },
   "id": "fd4867e53ac4cb71"
  },
  {
   "cell_type": "code",
   "execution_count": null,
   "outputs": [],
   "source": [
    "# Example 2\n",
    "# Division of two floating point numbers\n",
    "result = 5.0 / 3.0  # This will give you the result 1.6666666666666667\n"
   ],
   "metadata": {
    "collapsed": false
   },
   "id": "e6a60a57d2b01138"
  },
  {
   "cell_type": "code",
   "execution_count": null,
   "outputs": [],
   "source": [
    "# Example 3\n",
    "# Division of two complex numbers\n",
    "result = (2 + 3j) / (1 + 2j)  # This will give you the result (1.6 - 0.2j)\n"
   ],
   "metadata": {
    "collapsed": false
   },
   "id": "2f6138b2fa33dd56"
  },
  {
   "cell_type": "code",
   "execution_count": 5,
   "outputs": [
    {
     "ename": "TypeError",
     "evalue": "unsupported operand type(s) for /: 'str' and 'int'",
     "output_type": "error",
     "traceback": [
      "\u001B[1;31m---------------------------------------------------------------------------\u001B[0m",
      "\u001B[1;31mTypeError\u001B[0m                                 Traceback (most recent call last)",
      "Cell \u001B[1;32mIn[5], line 3\u001B[0m\n\u001B[0;32m      1\u001B[0m \u001B[38;5;66;03m# Example 4\u001B[39;00m\n\u001B[0;32m      2\u001B[0m \u001B[38;5;66;03m# Division of a string with an integer\u001B[39;00m\n\u001B[1;32m----> 3\u001B[0m result \u001B[38;5;241m=\u001B[39m \u001B[38;5;124;43m\"\u001B[39;49m\u001B[38;5;124;43mHello\u001B[39;49m\u001B[38;5;124;43m\"\u001B[39;49m\u001B[43m \u001B[49m\u001B[38;5;241;43m/\u001B[39;49m\u001B[43m \u001B[49m\u001B[38;5;241;43m3\u001B[39;49m\n",
      "\u001B[1;31mTypeError\u001B[0m: unsupported operand type(s) for /: 'str' and 'int'"
     ]
    }
   ],
   "source": [
    "# Example 4\n",
    "# Division of a string with an integer\n",
    "result = \"Hello\" / 3  # This will give you the result TypeError: unsupported operand type(s) for /: 'str' and 'int'\n"
   ],
   "metadata": {
    "collapsed": false,
    "ExecuteTime": {
     "end_time": "2023-08-24T00:27:28.240338400Z",
     "start_time": "2023-08-24T00:27:28.223475500Z"
    }
   },
   "id": "cf3f4433b837e487"
  },
  {
   "cell_type": "markdown",
   "source": [
    "QUESTION: \n",
    "\n",
    "What will be the result of the following code, which is Multiplication of a string with a float?\n",
    "\n",
    "<span style=\"color:red; font-family: monospace;\">result = \"Hello\" * 3.0</span>"
   ],
   "metadata": {
    "collapsed": false
   },
   "id": "e6b1038c6a6378b6"
  },
  {
   "cell_type": "markdown",
   "source": [
    "## Modulus (%)"
   ],
   "metadata": {
    "collapsed": false
   },
   "id": "5fdb62a419689822"
  },
  {
   "cell_type": "code",
   "execution_count": 8,
   "outputs": [
    {
     "name": "stdout",
     "output_type": "stream",
     "text": [
      "2\n"
     ]
    }
   ],
   "source": [
    "# Example 1\n",
    "# Modulus of two integers\n",
    "result = 5 % 3  # This will give you the result 2   "
   ],
   "metadata": {
    "collapsed": false,
    "ExecuteTime": {
     "end_time": "2023-08-24T00:28:22.300411600Z",
     "start_time": "2023-08-24T00:28:22.289407900Z"
    }
   },
   "id": "274e3473bbb225ae"
  },
  {
   "cell_type": "code",
   "execution_count": 9,
   "outputs": [
    {
     "name": "stdout",
     "output_type": "stream",
     "text": [
      "2.0\n"
     ]
    }
   ],
   "source": [
    "# Example 2\n",
    "# Modulus of two floating point numbers\n",
    "result = 5.0 % 3.0  # This will give you the result 2.0"
   ],
   "metadata": {
    "collapsed": false,
    "ExecuteTime": {
     "end_time": "2023-08-24T00:28:27.961895300Z",
     "start_time": "2023-08-24T00:28:27.945733900Z"
    }
   },
   "id": "5d505fbfd0a8d431"
  },
  {
   "cell_type": "markdown",
   "source": [
    "## Exponent (**)"
   ],
   "metadata": {
    "collapsed": false
   },
   "id": "61bf418cd538b5b9"
  },
  {
   "cell_type": "code",
   "execution_count": null,
   "outputs": [],
   "source": [
    "# Example 1\n",
    "# Exponent of two integers\n",
    "result = 5 ** 3  # This will give you the result 125"
   ],
   "metadata": {
    "collapsed": false
   },
   "id": "1424f876d24c0da0"
  },
  {
   "cell_type": "code",
   "execution_count": null,
   "outputs": [],
   "source": [
    "# Example 2\n",
    "# Exponent of two floating point numbers\n",
    "result = 5.0 ** 3.0  # This will give you the result 125.0"
   ],
   "metadata": {
    "collapsed": false
   },
   "id": "52309e86ba407a37"
  },
  {
   "cell_type": "markdown",
   "source": [
    "## Floor Division (//)"
   ],
   "metadata": {
    "collapsed": false
   },
   "id": "6755561e94a80b8a"
  },
  {
   "cell_type": "code",
   "execution_count": null,
   "outputs": [],
   "source": [
    "# Example 1\n",
    "# Floor Division of two integers\n",
    "result = 5 // 3  # This will give you the result 1\n"
   ],
   "metadata": {
    "collapsed": false
   },
   "id": "4d147046127eb3bf"
  },
  {
   "cell_type": "code",
   "execution_count": null,
   "outputs": [],
   "source": [
    "# Example 2\n",
    "# Floor Division of two floating point numbers\n",
    "result = 5.0 // 3.0  # This will give you the result 1.0"
   ],
   "metadata": {
    "collapsed": false
   },
   "id": "9db00d072a7ea6e3"
  },
  {
   "cell_type": "code",
   "execution_count": null,
   "outputs": [],
   "source": [],
   "metadata": {
    "collapsed": false
   },
   "id": "4bb4a4c1620d60f8"
  },
  {
   "cell_type": "markdown",
   "source": [
    "# Precedence (Parentheses, Exponential, Multiplication, Division, Addition, Subtraction)"
   ],
   "metadata": {
    "collapsed": false
   },
   "id": "1dd99b2e755b9fd4"
  },
  {
   "cell_type": "markdown",
   "source": [
    "In Python, the precedence of operators determines the order of operations in an expression.\n",
    "It follows the PEMDAS rule, which stands for Parentheses, Exponents, Multiplication, Division, Addition, and Subtraction.\n",
    "This means that the parentheses have the highest precedence, and the addition or subtraction has the lowest precedence.\n",
    "\n",
    "\n",
    "For example, the expression 5 + 3 * 2 is evaluated as 11, not 16 because the multiplication operator has a higher precedence than the addition operator.\n"
   ],
   "metadata": {
    "collapsed": false
   },
   "id": "b496f5321e085779"
  },
  {
   "cell_type": "code",
   "execution_count": 41,
   "outputs": [
    {
     "name": "stdout",
     "output_type": "stream",
     "text": [
      "11\n"
     ]
    }
   ],
   "source": [
    "# Example 1\n",
    "# Precedence of operators\n",
    "var_operation = 5 + 3 * 2  # This will give you the result 11\n",
    "print(var_operation)\n"
   ],
   "metadata": {
    "collapsed": false,
    "ExecuteTime": {
     "end_time": "2023-08-24T01:28:21.954110700Z",
     "start_time": "2023-08-24T01:28:21.940111100Z"
    }
   },
   "id": "22dff0adb82d7a8f"
  },
  {
   "cell_type": "code",
   "execution_count": 43,
   "outputs": [
    {
     "name": "stdout",
     "output_type": "stream",
     "text": [
      "23\n"
     ]
    }
   ],
   "source": [
    "# Example 3\n",
    "# Precedence of operators with parentheses, multiplication, division, addition, and subtraction\n",
    "var_operation = 5 + 3 ** 2 * 2  # This will give you the result 23\n",
    "print(var_operation)"
   ],
   "metadata": {
    "collapsed": false,
    "ExecuteTime": {
     "end_time": "2023-08-24T01:29:19.330829800Z",
     "start_time": "2023-08-24T01:29:19.324830Z"
    }
   },
   "id": "fb743aff7eda74cf"
  },
  {
   "cell_type": "markdown",
   "source": [
    "As can be seen, even for human, it is not easy to understand the equation. Therefore, it is recommended to use parentheses to make the equation more readable."
   ],
   "metadata": {
    "collapsed": false
   },
   "id": "94c8b5c8cb2c4768"
  },
  {
   "cell_type": "code",
   "execution_count": 45,
   "outputs": [
    {
     "name": "stdout",
     "output_type": "stream",
     "text": [
      "23\n"
     ]
    }
   ],
   "source": [
    "# Example 4\n",
    "# Precedence of operators with parentheses, multiplication, division, addition, and subtraction\n",
    "var_operation = 5 + (3 ** 2) * 2  # This will give you the result 128\n",
    "print(var_operation)"
   ],
   "metadata": {
    "collapsed": false,
    "ExecuteTime": {
     "end_time": "2023-08-24T01:31:13.649936400Z",
     "start_time": "2023-08-24T01:31:13.643936100Z"
    }
   },
   "id": "4f42da4391851cb0"
  },
  {
   "cell_type": "code",
   "execution_count": null,
   "outputs": [],
   "source": [
    "# Example 5\n",
    "# Precedence of operators with parentheses, multiplication, division, addition, and subtraction\n",
    "var_operation = (5 + 3) ** 2 * 2  # This will give you the result 128\n",
    "print(var_operation)\n",
    "# As you can see, the result is different from the previous example. Therefore, it is recommended to use parentheses to make the equation more readable."
   ],
   "metadata": {
    "collapsed": false
   },
   "id": "6564f71b9d4052ab"
  },
  {
   "cell_type": "markdown",
   "source": [
    "# Comparison Operators\n",
    "\n",
    "Comparison or relational operators in Python are used to compare variables with values.\n",
    "\n",
    "The comparison operator comes in between the left and right variables or operands. It simply tells us the relationship between the two."
   ],
   "metadata": {
    "collapsed": false
   },
   "id": "136dae9fdab20283"
  },
  {
   "cell_type": "markdown",
   "source": [
    " Equal: a == b\n",
    "Equal denotes that two variables are equal in value and type. For example, 2 is equal to 2. or 2 of type int is equal to 2 of type int. \n",
    " Not Equal: a != b\n",
    "Not equal denotes that two variables are not equal in value and/or type.For example, 2 is not equal to 3. or 2 is not equal to \"2\".\n",
    " Less than: a < b\n",
    "Less than denotes that the value of a is less than the value of b. For example, 2 is less than 3.\n",
    " Less than or equal to: a <= b\n",
    "Less than or equal to denotes that the value of a is less than or equal to the value of b. For example, 2 is less than or equal to 2.\n",
    " Greater than: a > b\n",
    "Greater than denotes that the value of a is greater than the value of b. For example, 3 is greater than 2.\n",
    " Greater than or equal to: a >= b\n",
    "Greater than or equal to denotes that the value of a is greater than or equal to the value of b. For example, 3 is greater than or equal to 3."
   ],
   "metadata": {
    "collapsed": false
   },
   "id": "887f056e198cfd6b"
  },
  {
   "cell_type": "markdown",
   "source": [
    "## Equal to Operator (==)\n",
    "\n",
    "The equal to operator, represented as $==$, checks if the two operands are equal. \n",
    "It returns True if the values of the operands are the same, and False if they are not."
   ],
   "metadata": {
    "collapsed": false
   },
   "id": "d5fa9dba9e75b059"
  },
  {
   "cell_type": "code",
   "execution_count": 16,
   "outputs": [
    {
     "name": "stdout",
     "output_type": "stream",
     "text": [
      "The result is True, and the type x is <class 'int'>, and the type y is <class 'int'>\n"
     ]
    }
   ],
   "source": [
    "# Example 1\n",
    "# Equal to operator with two integers\n",
    "x = 5\n",
    "y = 5\n",
    "result = x == y  # result will be True because x and y are equal.\n",
    "print(f'The result is {result}, and the type x is {type(x)}, and the type y is {type(y)}')    # This will print True"
   ],
   "metadata": {
    "collapsed": false,
    "ExecuteTime": {
     "end_time": "2023-08-24T00:53:46.034452800Z",
     "start_time": "2023-08-24T00:53:46.005689300Z"
    }
   },
   "id": "95e183f1d562e8c6"
  },
  {
   "cell_type": "code",
   "execution_count": 21,
   "outputs": [
    {
     "name": "stdout",
     "output_type": "stream",
     "text": [
      "The result is True, \n",
      "and the type of x is <class 'float'>, while the type of y is <class 'float'>\n"
     ]
    }
   ],
   "source": [
    "# Example 2: Comparing floating-point numbers with the equality operator\n",
    "\n",
    "x = 5.0 \n",
    "y = 5.0\n",
    "result = x == y  # The result of the equality operator is True because x and y are equal.\n",
    "print(f'The result is {result}, \\nand the type of x is {type(x)}, while the type of y is {type(y)}')"
   ],
   "metadata": {
    "collapsed": false,
    "ExecuteTime": {
     "end_time": "2023-08-24T00:57:53.243107Z",
     "start_time": "2023-08-24T00:57:53.214010600Z"
    }
   },
   "id": "6bd14b694f6afcdf"
  },
  {
   "cell_type": "code",
   "execution_count": 22,
   "outputs": [
    {
     "name": "stdout",
     "output_type": "stream",
     "text": [
      "The result is True, \n",
      "and the type of x is <class 'str'>, while the type of y is <class 'str'>\n"
     ]
    }
   ],
   "source": [
    "# Example 3: Comparing strings with the equality operator\n",
    "\n",
    "x = \"Hello\"\n",
    "y = \"Hello\"\n",
    "result = x == y  # result will be True because x and y are equal.\n",
    "print(f'The result is {result}, \\nand the type of x is {type(x)}, while the type of y is {type(y)}')"
   ],
   "metadata": {
    "collapsed": false,
    "ExecuteTime": {
     "end_time": "2023-08-24T00:58:11.068135600Z",
     "start_time": "2023-08-24T00:58:11.056134900Z"
    }
   },
   "id": "394a438b4515fea2"
  },
  {
   "cell_type": "code",
   "execution_count": 23,
   "outputs": [
    {
     "name": "stdout",
     "output_type": "stream",
     "text": [
      "The result is False, \n",
      "and the type of x is <class 'int'>, while the type of y is <class 'str'>\n"
     ]
    }
   ],
   "source": [
    "# Example 4: Comparing a string with an integer with the equality operator\n",
    "\n",
    "x = 5\n",
    "y = \"5\"\n",
    "result = x == y  # result will be False because x and y are not equal.\n",
    "print(f'The result is {result}, \\nand the type of x is {type(x)}, while the type of y is {type(y)}')"
   ],
   "metadata": {
    "collapsed": false,
    "ExecuteTime": {
     "end_time": "2023-08-24T00:58:21.408666200Z",
     "start_time": "2023-08-24T00:58:21.392230900Z"
    }
   },
   "id": "bb53f6b7ccdb656b"
  },
  {
   "cell_type": "code",
   "execution_count": 24,
   "outputs": [
    {
     "name": "stdout",
     "output_type": "stream",
     "text": [
      "The result is False, \n",
      "and the type of x is <class 'float'>, while the type of y is <class 'str'>\n"
     ]
    }
   ],
   "source": [
    "# Example 5: Comparing a string with a float with the equality operator\n",
    "x=5.0\n",
    "y=\"5.0\"\n",
    "result = x == y  # result will be False because x and y are not equal.\n",
    "print(f'The result is {result}, \\nand the type of x is {type(x)}, while the type of y is {type(y)}')"
   ],
   "metadata": {
    "collapsed": false,
    "ExecuteTime": {
     "end_time": "2023-08-24T01:01:19.488880Z",
     "start_time": "2023-08-24T01:01:19.476558500Z"
    }
   },
   "id": "3bb3467a72cc7729"
  },
  {
   "cell_type": "markdown",
   "source": [
    "## Not Equal to Operator (!=)\n",
    "\n",
    "The not equal to operator, represented as $!=$, checks if the two operands are not equal. \n",
    "It returns `True` if the values of the operands are different, and `False` if they are the same."
   ],
   "metadata": {
    "collapsed": false
   },
   "id": "d94128406468f1b8"
  },
  {
   "cell_type": "code",
   "execution_count": 29,
   "outputs": [
    {
     "name": "stdout",
     "output_type": "stream",
     "text": [
      "True\n"
     ]
    }
   ],
   "source": [
    "# Example 1: Comparing two integers with the not equal to operator\n",
    "\n",
    "x = 5\n",
    "y = 10\n",
    "result = x != y  # result will be True because x and y are not equal.\n",
    "print(result)    # This will print True\n",
    "# You can read this, it's correct to state that x is not equal to y since, in reality, x is not equal to y."
   ],
   "metadata": {
    "collapsed": false,
    "ExecuteTime": {
     "end_time": "2023-08-24T01:06:06.869289400Z",
     "start_time": "2023-08-24T01:06:06.854142700Z"
    }
   },
   "id": "f19d6c1ba3b1c5df"
  },
  {
   "cell_type": "code",
   "execution_count": 32,
   "outputs": [
    {
     "name": "stdout",
     "output_type": "stream",
     "text": [
      "False\n"
     ]
    }
   ],
   "source": [
    "# Example 2: Comparing floating-point numbers with the not equal to operator\n",
    "x=5.0\n",
    "y=5.0\n",
    "result = x != y  # The result of the not equal to operator is False because x and y are equal.\n",
    "print(result)\n",
    "# You can read this, it's incorrect to state that x is not equal to y since, in reality, x is indeed equal to y."
   ],
   "metadata": {
    "collapsed": false,
    "ExecuteTime": {
     "end_time": "2023-08-24T01:08:25.940753300Z",
     "start_time": "2023-08-24T01:08:25.923751400Z"
    }
   },
   "id": "69b826bc96a5f8d9"
  },
  {
   "cell_type": "code",
   "execution_count": 33,
   "outputs": [
    {
     "name": "stdout",
     "output_type": "stream",
     "text": [
      "False\n"
     ]
    }
   ],
   "source": [
    "# Example 3: Comparing strings with the not equal to operator\n",
    "x=\"Hello\"\n",
    "y=\"Hello\"\n",
    "result = x != y  # result will be False because x and y are equal.\n",
    "print(result)"
   ],
   "metadata": {
    "collapsed": false,
    "ExecuteTime": {
     "end_time": "2023-08-24T01:14:05.575533300Z",
     "start_time": "2023-08-24T01:14:05.562475200Z"
    }
   },
   "id": "2a5d16fb87bf3071"
  },
  {
   "cell_type": "markdown",
   "source": [
    "## Greater Than Operator (>)\n",
    "The greater than operator, represented as $>$, checks if the value on the left side is greater than the value on the right side. It returns True if the left operand is greater than the right operand, and False otherwise."
   ],
   "metadata": {
    "collapsed": false
   },
   "id": "200acb2e03dba260"
  },
  {
   "cell_type": "code",
   "execution_count": 34,
   "outputs": [
    {
     "name": "stdout",
     "output_type": "stream",
     "text": [
      "False\n"
     ]
    }
   ],
   "source": [
    "# Example 1: Comparing two integers with the greater than operator\n",
    "x = 5\n",
    "y = 10\n",
    "result = x > y  # result will be False because x is not greater than y.\n",
    "print(result)    # This will print False"
   ],
   "metadata": {
    "collapsed": false,
    "ExecuteTime": {
     "end_time": "2023-08-24T01:14:25.973600Z",
     "start_time": "2023-08-24T01:14:25.968599900Z"
    }
   },
   "id": "f93ffef2727d088b"
  },
  {
   "cell_type": "code",
   "execution_count": 36,
   "outputs": [
    {
     "name": "stdout",
     "output_type": "stream",
     "text": [
      "True\n"
     ]
    }
   ],
   "source": [
    "# Example 2: Comparing two floating-point numbers with the greater than operator\n",
    "x = 6.0\n",
    "y = 5.0\n",
    "result = x > y  # result will be True because x is greater than y.\n",
    "print(result)    # This will print True"
   ],
   "metadata": {
    "collapsed": false,
    "ExecuteTime": {
     "end_time": "2023-08-24T01:16:09.761143500Z",
     "start_time": "2023-08-24T01:16:09.730615300Z"
    }
   },
   "id": "d5bc432f19bba517"
  },
  {
   "cell_type": "code",
   "execution_count": 35,
   "outputs": [
    {
     "ename": "TypeError",
     "evalue": "'>' not supported between instances of 'int' and 'str'",
     "output_type": "error",
     "traceback": [
      "\u001B[1;31m---------------------------------------------------------------------------\u001B[0m",
      "\u001B[1;31mTypeError\u001B[0m                                 Traceback (most recent call last)",
      "Cell \u001B[1;32mIn[35], line 4\u001B[0m\n\u001B[0;32m      2\u001B[0m x \u001B[38;5;241m=\u001B[39m \u001B[38;5;241m5\u001B[39m\n\u001B[0;32m      3\u001B[0m y \u001B[38;5;241m=\u001B[39m \u001B[38;5;124m\"\u001B[39m\u001B[38;5;124m10\u001B[39m\u001B[38;5;124m\"\u001B[39m\n\u001B[1;32m----> 4\u001B[0m result \u001B[38;5;241m=\u001B[39m \u001B[43mx\u001B[49m\u001B[43m \u001B[49m\u001B[38;5;241;43m>\u001B[39;49m\u001B[43m \u001B[49m\u001B[43my\u001B[49m\n",
      "\u001B[1;31mTypeError\u001B[0m: '>' not supported between instances of 'int' and 'str'"
     ]
    }
   ],
   "source": [
    "# Example 2: Comparing integer with string with the greater than operator\n",
    "x = 5\n",
    "y = \"10\"\n",
    "result = x > y  # result will be False because x is not greater than y.\n"
   ],
   "metadata": {
    "collapsed": false,
    "ExecuteTime": {
     "end_time": "2023-08-24T01:15:05.752519500Z",
     "start_time": "2023-08-24T01:15:05.738520100Z"
    }
   },
   "id": "c6ad14a6a9aba669"
  },
  {
   "cell_type": "markdown",
   "source": [
    "## Less Than Operator (<)\n",
    "\n",
    "The less than operator, represented as $<$, checks if the value on the left side is less than the value on the right side. It returns True if the left operand is less than the right operand, and False otherwise."
   ],
   "metadata": {
    "collapsed": false
   },
   "id": "45b9a69c17a9fd95"
  },
  {
   "cell_type": "code",
   "execution_count": null,
   "outputs": [],
   "source": [
    "# Example 1: Comparing two integers with the less than operator\n",
    "x = 5\n",
    "y = 10\n",
    "result = x < y  # result will be True because x is less than y.\n",
    "print(result)    # This will print True"
   ],
   "metadata": {
    "collapsed": false
   },
   "id": "d76a46c683261fe8"
  },
  {
   "cell_type": "code",
   "execution_count": 38,
   "outputs": [],
   "source": [
    "# Example 2: Comparing two floating-point numbers with the less than operator\n",
    "x = 3.0\n",
    "y = 5.0\n",
    "result = x < y  # result will be True because x is less than y.\n",
    "print(result)    # This will print True"
   ],
   "metadata": {
    "collapsed": false,
    "ExecuteTime": {
     "end_time": "2023-08-24T01:17:41.095096500Z",
     "start_time": "2023-08-24T01:17:41.083265700Z"
    }
   },
   "id": "4f945cb3d975282a"
  },
  {
   "cell_type": "markdown",
   "source": [
    "## Greater Than or Equal To Operator (>=)\n",
    "The greater than or equal to operator, represented as $>=$, checks if the left operand is greater than or equal to the right operand. It returns True if the left operand is either greater than or equal to the right operand, and False if neither condition is met."
   ],
   "metadata": {
    "collapsed": false
   },
   "id": "8c651bb72b01a5ce"
  },
  {
   "cell_type": "code",
   "execution_count": null,
   "outputs": [],
   "source": [
    "# Example 1: Comparing two integers with the greater than or equal to operator\n",
    "x = 5\n",
    "y = 5\n",
    "result = x >= y  # result will be True because x is greater than or equal to y."
   ],
   "metadata": {
    "collapsed": false
   },
   "id": "5d905d64f9d38f1b"
  },
  {
   "cell_type": "code",
   "execution_count": 39,
   "outputs": [
    {
     "name": "stdout",
     "output_type": "stream",
     "text": [
      "False\n"
     ]
    }
   ],
   "source": [
    "# Example 2: Comparing two floating-point numbers with the greater than or equal to operator\n",
    "x = 5.0\n",
    "y = 6.0\n",
    "result = x >= y  # result will be False because x is not greater than or equal to y.\n",
    "print(result)    # This will print False"
   ],
   "metadata": {
    "collapsed": false,
    "ExecuteTime": {
     "end_time": "2023-08-24T01:23:29.274543Z",
     "start_time": "2023-08-24T01:23:29.260976400Z"
    }
   },
   "id": "8538e68fd670a92d"
  },
  {
   "cell_type": "markdown",
   "source": [
    "## Less Than or Equal To Operator (<=)\n",
    "The less than or equal to operator, represented as $<=$, checks if the left operand is less than or equal to the right operand. It returns True if the left operand is either less than or equal to the right operand, and False if neither condition is met."
   ],
   "metadata": {
    "collapsed": false
   },
   "id": "1593c596537bf643"
  },
  {
   "cell_type": "code",
   "execution_count": null,
   "outputs": [],
   "source": [
    "# Example 1: Comparing two integers with the less than or equal to operator\n",
    "x = 5\n",
    "y = 8\n",
    "result = x <= y  # result will be True because x is less than or equal to y.\n",
    "print(result)    # This will print True"
   ],
   "metadata": {
    "collapsed": false
   },
   "id": "ff72e084b78c1d9d"
  },
  {
   "cell_type": "code",
   "execution_count": 40,
   "outputs": [
    {
     "name": "stdout",
     "output_type": "stream",
     "text": [
      "True\n"
     ]
    }
   ],
   "source": [
    "# Example 2: Comparing two floating-point numbers with the less than or equal to operator\n",
    "x = 5.0\n",
    "y = 5.0\n",
    "result = x <= y  # result will be True because x is less than or equal to y.\n",
    "print(result)    # This will print True"
   ],
   "metadata": {
    "collapsed": false,
    "ExecuteTime": {
     "end_time": "2023-08-24T01:24:39.517343400Z",
     "start_time": "2023-08-24T01:24:39.512343600Z"
    }
   },
   "id": "a82f2c2834b3ce4e"
  },
  {
   "cell_type": "markdown",
   "source": [
    "# Boolean or logical operators\n",
    "\n",
    "Logical operators in Python are used to combine two or more conditions.\n",
    "There are three logical operators in Python: and, or, and not.\n",
    "\n",
    "Operator\tLogical Operation\n",
    "and\t        Conjunction\n",
    "or\t        Disjunction\n",
    "not\t        Negation\n",
    "\n",
    "\n",
    "With these operators, you can build expressions by connecting Boolean expressions with each other, objects with each other, and even Boolean expressions with objects. Python uses English words for the Boolean operators. These words are keywords of the language, so you can’t use them as identifiers without causing a syntax error."
   ],
   "metadata": {
    "collapsed": false
   },
   "id": "386dc620cb171005"
  },
  {
   "cell_type": "markdown",
   "source": [
    "## Logical AND Operator (and)"
   ],
   "metadata": {
    "collapsed": false
   },
   "id": "b4a321cec33e1e76"
  },
  {
   "cell_type": "code",
   "execution_count": null,
   "outputs": [],
   "source": [
    "# Example 1: Logical AND operator for two integers\n",
    "x = 5\n",
    "print(x > 3 and x < 10)  # This will print True because both conditions are True"
   ],
   "metadata": {
    "collapsed": false
   },
   "id": "e3257fe2f4bd816b"
  },
  {
   "cell_type": "code",
   "execution_count": 46,
   "outputs": [
    {
     "name": "stdout",
     "output_type": "stream",
     "text": [
      "True\n"
     ]
    }
   ],
   "source": [
    "# Example 2: Logical AND operator for two strings\n",
    "x = \"Hello\"\n",
    "print(x == \"Hello\" and x != \"World\")  # This will print True because both conditions are True"
   ],
   "metadata": {
    "collapsed": false,
    "ExecuteTime": {
     "end_time": "2023-08-24T01:59:10.116642400Z",
     "start_time": "2023-08-24T01:59:10.111135300Z"
    }
   },
   "id": "7032bac42875a883"
  },
  {
   "cell_type": "code",
   "execution_count": 47,
   "outputs": [
    {
     "name": "stdout",
     "output_type": "stream",
     "text": [
      "False\n"
     ]
    }
   ],
   "source": [
    "# Example 3: Logical AND operator for two floating-point numbers\n",
    "# This will result false\n",
    "x = 5.0\n",
    "print(x > 3.0 and x < 4.0)  # This will print False because both conditions are False"
   ],
   "metadata": {
    "collapsed": false,
    "ExecuteTime": {
     "end_time": "2023-08-24T02:03:37.349969200Z",
     "start_time": "2023-08-24T02:03:37.318964Z"
    }
   },
   "id": "1d0ff75b04370fd9"
  },
  {
   "cell_type": "markdown",
   "source": [
    "## Logical OR Operator (or)"
   ],
   "metadata": {
    "collapsed": false
   },
   "id": "e803b873d54aeee9"
  },
  {
   "cell_type": "code",
   "execution_count": null,
   "outputs": [],
   "source": [
    "# Example 1: Logical OR operator for two integers\n",
    "x = 5\n",
    "print(x > 3 or x < 4)  # This will print True because one of the conditions is True\n"
   ],
   "metadata": {
    "collapsed": false
   },
   "id": "3fd8d66836b8b638"
  },
  {
   "cell_type": "code",
   "execution_count": null,
   "outputs": [],
   "source": [
    "# Example 2: Logical OR operator for two strings\n",
    "x = \"Hello\"\n",
    "print(x == \"Hello\" or x != \"World\")  # This will print True because one of the conditions is True   "
   ],
   "metadata": {
    "collapsed": false
   },
   "id": "61541da759a54a32"
  },
  {
   "cell_type": "code",
   "execution_count": null,
   "outputs": [],
   "source": [
    "# Example 2: Logical OR operator for two strings\n",
    "# This will result false\n",
    "x = \"Hello\"\n",
    "print(x == \"World\" or x != \"Hello\")  # This will print False because both conditions are False"
   ],
   "metadata": {
    "collapsed": false
   },
   "id": "51b52c5aa155561"
  },
  {
   "cell_type": "markdown",
   "source": [
    "## Logical NOT Operator (not)\n",
    "\n",
    "The not operator is the Boolean or logical operator that implements negation in Python. It’s unary, which means that it takes only one operand. The operand can be a Boolean expression or any Python object. Even user-defined objects work. The task of not is to reverse the truth value of its operand.\n"
   ],
   "metadata": {
    "collapsed": false
   },
   "id": "ae1d98b4a39d9ace"
  },
  {
   "cell_type": "code",
   "execution_count": 58,
   "outputs": [
    {
     "name": "stdout",
     "output_type": "stream",
     "text": [
      "The boolen operation is: True\n",
      "The result will be: False due to the non reverse the result\n"
     ]
    }
   ],
   "source": [
    "# Example 1: Logical NOT operator for two integers\n",
    "# This will return true\n",
    "x = 5\n",
    "bool_res=(x > 3 and x < 10) # This will return True because both conditions are True\n",
    "print(f'The boolen operation is: {bool_res}') # This will print True\n",
    "print(f'The result will be: {not(bool_res)} due to the non reverse the result')  # This will print False because the not operator will reverse the result of the condition\n",
    "\n"
   ],
   "metadata": {
    "collapsed": false,
    "ExecuteTime": {
     "end_time": "2023-08-24T02:16:12.549418600Z",
     "start_time": "2023-08-24T02:16:12.530419300Z"
    }
   },
   "id": "1289b1bf261c6d4c"
  },
  {
   "cell_type": "code",
   "execution_count": 59,
   "outputs": [
    {
     "name": "stdout",
     "output_type": "stream",
     "text": [
      "The result will be: True due to the non reverse the result\n"
     ]
    }
   ],
   "source": [
    "# Example 2: Logical NOT operator for two strings\n",
    "\n",
    "x = \"Hello\"\n",
    "bool_res=(x == \"Hello\" and x == \"World\")  # This will return False because one of  conditions is False\n",
    "print(f'The result will be: {not(bool_res)} due to the non reverse the result')"
   ],
   "metadata": {
    "collapsed": false,
    "ExecuteTime": {
     "end_time": "2023-08-24T02:17:31.597447800Z",
     "start_time": "2023-08-24T02:17:31.591448200Z"
    }
   },
   "id": "55247fc21f1ca583"
  },
  {
   "cell_type": "markdown",
   "source": [
    "## Membership Operators\n",
    "\n",
    "Membership operators in Python are used to check if a value is present in a sequence or not.\n",
    "There are two membership operators in Python: in and not in.\n"
   ],
   "metadata": {
    "collapsed": false
   },
   "id": "e0e5c0262fddda3"
  },
  {
   "cell_type": "markdown",
   "source": [
    "### in Operator"
   ],
   "metadata": {
    "collapsed": false
   },
   "id": "be7c81c3eca7f67d"
  },
  {
   "cell_type": "code",
   "execution_count": 60,
   "outputs": [
    {
     "name": "stdout",
     "output_type": "stream",
     "text": [
      "True\n"
     ]
    }
   ],
   "source": [
    "# Example 1: Membership operator in a list\n",
    "x = [1, 2, 3, 4, 5]\n",
    "print(3 in x)  # This will print True because 3 is in the list"
   ],
   "metadata": {
    "collapsed": false,
    "ExecuteTime": {
     "end_time": "2023-08-24T02:20:56.994845100Z",
     "start_time": "2023-08-24T02:20:56.978338200Z"
    }
   },
   "id": "f4a5c69e19e67f95"
  },
  {
   "cell_type": "code",
   "execution_count": null,
   "outputs": [],
   "source": [
    "# Example 6: Membership operator in a list\n",
    "x = [1, 2, 3, 4, 5]\n",
    "print(6 in x)  # This will print False because 6 is not in the list"
   ],
   "metadata": {
    "collapsed": false
   },
   "id": "67ae65b67aee748f"
  },
  {
   "cell_type": "code",
   "execution_count": 61,
   "outputs": [
    {
     "name": "stdout",
     "output_type": "stream",
     "text": [
      "True\n"
     ]
    }
   ],
   "source": [
    "# Example 2: Membership operator in a string\n",
    "x = \"Hello World\"\n",
    "print(\"Hello\" in x)  # This will print True because \"Hello\" is in the string"
   ],
   "metadata": {
    "collapsed": false,
    "ExecuteTime": {
     "end_time": "2023-08-24T02:21:13.801066500Z",
     "start_time": "2023-08-24T02:21:13.787062400Z"
    }
   },
   "id": "f6469781e36ce0a6"
  },
  {
   "cell_type": "code",
   "execution_count": null,
   "outputs": [],
   "source": [
    "# Example 7: Membership operator in a string\n",
    "x = \"Hello World\"\n",
    "print(\"Word\" in x)  # This will print False because \"Word\" is not in the string"
   ],
   "metadata": {
    "collapsed": false
   },
   "id": "8b0e670bfc301af3"
  },
  {
   "cell_type": "code",
   "execution_count": null,
   "outputs": [],
   "source": [
    "# Example 3: Membership operator in a tuple\n",
    "x = (1, 2, 3, 4, 5)\n",
    "print(3 in x)  # This will print True because 3 is in the tuple"
   ],
   "metadata": {
    "collapsed": false
   },
   "id": "dbe9099650224dba"
  },
  {
   "cell_type": "code",
   "execution_count": null,
   "outputs": [],
   "source": [
    "# Example 8: Membership operator in a tuple\n",
    "x = (1, 2, 3, 4, 5)\n",
    "print(6 in x)  # This will print False because 6 is not in the tuple"
   ],
   "metadata": {
    "collapsed": false
   },
   "id": "593207eef196b20c"
  },
  {
   "cell_type": "code",
   "execution_count": 62,
   "outputs": [
    {
     "name": "stdout",
     "output_type": "stream",
     "text": [
      "True\n"
     ]
    }
   ],
   "source": [
    "# Example 4: Membership operator in a dictionary\n",
    "x = {\"name\": \"John\", \"age\": 36}\n",
    "print(\"name\" in x)  # This will print True because \"name\" is in the dictionary"
   ],
   "metadata": {
    "collapsed": false,
    "ExecuteTime": {
     "end_time": "2023-08-24T02:21:33.605783700Z",
     "start_time": "2023-08-24T02:21:33.573260100Z"
    }
   },
   "id": "254d9655dd4d8ce3"
  },
  {
   "cell_type": "code",
   "execution_count": null,
   "outputs": [],
   "source": [
    "# Example 5: Membership operator in a set\n",
    "x = {1, 2, 3, 4, 5}\n",
    "print(3 in x)  # This will print True because 3 is in the set"
   ],
   "metadata": {
    "collapsed": false
   },
   "id": "bddeb584209b7eae"
  },
  {
   "cell_type": "markdown",
   "source": [
    "### not in Operator"
   ],
   "metadata": {
    "collapsed": false
   },
   "id": "32f791078139f44a"
  },
  {
   "cell_type": "code",
   "execution_count": null,
   "outputs": [],
   "source": [
    "# Example 1: Membership operator in a list\n",
    "x = [1, 2, 3, 4, 5]\n",
    "print(3 not in x)  # This will print False because 3 is in the list"
   ],
   "metadata": {
    "collapsed": false
   },
   "id": "360ff5b9d463ca5f"
  },
  {
   "cell_type": "code",
   "execution_count": 66,
   "outputs": [
    {
     "name": "stdout",
     "output_type": "stream",
     "text": [
      "True\n"
     ]
    }
   ],
   "source": [
    "# Example 2: Membership operator in a list\n",
    "x = [1, 2, 3, 4, 5]\n",
    "print(6 not in x)  # This will print True because 6 is not in the list"
   ],
   "metadata": {
    "collapsed": false,
    "ExecuteTime": {
     "end_time": "2023-08-24T02:26:03.950103600Z",
     "start_time": "2023-08-24T02:26:03.943102100Z"
    }
   },
   "id": "78b1332abb6f43cf"
  },
  {
   "cell_type": "code",
   "execution_count": 67,
   "outputs": [
    {
     "name": "stdout",
     "output_type": "stream",
     "text": [
      "False\n"
     ]
    }
   ],
   "source": [
    "# Example 3: Membership operator in a string\n",
    "x = \"Hello World\"\n",
    "print(\"Hello\" not in x)  # This will print False because \"Hello\" is in the string"
   ],
   "metadata": {
    "collapsed": false,
    "ExecuteTime": {
     "end_time": "2023-08-24T02:27:33.648213600Z",
     "start_time": "2023-08-24T02:27:33.631213500Z"
    }
   },
   "id": "acb9b01309ca4938"
  },
  {
   "cell_type": "code",
   "execution_count": 68,
   "outputs": [
    {
     "name": "stdout",
     "output_type": "stream",
     "text": [
      "True\n"
     ]
    }
   ],
   "source": [
    "# Example 4: Membership operator in a string\n",
    "x = \"Hello World\"\n",
    "print(\"Word\" not in x)  # This will print True because \"Word\" is not in the string"
   ],
   "metadata": {
    "collapsed": false,
    "ExecuteTime": {
     "end_time": "2023-08-24T02:27:44.556613Z",
     "start_time": "2023-08-24T02:27:44.549611700Z"
    }
   },
   "id": "c70853732f65fdf8"
  },
  {
   "cell_type": "code",
   "execution_count": 69,
   "outputs": [
    {
     "name": "stdout",
     "output_type": "stream",
     "text": [
      "False\n"
     ]
    }
   ],
   "source": [
    "# Example 5: Membership operator in a tuple\n",
    "x = (1, 2, 3, 4, 5)\n",
    "print(3 not in x)  # This will print False because 3 is in the tuple"
   ],
   "metadata": {
    "collapsed": false,
    "ExecuteTime": {
     "end_time": "2023-08-24T02:27:54.449897800Z",
     "start_time": "2023-08-24T02:27:54.431897500Z"
    }
   },
   "id": "71c8bf422d701d1c"
  },
  {
   "cell_type": "code",
   "execution_count": 70,
   "outputs": [
    {
     "name": "stdout",
     "output_type": "stream",
     "text": [
      "True\n"
     ]
    }
   ],
   "source": [
    "# Example 6: Membership operator in a tuple\n",
    "x = (1, 2, 3, 4, 5)\n",
    "print(6 not in x)  # This will print True because 6 is not in the tuple"
   ],
   "metadata": {
    "collapsed": false,
    "ExecuteTime": {
     "end_time": "2023-08-24T02:28:03.837242900Z",
     "start_time": "2023-08-24T02:28:03.819768600Z"
    }
   },
   "id": "f930e280e3d9a25e"
  },
  {
   "cell_type": "markdown",
   "source": [
    "When the in operator is used with a dictionary, it checks if the dictionary has the specified key."
   ],
   "metadata": {
    "collapsed": false
   },
   "id": "c7a24d9fd351d930"
  },
  {
   "cell_type": "code",
   "execution_count": 79,
   "outputs": [
    {
     "name": "stdout",
     "output_type": "stream",
     "text": [
      "False\n"
     ]
    }
   ],
   "source": [
    "# Example 7: Membership operator in a dictionary\n",
    "x = {\"name\": \"John\", \"age\": 36}\n",
    "print(\"name\" not in x)  # This will print False because \"name\" is in the dictionary"
   ],
   "metadata": {
    "collapsed": false,
    "ExecuteTime": {
     "end_time": "2023-08-24T02:31:28.420120500Z",
     "start_time": "2023-08-24T02:31:28.401846500Z"
    }
   },
   "id": "c3847d4c0de4c5e1"
  },
  {
   "cell_type": "code",
   "execution_count": 81,
   "outputs": [
    {
     "name": "stdout",
     "output_type": "stream",
     "text": [
      "True\n"
     ]
    }
   ],
   "source": [
    "# Example 8: Membership operator in a dictionary\n",
    "x = {\"name\": \"John\", \"age\": 36}\n",
    "print(36 not in x)  # This will print True because 36 is not part of the key but a value for the key age"
   ],
   "metadata": {
    "collapsed": false,
    "ExecuteTime": {
     "end_time": "2023-08-24T02:31:49.685877700Z",
     "start_time": "2023-08-24T02:31:49.662877700Z"
    }
   },
   "id": "2c93f4551eb33131"
  },
  {
   "cell_type": "code",
   "execution_count": 78,
   "outputs": [
    {
     "name": "stdout",
     "output_type": "stream",
     "text": [
      "False\n"
     ]
    }
   ],
   "source": [
    "# Example 8: Membership operator in a set\n",
    "x = {1, 2, 3, 4, 5}\n",
    "print(3 not in x)  # This will print False because 3 is in the set"
   ],
   "metadata": {
    "collapsed": false,
    "ExecuteTime": {
     "end_time": "2023-08-24T02:30:50.408375800Z",
     "start_time": "2023-08-24T02:30:50.389376500Z"
    }
   },
   "id": "c5a36dac3654b19f"
  },
  {
   "cell_type": "markdown",
   "source": [
    "# Bitwise Operators\n",
    "\n",
    "I just put it here for your information. You can skip it for this subject. Even me, I don't use it in my daily work."
   ],
   "metadata": {
    "collapsed": false
   },
   "id": "b26c0cbb04e3c9d7"
  },
  {
   "cell_type": "code",
   "execution_count": 82,
   "outputs": [
    {
     "name": "stdout",
     "output_type": "stream",
     "text": [
      "1\n"
     ]
    }
   ],
   "source": [
    "# Example 1: Bitwise AND operator\n",
    "x = 5  # 0101\n",
    "y = 3  # 0011\n",
    "print(x & y)  # This will print 1 because 0101 & 0011 = 0001"
   ],
   "metadata": {
    "collapsed": false,
    "ExecuteTime": {
     "end_time": "2023-08-24T02:38:07.615276600Z",
     "start_time": "2023-08-24T02:38:07.608275600Z"
    }
   },
   "id": "64a0d01fd8f9d01d"
  },
  {
   "cell_type": "code",
   "execution_count": 83,
   "outputs": [
    {
     "name": "stdout",
     "output_type": "stream",
     "text": [
      "7\n"
     ]
    }
   ],
   "source": [
    "# Example 2: Bitwise OR operator\n",
    "x = 5  # 0101\n",
    "y = 3  # 0011\n",
    "print(x | y)  # This will print 7 because 0101 | 0011 = 0111"
   ],
   "metadata": {
    "collapsed": false,
    "ExecuteTime": {
     "end_time": "2023-08-24T02:38:48.156420400Z",
     "start_time": "2023-08-24T02:38:48.148187400Z"
    }
   },
   "id": "4fac4903a1616d89"
  },
  {
   "cell_type": "code",
   "execution_count": 84,
   "outputs": [
    {
     "name": "stdout",
     "output_type": "stream",
     "text": [
      "6\n"
     ]
    }
   ],
   "source": [
    "# Example 3: Bitwise XOR operator\n",
    "x = 5  # 0101\n",
    "y = 3  # 0011\n",
    "print(x ^ y)  # This will print 6 because 0101 ^ 0011 = 0110"
   ],
   "metadata": {
    "collapsed": false,
    "ExecuteTime": {
     "end_time": "2023-08-24T02:39:04.853276200Z",
     "start_time": "2023-08-24T02:39:04.828415900Z"
    }
   },
   "id": "e9ae468f43a1312a"
  },
  {
   "cell_type": "code",
   "execution_count": 85,
   "outputs": [
    {
     "name": "stdout",
     "output_type": "stream",
     "text": [
      "-6\n"
     ]
    }
   ],
   "source": [
    "# Example 4: Bitwise NOT operator\n",
    "x = 5  # 0101\n",
    "print(~x)  # This will print -6 because ~0101 = 1010"
   ],
   "metadata": {
    "collapsed": false,
    "ExecuteTime": {
     "end_time": "2023-08-24T02:39:15.002420400Z",
     "start_time": "2023-08-24T02:39:14.970907400Z"
    }
   },
   "id": "45075c8406b021d3"
  },
  {
   "cell_type": "code",
   "execution_count": 86,
   "outputs": [
    {
     "name": "stdout",
     "output_type": "stream",
     "text": [
      "10\n"
     ]
    }
   ],
   "source": [
    "# Example 5: Bitwise left shift operator\n",
    "x = 5  # 0101\n",
    "print(x << 1)  # This will print 10 because 0101 << 1 = 1010\n"
   ],
   "metadata": {
    "collapsed": false,
    "ExecuteTime": {
     "end_time": "2023-08-24T02:39:27.076832Z",
     "start_time": "2023-08-24T02:39:27.057636300Z"
    }
   },
   "id": "e0c4857a04cde1e0"
  },
  {
   "cell_type": "code",
   "execution_count": 87,
   "outputs": [
    {
     "name": "stdout",
     "output_type": "stream",
     "text": [
      "2\n"
     ]
    }
   ],
   "source": [
    "# Example 6: Bitwise right shift operator\n",
    "x = 5  # 0101\n",
    "print(x >> 1)  # This will print 2 because 0101 >> 1 = 0010"
   ],
   "metadata": {
    "collapsed": false,
    "ExecuteTime": {
     "end_time": "2023-08-24T02:39:38.409591300Z",
     "start_time": "2023-08-24T02:39:38.389316500Z"
    }
   },
   "id": "31d694f44b764ba7"
  },
  {
   "cell_type": "code",
   "execution_count": 88,
   "outputs": [
    {
     "name": "stdout",
     "output_type": "stream",
     "text": [
      "20\n"
     ]
    }
   ],
   "source": [
    "# Example 7: Bitwise left shift operator\n",
    "x = 5  # 0101\n",
    "print(x << 2)  # This will print 20 because 0101 << 2 = 10100\n"
   ],
   "metadata": {
    "collapsed": false,
    "ExecuteTime": {
     "end_time": "2023-08-24T02:39:50.767795800Z",
     "start_time": "2023-08-24T02:39:50.742609Z"
    }
   },
   "id": "347e194437edfb7d"
  },
  {
   "cell_type": "code",
   "execution_count": null,
   "outputs": [],
   "source": [],
   "metadata": {
    "collapsed": false
   },
   "id": "feb5bf472342162a"
  },
  {
   "cell_type": "markdown",
   "source": [
    "# Identity Operators\n",
    "\n",
    "I just put it here for your information. You can skip it for this subject. Even me, I don't use it in my daily work."
   ],
   "metadata": {
    "collapsed": false
   },
   "id": "2bc26d018f2823f9"
  },
  {
   "cell_type": "code",
   "execution_count": 89,
   "outputs": [
    {
     "name": "stdout",
     "output_type": "stream",
     "text": [
      "True\n"
     ]
    }
   ],
   "source": [
    "# Example 1: Identity operator\n",
    "x = 5\n",
    "y = 5\n",
    "print(x is y)  # This will print True because x and y are the same object"
   ],
   "metadata": {
    "collapsed": false,
    "ExecuteTime": {
     "end_time": "2023-08-24T02:41:17.614239700Z",
     "start_time": "2023-08-24T02:41:17.605240Z"
    }
   },
   "id": "24602f8ed84b930d"
  },
  {
   "cell_type": "code",
   "execution_count": 90,
   "outputs": [
    {
     "name": "stdout",
     "output_type": "stream",
     "text": [
      "False\n"
     ]
    }
   ],
   "source": [
    "# Example 2: Identity operator\n",
    "x = 5\n",
    "y = 5\n",
    "print(x is not y)  # This will print False because x and y are the same object"
   ],
   "metadata": {
    "collapsed": false,
    "ExecuteTime": {
     "end_time": "2023-08-24T02:41:30.408366500Z",
     "start_time": "2023-08-24T02:41:30.388649900Z"
    }
   },
   "id": "b32bb0cf8dfd100c"
  },
  {
   "cell_type": "markdown",
   "source": [
    "# Associativity"
   ],
   "metadata": {
    "collapsed": false
   },
   "id": "68d2cde3c8fd5310"
  },
  {
   "cell_type": "code",
   "execution_count": 91,
   "outputs": [
    {
     "name": "stdout",
     "output_type": "stream",
     "text": [
      "10\n"
     ]
    }
   ],
   "source": [
    "# Example 1: Associativity\n",
    "x = 5 + 3 + 2  # This will give you the result 10\n",
    "print(x)"
   ],
   "metadata": {
    "collapsed": false,
    "ExecuteTime": {
     "end_time": "2023-08-24T02:42:15.598628700Z",
     "start_time": "2023-08-24T02:42:15.583201900Z"
    }
   },
   "id": "f7107511da36a615"
  },
  {
   "cell_type": "code",
   "execution_count": 92,
   "outputs": [],
   "source": [
    "# Example 2: Associativity\n",
    "x = 5 + 3 - 2  # This will give you the result 6"
   ],
   "metadata": {
    "collapsed": false,
    "ExecuteTime": {
     "end_time": "2023-08-24T02:42:23.926121600Z",
     "start_time": "2023-08-24T02:42:23.895122400Z"
    }
   },
   "id": "81b677aabb9df79b"
  },
  {
   "cell_type": "code",
   "execution_count": 93,
   "outputs": [],
   "source": [
    "# Example 3: Associativity\n",
    "x = 5 - 3 + 2  # This will give you the result 4"
   ],
   "metadata": {
    "collapsed": false,
    "ExecuteTime": {
     "end_time": "2023-08-24T02:42:33.229797700Z",
     "start_time": "2023-08-24T02:42:33.207797Z"
    }
   },
   "id": "46e127c6e2abce74"
  },
  {
   "cell_type": "code",
   "execution_count": null,
   "outputs": [],
   "source": [
    "# Example 4: Associativity Right to Left\n",
    "x = 5 - (3 + 2)  # This will give you the result 0\n"
   ],
   "metadata": {
    "collapsed": false
   },
   "id": "f1f9863ef514bdf3"
  },
  {
   "cell_type": "code",
   "execution_count": null,
   "outputs": [],
   "source": [
    "# Example 5: Associativity Left to Right\n",
    "x = (5 - 3) + 2  # This will give you the result 4\n"
   ],
   "metadata": {
    "collapsed": false
   },
   "id": "3aafc0fcf0bc50a5"
  },
  {
   "cell_type": "markdown",
   "source": [],
   "metadata": {
    "collapsed": false
   },
   "id": "39b2a0ec0c11d642"
  }
 ],
 "metadata": {
  "kernelspec": {
   "display_name": "Python 3",
   "language": "python",
   "name": "python3"
  },
  "language_info": {
   "codemirror_mode": {
    "name": "ipython",
    "version": 2
   },
   "file_extension": ".py",
   "mimetype": "text/x-python",
   "name": "python",
   "nbconvert_exporter": "python",
   "pygments_lexer": "ipython2",
   "version": "2.7.6"
  }
 },
 "nbformat": 4,
 "nbformat_minor": 5
}
