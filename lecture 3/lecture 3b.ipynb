{
 "cells": [
  {
   "cell_type": "markdown",
   "id": "e66ef4b65fa0987",
   "metadata": {
    "collapsed": false
   },
   "source": [
    "# Section 1: if Statement"
   ]
  },
  {
   "cell_type": "markdown",
   "source": [
    "if statements are used to test for particular conditions and respond appropriately.\n",
    "It is used to check the condition and execute the statements accordingly.\n",
    "The general syntax of if statement is:\n",
    "if condition:\n",
    "    statement1\n",
    "    statement2\n",
    "    statement3\n",
    "    ...."
   ],
   "metadata": {
    "collapsed": false
   },
   "id": "4b2a6984258462b3"
  },
  {
   "cell_type": "code",
   "execution_count": 1,
   "id": "fecc79cc45d43544",
   "metadata": {
    "ExecuteTime": {
     "end_time": "2023-08-23T13:57:05.809914800Z",
     "start_time": "2023-08-23T13:57:05.794914700Z"
    },
    "collapsed": false
   },
   "outputs": [
    {
     "name": "stdout",
     "output_type": "stream",
     "text": [
      "The given number 10 is positive\n"
     ]
    }
   ],
   "source": [
    "# Example 1\n",
    "# Check if a number is positive or negative\n",
    "x=10\n",
    "if x>0:\n",
    "    print(f\"The given number {x} is positive\")"
   ]
  },
  {
   "cell_type": "markdown",
   "id": "7f6b033f5b0d7351",
   "metadata": {
    "collapsed": false
   },
   "source": [
    "In the Example 1, we only have one condition to check. But what if we have two conditions to check?\n",
    "or, if the condition is not satisfied, we want to give general message to the user."
   ]
  },
  {
   "cell_type": "code",
   "execution_count": 5,
   "id": "3dbcdfb9f0900e87",
   "metadata": {
    "ExecuteTime": {
     "end_time": "2023-08-23T13:25:25.116613500Z",
     "start_time": "2023-08-23T13:25:25.114613400Z"
    },
    "collapsed": false
   },
   "outputs": [
    {
     "name": "stdout",
     "output_type": "stream",
     "text": [
      "The given number -20 is negative\n"
     ]
    }
   ],
   "source": [
    "# Example 2\n",
    "# Check if a number is positive or negative\n",
    "x=-20\n",
    "if x>0:\n",
    "    print(f\"The given number {x} is positive\")\n",
    "else:\n",
    "    print(f\"The given number {x} is negative\")"
   ]
  },
  {
   "cell_type": "markdown",
   "id": "cbd529e1f1aeda9d",
   "metadata": {
    "collapsed": false
   },
   "source": [
    "In example 2, we have only two conditions to check. But what if we have more than two conditions to check?\n",
    "\n",
    "Here, we can use elif statement."
   ]
  },
  {
   "cell_type": "code",
   "execution_count": 6,
   "id": "ac353d6e411d82a7",
   "metadata": {
    "ExecuteTime": {
     "end_time": "2023-08-23T13:26:21.583599500Z",
     "start_time": "2023-08-23T13:26:21.573431900Z"
    },
    "collapsed": false
   },
   "outputs": [
    {
     "name": "stdout",
     "output_type": "stream",
     "text": [
      "The given number 0 is zero\n"
     ]
    }
   ],
   "source": [
    "# Example 3\n",
    "# Check if a number is positive or negative or zero\n",
    "x=0\n",
    "if x>0:\n",
    "    print(f\"The given number {x} is positive\")\n",
    "elif x<0:\n",
    "    print(f\"The given number {x} is negative\")\n",
    "else:\n",
    "    print(f\"The given number {x} is zero\")"
   ]
  },
  {
   "cell_type": "markdown",
   "id": "17eecb73bc41d77f",
   "metadata": {
    "collapsed": false
   },
   "source": [
    "It is also possible to have nested if statements. This structure is beneficial when we want to check multiple conditions due to the fact that we can check for a condition and then check another condition inside the first condition."
   ]
  },
  {
   "cell_type": "code",
   "execution_count": 7,
   "id": "dab2f38fb0c7da22",
   "metadata": {
    "ExecuteTime": {
     "end_time": "2023-08-23T13:26:58.533763100Z",
     "start_time": "2023-08-23T13:26:58.525763100Z"
    },
    "collapsed": false
   },
   "outputs": [
    {
     "name": "stdout",
     "output_type": "stream",
     "text": [
      "The given number 0 is zero\n"
     ]
    }
   ],
   "source": [
    "# Example 4\n",
    "# Check if a number is positive or negative or zero\n",
    "x=0\n",
    "if x>=0:\n",
    "    if x==0:\n",
    "        print(f\"The given number {x} is zero\")\n",
    "    else:\n",
    "        print(f\"The given number {x} is positive\")\n",
    "else:\n",
    "    print(f\"The given number {x} is negative\")"
   ]
  },
  {
   "cell_type": "markdown",
   "id": "62b2afdaaae655ef",
   "metadata": {
    "collapsed": false
   },
   "source": [
    "# Section 2: for Statement"
   ]
  },
  {
   "cell_type": "markdown",
   "id": "9a560679b919e275",
   "metadata": {
    "collapsed": false
   },
   "source": [
    "For statements are used to iterate over the elements of a sequence (such as a string, tuple or list) or other iterable object.\n",
    "\n",
    "The for loop is used to iterate over elements in a sequence, and is often used when you have a piece of code that you want to repeat a number of times.\n"
   ]
  },
  {
   "cell_type": "markdown",
   "id": "a4a40207df356f26",
   "metadata": {
    "collapsed": false
   },
   "source": [
    "The codde below The command underneath the list then cycles through each entry in the species list and prints the animal’s name to the screen. \n"
   ]
  },
  {
   "cell_type": "code",
   "execution_count": 8,
   "id": "468abe8deb16a036",
   "metadata": {
    "ExecuteTime": {
     "end_time": "2023-08-23T13:28:54.064659400Z",
     "start_time": "2023-08-23T13:28:54.049270900Z"
    },
    "collapsed": false
   },
   "outputs": [
    {
     "name": "stdout",
     "output_type": "stream",
     "text": [
      "dog\n",
      "cat\n",
      "fish\n",
      "bird\n"
     ]
    }
   ],
   "source": [
    "# Example 5\n",
    "# Print each character in a string\n",
    "my_pet=[\"dog\",\"cat\",\"fish\",\"bird\"]\n",
    "for pet in my_pet:\n",
    "    print(pet)"
   ]
  },
  {
   "cell_type": "markdown",
   "id": "2a7700fb772185ff",
   "metadata": {
    "collapsed": false
   },
   "source": [
    "We also can use for loop for operation other than printing the element to screen. \n",
    "For example, we can use for loop to calculate the sum of the elements in a list."
   ]
  },
  {
   "cell_type": "code",
   "execution_count": 9,
   "id": "cffd18e2b1daf96a",
   "metadata": {
    "ExecuteTime": {
     "end_time": "2023-08-23T13:31:02.571549200Z",
     "start_time": "2023-08-23T13:31:02.566549400Z"
    },
    "collapsed": false
   },
   "outputs": [
    {
     "name": "stdout",
     "output_type": "stream",
     "text": [
      "The sum of the elements in the list is 219\n"
     ]
    }
   ],
   "source": [
    "# Example 6\n",
    "numbers=[1,20,18,5,15,160]\n",
    "total=0\n",
    "for value in numbers:\n",
    "    total=total+value\n",
    "print(f\"The sum of the elements in the list is {total}\")"
   ]
  },
  {
   "cell_type": "markdown",
   "id": "19d310594f50a925",
   "metadata": {
    "collapsed": false
   },
   "source": [
    "Nested loops\n"
   ]
  },
  {
   "cell_type": "markdown",
   "id": "f50319fdd8d59476",
   "metadata": {
    "collapsed": false
   },
   "source": [
    "In some situations, you may want a loop within a loop; this is known as a nested loop."
   ]
  },
  {
   "cell_type": "code",
   "execution_count": 13,
   "id": "6235cbf916e0e8c6",
   "metadata": {
    "ExecuteTime": {
     "end_time": "2023-08-23T13:32:53.092506100Z",
     "start_time": "2023-08-23T13:32:53.085999300Z"
    },
    "collapsed": false
   },
   "outputs": [
    {
     "name": "stdout",
     "output_type": "stream",
     "text": [
      "1 * 1 = 1\n",
      "1 * 2 = 2\n",
      "2 * 1 = 2\n",
      "2 * 2 = 4\n",
      "3 * 1 = 3\n",
      "3 * 2 = 6\n",
      "4 * 1 = 4\n",
      "4 * 2 = 8\n"
     ]
    }
   ],
   "source": [
    "for x in range (1,5):\n",
    "    for y in range (1,3):\n",
    "        print(f\"{x} * {y} = {x*y}\")"
   ]
  },
  {
   "cell_type": "markdown",
   "source": [
    "# Section 3: while Statement"
   ],
   "metadata": {
    "collapsed": false
   },
   "id": "4b7e6de0ff931250"
  },
  {
   "cell_type": "markdown",
   "source": [
    "The while loop tells the computer to do something as long as a specific condition is met.\n",
    "It essentially says:\n",
    "\t“while this is true, do this.”\n",
    "\n",
    "When working with while loops, its important to remember the nature of various operators.\n",
    "While loops use the break() and continue() functions in the same way as a for loop does."
   ],
   "metadata": {
    "collapsed": false
   },
   "id": "eeb68473d0b731a8"
  },
  {
   "cell_type": "code",
   "execution_count": null,
   "outputs": [],
   "source": [
    "# Example 9 \n",
    "species = ['dog', 'cat', 'shark', 'falcon', 'deer', 'tyrannosaurus rex']\n",
    "i = 0\n",
    "while i < 3:\n",
    "    print(species[i])\n",
    "    i = i + 1"
   ],
   "metadata": {
    "collapsed": false
   },
   "id": "ad6f6b912922a2c1"
  },
  {
   "cell_type": "markdown",
   "source": [
    "# Section 4: For loop vs. while loop\n"
   ],
   "metadata": {
    "collapsed": false
   },
   "id": "90e4923112e86100"
  },
  {
   "cell_type": "markdown",
   "source": [
    " comparison between 'for' and 'while' loops:\n",
    "\n",
    "| Feature | For Loops | While Loops |\n",
    "|---------|-----------|-------------|\n",
    "| Number of Iterations | Known: The for loop is the natural choice for cycling through a list, characters in a string, etc; basically, anything of determinate size. | Unbounded. The while loop is the natural choice if you are cycling through something, such as a sequence of numbers, an indeterminate number of times until some condition is met. |\n",
    "| Can End Early Via Break | Yes | Yes |\n",
    "| Uses a Counter | Yes | Yes, but must initialize before loop and increment it inside loop |\n",
    "| Can Rewrite Using Other Loop | Can rewrite a for loop using a while loop | May not be able to rewrite a while loop using a for loop |\n",
    "\n",
    "Based on my six years of experience with Python, I've found that 'for' loops are used more frequently than 'while' loops."
   ],
   "metadata": {
    "collapsed": false
   },
   "id": "8aae1d4f84d51572"
  },
  {
   "cell_type": "markdown",
   "id": "b4d23f377e2ba1ad",
   "metadata": {
    "collapsed": false
   },
   "source": []
  },
  {
   "cell_type": "markdown",
   "id": "41684f7c7d5dbc96",
   "metadata": {
    "collapsed": false
   },
   "source": [
    "# Section 5: break Statement\n",
    "\n",
    "* immediately exits whatever loop it is in\n",
    "* skips remaining expressions in code block\n",
    "* exits only innermost loop!\n"
   ]
  },
  {
   "cell_type": "code",
   "execution_count": 5,
   "id": "3991960601842e15",
   "metadata": {
    "ExecuteTime": {
     "end_time": "2023-08-23T13:46:01.759233Z",
     "start_time": "2023-08-23T13:46:01.752232800Z"
    },
    "collapsed": false
   },
   "outputs": [
    {
     "name": "stdout",
     "output_type": "stream",
     "text": [
      "Now checking 2\n",
      "2 is a prime number\n",
      "Something has been break\n",
      "Now checking 3\n",
      "3 is a prime number\n",
      "Something has been break\n",
      "Now checking 4\n",
      "4 is a prime number\n",
      "Something has been break\n",
      "Now checking 5\n",
      "5 is not a prime number\n"
     ]
    }
   ],
   "source": [
    "# Example 7\n",
    "# The program checks for prime numbers (i.e., 2, 3, 5, 7) within a specified range. \n",
    "for n in range (2,10):\n",
    "    print(f'Now checking {n}')\n",
    "    if n%5==0 and n!=3:\n",
    "        print(f\"{n} is not a prime number\")\n",
    "        break\n",
    "    else:\n",
    "        # loop fell thorugh without finding a factor\n",
    "        print(f'{n} is a prime number')"
   ]
  },
  {
   "cell_type": "markdown",
   "id": "70554a828107561b",
   "metadata": {
    "collapsed": false
   },
   "source": [
    "The statement break at value n equal to 6 because 6 is not a prime number, and at that time, n is not equal to 3."
   ]
  },
  {
   "cell_type": "markdown",
   "id": "a31ceea06a9885bc",
   "metadata": {
    "collapsed": false
   },
   "source": [
    "As mentioned previously, the 'break' statement leads to the skipping of remaining expressions in the code block, and it only exits the innermost loop, and continue with the code `print(mysum)`"
   ]
  },
  {
   "cell_type": "code",
   "execution_count": 6,
   "id": "604af54b",
   "metadata": {},
   "outputs": [
    {
     "name": "stdout",
     "output_type": "stream",
     "text": [
      "5\n"
     ]
    }
   ],
   "source": [
    "mysum = 0\n",
    "for i in range(5, 11, 2):\n",
    "    mysum += i\n",
    "    if mysum == 5:\n",
    "        break\n",
    "        mysum += 1\n",
    "print(mysum)"
   ]
  },
  {
   "cell_type": "markdown",
   "id": "cff622bdb8c88a5e",
   "metadata": {
    "collapsed": false
   },
   "source": [
    "# Section 6: continue Statement"
   ]
  },
  {
   "cell_type": "markdown",
   "id": "6017d6cf0fd1b73f",
   "metadata": {
    "collapsed": false
   },
   "source": [
    "The continue() statement is used to tell Python to skip the rest of the statements in the current loop block, and# then to continue to the next iteration of the loop.\n",
    "\n",
    "The code snippet below prints all the odd numbers from 1 to 10. The continue statement is used to skip the even numbers."
   ]
  },
  {
   "cell_type": "code",
   "execution_count": 28,
   "id": "8e9f8c175965ae78",
   "metadata": {
    "ExecuteTime": {
     "end_time": "2023-08-23T13:54:21.868504300Z",
     "start_time": "2023-08-23T13:54:21.856609200Z"
    },
    "collapsed": false
   },
   "outputs": [
    {
     "name": "stdout",
     "output_type": "stream",
     "text": [
      "Odd numbera: 1\n",
      "Odd numbera: 3\n",
      "Odd numbera: 5\n",
      "Odd numbera: 7\n",
      "Odd numbera: 9\n"
     ]
    }
   ],
   "source": [
    "# Example 8\n",
    "# Print odd numbers in a list\n",
    "\n",
    "for number in range(1, 11):\n",
    "    if number % 2 == 0:\n",
    "        continue\n",
    "    print(f'Odd numbera: {number}')"
   ]
  },
  {
   "cell_type": "markdown",
   "id": "bc9fb5cd34ed0a50",
   "metadata": {
    "collapsed": false
   },
   "source": [
    "This code iterates over the numbers from 1 to 10. If a number is even, the continue statement is executed, which skips the printing of the number. Only the odd numbers from 1 to 10 are printed."
   ]
  }
 ],
 "metadata": {
  "kernelspec": {
   "display_name": "Python 3",
   "language": "python",
   "name": "python3"
  },
  "language_info": {
   "codemirror_mode": {
    "name": "ipython",
    "version": 3
   },
   "file_extension": ".py",
   "mimetype": "text/x-python",
   "name": "python",
   "nbconvert_exporter": "python",
   "pygments_lexer": "ipython3",
   "version": "3.10.12"
  }
 },
 "nbformat": 4,
 "nbformat_minor": 5
}
