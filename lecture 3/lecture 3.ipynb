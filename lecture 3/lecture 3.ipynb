{
 "cells": [
  {
   "cell_type": "code",
   "execution_count": null,
   "id": "initial_id",
   "metadata": {
    "collapsed": true
   },
   "outputs": [],
   "source": []
  },
  {
   "cell_type": "markdown",
   "source": [
    "- Type Conversion (int(), float(), str(), bool())"
   ],
   "metadata": {
    "collapsed": false
   },
   "id": "c0658376409680a5"
  },
  {
   "cell_type": "markdown",
   "source": [
    "# IF STATEMENTS\n",
    "\n",
    "if statements are used to test for particular conditions and respond appropriately.\n",
    "It is used to check the condition and execute the statements accordingly.\n",
    "The general syntax of if statement is:\n",
    "if condition:\n",
    "    statement1\n",
    "    statement2\n",
    "    statement3\n",
    "    ....\n"
   ],
   "metadata": {
    "collapsed": false
   },
   "id": "e66ef4b65fa0987"
  },
  {
   "cell_type": "code",
   "execution_count": 1,
   "outputs": [
    {
     "name": "stdout",
     "output_type": "stream",
     "text": [
      "The given number 10 is positive\n"
     ]
    }
   ],
   "source": [
    "# Example 1\n",
    "# Check if a number is positive or negative\n",
    "x=10\n",
    "if x>0:\n",
    "    print(f\"The given number {x} is positive\")"
   ],
   "metadata": {
    "collapsed": false,
    "ExecuteTime": {
     "end_time": "2023-08-23T13:57:05.809914800Z",
     "start_time": "2023-08-23T13:57:05.794914700Z"
    }
   },
   "id": "fecc79cc45d43544"
  },
  {
   "cell_type": "markdown",
   "source": [
    "In the Example 1, we only have one condition to check. But what if we have two conditions to check?\n",
    "or, if the condition is not satisfied, we want to give general message to the user."
   ],
   "metadata": {
    "collapsed": false
   },
   "id": "7f6b033f5b0d7351"
  },
  {
   "cell_type": "code",
   "execution_count": 5,
   "outputs": [
    {
     "name": "stdout",
     "output_type": "stream",
     "text": [
      "The given number -20 is negative\n"
     ]
    }
   ],
   "source": [
    "# Example 2\n",
    "# Check if a number is positive or negative\n",
    "x=-20\n",
    "if x>0:\n",
    "    print(f\"The given number {x} is positive\")\n",
    "else:\n",
    "    print(f\"The given number {x} is negative\")"
   ],
   "metadata": {
    "collapsed": false,
    "ExecuteTime": {
     "end_time": "2023-08-23T13:25:25.116613500Z",
     "start_time": "2023-08-23T13:25:25.114613400Z"
    }
   },
   "id": "3dbcdfb9f0900e87"
  },
  {
   "cell_type": "markdown",
   "source": [
    "In example 2, we have only two conditions to check. But what if we have more than two conditions to check?\n",
    "\n",
    "Here, we can use elif statement."
   ],
   "metadata": {
    "collapsed": false
   },
   "id": "cbd529e1f1aeda9d"
  },
  {
   "cell_type": "code",
   "execution_count": 6,
   "outputs": [
    {
     "name": "stdout",
     "output_type": "stream",
     "text": [
      "The given number 0 is zero\n"
     ]
    }
   ],
   "source": [
    "# Example 3\n",
    "# Check if a number is positive or negative or zero\n",
    "x=0\n",
    "if x>0:\n",
    "    print(f\"The given number {x} is positive\")\n",
    "elif x<0:\n",
    "    print(f\"The given number {x} is negative\")\n",
    "else:\n",
    "    print(f\"The given number {x} is zero\")"
   ],
   "metadata": {
    "collapsed": false,
    "ExecuteTime": {
     "end_time": "2023-08-23T13:26:21.583599500Z",
     "start_time": "2023-08-23T13:26:21.573431900Z"
    }
   },
   "id": "ac353d6e411d82a7"
  },
  {
   "cell_type": "markdown",
   "source": [
    "It is also possible to have nested if statements. This structure is beneficial when we want to check multiple conditions due to the fact that we can check for a condition and then check another condition inside the first condition."
   ],
   "metadata": {
    "collapsed": false
   },
   "id": "17eecb73bc41d77f"
  },
  {
   "cell_type": "code",
   "execution_count": 7,
   "outputs": [
    {
     "name": "stdout",
     "output_type": "stream",
     "text": [
      "The given number 0 is zero\n"
     ]
    }
   ],
   "source": [
    "# Example 4\n",
    "# Check if a number is positive or negative or zero\n",
    "x=0\n",
    "if x>=0:\n",
    "    if x==0:\n",
    "        print(f\"The given number {x} is zero\")\n",
    "    else:\n",
    "        print(f\"The given number {x} is positive\")\n",
    "else:\n",
    "    print(f\"The given number {x} is negative\")"
   ],
   "metadata": {
    "collapsed": false,
    "ExecuteTime": {
     "end_time": "2023-08-23T13:26:58.533763100Z",
     "start_time": "2023-08-23T13:26:58.525763100Z"
    }
   },
   "id": "dab2f38fb0c7da22"
  },
  {
   "cell_type": "markdown",
   "source": [
    "# FOR STATEMENTS"
   ],
   "metadata": {
    "collapsed": false
   },
   "id": "62b2afdaaae655ef"
  },
  {
   "cell_type": "markdown",
   "source": [
    "For statements are used to iterate over the elements of a sequence (such as a string, tuple or list) or other iterable object.\n",
    "\n",
    "The for loop is used to iterate over elements in a sequence, and is often used when you have a piece of code that you want to repeat a number of times.\n"
   ],
   "metadata": {
    "collapsed": false
   },
   "id": "9a560679b919e275"
  },
  {
   "cell_type": "markdown",
   "source": [
    "The codde below The command underneath the list then cycles through each entry in the species list and prints the animal’s name to the screen. \n"
   ],
   "metadata": {
    "collapsed": false
   },
   "id": "a4a40207df356f26"
  },
  {
   "cell_type": "code",
   "execution_count": 8,
   "outputs": [
    {
     "name": "stdout",
     "output_type": "stream",
     "text": [
      "dog\n",
      "cat\n",
      "fish\n",
      "bird\n"
     ]
    }
   ],
   "source": [
    "# Example 5\n",
    "# Print each character in a string\n",
    "my_pet=[\"dog\",\"cat\",\"fish\",\"bird\"]\n",
    "for pet in my_pet:\n",
    "    print(pet)"
   ],
   "metadata": {
    "collapsed": false,
    "ExecuteTime": {
     "end_time": "2023-08-23T13:28:54.064659400Z",
     "start_time": "2023-08-23T13:28:54.049270900Z"
    }
   },
   "id": "468abe8deb16a036"
  },
  {
   "cell_type": "markdown",
   "source": [
    "We also can use for loop for operation other than printing the element to screen. \n",
    "For example, we can use for loop to calculate the sum of the elements in a list."
   ],
   "metadata": {
    "collapsed": false
   },
   "id": "2a7700fb772185ff"
  },
  {
   "cell_type": "code",
   "execution_count": 9,
   "outputs": [
    {
     "name": "stdout",
     "output_type": "stream",
     "text": [
      "The sum of the elements in the list is 219\n"
     ]
    }
   ],
   "source": [
    "# Example 6\n",
    "numbers=[1,20,18,5,15,160]\n",
    "total=0\n",
    "for value in numbers:\n",
    "    total=total+value\n",
    "print(f\"The sum of the elements in the list is {total}\")"
   ],
   "metadata": {
    "collapsed": false,
    "ExecuteTime": {
     "end_time": "2023-08-23T13:31:02.571549200Z",
     "start_time": "2023-08-23T13:31:02.566549400Z"
    }
   },
   "id": "cffd18e2b1daf96a"
  },
  {
   "cell_type": "markdown",
   "source": [
    "Nested loops\n"
   ],
   "metadata": {
    "collapsed": false
   },
   "id": "19d310594f50a925"
  },
  {
   "cell_type": "markdown",
   "source": [
    "In some situations, you may want a loop within a loop; this is known as a nested loop."
   ],
   "metadata": {
    "collapsed": false
   },
   "id": "f50319fdd8d59476"
  },
  {
   "cell_type": "code",
   "execution_count": 13,
   "outputs": [
    {
     "name": "stdout",
     "output_type": "stream",
     "text": [
      "1 * 1 = 1\n",
      "1 * 2 = 2\n",
      "2 * 1 = 2\n",
      "2 * 2 = 4\n",
      "3 * 1 = 3\n",
      "3 * 2 = 6\n",
      "4 * 1 = 4\n",
      "4 * 2 = 8\n"
     ]
    }
   ],
   "source": [
    "for x in range (1,5):\n",
    "    for y in range (1,3):\n",
    "        print(f\"{x} * {y} = {x*y}\")"
   ],
   "metadata": {
    "collapsed": false,
    "ExecuteTime": {
     "end_time": "2023-08-23T13:32:53.092506100Z",
     "start_time": "2023-08-23T13:32:53.085999300Z"
    }
   },
   "id": "6235cbf916e0e8c6"
  },
  {
   "cell_type": "markdown",
   "source": [],
   "metadata": {
    "collapsed": false
   },
   "id": "b4d23f377e2ba1ad"
  },
  {
   "cell_type": "markdown",
   "source": [
    "# BREAK STATEMENTS\n",
    "\n",
    "To terminate a loop, we can use break statement."
   ],
   "metadata": {
    "collapsed": false
   },
   "id": "41684f7c7d5dbc96"
  },
  {
   "cell_type": "code",
   "execution_count": 20,
   "outputs": [
    {
     "name": "stdout",
     "output_type": "stream",
     "text": [
      "Now checking 2\n",
      "2 is a prime number\n",
      "Now checking 3\n",
      "3 is a prime number\n",
      "Now checking 4\n",
      "4 is a prime number\n",
      "Now checking 5\n",
      "5 is a prime number\n",
      "Now checking 6\n",
      "6 is not a prime number\n"
     ]
    }
   ],
   "source": [
    "# Example 7\n",
    "# The program checks for prime numbers (i.e., 2, 3, 5, 7) within a specified range. \n",
    "for n in range (2,10):\n",
    "    print(f'Now checking {n}')\n",
    "    if n%x==0 and n!=3:\n",
    "         # print(f\"{n} equals {x} * {n//x}\")\n",
    "        print(f\"{n} is not a prime number\")\n",
    "        break\n",
    "    else:\n",
    "        # loop fell thorugh without finding a factor\n",
    "        print(f'{n} is a prime number')"
   ],
   "metadata": {
    "collapsed": false,
    "ExecuteTime": {
     "end_time": "2023-08-23T13:46:01.759233Z",
     "start_time": "2023-08-23T13:46:01.752232800Z"
    }
   },
   "id": "3991960601842e15"
  },
  {
   "cell_type": "markdown",
   "source": [
    "The statement break at value n equal to 6 because 6 is not a prime number, and at that time, n is not equal to 3."
   ],
   "metadata": {
    "collapsed": false
   },
   "id": "70554a828107561b"
  },
  {
   "cell_type": "markdown",
   "source": [],
   "metadata": {
    "collapsed": false
   },
   "id": "a31ceea06a9885bc"
  },
  {
   "cell_type": "markdown",
   "source": [
    "# CONTINUE STATEMENTS"
   ],
   "metadata": {
    "collapsed": false
   },
   "id": "cff622bdb8c88a5e"
  },
  {
   "cell_type": "markdown",
   "source": [
    "The continue() statement is used to tell Python to skip the rest of the statements in the current loop block, and# then to continue to the next iteration of the loop.\n",
    "\n",
    "The code snippet below prints all the odd numbers from 1 to 10. The continue statement is used to skip the even numbers."
   ],
   "metadata": {
    "collapsed": false
   },
   "id": "6017d6cf0fd1b73f"
  },
  {
   "cell_type": "code",
   "execution_count": 28,
   "outputs": [
    {
     "name": "stdout",
     "output_type": "stream",
     "text": [
      "Odd numbera: 1\n",
      "Odd numbera: 3\n",
      "Odd numbera: 5\n",
      "Odd numbera: 7\n",
      "Odd numbera: 9\n"
     ]
    }
   ],
   "source": [
    "# Example 8\n",
    "# Print odd numbers in a list\n",
    "\n",
    "for number in range(1, 11):\n",
    "    if number % 2 == 0:\n",
    "        continue\n",
    "    print(f'Odd numbera: {number}')"
   ],
   "metadata": {
    "collapsed": false,
    "ExecuteTime": {
     "end_time": "2023-08-23T13:54:21.868504300Z",
     "start_time": "2023-08-23T13:54:21.856609200Z"
    }
   },
   "id": "8e9f8c175965ae78"
  },
  {
   "cell_type": "markdown",
   "source": [
    "This code iterates over the numbers from 1 to 10. If a number is even, the continue statement is executed, which skips the printing of the number. Only the odd numbers from 1 to 10 are printed."
   ],
   "metadata": {
    "collapsed": false
   },
   "id": "bc9fb5cd34ed0a50"
  },
  {
   "cell_type": "markdown",
   "source": [
    "# WHILE STATEMENTS"
   ],
   "metadata": {
    "collapsed": false
   },
   "id": "5f0704d7585c7a6e"
  },
  {
   "cell_type": "markdown",
   "source": [],
   "metadata": {
    "collapsed": false
   },
   "id": "f4785649021460a5"
  },
  {
   "cell_type": "markdown",
   "source": [
    "The while loop tells the computer to do something as long as a specific condition is met.\n",
    "It essentially says:\n",
    "\t“while this is true, do this.”\n",
    "\n",
    "When working with while loops, its important to remember the nature of various operators.\n",
    "While loops use the break() and continue() functions in the same way as a for loop does.\u000B\u000B\n",
    "\n"
   ],
   "metadata": {
    "collapsed": false
   },
   "id": "59fce236bad1d75"
  },
  {
   "cell_type": "code",
   "execution_count": null,
   "outputs": [],
   "source": [
    "print('Example 9')"
   ],
   "metadata": {
    "collapsed": false
   },
   "id": "615cd5434ab3916f"
  },
  {
   "cell_type": "code",
   "execution_count": null,
   "outputs": [],
   "source": [
    "# Example 9 \n",
    "species = ['dog', 'cat', 'shark', 'falcon', 'deer', 'tyrannosaurus rex']\n",
    "i = 0\n",
    "while i < 3:\n",
    "    print(species[i])\n",
    "    i = i + 1"
   ],
   "metadata": {
    "collapsed": false
   },
   "id": "4c55d730f80f56b5"
  },
  {
   "cell_type": "markdown",
   "source": [],
   "metadata": {
    "collapsed": false
   },
   "id": "d7412d55ae5c99ec"
  },
  {
   "cell_type": "markdown",
   "source": [],
   "metadata": {
    "collapsed": false
   },
   "id": "934cf2db03c51ca3"
  },
  {
   "cell_type": "markdown",
   "source": [
    "# For loop vs. while loop\n"
   ],
   "metadata": {
    "collapsed": false
   },
   "id": "e53a4050e32b8e24"
  },
  {
   "cell_type": "markdown",
   "source": [
    "You will use for loops more often than while loops.\n",
    "The for loop is the natural choice for cycling through a list, characters in a string, etc; basically, anything of determinate size.\n",
    "The while loop is the natural choice if you are cycling through something, such as a sequence of numbers, an indeterminate number of times until some condition is met."
   ],
   "metadata": {
    "collapsed": false
   },
   "id": "58e49e21bab36dfd"
  },
  {
   "cell_type": "code",
   "execution_count": null,
   "outputs": [],
   "source": [],
   "metadata": {
    "collapsed": false
   },
   "id": "898eceba5ba5a1a7"
  },
  {
   "cell_type": "markdown",
   "source": [],
   "metadata": {
    "collapsed": false
   },
   "id": "f26e79c7f1591dac"
  },
  {
   "cell_type": "markdown",
   "source": [
    "# Logical Conditionals\n"
   ],
   "metadata": {
    "collapsed": false
   },
   "id": "c709360d8cf6c605"
  },
  {
   "cell_type": "markdown",
   "source": [
    "Different Type of Logical Condition"
   ],
   "metadata": {
    "collapsed": false
   },
   "id": "2198e0db9893682c"
  },
  {
   "cell_type": "markdown",
   "source": [
    "# Equal: a == b\n",
    "Equal denotes that two variables are equal in value and type. For example, 2 is equal to 2. or 2 of type int is equal to 2 of type int. \n",
    "# Not Equal: a != b\n",
    "Not equal denotes that two variables are not equal in value and/or type.For example, 2 is not equal to 3. or 2 is not equal to \"2\".\n",
    "# Less than: a < b\n",
    "Less than denotes that the value of a is less than the value of b. For example, 2 is less than 3.\n",
    "# Less than or equal to: a <= b\n",
    "Less than or equal to denotes that the value of a is less than or equal to the value of b. For example, 2 is less than or equal to 2.\n",
    "# Greater than: a > b\n",
    "Greater than denotes that the value of a is greater than the value of b. For example, 3 is greater than 2.\n",
    "# Greater than or equal to: a >= b\n",
    "Greater than or equal to denotes that the value of a is greater than or equal to the value of b. For example, 3 is greater than or equal to 3."
   ],
   "metadata": {
    "collapsed": false
   },
   "id": "ec0ee0269a88be9d"
  },
  {
   "cell_type": "code",
   "execution_count": null,
   "outputs": [],
   "source": [],
   "metadata": {
    "collapsed": false
   },
   "id": "da0eb79bbbc9c830"
  },
  {
   "cell_type": "markdown",
   "source": [],
   "metadata": {
    "collapsed": false
   },
   "id": "3fbce25188795466"
  },
  {
   "cell_type": "code",
   "execution_count": null,
   "outputs": [],
   "source": [
    "# Example 10\n",
    "# Check if two numbers are equal\n",
    "x,y=10,10\n",
    "if x==y:\n",
    "    print(f\"{x} is equal to {y}\")\n"
   ],
   "metadata": {
    "collapsed": false
   },
   "id": "a5cbfab320af3127"
  },
  {
   "cell_type": "code",
   "execution_count": null,
   "outputs": [],
   "source": [
    "# Example 11\n",
    "# Check if two numbers are not equal\n",
    "x,y=10,20\n",
    "if x!=y:\n",
    "    print(f\"{x} is not equal to {y}\")\n",
    "\n",
    "# or check if two number of different type are not equal\n",
    "x,y=10,\"10\"\n",
    "if x!=y:\n",
    "    print(f\"{x} is not equal to {y}\")"
   ],
   "metadata": {
    "collapsed": false
   },
   "id": "51035cce12049af3"
  },
  {
   "cell_type": "code",
   "execution_count": null,
   "outputs": [],
   "source": [
    "# Example 12\n",
    "# Check if a number is less than another number\n",
    "x,y=10,20\n",
    "if x<y:\n",
    "    print(f\"{x} is less than {y}\")"
   ],
   "metadata": {
    "collapsed": false
   },
   "id": "fd654a312cf37d4f"
  },
  {
   "cell_type": "code",
   "execution_count": null,
   "outputs": [],
   "source": [
    "# Example 13\n",
    "# Check if a number is less than or equal to another number\n",
    "x,y=10,10\n",
    "if x<=y:\n",
    "    print(f\"{x} is less than or equal to {y}\")"
   ],
   "metadata": {
    "collapsed": false
   },
   "id": "31f931fa5d26becb"
  },
  {
   "cell_type": "code",
   "execution_count": null,
   "outputs": [],
   "source": [
    "# Example 14\n",
    "# Check if a number is greater than another number\n",
    "x,y=10,20\n",
    "if x>y:\n",
    "    print(f\"{x} is greater than {y}\")"
   ],
   "metadata": {
    "collapsed": false
   },
   "id": "f959dcbd5e9fdfea"
  },
  {
   "cell_type": "code",
   "execution_count": null,
   "outputs": [],
   "source": [
    "# Example 15\n",
    "# Check if a number is greater than or equal to another number\n",
    "x,y=10,10\n",
    "if x>=y:\n",
    "    print(f\"{x} is greater than or equal to {y}\")"
   ],
   "metadata": {
    "collapsed": false
   },
   "id": "1f507e80e2666275"
  },
  {
   "cell_type": "markdown",
   "source": [
    "# Logical Operators"
   ],
   "metadata": {
    "collapsed": false
   },
   "id": "c8e00ae2963b1733"
  },
  {
   "cell_type": "markdown",
   "source": [
    "# Example 16\n",
    "# Check if a number is between two numbers\n",
    "x,y,z=10,20,30\n",
    "if x<y and x>z:\n",
    "    print(f\"{x} is between {y} and {z}\")"
   ],
   "metadata": {
    "collapsed": false
   },
   "id": "b58bc0e06a984410"
  },
  {
   "cell_type": "markdown",
   "source": [
    "# Example 17\n",
    "# Check if a number is between two numbers using or operator\n",
    "x,y,z=10,20,30\n",
    "if x<y or x>z:\n",
    "    print(f\"{x} is not between {y} and {z}\")"
   ],
   "metadata": {
    "collapsed": false
   },
   "id": "3a9d9e94ed1e3465"
  },
  {
   "cell_type": "markdown",
   "source": [
    "# Example 18\n",
    "# Check if a number is between two numbers using not operator\n",
    "x,y,z=10,20,30\n",
    "if not x<y:\n",
    "    print(f\"{x} is not less than {y}\")"
   ],
   "metadata": {
    "collapsed": false
   },
   "id": "5b1f5d21e5014404"
  },
  {
   "cell_type": "markdown",
   "source": [],
   "metadata": {
    "collapsed": false
   },
   "id": "2e14fd9cc14de546"
  }
 ],
 "metadata": {
  "kernelspec": {
   "display_name": "Python 3",
   "language": "python",
   "name": "python3"
  },
  "language_info": {
   "codemirror_mode": {
    "name": "ipython",
    "version": 2
   },
   "file_extension": ".py",
   "mimetype": "text/x-python",
   "name": "python",
   "nbconvert_exporter": "python",
   "pygments_lexer": "ipython2",
   "version": "2.7.6"
  }
 },
 "nbformat": 4,
 "nbformat_minor": 5
}
