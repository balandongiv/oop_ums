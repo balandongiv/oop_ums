{
  "nbformat": 4,
  "nbformat_minor": 0,
  "metadata": {
    "colab": {
      "name": "Pytorch MNIST.ipynb",
      "provenance": []
    },
    "kernelspec": {
      "name": "python3",
      "display_name": "Python 3"
    },
    "accelerator": "GPU"
  },
  "cells": [
    {
      "metadata": {
        "id": "PtKvmZx-WmUu",
        "colab": {
          "base_uri": "https://localhost:8080/"
        },
        "outputId": "1fdfdac7-6578-41fb-8c54-7e083f8423e2"
      },
      "cell_type": "code",
      "source": [
        "#@title Insatlling Pyorch\n",
        "\n",
        "!pip install torch\n",
        "!pip install torchvision"
      ],
      "execution_count": 2,
      "outputs": [
        {
          "output_type": "stream",
          "name": "stdout",
          "text": [
            "Requirement already satisfied: torch in /usr/local/lib/python3.10/dist-packages (2.0.1+cu118)\n",
            "Requirement already satisfied: filelock in /usr/local/lib/python3.10/dist-packages (from torch) (3.12.2)\n",
            "Requirement already satisfied: typing-extensions in /usr/local/lib/python3.10/dist-packages (from torch) (4.7.1)\n",
            "Requirement already satisfied: sympy in /usr/local/lib/python3.10/dist-packages (from torch) (1.12)\n",
            "Requirement already satisfied: networkx in /usr/local/lib/python3.10/dist-packages (from torch) (3.1)\n",
            "Requirement already satisfied: jinja2 in /usr/local/lib/python3.10/dist-packages (from torch) (3.1.2)\n",
            "Requirement already satisfied: triton==2.0.0 in /usr/local/lib/python3.10/dist-packages (from torch) (2.0.0)\n",
            "Requirement already satisfied: cmake in /usr/local/lib/python3.10/dist-packages (from triton==2.0.0->torch) (3.27.2)\n",
            "Requirement already satisfied: lit in /usr/local/lib/python3.10/dist-packages (from triton==2.0.0->torch) (16.0.6)\n",
            "Requirement already satisfied: MarkupSafe>=2.0 in /usr/local/lib/python3.10/dist-packages (from jinja2->torch) (2.1.3)\n",
            "Requirement already satisfied: mpmath>=0.19 in /usr/local/lib/python3.10/dist-packages (from sympy->torch) (1.3.0)\n",
            "Requirement already satisfied: torchvision in /usr/local/lib/python3.10/dist-packages (0.15.2+cu118)\n",
            "Requirement already satisfied: numpy in /usr/local/lib/python3.10/dist-packages (from torchvision) (1.23.5)\n",
            "Requirement already satisfied: requests in /usr/local/lib/python3.10/dist-packages (from torchvision) (2.31.0)\n",
            "Requirement already satisfied: torch==2.0.1 in /usr/local/lib/python3.10/dist-packages (from torchvision) (2.0.1+cu118)\n",
            "Requirement already satisfied: pillow!=8.3.*,>=5.3.0 in /usr/local/lib/python3.10/dist-packages (from torchvision) (9.4.0)\n",
            "Requirement already satisfied: filelock in /usr/local/lib/python3.10/dist-packages (from torch==2.0.1->torchvision) (3.12.2)\n",
            "Requirement already satisfied: typing-extensions in /usr/local/lib/python3.10/dist-packages (from torch==2.0.1->torchvision) (4.7.1)\n",
            "Requirement already satisfied: sympy in /usr/local/lib/python3.10/dist-packages (from torch==2.0.1->torchvision) (1.12)\n",
            "Requirement already satisfied: networkx in /usr/local/lib/python3.10/dist-packages (from torch==2.0.1->torchvision) (3.1)\n",
            "Requirement already satisfied: jinja2 in /usr/local/lib/python3.10/dist-packages (from torch==2.0.1->torchvision) (3.1.2)\n",
            "Requirement already satisfied: triton==2.0.0 in /usr/local/lib/python3.10/dist-packages (from torch==2.0.1->torchvision) (2.0.0)\n",
            "Requirement already satisfied: cmake in /usr/local/lib/python3.10/dist-packages (from triton==2.0.0->torch==2.0.1->torchvision) (3.27.2)\n",
            "Requirement already satisfied: lit in /usr/local/lib/python3.10/dist-packages (from triton==2.0.0->torch==2.0.1->torchvision) (16.0.6)\n",
            "Requirement already satisfied: charset-normalizer<4,>=2 in /usr/local/lib/python3.10/dist-packages (from requests->torchvision) (3.2.0)\n",
            "Requirement already satisfied: idna<4,>=2.5 in /usr/local/lib/python3.10/dist-packages (from requests->torchvision) (3.4)\n",
            "Requirement already satisfied: urllib3<3,>=1.21.1 in /usr/local/lib/python3.10/dist-packages (from requests->torchvision) (2.0.4)\n",
            "Requirement already satisfied: certifi>=2017.4.17 in /usr/local/lib/python3.10/dist-packages (from requests->torchvision) (2023.7.22)\n",
            "Requirement already satisfied: MarkupSafe>=2.0 in /usr/local/lib/python3.10/dist-packages (from jinja2->torch==2.0.1->torchvision) (2.1.3)\n",
            "Requirement already satisfied: mpmath>=0.19 in /usr/local/lib/python3.10/dist-packages (from sympy->torch==2.0.1->torchvision) (1.3.0)\n"
          ]
        }
      ]
    },
    {
      "metadata": {
        "id": "bGU6NwlsXFSt"
      },
      "cell_type": "code",
      "source": [
        "#@title Import Dependencies\n",
        "\n",
        "import torch\n",
        "import torch.nn as nn\n",
        "import torchvision.datasets as dsets\n",
        "import torchvision.transforms as transforms\n",
        "from torch.autograd import Variable"
      ],
      "execution_count": 3,
      "outputs": []
    },
    {
      "metadata": {
        "id": "_bNfVLRUYqZA"
      },
      "cell_type": "code",
      "source": [
        "#@title Define Hyperparameters\n",
        "\n",
        "input_size = 784 # img_size = (28,28) ---> 28*28=784 in total\n",
        "hidden_size = 500 # number of nodes at hidden layer\n",
        "num_classes = 10 # number of output classes discrete range [0,9]\n",
        "num_epochs = 20 # number of times which the entire dataset is passed throughout the model\n",
        "batch_size = 100 # the size of input data took for one iteration\n",
        "lr = 1e-3 # size of step"
      ],
      "execution_count": 4,
      "outputs": []
    },
    {
      "metadata": {
        "id": "lCsBCXMwbpH5",
        "colab": {
          "base_uri": "https://localhost:8080/"
        },
        "outputId": "f2fa9cf8-df71-4453-850b-47887bfe7d12"
      },
      "cell_type": "code",
      "source": [
        "#@title Downloading MNIST data\n",
        "\n",
        "train_data = dsets.MNIST(root = './data', train = True,\n",
        "                        transform = transforms.ToTensor(), download = True)\n",
        "\n",
        "test_data = dsets.MNIST(root = './data', train = False,\n",
        "                       transform = transforms.ToTensor())"
      ],
      "execution_count": 5,
      "outputs": [
        {
          "output_type": "stream",
          "name": "stdout",
          "text": [
            "Downloading http://yann.lecun.com/exdb/mnist/train-images-idx3-ubyte.gz\n",
            "Downloading http://yann.lecun.com/exdb/mnist/train-images-idx3-ubyte.gz to ./data/MNIST/raw/train-images-idx3-ubyte.gz\n"
          ]
        },
        {
          "output_type": "stream",
          "name": "stderr",
          "text": [
            "100%|██████████| 9912422/9912422 [00:00<00:00, 112302137.54it/s]\n"
          ]
        },
        {
          "output_type": "stream",
          "name": "stdout",
          "text": [
            "Extracting ./data/MNIST/raw/train-images-idx3-ubyte.gz to ./data/MNIST/raw\n",
            "\n",
            "Downloading http://yann.lecun.com/exdb/mnist/train-labels-idx1-ubyte.gz\n",
            "Downloading http://yann.lecun.com/exdb/mnist/train-labels-idx1-ubyte.gz to ./data/MNIST/raw/train-labels-idx1-ubyte.gz\n"
          ]
        },
        {
          "output_type": "stream",
          "name": "stderr",
          "text": [
            "100%|██████████| 28881/28881 [00:00<00:00, 101114936.41it/s]"
          ]
        },
        {
          "output_type": "stream",
          "name": "stdout",
          "text": [
            "Extracting ./data/MNIST/raw/train-labels-idx1-ubyte.gz to ./data/MNIST/raw\n",
            "\n",
            "Downloading http://yann.lecun.com/exdb/mnist/t10k-images-idx3-ubyte.gz\n",
            "Downloading http://yann.lecun.com/exdb/mnist/t10k-images-idx3-ubyte.gz to ./data/MNIST/raw/t10k-images-idx3-ubyte.gz\n"
          ]
        },
        {
          "output_type": "stream",
          "name": "stderr",
          "text": [
            "\n",
            "100%|██████████| 1648877/1648877 [00:00<00:00, 32859586.24it/s]\n"
          ]
        },
        {
          "output_type": "stream",
          "name": "stdout",
          "text": [
            "Extracting ./data/MNIST/raw/t10k-images-idx3-ubyte.gz to ./data/MNIST/raw\n",
            "\n",
            "Downloading http://yann.lecun.com/exdb/mnist/t10k-labels-idx1-ubyte.gz\n",
            "Downloading http://yann.lecun.com/exdb/mnist/t10k-labels-idx1-ubyte.gz to ./data/MNIST/raw/t10k-labels-idx1-ubyte.gz\n"
          ]
        },
        {
          "output_type": "stream",
          "name": "stderr",
          "text": [
            "100%|██████████| 4542/4542 [00:00<00:00, 15071620.86it/s]\n"
          ]
        },
        {
          "output_type": "stream",
          "name": "stdout",
          "text": [
            "Extracting ./data/MNIST/raw/t10k-labels-idx1-ubyte.gz to ./data/MNIST/raw\n",
            "\n"
          ]
        }
      ]
    },
    {
      "metadata": {
        "id": "rfDPBdnYgfGp"
      },
      "cell_type": "code",
      "source": [
        "#@title Loading the data\n",
        "\n",
        "train_gen = torch.utils.data.DataLoader(dataset = train_data,\n",
        "                                             batch_size = batch_size,\n",
        "                                             shuffle = True)\n",
        "\n",
        "test_gen = torch.utils.data.DataLoader(dataset = test_data,\n",
        "                                      batch_size = batch_size,\n",
        "                                      shuffle = False)"
      ],
      "execution_count": 6,
      "outputs": []
    },
    {
      "metadata": {
        "id": "fL-YXTvghaz_"
      },
      "cell_type": "code",
      "source": [
        "#@title Define model class\n",
        "\n",
        "class Net(nn.Module):\n",
        "  def __init__(self, input_size, hidden_size, num_classes):\n",
        "    super(Net,self).__init__()\n",
        "    self.fc1 = nn.Linear(input_size, hidden_size)\n",
        "    self.relu = nn.ReLU()\n",
        "    self.fc2 = nn.Linear(hidden_size, num_classes)\n",
        "\n",
        "  def forward(self,x):\n",
        "    out = self.fc1(x)\n",
        "    out = self.relu(out)\n",
        "    out = self.fc2(out)\n",
        "    return out"
      ],
      "execution_count": 7,
      "outputs": []
    },
    {
      "metadata": {
        "id": "-3EPEqbjjfAT"
      },
      "cell_type": "code",
      "source": [
        "#@title Build the model\n",
        "\n",
        "net = Net(input_size, hidden_size, num_classes)\n",
        "if torch.cuda.is_available():\n",
        "  net.cuda()"
      ],
      "execution_count": 8,
      "outputs": []
    },
    {
      "metadata": {
        "id": "ePLIwvAFj2zH"
      },
      "cell_type": "code",
      "source": [
        "#@title Define loss-function & optimizer\n",
        "\n",
        "loss_function = nn.CrossEntropyLoss()\n",
        "optimizer = torch.optim.Adam( net.parameters(), lr=lr)"
      ],
      "execution_count": 9,
      "outputs": []
    },
    {
      "metadata": {
        "id": "u75Xa5VckuTH",
        "colab": {
          "base_uri": "https://localhost:8080/"
        },
        "outputId": "3af9345d-fbad-450a-f978-1804325efd5b"
      },
      "cell_type": "code",
      "source": [
        "#@title Training the model\n",
        "\n",
        "for epoch in range(num_epochs):\n",
        "  for i ,(images,labels) in enumerate(train_gen):\n",
        "    images = Variable(images.view(-1,28*28)).cuda()\n",
        "    labels = Variable(labels).cuda()\n",
        "\n",
        "    optimizer.zero_grad()\n",
        "    outputs = net(images)\n",
        "    loss = loss_function(outputs, labels)\n",
        "    loss.backward()\n",
        "    optimizer.step()\n",
        "    if (i+1) % 100 == 0:\n",
        "      print('Epoch [%d/%d], Step [%d/%d], Loss: %.4f'%(epoch+1, num_epochs, i+1, len(train_data)//batch_size, loss.item()))\n",
        "    # if (i+1) % 100 == 0:\n",
        "      # print('Epoch [%d/%d], Step [%d/%d], Loss: %.4f'\n",
        "                #  %(epoch+1, num_epochs, i+1, len(train_data)//batch_size, loss.data[0]))"
      ],
      "execution_count": 12,
      "outputs": [
        {
          "output_type": "stream",
          "name": "stdout",
          "text": [
            "Epoch [1/20], Step [100/600], Loss: 0.2051\n",
            "Epoch [1/20], Step [200/600], Loss: 0.1121\n",
            "Epoch [1/20], Step [300/600], Loss: 0.1692\n",
            "Epoch [1/20], Step [400/600], Loss: 0.2673\n",
            "Epoch [1/20], Step [500/600], Loss: 0.1217\n",
            "Epoch [1/20], Step [600/600], Loss: 0.0873\n",
            "Epoch [2/20], Step [100/600], Loss: 0.1038\n",
            "Epoch [2/20], Step [200/600], Loss: 0.1665\n",
            "Epoch [2/20], Step [300/600], Loss: 0.0832\n",
            "Epoch [2/20], Step [400/600], Loss: 0.0529\n",
            "Epoch [2/20], Step [500/600], Loss: 0.1128\n",
            "Epoch [2/20], Step [600/600], Loss: 0.0981\n",
            "Epoch [3/20], Step [100/600], Loss: 0.1198\n",
            "Epoch [3/20], Step [200/600], Loss: 0.0254\n",
            "Epoch [3/20], Step [300/600], Loss: 0.0807\n",
            "Epoch [3/20], Step [400/600], Loss: 0.0322\n",
            "Epoch [3/20], Step [500/600], Loss: 0.0597\n",
            "Epoch [3/20], Step [600/600], Loss: 0.0337\n",
            "Epoch [4/20], Step [100/600], Loss: 0.0440\n",
            "Epoch [4/20], Step [200/600], Loss: 0.0082\n",
            "Epoch [4/20], Step [300/600], Loss: 0.1015\n",
            "Epoch [4/20], Step [400/600], Loss: 0.0830\n",
            "Epoch [4/20], Step [500/600], Loss: 0.0601\n",
            "Epoch [4/20], Step [600/600], Loss: 0.1186\n",
            "Epoch [5/20], Step [100/600], Loss: 0.0419\n",
            "Epoch [5/20], Step [200/600], Loss: 0.0427\n",
            "Epoch [5/20], Step [300/600], Loss: 0.0227\n",
            "Epoch [5/20], Step [400/600], Loss: 0.0722\n",
            "Epoch [5/20], Step [500/600], Loss: 0.0425\n",
            "Epoch [5/20], Step [600/600], Loss: 0.0217\n",
            "Epoch [6/20], Step [100/600], Loss: 0.0172\n",
            "Epoch [6/20], Step [200/600], Loss: 0.0214\n",
            "Epoch [6/20], Step [300/600], Loss: 0.0174\n",
            "Epoch [6/20], Step [400/600], Loss: 0.0115\n",
            "Epoch [6/20], Step [500/600], Loss: 0.0345\n",
            "Epoch [6/20], Step [600/600], Loss: 0.0115\n",
            "Epoch [7/20], Step [100/600], Loss: 0.0536\n",
            "Epoch [7/20], Step [200/600], Loss: 0.0078\n",
            "Epoch [7/20], Step [300/600], Loss: 0.0411\n",
            "Epoch [7/20], Step [400/600], Loss: 0.0093\n",
            "Epoch [7/20], Step [500/600], Loss: 0.0059\n",
            "Epoch [7/20], Step [600/600], Loss: 0.0069\n",
            "Epoch [8/20], Step [100/600], Loss: 0.0208\n",
            "Epoch [8/20], Step [200/600], Loss: 0.0900\n",
            "Epoch [8/20], Step [300/600], Loss: 0.0028\n",
            "Epoch [8/20], Step [400/600], Loss: 0.0247\n",
            "Epoch [8/20], Step [500/600], Loss: 0.0454\n",
            "Epoch [8/20], Step [600/600], Loss: 0.0146\n",
            "Epoch [9/20], Step [100/600], Loss: 0.0210\n",
            "Epoch [9/20], Step [200/600], Loss: 0.0027\n",
            "Epoch [9/20], Step [300/600], Loss: 0.0069\n",
            "Epoch [9/20], Step [400/600], Loss: 0.0070\n",
            "Epoch [9/20], Step [500/600], Loss: 0.0331\n",
            "Epoch [9/20], Step [600/600], Loss: 0.0081\n",
            "Epoch [10/20], Step [100/600], Loss: 0.0036\n",
            "Epoch [10/20], Step [200/600], Loss: 0.0044\n",
            "Epoch [10/20], Step [300/600], Loss: 0.0038\n",
            "Epoch [10/20], Step [400/600], Loss: 0.0016\n",
            "Epoch [10/20], Step [500/600], Loss: 0.0224\n",
            "Epoch [10/20], Step [600/600], Loss: 0.0474\n",
            "Epoch [11/20], Step [100/600], Loss: 0.0130\n",
            "Epoch [11/20], Step [200/600], Loss: 0.0031\n",
            "Epoch [11/20], Step [300/600], Loss: 0.0020\n",
            "Epoch [11/20], Step [400/600], Loss: 0.0013\n",
            "Epoch [11/20], Step [500/600], Loss: 0.0298\n",
            "Epoch [11/20], Step [600/600], Loss: 0.0022\n",
            "Epoch [12/20], Step [100/600], Loss: 0.0051\n",
            "Epoch [12/20], Step [200/600], Loss: 0.0017\n",
            "Epoch [12/20], Step [300/600], Loss: 0.0014\n",
            "Epoch [12/20], Step [400/600], Loss: 0.0032\n",
            "Epoch [12/20], Step [500/600], Loss: 0.0009\n",
            "Epoch [12/20], Step [600/600], Loss: 0.0092\n",
            "Epoch [13/20], Step [100/600], Loss: 0.0053\n",
            "Epoch [13/20], Step [200/600], Loss: 0.0008\n",
            "Epoch [13/20], Step [300/600], Loss: 0.0008\n",
            "Epoch [13/20], Step [400/600], Loss: 0.0077\n",
            "Epoch [13/20], Step [500/600], Loss: 0.0010\n",
            "Epoch [13/20], Step [600/600], Loss: 0.0199\n",
            "Epoch [14/20], Step [100/600], Loss: 0.0018\n",
            "Epoch [14/20], Step [200/600], Loss: 0.0030\n",
            "Epoch [14/20], Step [300/600], Loss: 0.0331\n",
            "Epoch [14/20], Step [400/600], Loss: 0.0089\n",
            "Epoch [14/20], Step [500/600], Loss: 0.0037\n",
            "Epoch [14/20], Step [600/600], Loss: 0.0031\n",
            "Epoch [15/20], Step [100/600], Loss: 0.0061\n",
            "Epoch [15/20], Step [200/600], Loss: 0.0053\n",
            "Epoch [15/20], Step [300/600], Loss: 0.0175\n",
            "Epoch [15/20], Step [400/600], Loss: 0.0167\n",
            "Epoch [15/20], Step [500/600], Loss: 0.0212\n",
            "Epoch [15/20], Step [600/600], Loss: 0.0079\n",
            "Epoch [16/20], Step [100/600], Loss: 0.0012\n",
            "Epoch [16/20], Step [200/600], Loss: 0.0015\n",
            "Epoch [16/20], Step [300/600], Loss: 0.0013\n",
            "Epoch [16/20], Step [400/600], Loss: 0.0011\n",
            "Epoch [16/20], Step [500/600], Loss: 0.0097\n",
            "Epoch [16/20], Step [600/600], Loss: 0.0030\n",
            "Epoch [17/20], Step [100/600], Loss: 0.0022\n",
            "Epoch [17/20], Step [200/600], Loss: 0.0051\n",
            "Epoch [17/20], Step [300/600], Loss: 0.0179\n",
            "Epoch [17/20], Step [400/600], Loss: 0.0138\n",
            "Epoch [17/20], Step [500/600], Loss: 0.0005\n",
            "Epoch [17/20], Step [600/600], Loss: 0.0183\n",
            "Epoch [18/20], Step [100/600], Loss: 0.0011\n",
            "Epoch [18/20], Step [200/600], Loss: 0.0009\n",
            "Epoch [18/20], Step [300/600], Loss: 0.0002\n",
            "Epoch [18/20], Step [400/600], Loss: 0.0018\n",
            "Epoch [18/20], Step [500/600], Loss: 0.0020\n",
            "Epoch [18/20], Step [600/600], Loss: 0.0056\n",
            "Epoch [19/20], Step [100/600], Loss: 0.0011\n",
            "Epoch [19/20], Step [200/600], Loss: 0.0011\n",
            "Epoch [19/20], Step [300/600], Loss: 0.0015\n",
            "Epoch [19/20], Step [400/600], Loss: 0.0028\n",
            "Epoch [19/20], Step [500/600], Loss: 0.0021\n",
            "Epoch [19/20], Step [600/600], Loss: 0.0020\n",
            "Epoch [20/20], Step [100/600], Loss: 0.0027\n",
            "Epoch [20/20], Step [200/600], Loss: 0.0001\n",
            "Epoch [20/20], Step [300/600], Loss: 0.0009\n",
            "Epoch [20/20], Step [400/600], Loss: 0.0003\n",
            "Epoch [20/20], Step [500/600], Loss: 0.0004\n",
            "Epoch [20/20], Step [600/600], Loss: 0.0019\n"
          ]
        }
      ]
    },
    {
      "metadata": {
        "id": "DTPvMW5jHB9X",
        "colab": {
          "base_uri": "https://localhost:8080/"
        },
        "outputId": "d891782e-fbd1-4e3e-8c02-7ab292315a38"
      },
      "cell_type": "code",
      "source": [
        "#@title Evaluating the accuracy of the model\n",
        "\n",
        "correct = 0\n",
        "total = 0\n",
        "for images,labels in test_gen:\n",
        "  images = Variable(images.view(-1,28*28)).cuda()\n",
        "  labels = labels.cuda()\n",
        "\n",
        "  output = net(images)\n",
        "  _, predicted = torch.max(output,1)\n",
        "  correct += (predicted == labels).sum()\n",
        "  total += labels.size(0)\n",
        "\n",
        "print('Accuracy of the model: %.3f %%' %((100*correct)/(total+1)))"
      ],
      "execution_count": 13,
      "outputs": [
        {
          "output_type": "stream",
          "name": "stdout",
          "text": [
            "Accuracy of the model: 98.180 %\n"
          ]
        }
      ]
    }
  ]
}