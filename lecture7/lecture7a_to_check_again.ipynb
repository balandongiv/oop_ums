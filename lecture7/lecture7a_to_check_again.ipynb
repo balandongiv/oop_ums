{
 "cells": [
  {
   "cell_type": "markdown",
   "source": [
    "# INPUT STATEMENTS\n"
   ],
   "metadata": {
    "collapsed": false
   },
   "id": "502e51bdc60ec9b1"
  },
  {
   "cell_type": "raw",
   "source": [
    "Programs commonly need to read input typed by the user on the keyboard. We will use the Python functions to do this.\n",
    "\n",
    "\n",
    "Input is data that the program receives. When a program receives data, it usually processes it by performing some operation with it.  The result of the operation is sent out of the program as output.\n"
   ],
   "metadata": {
    "collapsed": false
   },
   "id": "a3c6c86d1c76f68"
  },
  {
   "cell_type": "markdown",
   "source": [
    "# INPUT()\n",
    "\n",
    "The input() function pauses program execution to allow the user to type in a line of input from the keyboard. Once the user presses the Enter key, all characters typed are read and returned as a string:\n",
    "\n",
    "<pre><code class=\"python\" language=\"python\" style=\"font-size:0.8em\">\n",
    "input([<prompt>])\n",
    "</code></pre>\n",
    "\n",
    "where, \n",
    "variable \t\tname of the variable that will reference the data\n",
    "= \t\tassignment operator\n",
    "input\t\tname of the function\n",
    "prompt\t\tstring that is displayed on the screen\n",
    "\n",
    "For example: \n",
    "hours = input (‘How many hours did you work?’)\n"
   ],
   "metadata": {
    "collapsed": false
   },
   "id": "ad9856af2b810c7e"
  },
  {
   "cell_type": "markdown",
   "source": [
    "# INPUT METHOD RETURN VALUE\n",
    "\n",
    "\n",
    "The input function can be used to read numeric data from the keyboard.\n"
   ],
   "metadata": {
    "collapsed": false
   },
   "id": "fd805455f85d9950"
  },
  {
   "cell_type": "code",
   "execution_count": null,
   "outputs": [],
   "source": [
    "number = input(\"Enter a number: \")\n",
    "print(number)"
   ],
   "metadata": {
    "collapsed": false
   },
   "id": "5ef8749cbb5a7640"
  },
  {
   "cell_type": "markdown",
   "source": [
    "input() always returns a string. "
   ],
   "metadata": {
    "collapsed": false
   },
   "id": "bf9d4120f1566ab2"
  },
  {
   "cell_type": "code",
   "execution_count": 1,
   "outputs": [
    {
     "ename": "TypeError",
     "evalue": "can only concatenate str (not \"int\") to str",
     "output_type": "error",
     "traceback": [
      "\u001B[1;31m---------------------------------------------------------------------------\u001B[0m",
      "\u001B[1;31mTypeError\u001B[0m                                 Traceback (most recent call last)",
      "Cell \u001B[1;32mIn[1], line 2\u001B[0m\n\u001B[0;32m      1\u001B[0m number \u001B[38;5;241m=\u001B[39m \u001B[38;5;28minput\u001B[39m(\u001B[38;5;124m\"\u001B[39m\u001B[38;5;124mEnter a number: \u001B[39m\u001B[38;5;124m\"\u001B[39m)\n\u001B[1;32m----> 2\u001B[0m \u001B[38;5;28mprint\u001B[39m(\u001B[43mnumber\u001B[49m\u001B[43m \u001B[49m\u001B[38;5;241;43m+\u001B[39;49m\u001B[43m \u001B[49m\u001B[38;5;241;43m100\u001B[39;49m)\n",
      "\u001B[1;31mTypeError\u001B[0m: can only concatenate str (not \"int\") to str"
     ]
    }
   ],
   "source": [
    "number = input(\"Enter a number: \")\n",
    "print(number + 100)\n",
    "\n",
    "# Executing this cell will result in TypeError: can only concatenate str (not \"int\") to str"
   ],
   "metadata": {
    "collapsed": false,
    "ExecuteTime": {
     "end_time": "2023-08-24T13:01:14.980060600Z",
     "start_time": "2023-08-24T13:01:10.131960400Z"
    }
   },
   "id": "c24f6da17f9b9cae"
  },
  {
   "cell_type": "markdown",
   "source": [
    "If you want a numeric type, then you need to convert the string to the appropriate type with the built-in int(), float(), or complex() function:"
   ],
   "metadata": {
    "collapsed": false
   },
   "id": "5025bfd7efefbd11"
  },
  {
   "cell_type": "code",
   "execution_count": 2,
   "outputs": [
    {
     "name": "stdout",
     "output_type": "stream",
     "text": [
      "101\n",
      "101\n"
     ]
    }
   ],
   "source": [
    "number = input(\"Enter a number: \")\n",
    "conv_val=int(number)\n",
    "print(conv_val + 100)\n",
    "\n",
    "# or simply\n",
    "print(int(number)+100)"
   ],
   "metadata": {
    "collapsed": false,
    "ExecuteTime": {
     "end_time": "2023-08-24T13:03:17.845436100Z",
     "start_time": "2023-08-24T13:03:16.278705700Z"
    }
   },
   "id": "734d14840140df10"
  },
  {
   "cell_type": "markdown",
   "source": [
    "# Reading Files\n",
    "\n",
    "\n",
    " <file variable> = open(<file name>, mode=\"r\")\n",
    "\n",
    "filename: This argument is a string that specifies the name of the file you want to open, including the file's path if it's not in the current working directory.\n",
    "\n",
    "\n",
    "The open() method in Python is a versatile and fundamental function for working with files. It provides different modes that allow you to perform various operations on files. Here are arguments for each of the common modes: 'r', 'w', 'c', 'n', and 'a’:\n",
    "\n",
    "mode: This argument specifies the mode in which you want to open the file. The mode defines whether you want to read, write, append, or perform other operations on the file\n",
    "\n",
    "\n",
    "Read mode\n",
    "“r” open file for reading\n",
    "\n",
    "'w' (Write mode):\n",
    "“w” open file for writing\n",
    "\n",
    "'c' (Create mode):\n",
    "“c” open file for reading or writing, if the file doesn’t exist then create it\n",
    "\n",
    "n' (New mode):\n",
    "“n” create a new file for reading or writing, if the file exists then it’s contents are overwritten.\n",
    "\n",
    "'a' (Append mode):\n",
    "“a” open the file for appending, create the file if it doesn’t exist\n"
   ],
   "metadata": {
    "collapsed": false
   },
   "id": "df4dc35b44cb8dd5"
  },
  {
   "cell_type": "markdown",
   "source": [
    " \n"
   ],
   "metadata": {
    "collapsed": false
   },
   "id": "a546d9a31562f74"
  },
  {
   "cell_type": "code",
   "execution_count": null,
   "outputs": [],
   "source": [
    "inputFile = open(\"data.txt\", \"r\")"
   ],
   "metadata": {
    "collapsed": false
   },
   "id": "1ba225aac83b0436"
  },
  {
   "cell_type": "markdown",
   "source": [
    "# Reading Information From Files\n",
    "\n",
    "Typically reading is done within the body of a loop\n",
    "Each execution of the loop will read a line from the file into a string\n",
    "\n",
    "Format:\n",
    "for <variable to store a string> in <name of file variable>:\n",
    "    <Do something with the string read from file>\n",
    "\n",
    "Example:     \n",
    "for line in inputFile:\n",
    "     <Do something with the string read from file>\n"
   ],
   "metadata": {
    "collapsed": false
   },
   "id": "7c4d3c6c52a5e38c"
  },
  {
   "cell_type": "code",
   "execution_count": null,
   "outputs": [],
   "source": [
    "inputFile = open(\"data.txt\", \"r\")"
   ],
   "metadata": {
    "collapsed": false
   },
   "id": "78ca169cde939fb3"
  },
  {
   "cell_type": "markdown",
   "source": [
    "# OUTPUT STATEMENTS\n",
    "Logging means tracking of events that happen when some software runs\n",
    "\n",
    "An event is described by a descriptive message which can optionally contain variable data (i.e., data that is potentially different for each occurrence of the event)\n",
    "\n",
    "In Python, data can be printed in a human-readable\n"
   ],
   "metadata": {
    "collapsed": false
   },
   "id": "30f635c2326927b"
  },
  {
   "cell_type": "markdown",
   "source": [
    "You use the   print  statement to display output in a Python program.\n",
    "\n"
   ],
   "metadata": {
    "collapsed": false
   },
   "id": "1eb2715d240bd012"
  },
  {
   "cell_type": "markdown",
   "source": [
    "# PRINT FUNCTION\n",
    "\n",
    "Displays a string representation of each <obj> to the console. (Documentation)\n",
    "\n",
    "print(<obj>, ..., <obj>)\n",
    "\n",
    "By default, print() separates objects by a single space and appends a newline to the end of the output:\n",
    "\n"
   ],
   "metadata": {
    "collapsed": false
   },
   "id": "266303b60cbd6c74"
  },
  {
   "cell_type": "code",
   "execution_count": null,
   "outputs": [],
   "source": [
    "a,b=1,2\n",
    "print(a,b)\n"
   ],
   "metadata": {
    "collapsed": false
   },
   "id": "d0b1cfab390bf0fb"
  },
  {
   "cell_type": "markdown",
   "source": [
    "### PRINT(OBJECT)\n",
    "\n",
    "You also can print object like list, tuples, or dictionaries\n",
    "\n",
    " If an object isn’t a string, then print() converts it to an appropriate string representation before displaying it:\n"
   ],
   "metadata": {
    "collapsed": false
   },
   "id": "4c07d8f4d832d112"
  },
  {
   "cell_type": "code",
   "execution_count": 3,
   "outputs": [
    {
     "name": "stdout",
     "output_type": "stream",
     "text": [
      "[10, 'Zoro', 'Hi']\n"
     ]
    }
   ],
   "source": [
    "ls=[10,'Zoro','Hi']\n",
    "print(ls)"
   ],
   "metadata": {
    "collapsed": false,
    "ExecuteTime": {
     "end_time": "2023-08-24T13:10:10.845430Z",
     "start_time": "2023-08-24T13:10:10.830430100Z"
    }
   },
   "id": "356cc98e9a775602"
  },
  {
   "cell_type": "markdown",
   "source": [
    "# Separating Printed Values\n"
   ],
   "metadata": {
    "collapsed": false
   },
   "id": "9ef68b5625d9f7c3"
  },
  {
   "cell_type": "code",
   "execution_count": null,
   "outputs": [],
   "source": [
    "a,b=1,2\n",
    "print(a,b,sep=':')"
   ],
   "metadata": {
    "collapsed": false
   },
   "id": "83d2dd6c66807136"
  },
  {
   "cell_type": "code",
   "execution_count": null,
   "outputs": [],
   "source": [
    "print('hi',end='')\n",
    "print('Sabah')"
   ],
   "metadata": {
    "collapsed": false
   },
   "id": "30b9c427d8e724e3"
  },
  {
   "cell_type": "code",
   "execution_count": null,
   "outputs": [],
   "source": [
    "print(\"hi\",end=\"\\t\")\n",
    "print(\"Sabah\")\n"
   ],
   "metadata": {
    "collapsed": false
   },
   "id": "10106ad6f529d238"
  },
  {
   "cell_type": "markdown",
   "source": [
    "To squish objects together without any space between them, specify an empty string (\"\") as the separator:\n"
   ],
   "metadata": {
    "collapsed": false
   },
   "id": "ca8b29f6b29ac910"
  },
  {
   "cell_type": "code",
   "execution_count": 4,
   "outputs": [
    {
     "name": "stdout",
     "output_type": "stream",
     "text": [
      "foo42bar\n"
     ]
    }
   ],
   "source": [
    "print(\"foo\", 42, \"bar\", sep=\"\")\n"
   ],
   "metadata": {
    "collapsed": false,
    "ExecuteTime": {
     "end_time": "2023-08-24T13:12:12.446119100Z",
     "start_time": "2023-08-24T13:12:12.432873Z"
    }
   },
   "id": "dbf5ca8e7de6039a"
  },
  {
   "cell_type": "markdown",
   "source": [
    "## Using Formatted Strings\n"
   ],
   "metadata": {
    "collapsed": false
   },
   "id": "47c2da27f4e60d4c"
  },
  {
   "cell_type": "markdown",
   "source": [
    "### STRING FORMATTING \n",
    "\n",
    "The simplest form of string formatting is concatenation, where you use the + operator to combine strings and values.\n"
   ],
   "metadata": {
    "collapsed": false
   },
   "id": "7853ef9111fb06d6"
  },
  {
   "cell_type": "code",
   "execution_count": 5,
   "outputs": [
    {
     "name": "stdout",
     "output_type": "stream",
     "text": [
      "My name is John and I am 30 years old.\n"
     ]
    }
   ],
   "source": [
    "name = \"John\"\n",
    "age = 30\n",
    "result = \"My name is \" + name + \" and I am \" + str(age) + \" years old.\"\n",
    "print(result)"
   ],
   "metadata": {
    "collapsed": false,
    "ExecuteTime": {
     "end_time": "2023-08-24T13:12:54.645681700Z",
     "start_time": "2023-08-24T13:12:54.639681400Z"
    }
   },
   "id": "76a6d004b87f7f82"
  },
  {
   "cell_type": "markdown",
   "source": [
    "### % Formatting\n",
    "placeholders and the % operator to insert values into a string.\n",
    "Placeholders include %s for strings, %d for integers, %f for floating-point numbers, etc.\n"
   ],
   "metadata": {
    "collapsed": false
   },
   "id": "39b71d7c6bdcc97e"
  },
  {
   "cell_type": "code",
   "execution_count": 7,
   "outputs": [
    {
     "name": "stdout",
     "output_type": "stream",
     "text": [
      "My name is John and I am 30 years old.\n"
     ]
    }
   ],
   "source": [
    "name = \"John\"\n",
    "age = 30\n",
    "result = \"My name is %s and I am %d years old.\" % (name, age)\n",
    "print(result)"
   ],
   "metadata": {
    "collapsed": false,
    "ExecuteTime": {
     "end_time": "2023-08-24T13:13:26.526574500Z",
     "start_time": "2023-08-24T13:13:26.515215100Z"
    }
   },
   "id": "414554690f0d5d7"
  },
  {
   "cell_type": "markdown",
   "source": [
    "### str.format() Method\n",
    "\n",
    "The str.format() method uses curly braces {} as placeholders and the format() method to specify values to replace those placeholders.\n"
   ],
   "metadata": {
    "collapsed": false
   },
   "id": "4aacbc6fea05177a"
  },
  {
   "cell_type": "code",
   "execution_count": 8,
   "outputs": [
    {
     "name": "stdout",
     "output_type": "stream",
     "text": [
      "My name is John and I am 30 years old.\n"
     ]
    }
   ],
   "source": [
    "name = \"John\"\n",
    "age = 30\n",
    "result = \"My name is {} and I am {} years old.\".format(name, age)\n",
    "print(result)"
   ],
   "metadata": {
    "collapsed": false,
    "ExecuteTime": {
     "end_time": "2023-08-24T13:13:48.469521100Z",
     "start_time": "2023-08-24T13:13:48.462520700Z"
    }
   },
   "id": "208fb0093289ff30"
  },
  {
   "cell_type": "markdown",
   "source": [
    "### Template Strings\n",
    "Template strings are a part of the string module and use $ as placeholders for variables.\n",
    "They offer a simple and safe way to perform string substitutions.\n"
   ],
   "metadata": {
    "collapsed": false
   },
   "id": "e8ac216676b561dd"
  },
  {
   "cell_type": "code",
   "execution_count": 10,
   "outputs": [
    {
     "name": "stdout",
     "output_type": "stream",
     "text": [
      "My name is John and I am 30 years old.\n"
     ]
    }
   ],
   "source": [
    "from string import Template\n",
    "name = \"John\"\n",
    "age = 30\n",
    "template = Template(\"My name is $name and I am $age years old.\")\n",
    "result = template.substitute(name=name, age=age)\n",
    "print(result)"
   ],
   "metadata": {
    "collapsed": false,
    "ExecuteTime": {
     "end_time": "2023-08-24T13:14:08.471919800Z",
     "start_time": "2023-08-24T13:14:08.457913500Z"
    }
   },
   "id": "b72a230e509c564"
  },
  {
   "cell_type": "markdown",
   "source": [
    "### F-Strings (Formatted String Literals):\n",
    "F-strings are a concise and expressive way to format strings introduced in Python 3.6 and later.\n",
    "They use an 'f' or 'F' prefix before a string literal and embed expressions directly within curly braces {}.\n"
   ],
   "metadata": {
    "collapsed": false
   },
   "id": "f321c375477cc978"
  },
  {
   "cell_type": "code",
   "execution_count": 11,
   "outputs": [
    {
     "name": "stdout",
     "output_type": "stream",
     "text": [
      "My name is John and I am 30 years old.\n"
     ]
    }
   ],
   "source": [
    "name = \"John\"\n",
    "age = 30\n",
    "result = f\"My name is {name} and I am {age} years old.\"\n",
    "print(result)"
   ],
   "metadata": {
    "collapsed": false,
    "ExecuteTime": {
     "end_time": "2023-08-24T13:14:27.938393300Z",
     "start_time": "2023-08-24T13:14:27.923887300Z"
    }
   },
   "id": "18a18be410896b53"
  },
  {
   "cell_type": "markdown",
   "source": [
    "### Formatting Numbers\n",
    "\n",
    "\n",
    "Without formatting the number can be displayed with up to 12 significant digits\n",
    "The % symbol is a string format operator when the operand on the left side of the % is a string\n",
    "A formatting specifier  is a special set of characters that specify how a value should be formatted\n"
   ],
   "metadata": {
    "collapsed": false
   },
   "id": "8f28ed090624e591"
  },
  {
   "cell_type": "code",
   "execution_count": 13,
   "outputs": [
    {
     "name": "stdout",
     "output_type": "stream",
     "text": [
      "The value is 7.23\n"
     ]
    }
   ],
   "source": [
    "my_value = 7.23456\n",
    "print(f\"The value is {my_value:.2f}\")"
   ],
   "metadata": {
    "collapsed": false,
    "ExecuteTime": {
     "end_time": "2023-08-24T13:16:03.264065900Z",
     "start_time": "2023-08-24T13:16:03.252066200Z"
    }
   },
   "id": "2df712cde78c7ea8"
  },
  {
   "cell_type": "markdown",
   "source": [
    "### Formatting Multiple Values"
   ],
   "metadata": {
    "collapsed": false
   },
   "id": "2182a84a1ada130f"
  },
  {
   "cell_type": "code",
   "execution_count": null,
   "outputs": [],
   "source": [
    "value1 = 6.7891234\n",
    "value2 = 1.2345678\n",
    "print(f'The values are {value1:.1f} and {value2:.3f}')"
   ],
   "metadata": {
    "collapsed": false
   },
   "id": "8e001498bfdbe3ca"
  }
 ],
 "metadata": {
  "kernelspec": {
   "display_name": "Python 3",
   "language": "python",
   "name": "python3"
  },
  "language_info": {
   "codemirror_mode": {
    "name": "ipython",
    "version": 2
   },
   "file_extension": ".py",
   "mimetype": "text/x-python",
   "name": "python",
   "nbconvert_exporter": "python",
   "pygments_lexer": "ipython2",
   "version": "2.7.6"
  }
 },
 "nbformat": 4,
 "nbformat_minor": 5
}
