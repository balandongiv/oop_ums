{
 "cells": [
  {
   "cell_type": "markdown",
   "source": [
    "# Agenda\n",
    "\n",
    " course info\n",
    " what is computation\n",
    " python basics\n",
    " mathematical operations\n",
    " python variables and types\n",
    " NOTE: slides and code files up before each lecture\n",
    "o highly encourage you to download them before lecture\n",
    "o take notes and run code files when I do\n",
    "o bring computers to answer in-class practice exercises!"
   ],
   "metadata": {
    "collapsed": false
   },
   "id": "9a44e7b06abae7a4"
  },
  {
   "cell_type": "markdown",
   "source": [
    "# COURSE INFO\n",
    "\n",
    "Grading\n",
    "◦ approx. 20% Quiz\n",
    "◦ approx. 40% Final\n",
    "◦ approx. 30% Problem Sets\n",
    "◦ approx. 10% MITx Finger Exercises"
   ],
   "metadata": {
    "collapsed": false
   },
   "id": "21c898406cd6a3b8"
  },
  {
   "cell_type": "markdown",
   "source": [
    "# COURSE POLICIES\n",
    "\n",
    "## Collaboration\n",
    "◦ may collaborate with anyone\n",
    "◦ required to write code independently and write names of\n",
    "all collaborators on submission\n",
    "◦ we will be running a code similarity program on all psets\n",
    "\n",
    "## Extensions\n",
    "◦ no extensions\n",
    "◦ late days, see course website for details\n",
    "◦ drop and roll weight of max two psets in final exam grade\n",
    "◦ should be EMERGENCY use only"
   ],
   "metadata": {
    "collapsed": false
   },
   "id": "56dffd8d98fe20d4"
  },
  {
   "cell_type": "markdown",
   "source": [
    "# RECITATIONS\n",
    "\n",
    "not mandatory\n",
    " two flavors\n",
    "## 1) Lecture review: review lecture material\n",
    "o if you missed lecture\n",
    "o if you need a different take on the same concepts\n",
    "## 2) Problem solving: teach you how to solve programming\n",
    "problems\n",
    "o useful if you don’t know how to set up pseudocode from pset words\n",
    "o we show a couple of harder questions\n",
    "o walk you through how to approach solving the problem\n",
    "o brainstorm code solution along with the recitation instructor\n",
    "o will post solutions after"
   ],
   "metadata": {
    "collapsed": false
   },
   "id": "d51121ca12846aff"
  },
  {
   "cell_type": "markdown",
   "source": [
    "# FAST PACED COURSE\n",
    "\n",
    "## Position yourself to succeed!\n",
    "◦ read psets when they come out and come back to them later\n",
    "◦ use late days in emergency situations\n",
    "## New to programming? PRACTICE. PRACTICE? PRACTICE!\n",
    "◦ can’t passively absorb programming as a skill\n",
    "◦ download code before lecture and follow along\n",
    "◦ do MITx finger exercises\n",
    "◦ don’t be afraid to try out Python commands!"
   ],
   "metadata": {
    "collapsed": false
   },
   "id": "6c90e22bede7450e"
  }
 ],
 "metadata": {
  "kernelspec": {
   "display_name": "Python 3",
   "language": "python",
   "name": "python3"
  },
  "language_info": {
   "codemirror_mode": {
    "name": "ipython",
    "version": 2
   },
   "file_extension": ".py",
   "mimetype": "text/x-python",
   "name": "python",
   "nbconvert_exporter": "python",
   "pygments_lexer": "ipython2",
   "version": "2.7.6"
  }
 },
 "nbformat": 4,
 "nbformat_minor": 5
}
