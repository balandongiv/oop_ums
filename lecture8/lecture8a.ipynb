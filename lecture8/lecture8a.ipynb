{
 "cells": [
  {
   "cell_type": "markdown",
   "source": [
    "* Testing for robust code \n",
    "* Optimising your code\n",
    "* Squeezing out extra speed"
   ],
   "metadata": {
    "collapsed": false
   },
   "id": "a4ff8578b3f9e14f"
  },
  {
   "cell_type": "code",
   "execution_count": null,
   "outputs": [],
   "source": [],
   "metadata": {
    "collapsed": false
   },
   "id": "fe7d757aafbadfb3"
  },
  {
   "cell_type": "markdown",
   "source": [
    "# Writing Robust Code"
   ],
   "metadata": {
    "collapsed": false
   },
   "id": "89bc5b18b772f9bb"
  },
  {
   "cell_type": "markdown",
   "source": [
    "## Testing\n",
    "* Unit tests\n",
    "    - test individual units of code\n",
    "    - specific units\n",
    "        -- e.g. a single function or interaction between functions\n",
    "    - tested as generally as possible\n",
    "* Functional tests\n",
    "    - test the whole programme under a variety of inputs\n",
    "* Regression tests\n",
    "    - check for inconsistent behaviour between consecutive versions\n",
    "    - detect new bugs, ensure old bugs do not reoccur"
   ],
   "metadata": {
    "collapsed": false
   },
   "id": "c0ada0947070f206"
  },
  {
   "cell_type": "markdown",
   "source": [
    "Main testing frameworkS\n",
    "\n",
    "* unittest is the main Python module\n",
    "* doctest enables tests in documentation strings\n",
    "* pytest is the most popular third-party module\n",
    "    - conda install pytest\n",
    "    - nicely automates testing, and preferred by astropy\n",
    "    - interoperable with other frameworks\n",
    "    - basically just name any tests test_*\n",
    "        -- files, functions, methods, classes (Test…)"
   ],
   "metadata": {
    "collapsed": false
   },
   "id": "f6e967dab57de173"
  },
  {
   "cell_type": "markdown",
   "source": [],
   "metadata": {
    "collapsed": false
   },
   "id": "48287bd364b19026"
  },
  {
   "cell_type": "markdown",
   "source": [
    "Recap:\n",
    "\n",
    "In a typical function, we have:\n",
    "function name\n",
    "function arguments\n",
    "function body\n",
    "function return value\n",
    "\n",
    "Apart from that, we also have:\n",
    "function docstring\n",
    "\n",
    "The purpose of function docstrings is to provide documentation for your function. It is a good practice to write docstrings for all your functions. \n",
    "\n",
    "Take a look at the following example:\n",
    "def add_two_number(a, b):\n",
    "    \"\"\"\n",
    "    This function adds two numbers together.\n",
    "\n",
    "    >>> add(2, 3)\n",
    "    5\n",
    "\n",
    "    >>> add(-1, 1)\n",
    "    0\n",
    "\n",
    "    >>> add(0, 0)\n",
    "    0\n",
    "    \"\"\"\n",
    "    return a + b\n",
    "\n",
    "\n",
    "The docstring is a string that is the first statement in the function body. It is enclosed in triple quotes so that it can extend over multiple lines.\n",
    "In the above, we have a one-line summary of the function, followed by a blank line, followed by a more detailed description about the expected behaviour of the function. This allow users to understand what the function does, and how to use it. Apart from that, we also have some examples of how the function should be used. This example is also useful for testing the function."
   ],
   "metadata": {
    "collapsed": false
   },
   "id": "5d227ad5f2536d31"
  },
  {
   "cell_type": "code",
   "execution_count": 17,
   "outputs": [],
   "source": [
    "def add_two_numb(a, b):\n",
    "    \"\"\"\n",
    "    This function adds two numbers together.\n",
    "\n",
    "    >>> add(2, 3)\n",
    "    5\n",
    "\n",
    "    >>> add(-1, 1)\n",
    "    0\n",
    "\n",
    "    >>> add(0, 0)\n",
    "    0\n",
    "    \"\"\"\n",
    "    return a + b"
   ],
   "metadata": {
    "collapsed": false,
    "ExecuteTime": {
     "end_time": "2023-08-28T14:37:11.120711300Z",
     "start_time": "2023-08-28T14:37:11.112997300Z"
    }
   },
   "id": "75d396004500d05b"
  },
  {
   "cell_type": "markdown",
   "source": [
    "# doctest\n",
    "\n",
    "# https://realpython.com/python-doctest/\n",
    "\n",
    "\n",
    "Doctests are a powerful tool for testing your code. They are easy to write and maintain, and they can be used to test both the functionality and the documentation of your code."
   ],
   "metadata": {
    "collapsed": false
   },
   "id": "e5c174944d7b62e7"
  },
  {
   "cell_type": "markdown",
   "source": [
    "### Run doctest from Jupyter Notebook"
   ],
   "metadata": {
    "collapsed": false
   },
   "id": "6f918cb3d5d62af6"
  },
  {
   "cell_type": "code",
   "execution_count": 23,
   "outputs": [
    {
     "name": "stdout",
     "output_type": "stream",
     "text": [
      "**********************************************************************\n",
      "File \"__main__\", line 14, in __main__.is_even\n",
      "Failed example:\n",
      "    is_even(-4)\n",
      "Expected:\n",
      "    False\n",
      "Got:\n",
      "    True\n",
      "**********************************************************************\n",
      "1 items had failures:\n",
      "   1 of   4 in __main__.is_even\n",
      "***Test Failed*** 1 failures.\n"
     ]
    },
    {
     "data": {
      "text/plain": "TestResults(failed=1, attempted=7)"
     },
     "execution_count": 23,
     "metadata": {},
     "output_type": "execute_result"
    }
   ],
   "source": [
    "import doctest\n",
    "\n",
    "# Use %run magic command to execute the doctests in the external .py file\n",
    "%run find_even_no.py\n",
    "\n",
    "# Print the results\n",
    "doctest.testmod()"
   ],
   "metadata": {
    "collapsed": false,
    "ExecuteTime": {
     "end_time": "2023-08-28T15:25:31.937385100Z",
     "start_time": "2023-08-28T15:25:31.925385Z"
    }
   },
   "id": "57ba448746d1e94"
  },
  {
   "cell_type": "markdown",
   "source": [
    "### Run doctest from command line"
   ],
   "metadata": {
    "collapsed": false
   },
   "id": "d6892b6924b06ed8"
  },
  {
   "cell_type": "markdown",
   "source": [
    "Go to the terminal, and type the following\n",
    "\n",
    "python -m doctest my_add_func.py\n",
    "\n",
    "and hit enter"
   ],
   "metadata": {
    "collapsed": false
   },
   "id": "a7f0d5df9fd70b38"
  },
  {
   "cell_type": "markdown",
   "source": [
    "## Unit test"
   ],
   "metadata": {
    "collapsed": false
   },
   "id": "15f8a0d149dd0dbb"
  },
  {
   "cell_type": "code",
   "execution_count": null,
   "outputs": [],
   "source": [
    "import unittest\n",
    "class TestAddFunction(unittest.TestCase):\n",
    "\n",
    "    def test_add_positive_numbers(self):\n",
    "        self.assertEqual(add(2, 3), 5)\n",
    "\n",
    "    def test_add_negative_numbers(self):\n",
    "        self.assertEqual(add(-1, 1), 0)\n",
    "\n",
    "    def test_add_zeros(self):\n",
    "        self.assertEqual(add(0, 0), 0)\n",
    "\n",
    "# Create a test suite and add the test cases\n",
    "test_suite = unittest.TestLoader().loadTestsFromTestCase(TestAddFunction)\n",
    "\n",
    "# Run the tests using a test runner\n",
    "unittest.TextTestRunner().run(test_suite)"
   ],
   "metadata": {
    "collapsed": false
   },
   "id": "fa74ed9e683ebbd5"
  },
  {
   "cell_type": "markdown",
   "source": [
    "However, we often store our function definition in a separate .py, and it is common practice  to run the tests in a separate file. To do this, we can \n",
    "1. Move the add_two_numbers function definition to a separate file called my_add_func.py\n",
    "2. Create a new file called test_my_add_func.py\n",
    "3. In the test_my_add_func.py file, \n",
    "    * we can import the add_two_numbers function from my_add_func.py, \n",
    "    * Replace  the test_suite = unittest.TestLoader().loadTestsFromTestCase(TestAddFunction)\n",
    "        * and unittest.TextTestRunner().run(test_suite)\n",
    "                * with\n",
    "        * if __name__ == '__main__':\n",
    "    unittest.main()"
   ],
   "metadata": {
    "collapsed": false
   },
   "id": "e853cd425bd69cc7"
  },
  {
   "cell_type": "markdown",
   "source": [
    "However, just to reiterate, if you are using IntelJ IDEA, for both Jupyter Notebook and single file unit test, you can just right click on the gutter on the cell or the test file and select Run 'Unittests in test_my_add_func.py'"
   ],
   "metadata": {
    "collapsed": false
   },
   "id": "c0bd2c2d3734a8a1"
  },
  {
   "cell_type": "markdown",
   "source": [
    "### Other Test mechanism\n",
    "\n",
    "* Online testing (continuous integration) services\n",
    "    - GitHub Actions\n",
    "* Also, CircleCI, Jenkins, Travis CI, Azure Pipelines\n",
    "* Test coverage reports\n",
    "    - Coveralls: https://coveralls.io\n",
    "* pytest is the most popular third-party module"
   ],
   "metadata": {
    "collapsed": false
   },
   "id": "159437ca677663"
  },
  {
   "cell_type": "markdown",
   "source": [
    "# Optimising your code"
   ],
   "metadata": {
    "collapsed": false
   },
   "id": "3a9a68eec938fe26"
  },
  {
   "cell_type": "markdown",
   "source": [
    "## Testing performance"
   ],
   "metadata": {
    "collapsed": false
   },
   "id": "b9bd90440ce2d90e"
  },
  {
   "cell_type": "markdown",
   "source": [
    "### Running Time\n",
    "\n",
    "Running time is a natural measure of “goodness”, since time is a precious time - computer solutions should run as fast as possible.\n",
    "   * increases with the input size\n",
    "   * be aﬀected by the hardware environment (e.g., the processor, clock rate, memory, disk) and software environment (e.g., the operating system, programming language)."
   ],
   "metadata": {
    "collapsed": false
   },
   "id": "aa1c62b4a6db4f86"
  },
  {
   "cell_type": "markdown",
   "source": [
    "#### Experimental Studies using elapse time"
   ],
   "metadata": {
    "collapsed": false
   },
   "id": "6ca62da553916c0a"
  },
  {
   "cell_type": "code",
   "execution_count": 1,
   "outputs": [
    {
     "name": "stdout",
     "output_type": "stream",
     "text": [
      "Hi UMS\n",
      "The elapsed time is 0.0 seconds.\n"
     ]
    }
   ],
   "source": [
    "from time import time\n",
    "start_time = time ()\n",
    "# run algorithm\n",
    "print('Hi UMS')\n",
    "end_time = time ()\n",
    "elapsed = end_time - start_time\n",
    "print('The elapsed time is', elapsed, 'seconds.')"
   ],
   "metadata": {
    "collapsed": false,
    "ExecuteTime": {
     "end_time": "2023-08-28T23:41:40.329941900Z",
     "start_time": "2023-08-28T23:41:40.314941700Z"
    }
   },
   "id": "2181747bb8c4a80a"
  },
  {
   "cell_type": "markdown",
   "source": [
    "Other ways to measure running time\n",
    "* Use the timeit module\n",
    "    - https://docs.python.org/3/library/timeit.html\n",
    "* Use the clock() function\n",
    "    - https://docs.python.org/3/library/time.html#time.clock"
   ],
   "metadata": {
    "collapsed": false
   },
   "id": "8d762fb0975b371a"
  },
  {
   "cell_type": "markdown",
   "source": [
    "#### Challenges of Experimental Analysis\n",
    "\n",
    "* Experiments should be performed in the same hardware and software.\n",
    "    - Hardware: processor, clock rate, memory, disk\n",
    "    - Software: operating system, programming language,python version\n",
    "* Experiments can be done only for a limited set of test input. Hence, we may leave out some important cases.\n",
    "* An algorithm must be fully implemented in order to execute it, to study is running time experimentally.\n",
    "\n",
    "Some of the material in the slide is adapted from Xioping Zhang's slide"
   ],
   "metadata": {
    "collapsed": false
   },
   "id": "c7079dc564f74f20"
  },
  {
   "cell_type": "markdown",
   "source": [],
   "metadata": {
    "collapsed": false
   },
   "id": "b8d2eeca87dbeaa8"
  },
  {
   "cell_type": "markdown",
   "source": [
    "## Squeezing out extra speed\n",
    "\n",
    "C:\\Users\\balan\\OneDrive - ums.edu.my\\0 fi\\OOP\\python\\MIT 6_0001\\Lec10\n",
    "C:\\Users\\balan\\OneDrive - ums.edu.my\\0 fi\\OOP\\python\\MIT 6_0001\\Lec11\n",
    "\n",
    "C:\\Users\\balan\\OneDrive - ums.edu.my\\0 fi\\OOP\\python\\DS18_Fall\\slide03\n",
    "\n",
    "\n"
   ],
   "metadata": {
    "collapsed": false
   },
   "id": "2141f32cadf38c06"
  }
 ],
 "metadata": {
  "kernelspec": {
   "display_name": "Python 3",
   "language": "python",
   "name": "python3"
  },
  "language_info": {
   "codemirror_mode": {
    "name": "ipython",
    "version": 2
   },
   "file_extension": ".py",
   "mimetype": "text/x-python",
   "name": "python",
   "nbconvert_exporter": "python",
   "pygments_lexer": "ipython2",
   "version": "2.7.6"
  }
 },
 "nbformat": 4,
 "nbformat_minor": 5
}
