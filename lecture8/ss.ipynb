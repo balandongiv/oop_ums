{
 "cells": [
  {
   "cell_type": "code",
   "execution_count": null,
   "id": "initial_id",
   "metadata": {
    "collapsed": true
   },
   "outputs": [],
   "source": []
  },
  {
   "cell_type": "code",
   "execution_count": 6,
   "outputs": [
    {
     "data": {
      "text/plain": "TestResults(failed=0, attempted=6)"
     },
     "execution_count": 6,
     "metadata": {},
     "output_type": "execute_result"
    }
   ],
   "source": [
    "import doctest\n",
    "# https://realpython.com/python-doctest/\n",
    "\n",
    "def add_me(a, b):\n",
    "    \"\"\"\n",
    "    This function adds two numbers together.\n",
    "\n",
    "    >>> add(2, 3)\n",
    "    5\n",
    "\n",
    "    >>> add(-1, 1)\n",
    "    0\n",
    "\n",
    "    >>> add(0, 0)\n",
    "    0\n",
    "    \"\"\"\n",
    "    return a + b\n",
    "\n",
    "doctest.testmod()"
   ],
   "metadata": {
    "collapsed": false,
    "ExecuteTime": {
     "end_time": "2023-08-28T15:08:52.289562Z",
     "start_time": "2023-08-28T15:08:52.271506300Z"
    }
   },
   "id": "ef55cbc10d1f229c"
  }
 ],
 "metadata": {
  "kernelspec": {
   "display_name": "Python 3",
   "language": "python",
   "name": "python3"
  },
  "language_info": {
   "codemirror_mode": {
    "name": "ipython",
    "version": 2
   },
   "file_extension": ".py",
   "mimetype": "text/x-python",
   "name": "python",
   "nbconvert_exporter": "python",
   "pygments_lexer": "ipython2",
   "version": "2.7.6"
  }
 },
 "nbformat": 4,
 "nbformat_minor": 5
}
