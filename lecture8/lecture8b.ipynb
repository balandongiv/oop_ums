{
 "cells": [
  {
   "cell_type": "markdown",
   "id": "d4110751b77ab2dc",
   "metadata": {},
   "source": [
    "# Lesson Objectives\n",
    "By the end of this lesson, you should be able to:\n",
    "\n",
    "1. Understand how exceptions are generated and handled in Python.\n",
    "2. Use the `raise` statement to generate exceptions.\n",
    "3. Use the `try...except` statement to intercept and handle exceptions.\n",
    "4. List the common built-in exceptions.\n",
    "\n"
   ]
  },
  {
   "cell_type": "markdown",
   "id": "579bd06581395698",
   "metadata": {},
   "source": [
    "Some of the material in this lesson is adapted from:\n",
    "\n",
    "* Python Mini-Course, University of Oklahoma, Department of Psychology\n",
    "* https://www.w3schools.com/python/python_try_except.asp\n",
    "* https://python101.pythonlibrary.org/chapter7_exception_handling.html\n",
    "\n",
    "C:\\Users\\balan\\OneDrive - ums.edu.my\\0 fi\\OOP\\python\\MIT 6_0001\\Lec7 "
   ]
  },
  {
   "cell_type": "markdown",
   "id": "939594b75cbee276",
   "metadata": {},
   "source": [
    "Debugging Slide\n",
    "C:\\Users\\balan\\OneDrive - ums.edu.my\\0 fi\\OOP\\python\\MIT 6_0001\\Lec7"
   ]
  },
  {
   "cell_type": "markdown",
   "id": "a402a25bd604cab1",
   "metadata": {},
   "source": [
    "This notebook discuss about diffrent types of Python errors and how to handle them\n",
    "\n",
    "Souce: https://rollbar.com/blog/python-errors-and-how-to-handle-them/#\n",
    "\n",
    "https://code.tutsplus.com/error-handling-logging-in-python--cms-27932t\n",
    "\n",
    "https://www.tutorialsteacher.com/python/error-types-in-python\n",
    "\n"
   ]
  },
  {
   "cell_type": "markdown",
   "id": "86af77ed08dde2de",
   "metadata": {},
   "source": [
    "# ERRORS\n",
    "\n",
    "- **Error**: An abnormal condition; whenever it occurs, the execution of the program is stopped.\n",
    "\n",
    "- **Error Types**:\n",
    "  - **Software Errors**: Issues that arise unexpectedly in the software, causing the computer to not function properly.\n",
    "  - **Hardware Errors**: Problems related to the physical components of the computer that disrupt its normal operation.\n",
    "\n",
    "<!-- Error is a abnormal condition whenever it occurs execution of the program is stopped.\n",
    "\n",
    "\tAn error is a term used to describe any issue that arises unexpectedly that cause a computer to not function properly. Computers can encounter either software errors or hardware errors. -->"
   ]
  },
  {
   "cell_type": "markdown",
   "id": "15b69c738342140e",
   "metadata": {},
   "source": [
    "# Types of Errors\n",
    "\n",
    "Errors in programming can be categorized into the following types:\n",
    "\t\n",
    "1. Syntax Errors\n",
    "2. Semantic Errors\n",
    "3. Run Time Errors.\n",
    "4. Logical Errors.\n"
   ]
  },
  {
   "cell_type": "markdown",
   "id": "4b51822d5849003d",
   "metadata": {},
   "source": [
    "## Syntax Errors\n",
    "\n",
    "- These occur when the rules governing the construction of valid statements in a language are violated. , i.e., when a grammatical rule of the language is violated.\n",
    "\n",
    "For instance in the following code  snippet\n",
    "<pre><code class=\"python\" language=\"python\" style=\"font-size:0.8em;\">\n",
    "    \n",
    "    def main()                      <font color=\"red\"># : (Colon) Missing</font>\n",
    "        a = 10\n",
    "        b = 3\n",
    "        print(\"Sum is\", a + b       <font color=\"red\"># ) Missing</font>\n",
    "</code></pre>\n",
    "\n",
    "\n",
    "\n",
    "\n",
    "There are two syntax errors:\n",
    "1. The colon (:) is missing after the function name main. \n",
    "2. The closing parenthesis is missing in the print statement.\n"
   ]
  },
  {
   "cell_type": "markdown",
   "id": "85bce2b503836b41",
   "metadata": {},
   "source": [
    "## Semantic Errors\n",
    "\n",
    "- Semantics errors occur when statements are not meaningful.\n",
    "- Semantics refers to the set of rules which give the meaning of the statement.\n",
    "\n",
    "- For example,\n",
    "\n",
    "  - \"Rama plays Guitar\"\n",
    "    - This statement is syntactically and semantically correct, and it has some meaning.\n"
   ]
  },
  {
   "cell_type": "markdown",
   "id": "3043af00ec88ab3d",
   "metadata": {},
   "source": [
    "- See the following statement,\n",
    "  - \"Guitar plays Rama\"\n",
    "  It is syntactically correct (syntax is correct) but semantically incorrect. \n",
    "        - \n",
    "Similarly, there are semantics rules of a programming language, violation of which results in semantic errors.\n",
    "  \n",
    "For example,\n",
    "  - \"X * Y = Z\"\n",
    "  This will result in a semantic error as an expression cannot appear on the left side of an assignment statement.\n",
    "  \n",
    "Semantic Error occur when statements are not meaningful or violate the semantics of the language\n",
    "For instance in the following code  snippet\n",
    "<pre><code class=\"python\" language=\"python\" style=\"font-size:0.8em;\">\n",
    "    \n",
    "    X * Y = Z                      <font color=\"red\"># misuse of the assignment operator (=) </font>\n",
    "</code></pre>\n",
    "\n",
    "In the above, it appears as if we are trying to perform a multiplication operation (X * Y) and assign the result to Z"
   ]
  },
  {
   "cell_type": "markdown",
   "id": "ffaf74ba64eaa808",
   "metadata": {},
   "source": [
    "## Run Time Errors:\n",
    "  - These occur during program execution and are caused by illegal operation.\n",
    "  \n",
    "  For example:\n",
    "  1. If a program is trying to open a file that does not exist or cannot be opened (meaning the file is corrupted), it results in an execution error.\n",
    "  2. An expression attempting to divide a number by zero is a RUN TIME ERROR.\n"
   ]
  },
  {
   "cell_type": "markdown",
   "id": "13245c1be1d44fcb",
   "metadata": {},
   "source": [
    "## Logical Errors:\n",
    "\n",
    "These are subtle errors that cause a program to produce incorrect or undesired output. These errors are often the most challenging to identify and fix.\n",
    "  \n",
    "    - For instance:\n",
    "      ```\n",
    "      ctr = 1;\n",
    "      while(ctr < 10):\n",
    "          print(n * ctr)\n",
    "      ```"
   ]
  },
  {
   "cell_type": "markdown",
   "id": "5c44e5f467a5de4b",
   "metadata": {},
   "source": [
    "# Exceptions"
   ]
  },
  {
   "cell_type": "markdown",
   "id": "1fca9527d04acfa6",
   "metadata": {},
   "source": [
    "## What is an exception?\n",
    "\n",
    "* An exception is an event that occurs during the execution of a program, disrupting the normal flow of instructions. \n",
    "* Exceptions are used to handle errors and other exceptional events in Python programs."
   ]
  },
  {
   "cell_type": "markdown",
   "source": [
    "In general, when a Python script encounters a situation it can’t cope with, it raises an exception. An exception is a Python object that represents an error.\n"
   ],
   "metadata": {
    "collapsed": false
   },
   "id": "a3765a501436da8d"
  },
  {
   "cell_type": "code",
   "execution_count": 53,
   "outputs": [
    {
     "ename": "NameError",
     "evalue": "name 's' is not defined",
     "output_type": "error",
     "traceback": [
      "\u001B[1;31m---------------------------------------------------------------------------\u001B[0m",
      "\u001B[1;31mNameError\u001B[0m                                 Traceback (most recent call last)",
      "Cell \u001B[1;32mIn[53], line 3\u001B[0m\n\u001B[0;32m      1\u001B[0m \u001B[38;5;66;03m# Code Snippet 1\u001B[39;00m\n\u001B[0;32m      2\u001B[0m \u001B[38;5;66;03m# In the code below, there are two possible request, whether to print the character s or to print the object s\u001B[39;00m\n\u001B[1;32m----> 3\u001B[0m \u001B[38;5;28mprint\u001B[39m(\u001B[43ms\u001B[49m)\n",
      "\u001B[1;31mNameError\u001B[0m: name 's' is not defined"
     ]
    }
   ],
   "source": [
    "# Code Snippet 1\n",
    "# In the code below, there are two possible request, whether to print the character s or to print the object s\n",
    "print(s)"
   ],
   "metadata": {
    "collapsed": false,
    "ExecuteTime": {
     "end_time": "2023-08-30T05:00:40.448157100Z",
     "start_time": "2023-08-30T05:00:40.238550800Z"
    }
   },
   "id": "190032cf540af315"
  },
  {
   "cell_type": "markdown",
   "source": [
    "As demonstrated in Code Snippet 1, Python automatically raises an exception when an undefined object, such as `s` is encountered. \n",
    "\n",
    "When a Python script encounters an error that it cannot handle, the interpreter stops the program and raises an exception. An exception is a Python object that represents an error. "
   ],
   "metadata": {
    "collapsed": false
   },
   "id": "36fb733d35c6419a"
  },
  {
   "cell_type": "markdown",
   "source": [],
   "metadata": {
    "collapsed": false
   },
   "id": "2cf4e5b3ce010c52"
  },
  {
   "cell_type": "markdown",
   "id": "aaabeefe9e3490c7",
   "metadata": {},
   "source": [
    "<font color=\"red\">However, we can override this behavior by catching the exception</font>\n",
    "\n",
    "The programmer can write code that catches and deals with errors that arise while the program is running, i.e., “Do these steps, and if any problem crops up, handle it this way.”\n",
    "\n",
    "This approach obviates the need to do explicit checking at each step in the algorithm. Instead, the program can jump immediately to the error handling code when a problem occurs and deal with it there. This is called **exception handling**."
   ]
  },
  {
   "cell_type": "markdown",
   "source": [
    "Explicit checking at each step in the algorithm\n",
    "\n",
    "<pre><code class=\"python\" language=\"python\" style=\"font-size:0.8em;\">\n",
    "    \n",
    "# Explicit checking at each step\n",
    "def divide(a, b):\n",
    "    if b == 0:\n",
    "        return \"Error: Division by zero\"\n",
    "    \n",
    "    result = a / b\n",
    "    \n",
    "    if result < 0:\n",
    "        return \"Error: Negative result\"\n",
    "    \n",
    "    return result\n",
    "\n",
    "# Test cases\n",
    "numerator = 10\n",
    "denominator = 2\n",
    "\n",
    "result = divide(numerator, denominator)\n",
    "if isinstance(result, str):\n",
    "    print(result)\n",
    "else:\n",
    "    print(\"Result:\", result)\n",
    "</code></pre>\n",
    "\n",
    "\n",
    "Exception Handling\n",
    "<pre><code class=\"python\" language=\"python\" style=\"font-size:0.8em;\">\n",
    "# Exception handling\n",
    "def divide(a, b):\n",
    "    try:\n",
    "        result = a / b\n",
    "        return result\n",
    "    except ZeroDivisionError:\n",
    "        return \"Error: Division by zero\"\n",
    "    except Exception as e:\n",
    "        return f\"Error: {str(e)}\"\n",
    "\n",
    "# Test cases\n",
    "numerator = 10\n",
    "denominator = 2\n",
    "\n",
    "result = divide(numerator, denominator)\n",
    "if isinstance(result, str):\n",
    "    print(result)\n",
    "else:\n",
    "    print(\"Result:\", result)\n",
    "</code></pre>"
   ],
   "metadata": {
    "collapsed": false
   },
   "id": "8ef9e5e4c5d0325e"
  },
  {
   "cell_type": "markdown",
   "source": [
    "Python provides two very important features to handle any unexpected error in your Python programs and to add debugging capabilities in them:\n",
    "\n",
    "1. **Exception Handling:** This would be covered in this tutorial.\n",
    "\n",
    "2. **Assertions:** This would be covered in Assertions in Python tutorial.\n",
    "\n",
    "## What is an Exception?\n",
    "\n",
    "An exception is an event that occurs during the execution of a program, disrupting the normal flow of the program's instructions.\n",
    "\n",
    "In general, when a Python script encounters a situation it can't cope with, it raises an exception. An exception is a Python object that represents an error.\n",
    "\n",
    "When a Python script raises an exception, it must either handle the exception immediately, or the program would terminate and exit."
   ],
   "metadata": {
    "collapsed": false
   },
   "id": "304d1fca87a461d5"
  },
  {
   "cell_type": "markdown",
   "id": "ea94340c1ab940a4",
   "metadata": {},
   "source": [
    "## Handling exceptions\n",
    "\n",
    "* By default, the interpreter handles exceptions by stopping the program and printing an error message\n",
    "* However, we can override this behavior by catching the exception\n",
    "\n",
    "\n"
   ]
  },
  {
   "cell_type": "markdown",
   "source": [
    "## Common Exceptions\n",
    "\n",
    "Certainly! Here's the information represented as a Markdown table:\n",
    "\n",
    "| Exception Name     | Description                                                                                         |\n",
    "|--------------------|-----------------------------------------------------------------------------------------------------|\n",
    "| **IOError**        | Occurs if the file cannot be opened.                                                                |\n",
    "| **ImportError**    | Occurs if Python cannot find the module.                                                            |\n",
    "| **ValueError**     | Raised when a built-in operation or function receives an argument that has the right type but an inappropriate value. |\n",
    "| **KeyboardInterrupt** | Raised when the user hits the interrupt key (normally Control-C or Delete).                     |\n",
    "| **EOFError**       | Raised when one of the built-in functions (`input()` or `raw_input()`) hits an end-of-file condition (EOF) without reading any data. |\n",
    "\n",
    "\n",
    "Here is a list of the most common built-in exceptions [definitions from the Python documentation](https://docs.python.org/3/library/exceptions.html):\n",
    "\n",
    "  - This kind of a `try-except` statement catches all the exceptions that occur.\n",
    "  - Using this kind of try-except statement is not considered good programming practice because it catches all exceptions but does not make the programmer identify the root cause of the problem that may occur.\n"
   ],
   "metadata": {
    "collapsed": false
   },
   "id": "568021ce98dbc9c0"
  },
  {
   "cell_type": "markdown",
   "source": [
    "## Bare Except,\n",
    "    \n",
    "to catht the error, Python require the operation to be wrap in a try block\n",
    "\n",
    "The general structure of a Python try-catch block is as follows:\n",
    "\n",
    "<pre><code class=\"python\" language=\"python\" style=\"font-size:0.8em;\">\n",
    "try:\n",
    "    # Code that may raise an exception\n",
    "except:\n",
    "    # Code to handle the exception\n",
    "</code></pre>\n",
    " \n",
    "\n",
    "You can also use the `except` statement with no exceptions defined as follows:"
   ],
   "metadata": {
    "collapsed": false
   },
   "id": "eb6a46a91fe7c306"
  },
  {
   "cell_type": "markdown",
   "source": [
    "Take for example the code snippet below:"
   ],
   "metadata": {
    "collapsed": false
   },
   "id": "664a108a59f15a5a"
  },
  {
   "cell_type": "code",
   "execution_count": 54,
   "outputs": [
    {
     "name": "stdout",
     "output_type": "stream",
     "text": [
      "An exception occurred\n"
     ]
    }
   ],
   "source": [
    "# Code Snippet 2\n",
    "try:\n",
    "    print(s)\n",
    "except:\n",
    "    print(\"An exception occurred\")"
   ],
   "metadata": {
    "collapsed": false,
    "ExecuteTime": {
     "end_time": "2023-08-30T05:00:40.593724500Z",
     "start_time": "2023-08-30T05:00:40.276649300Z"
    }
   },
   "id": "1114007870af307b"
  },
  {
   "cell_type": "markdown",
   "source": [
    "In Code snippet 2, the try block raises an error, the except block will be executed.\n",
    "\n",
    "Without the try block, the program will crash and raise an error:"
   ],
   "metadata": {
    "collapsed": false
   },
   "id": "5bf5b0c377edf1d"
  },
  {
   "cell_type": "markdown",
   "source": [
    "While it can be usefull for debugging code, bare except structure  is not recommended as it will catch any and all exceptions. The reason this is not recommended is that you don’t know which exception you are catching. When you have something like except ZeroDivisionError, you are obviously trying to catch a division by zero error. In the code above, you cannot tell what you are trying to catch.\n",
    "\n"
   ],
   "metadata": {
    "collapsed": false
   },
   "id": "bcd1dbe8ae32674d"
  },
  {
   "cell_type": "markdown",
   "source": [],
   "metadata": {
    "collapsed": false
   },
   "id": "99d79d9dd35b5c20"
  },
  {
   "cell_type": "markdown",
   "source": [
    "## Many Exceptions\n",
    "\n",
    "Bare excepts should be used with caution. They can be useful for debugging code, but they can also be dangerous if they are not used correctly. If you are not sure what exception to catch, it is better to specify a specific exception type.\n",
    "\n",
    "You can define as many exception blocks as you want, e.g. if you want to execute a special block of code for a special kind of error:\n",
    "\n",
    "<pre><code class=\"python\" language=\"python\" style=\"font-size:0.8em;\">\n",
    "try: \n",
    "    # You do your operations here; \n",
    "    # ...................... \n",
    "except Exception_A: \n",
    "    # If there is Exception_A, then execute this block. \n",
    "except Exception_B: \n",
    "    # If there is Exception_B, then execute this block. \n",
    "except (Exception_C,Exception_F)\n",
    "    # If there is Exception_C or Exception_D, then execute this block. \n",
    "except:\n",
    "    # If you do not know specific exception, then execute this block\n",
    "    \n",
    "</code></pre>\n"
   ],
   "metadata": {
    "collapsed": false
   },
   "id": "9002f484d544b931"
  },
  {
   "cell_type": "code",
   "execution_count": 55,
   "outputs": [
    {
     "name": "stdout",
     "output_type": "stream",
     "text": [
      "Variable s is not defined\n"
     ]
    }
   ],
   "source": [
    "# Code Snippet 3\n",
    "# Print one message if the try block raises a NameError and another for other errors:\n",
    "try:\n",
    "    print(s)\n",
    "except TypeError:\n",
    "    print(\"The type of the variable s is not compatible with the operation being performed\")\n",
    "except ValueError:\n",
    "    print(\"The value of the variable s is not valid for the operation being performed\")\n",
    "except (IndexError,KeyError):\n",
    "    print(\"The index is out of bounds for the sequence or the key is not found in the dictionary\")\n",
    "except NameError:\n",
    "    print(\"Variable s is not defined\")\n",
    "except:\n",
    "    print(\"An exception occurred\")"
   ],
   "metadata": {
    "collapsed": false,
    "ExecuteTime": {
     "end_time": "2023-08-30T05:00:40.638114200Z",
     "start_time": "2023-08-30T05:00:40.288649200Z"
    }
   },
   "id": "b9a2526485309a9"
  },
  {
   "cell_type": "markdown",
   "source": [
    "## Grouping of Exceptions\n",
    "\n",
    "You can group related exceptions together by using inheritance to create exception hierarchies. This allows you to catch multiple related exceptions with a single except block.\n",
    "\n",
    "Another to catch multiple exception is to use tuple\n",
    "\n",
    "You can also use the same `except` statement to handle multiple exceptions as follows:\n",
    "\n",
    "<pre><code class=\"python\" language=\"python\" style=\"font-size:0.8em;\">\n",
    "try: \n",
    "    # You do your operations here; \n",
    "    # ...................... \n",
    "except (Exception_C,Exception_F)\n",
    "    # If there is any exception from the given exception list, then execute this block\n",
    "    # If there is Exception_C or Exception_D, then execute this block. \n",
    "except:\n",
    "    # If you do not know specific exception, then execute this block\n",
    "    \n",
    "</code></pre>"
   ],
   "metadata": {
    "collapsed": false
   },
   "id": "e42aeb8d8b73bfcd"
  },
  {
   "cell_type": "code",
   "execution_count": 56,
   "outputs": [
    {
     "name": "stdout",
     "output_type": "stream",
     "text": [
      "Either one of exception occurred, such as TypeError, ValueError, IndexError, KeyError, NameError\n"
     ]
    }
   ],
   "source": [
    "# Code Snippet 4\n",
    "try:\n",
    "    print(s)\n",
    "except TypeError:\n",
    "    print(\"The type of the variable s is not compatible with the operation being performed\")\n",
    "except (ValueError, IndexError, KeyError, NameError):\n",
    "    print('Either one of exception occurred, such as TypeError, ValueError, IndexError, KeyError, NameError')\n",
    "except:\n",
    "    print(\"An exception occurred\")"
   ],
   "metadata": {
    "collapsed": false,
    "ExecuteTime": {
     "end_time": "2023-08-30T05:00:40.663115Z",
     "start_time": "2023-08-30T05:00:40.297649400Z"
    }
   },
   "id": "b96b60bcceed90dd"
  },
  {
   "cell_type": "markdown",
   "source": [
    "## The Else Statement\n",
    "\n",
    "You can use the <span style=\"color:red; font-size:110%;\"><code>else</code></span> keyword to define a block of code to be executed if no errors were raised:\n",
    "\n",
    "The else statement can be useful for doing cleanup tasks, or for executing code that should only be executed if the try block does not raise an exception.\n",
    "\n",
    "Some other examples of how the else statement can be used in a try-except block:\n",
    "\n",
    "1. To close a database connection after it has been used\n",
    "2. To release a lock after it has been acquired\n",
    "3. To reset a counter after it has been incremented\n",
    "4. To print a message to the console indicating that the try block did not raise an exception\n",
    "\n",
    "You can define as many exception blocks as you want, e.g. if you want to execute a special block of code for a special kind of error:\n",
    "\n",
    "<pre><code class=\"python\" language=\"python\" style=\"font-size:0.8em;\">\n",
    "try: \n",
    "    # You do your operations here; \n",
    "    # ...................... \n",
    "except Exception_A: \n",
    "    # If there is Exception_A, then execute this block. \n",
    "except (Exception_C,Exception_F)\n",
    "    # If there is Exception_C or Exception_D, then execute this block. \n",
    "except:\n",
    "    # If you do not know specific exception, then execute this block\n",
    "else:\n",
    "    # If there is no exception, then execute this block.\n",
    "    \n",
    "</code></pre>"
   ],
   "metadata": {
    "collapsed": false
   },
   "id": "f4c938c2ead0ae41"
  },
  {
   "cell_type": "code",
   "execution_count": 57,
   "outputs": [
    {
     "name": "stdout",
     "output_type": "stream",
     "text": [
      "I am running in the try block\n",
      "Result: 0.3333333333333333\n"
     ]
    }
   ],
   "source": [
    "# \n",
    "my_dict = {\"a\":1, \"b\":2, \"c\":3}\n",
    "x=1\n",
    "y=3\n",
    "try:\n",
    "    # Code that might raise an exception\n",
    "    result = x / y\n",
    "    print('I am running in the try block')\n",
    "except ZeroDivisionError:\n",
    "    # Code to handle a specific exception (e.g., division by zero)\n",
    "    print(\"Error: Division by zero\")\n",
    "else:\n",
    "    # Code that runs when no exception is raised\n",
    "    print(\"Result:\", result)\n",
    "\n"
   ],
   "metadata": {
    "collapsed": false,
    "ExecuteTime": {
     "end_time": "2023-08-30T05:00:40.686900700Z",
     "start_time": "2023-08-30T05:00:40.312649300Z"
    }
   },
   "id": "4a270960bc47380d"
  },
  {
   "cell_type": "markdown",
   "source": [
    "If you run this example, it will execute the else and finally statements. Most of the time, you won’t see the else statement used as any code that follows a try/except will be executed if no errors were raised. The only good usage of the else statement that I’ve seen mentioned is where you want to execute a second piece of code that can also raise an error. Of course, if an error is raised in the else, then it won’t get caught."
   ],
   "metadata": {
    "collapsed": false
   },
   "id": "e32ee33ad61a8959"
  },
  {
   "cell_type": "code",
   "execution_count": 58,
   "outputs": [
    {
     "name": "stdout",
     "output_type": "stream",
     "text": [
      "File not found\n"
     ]
    }
   ],
   "source": [
    "try:\n",
    "    # Open a file handle\n",
    "    f = open(\"myfile.txt\", \"r\")\n",
    "    # Read the contents of the file\n",
    "    contents = f.read()\n",
    "except FileNotFoundError:\n",
    "    # File not found, do something else\n",
    "    print(\"File not found\")\n",
    "else:\n",
    "    # File was found, close the file handle\n",
    "    f.close()\n",
    "\n",
    "# Often we want to close a file handle after we are done with it."
   ],
   "metadata": {
    "collapsed": false,
    "ExecuteTime": {
     "end_time": "2023-08-30T05:00:40.706906700Z",
     "start_time": "2023-08-30T05:00:40.327649600Z"
    }
   },
   "id": "d4a9466dd0dd1b15"
  },
  {
   "cell_type": "markdown",
   "source": [],
   "metadata": {
    "collapsed": false
   },
   "id": "281e7822451276ac"
  },
  {
   "cell_type": "markdown",
   "source": [
    "## The Finally Statement\n",
    "\n",
    "The try statement has another optional clause which is intended to define clean-up actions that must be executed under all circumstances.\n",
    "\n",
    "Python allows you to define clean-up actions using the <span style=\"color:red; font-size:110%;\"><code>finally</code></span> clause in combination with the try...except statement. The code in the <span style=\"color:red; font-size:110%;\"><code>finally</code></span> block is executed whether an exception occurs or not. This is useful for tasks like closing files or releasing resources.\n",
    "\n",
    "\n",
    "The <span style=\"color:red; font-size:110%;\"><code>finally</code></span>  block, if specified, will be executed regardless if the try block raises an error or not.\n",
    "\n",
    "<pre><code class=\"python\" language=\"python\" style=\"font-size:0.8em;\">\n",
    "… python code … \n",
    "try: \n",
    "    # You do your operations here; \n",
    "    # ...................... \n",
    "    # Due to any exception, this may be skipped. \n",
    "finally: \n",
    "    # This would always be executed. \n",
    "    # ...................... \n",
    " \n",
    "</code></pre>\n",
    "A  <span style=\"color:red; font-size:110%;\"><code>finally</code></span> clause is executed before leaving the try statement, whether an exception has occurred or not. When an exception has occurred in the try clause and has not been handled by an except clause, it is re-raised after the finally clause has been executed. The finally clause is also executed “on the way out” when any other clause of the try statement is exited using break/continue/return.\n",
    "Hint:\n",
    "<!-- f = open(\"demofile.txt\", \"w\") -->"
   ],
   "metadata": {
    "collapsed": false
   },
   "id": "e64085997485f2c4"
  },
  {
   "cell_type": "code",
   "execution_count": 59,
   "outputs": [
    {
     "name": "stdout",
     "output_type": "stream",
     "text": [
      "Something went wrong when writing to the file\n",
      "File closed\n"
     ]
    }
   ],
   "source": [
    "# Code Snippet 5\n",
    "# Try to open and write to a file that is not writable:\n",
    "f = open(\"demofile.txt\")\n",
    "try:\n",
    "    f.write(\"Lorum Ipsum\")\n",
    "except:\n",
    "    print(\"Something went wrong when writing to the file\")\n",
    "finally:\n",
    "    f.close()\n",
    "    print(\"File closed\")"
   ],
   "metadata": {
    "collapsed": false,
    "ExecuteTime": {
     "end_time": "2023-08-30T05:00:40.744210800Z",
     "start_time": "2023-08-30T05:00:40.342649400Z"
    }
   },
   "id": "6e2b8940f9ca9eff"
  },
  {
   "cell_type": "markdown",
   "source": [
    "If you do not have permission to open the file in writing mode then this will produce following result:\n",
    "Error: Something went wrong when writing to the fil"
   ],
   "metadata": {
    "collapsed": false
   },
   "id": "7aabf76d17ca0707"
  },
  {
   "cell_type": "markdown",
   "source": [
    "# Raising exceptions\n",
    "\n",
    "You can also create your own error generating and handling routines by raising an exception\n",
    "\n",
    "Raising exceptions in Python using the raise statement is a powerful mechanism for signaling that an error or exceptional condition has occurred in your program\n",
    "\n",
    "You can raise an exception in your own program by using the raise exception.\n",
    "\n",
    "Raising an exception breaks current code execution and returns the exception back until it is handled.\n",
    "Syntax:\n",
    "\n",
    "raise [exception [, args [, traceback]]]\n",
    "\n",
    "Where\n",
    "exception is the exception class or instance to be raised.\n",
    "args is a list of arguments to be passed to the exception.\n",
    "traceback is an optional traceback object that can be used to track the source of the exception"
   ],
   "metadata": {
    "collapsed": false
   },
   "id": "7ab13fd5921c21b3"
  },
  {
   "cell_type": "markdown",
   "source": [
    "For example, the code snippet below raises a ValueError exception with the message \"The value must be greater than 0\":"
   ],
   "metadata": {
    "collapsed": false
   },
   "id": "3b0e95fd53c4b974"
  },
  {
   "cell_type": "code",
   "execution_count": 80,
   "outputs": [
    {
     "ename": "ValueError",
     "evalue": "The value must be greater than 0",
     "output_type": "error",
     "traceback": [
      "\u001B[1;31m---------------------------------------------------------------------------\u001B[0m",
      "\u001B[1;31mValueError\u001B[0m                                Traceback (most recent call last)",
      "Cell \u001B[1;32mIn[80], line 3\u001B[0m\n\u001B[0;32m      1\u001B[0m value\u001B[38;5;241m=\u001B[39m\u001B[38;5;241m-\u001B[39m\u001B[38;5;241m1\u001B[39m\n\u001B[0;32m      2\u001B[0m \u001B[38;5;28;01mif\u001B[39;00m value \u001B[38;5;241m<\u001B[39m\u001B[38;5;241m=\u001B[39m \u001B[38;5;241m0\u001B[39m:\n\u001B[1;32m----> 3\u001B[0m     \u001B[38;5;28;01mraise\u001B[39;00m \u001B[38;5;167;01mValueError\u001B[39;00m(\u001B[38;5;124m\"\u001B[39m\u001B[38;5;124mThe value must be greater than 0\u001B[39m\u001B[38;5;124m\"\u001B[39m)\n",
      "\u001B[1;31mValueError\u001B[0m: The value must be greater than 0"
     ]
    }
   ],
   "source": [
    "value=-1\n",
    "if value <= 0:\n",
    "    raise ValueError(\"The value must be greater than 0\")"
   ],
   "metadata": {
    "collapsed": false,
    "ExecuteTime": {
     "end_time": "2023-08-30T09:14:24.598227300Z",
     "start_time": "2023-08-30T09:14:24.581339900Z"
    }
   },
   "id": "3dcdaaebb34ce618"
  },
  {
   "cell_type": "markdown",
   "source": [
    "For example, the code snippet below raises a TypeError exception with the message \"Only integers are allowed\":"
   ],
   "metadata": {
    "collapsed": false
   },
   "id": "ac9ea188c40a248e"
  },
  {
   "cell_type": "code",
   "execution_count": 79,
   "outputs": [
    {
     "ename": "TypeError",
     "evalue": "Only integers are allowed",
     "output_type": "error",
     "traceback": [
      "\u001B[1;31m---------------------------------------------------------------------------\u001B[0m",
      "\u001B[1;31mTypeError\u001B[0m                                 Traceback (most recent call last)",
      "Cell \u001B[1;32mIn[79], line 4\u001B[0m\n\u001B[0;32m      2\u001B[0m a\u001B[38;5;241m=\u001B[39m\u001B[38;5;124m'\u001B[39m\u001B[38;5;124mhi\u001B[39m\u001B[38;5;124m'\u001B[39m\n\u001B[0;32m      3\u001B[0m \u001B[38;5;28;01mif\u001B[39;00m \u001B[38;5;129;01mnot\u001B[39;00m \u001B[38;5;28mtype\u001B[39m(a) \u001B[38;5;129;01mis\u001B[39;00m \u001B[38;5;28mint\u001B[39m:\n\u001B[1;32m----> 4\u001B[0m     \u001B[38;5;28;01mraise\u001B[39;00m \u001B[38;5;167;01mTypeError\u001B[39;00m(\u001B[38;5;124m'\u001B[39m\u001B[38;5;124mOnly integers are allowed\u001B[39m\u001B[38;5;124m'\u001B[39m)\n",
      "\u001B[1;31mTypeError\u001B[0m: Only integers are allowed"
     ]
    }
   ],
   "source": [
    "# Raise Example\n",
    "a='hi'\n",
    "if not type(a) is int:\n",
    "    raise TypeError('Only integers are allowed')"
   ],
   "metadata": {
    "collapsed": false,
    "ExecuteTime": {
     "end_time": "2023-08-30T09:12:46.708271Z",
     "start_time": "2023-08-30T09:12:46.679378500Z"
    }
   },
   "id": "6e10dd4535a44325"
  },
  {
   "cell_type": "markdown",
   "source": [
    "In the example below, demonstrates the use of the raise statement to raise an exception, specifically a TypeError in this case. It is triggered when the variable \"a\" is not of type \"int\". The exception message will indicate that only integers are allowed, along with the actual value of \"a\"."
   ],
   "metadata": {
    "collapsed": false
   },
   "id": "8be1885c07df053b"
  },
  {
   "cell_type": "code",
   "execution_count": 82,
   "outputs": [
    {
     "ename": "TypeError",
     "evalue": "Only integers are allowed: hi",
     "output_type": "error",
     "traceback": [
      "\u001B[1;31m---------------------------------------------------------------------------\u001B[0m",
      "\u001B[1;31mTypeError\u001B[0m                                 Traceback (most recent call last)",
      "Cell \u001B[1;32mIn[82], line 4\u001B[0m\n\u001B[0;32m      2\u001B[0m a\u001B[38;5;241m=\u001B[39m\u001B[38;5;124m'\u001B[39m\u001B[38;5;124mhi\u001B[39m\u001B[38;5;124m'\u001B[39m\n\u001B[0;32m      3\u001B[0m \u001B[38;5;28;01mif\u001B[39;00m \u001B[38;5;129;01mnot\u001B[39;00m \u001B[38;5;28mtype\u001B[39m(a) \u001B[38;5;129;01mis\u001B[39;00m \u001B[38;5;28mint\u001B[39m:\n\u001B[1;32m----> 4\u001B[0m     \u001B[38;5;28;01mraise\u001B[39;00m \u001B[38;5;167;01mTypeError\u001B[39;00m(\u001B[38;5;124mf\u001B[39m\u001B[38;5;124m'\u001B[39m\u001B[38;5;124mOnly integers are allowed: \u001B[39m\u001B[38;5;132;01m{\u001B[39;00ma\u001B[38;5;132;01m}\u001B[39;00m\u001B[38;5;124m'\u001B[39m)\n",
      "\u001B[1;31mTypeError\u001B[0m: Only integers are allowed: hi"
     ]
    }
   ],
   "source": [
    "# Raise Example\n",
    "a='hi'\n",
    "if not type(a) is int:\n",
    "    raise TypeError(f'Only integers are allowed: {a}')\n",
    "\n",
    "#"
   ],
   "metadata": {
    "collapsed": false,
    "ExecuteTime": {
     "end_time": "2023-08-30T09:16:59.590398400Z",
     "start_time": "2023-08-30T09:16:59.579450900Z"
    }
   },
   "id": "64a9e73d42541910"
  },
  {
   "cell_type": "markdown",
   "source": [],
   "metadata": {
    "collapsed": false
   },
   "id": "470e358eaf4ae815"
  },
  {
   "cell_type": "markdown",
   "source": [
    "**Important**. \n",
    "The Exception must be a class that is derived from the built-in Exception class. If you create an exception that is not derived from the Exception class, then it will not be caught by the except block."
   ],
   "metadata": {
    "collapsed": false
   },
   "id": "185eb20d3e477354"
  },
  {
   "cell_type": "code",
   "execution_count": 78,
   "outputs": [
    {
     "ename": "TypeError",
     "evalue": "exceptions must derive from BaseException",
     "output_type": "error",
     "traceback": [
      "\u001B[1;31m---------------------------------------------------------------------------\u001B[0m",
      "\u001B[1;31mTypeError\u001B[0m                                 Traceback (most recent call last)",
      "Cell \u001B[1;32mIn[78], line 4\u001B[0m\n\u001B[0;32m      2\u001B[0m a\u001B[38;5;241m=\u001B[39m\u001B[38;5;124m'\u001B[39m\u001B[38;5;124mhi\u001B[39m\u001B[38;5;124m'\u001B[39m\n\u001B[0;32m      3\u001B[0m \u001B[38;5;28;01mif\u001B[39;00m \u001B[38;5;129;01mnot\u001B[39;00m \u001B[38;5;28mtype\u001B[39m(a) \u001B[38;5;129;01mis\u001B[39;00m \u001B[38;5;28mint\u001B[39m:\n\u001B[1;32m----> 4\u001B[0m     \u001B[38;5;28;01mraise\u001B[39;00m \u001B[38;5;124m'\u001B[39m\u001B[38;5;124mOnly integers are allowed\u001B[39m\u001B[38;5;124m'\u001B[39m\n",
      "\u001B[1;31mTypeError\u001B[0m: exceptions must derive from BaseException"
     ]
    }
   ],
   "source": [
    "# Raise Example\n",
    "a='hi'\n",
    "if not type(a) is int:\n",
    "    raise 'Only integers are allowed'"
   ],
   "metadata": {
    "collapsed": false,
    "ExecuteTime": {
     "start_time": "2023-08-30T09:06:12.772954900Z"
    }
   },
   "id": "b1da8fc0f666af07"
  },
  {
   "cell_type": "markdown",
   "source": [
    "Something worth pondering: Is it correct to use the 'IOError' exception to catch the error below, when 'TypeError' would be more appropriate?\n",
    "\n",
    "Hint\n",
    "<!-- It is generally best to raise exceptions that accurately reflect the error or exceptional condition that occurred in your code. Raising an IOError exception in this context is semantically incorrect because IOError is typically used to handle input/output errors, such as file operations. Raising an IOError exception in this context could be confusing to someone reading your code because it suggests an input/output issue, when in fact the error is a type error.-->"
   ],
   "metadata": {
    "collapsed": false
   },
   "id": "cab8684a39c3927a"
  },
  {
   "cell_type": "code",
   "execution_count": 84,
   "outputs": [
    {
     "ename": "OSError",
     "evalue": "Only integers are allowed: hi",
     "output_type": "error",
     "traceback": [
      "\u001B[1;31m---------------------------------------------------------------------------\u001B[0m",
      "\u001B[1;31mOSError\u001B[0m                                   Traceback (most recent call last)",
      "Cell \u001B[1;32mIn[84], line 4\u001B[0m\n\u001B[0;32m      2\u001B[0m a\u001B[38;5;241m=\u001B[39m\u001B[38;5;124m'\u001B[39m\u001B[38;5;124mhi\u001B[39m\u001B[38;5;124m'\u001B[39m\n\u001B[0;32m      3\u001B[0m \u001B[38;5;28;01mif\u001B[39;00m \u001B[38;5;129;01mnot\u001B[39;00m \u001B[38;5;28mtype\u001B[39m(a) \u001B[38;5;129;01mis\u001B[39;00m \u001B[38;5;28mint\u001B[39m:\n\u001B[1;32m----> 4\u001B[0m     \u001B[38;5;28;01mraise\u001B[39;00m \u001B[38;5;167;01mIOError\u001B[39;00m(\u001B[38;5;124mf\u001B[39m\u001B[38;5;124m'\u001B[39m\u001B[38;5;124mOnly integers are allowed: \u001B[39m\u001B[38;5;132;01m{\u001B[39;00ma\u001B[38;5;132;01m}\u001B[39;00m\u001B[38;5;124m'\u001B[39m)\n",
      "\u001B[1;31mOSError\u001B[0m: Only integers are allowed: hi"
     ]
    }
   ],
   "source": [
    "# Raise Example\n",
    "a='hi'\n",
    "if not type(a) is int:\n",
    "    raise IOError(f'Only integers are allowed: {a}')"
   ],
   "metadata": {
    "collapsed": false,
    "ExecuteTime": {
     "end_time": "2023-08-30T09:27:39.231200200Z",
     "start_time": "2023-08-30T09:27:39.200240Z"
    }
   },
   "id": "b6ad5bf21a0dd550"
  },
  {
   "cell_type": "code",
   "execution_count": 81,
   "outputs": [
    {
     "name": "stdout",
     "output_type": "stream",
     "text": [
      "Caught an exception: Division by zero is not allowed\n"
     ]
    }
   ],
   "source": [
    "# Code Snippet 6\n",
    "\n",
    "\n",
    "def divide(a, b):\n",
    "    if b == 0:\n",
    "        raise ValueError(\"Division by zero is not allowed\")\n",
    "    return a / b\n",
    "\n",
    "try:\n",
    "    result = divide(10, 0)\n",
    "except ValueError as e:\n",
    "    print(f\"Caught an exception: {e}\")\n",
    "else:\n",
    "    print(f\"Result: {result}\")"
   ],
   "metadata": {
    "collapsed": false,
    "ExecuteTime": {
     "end_time": "2023-08-30T09:16:04.094028500Z",
     "start_time": "2023-08-30T09:16:04.077048100Z"
    }
   },
   "id": "4c0bb0966f84b95e"
  },
  {
   "cell_type": "markdown",
   "source": [
    "In this example, the divide function raises a ValueError exception when attempting to divide by zero. The try...except block catches the exception and handles it by printing an error message. This prevents the program from crashing due to the division by zero."
   ],
   "metadata": {
    "collapsed": false
   },
   "id": "2f8581fbfdac022c"
  },
  {
   "cell_type": "markdown",
   "source": [
    "# User-Defined Exceptions\n",
    "\n",
    "User-Defined Exceptions in Python are custom exception classes created by programmers to handle specific error scenarios that may occur in their programs. These custom exceptions are derived from Python's built-in BaseException class or one of its subclasses. These exceptions allow developers to raise and catch errors that are specific to their application's logic or requirements.\n",
    "\n",
    "Programs may name their own exceptions by creating a new exception class. These are derived from the Exception class, either directly or indirectly.\n",
    "Here, the def__init__() of Exception has been overridden. The new behavior simply creates the value attribute.\n",
    "\n",
    "\n",
    "Python also allows you to create your own exceptions by deriving classes from the standard built-in exceptions.\n",
    "Here is an example related to RuntimeError. Here a class is created that is subclassed from RuntimeError. This is useful when you need to display more specific information when an exception is caught.\n",
    "In the try block, the user-defined exception is raised and caught in the except block. The variable e is used to create an instance of the class Networkerror.\n",
    "\n",
    "<pre><code class=\"python\" language=\"python\" style=\"font-size:0.8em;\">\n",
    "\n",
    "class Networkerror(RuntimeError): \n",
    "\tdef __init__(self, arg): \n",
    "\t\tself.args = arg \n",
    "So once you defined above class, you can raise your exception as follows:\n",
    "try: \n",
    "\traise Networkerror(\"Bad hostname\") \n",
    "except Networkerror,e: \n",
    "\tprint e.args \n",
    "</code></pre>"
   ],
   "metadata": {
    "collapsed": false
   },
   "id": "36bcc2116ec7d61c"
  },
  {
   "cell_type": "code",
   "execution_count": 61,
   "outputs": [
    {
     "name": "stdout",
     "output_type": "stream",
     "text": [
      "Caught an exception: Value should be non-negative.\n"
     ]
    }
   ],
   "source": [
    "class MyCustomError(Exception):\n",
    "    \"\"\"A custom exception for specific error scenarios.\"\"\"\n",
    "    def __init__(self, message):\n",
    "        super().__init__(message)\n",
    "\n",
    "def my_function(value):\n",
    "    if value < 0:\n",
    "        raise MyCustomError(\"Value should be non-negative.\")\n",
    "    return value\n",
    "\n",
    "try:\n",
    "    result = my_function(-5)\n",
    "except MyCustomError as e:\n",
    "    print(f\"Caught an exception: {e}\")\n",
    "else:\n",
    "    print(f\"Result: {result}\")"
   ],
   "metadata": {
    "collapsed": false,
    "ExecuteTime": {
     "end_time": "2023-08-30T05:00:40.768774400Z",
     "start_time": "2023-08-30T05:00:40.390156700Z"
    }
   },
   "id": "7048160c2433373c"
  },
  {
   "cell_type": "markdown",
   "source": [
    "## Argument of an Exception\n",
    "\n",
    "An exception can have an argument, which is a value that provides additional information about the problem. The contents of the argument vary by exception. You capture an exception's argument by supplying a variable in the `except` clause as follows:\n",
    "\n",
    "<pre><code class=\"python\" language=\"python\" style=\"font-size:0.8em;\">\n",
    "try: \n",
    "    # You do your operations here; \n",
    "    # ...................... \n",
    "except ExceptionType, Argument: \n",
    "    # You can print the value of Argument here... \n",
    "</code></pre>\n",
    "\n",
    "* If you are writing the code to handle a single exception, you can have a variable follow the name of the exception in the except statement. If you are trapping multiple exceptions, you can have a variable follow the tuple of the exception.\n",
    "* This variable will receive the value of the exception mostly containing the cause of the exception. The variable can receive a single value or multiple values in the form of a tuple. This tuple usually contains the error string, the error number, and an error location.\n",
    "\n",
    "\n"
   ],
   "metadata": {
    "collapsed": false
   },
   "id": "9b2566c0a292f0fa"
  },
  {
   "cell_type": "markdown",
   "id": "813384f720457601",
   "metadata": {},
   "source": [
    "# Exercise\n",
    "\n",
    "Write a short program to divide two numbers\n",
    "Include a routine to handle division by zero\n"
   ]
  },
  {
   "cell_type": "markdown",
   "id": "b0b2a148fa203daf",
   "metadata": {},
   "source": [
    "# in-Class Test"
   ]
  },
  {
   "cell_type": "markdown",
   "id": "bdade39d6ed655d0",
   "metadata": {},
   "source": [
    "| Question                                          | Marks |\n",
    "|---------------------------------------------------|-------|\n",
    "| Explain the types of errors                       |   5  |\n",
    "| What is an exception? Explain in detail           |   5  |\n",
    "| What is `raise`? Explain in detail                |   5  |\n",
    "| Explain some of the common built-in exceptions provided in Python |   05  |\n",
    "\n"
   ]
  }
 ],
 "metadata": {
  "kernelspec": {
   "display_name": "Python 3 (ipykernel)",
   "language": "python",
   "name": "python3"
  },
  "language_info": {
   "codemirror_mode": {
    "name": "ipython",
    "version": 3
   },
   "file_extension": ".py",
   "mimetype": "text/x-python",
   "name": "python",
   "nbconvert_exporter": "python",
   "pygments_lexer": "ipython3",
   "version": "3.10.12"
  }
 },
 "nbformat": 4,
 "nbformat_minor": 5
}
