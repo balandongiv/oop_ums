{
 "cells": [
  {
   "cell_type": "markdown",
   "source": [
    "[good source](https://d2l.ai/chapter_recurrent-modern/lstm.html)\n",
    "\n"
   ],
   "metadata": {
    "collapsed": false
   },
   "id": "84232b593580256d"
  },
  {
   "cell_type": "markdown",
   "source": [
    "# Pytorch\n",
    "\n",
    "[machinelearningmastery](https://machinelearningmastery.com/lstm-for-time-series-prediction-in-pytorch/)\n",
    "[towardsdatascience](https://towardsdatascience.com/pytorch-lstms-for-time-series-data-cd16190929d7)"
   ],
   "metadata": {
    "collapsed": false
   },
   "id": "67fcd382974f26ef"
  }
 ],
 "metadata": {
  "kernelspec": {
   "display_name": "Python 3",
   "language": "python",
   "name": "python3"
  },
  "language_info": {
   "codemirror_mode": {
    "name": "ipython",
    "version": 2
   },
   "file_extension": ".py",
   "mimetype": "text/x-python",
   "name": "python",
   "nbconvert_exporter": "python",
   "pygments_lexer": "ipython2",
   "version": "2.7.6"
  }
 },
 "nbformat": 4,
 "nbformat_minor": 5
}
