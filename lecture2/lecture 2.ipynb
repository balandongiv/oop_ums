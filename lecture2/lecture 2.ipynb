{
 "cells": [
  {
   "cell_type": "markdown",
   "source": [
    "# CREATING PYTHON VARIABLES"
   ],
   "metadata": {
    "collapsed": false
   },
   "id": "d00217fe321f8985"
  },
  {
   "cell_type": "markdown",
   "source": [
    "Python variables are created with an assignment statement.\n",
    "\n",
    "The syntax of $variable$ assignment is\n",
    "\t`variable name = a value (or an expression)`"
   ],
   "metadata": {
    "collapsed": false
   },
   "id": "4c59295109c930a"
  },
  {
   "cell_type": "markdown",
   "source": [
    "For example, creating Python variable:\n",
    "\n",
    "`x = expression`\n",
    "\n",
    "Read as variable $x$ equals expression\n",
    "We asking Python to store the value (or an `expression`) in a designated memory location, identified by the name $x$."
   ],
   "metadata": {
    "collapsed": false
   },
   "id": "1285ba20cdb96892"
  },
  {
   "cell_type": "markdown",
   "source": [
    "Expression can consist of either individual or combined elements such as \n",
    "* numerical values. \n",
    "    - For example, 1, 2, 3, 4, 5, etc.\n",
    "* mathematical operators. \n",
    "    - For example, $+$, $-$, $*$, $/$, etc.\n",
    "* variables. \n",
    "    - For example, $x$, $y$, $z$, etc."
   ],
   "metadata": {
    "collapsed": false
   },
   "id": "3c5159ca58cd4b71"
  },
  {
   "cell_type": "markdown",
   "source": [
    "This following cell is read as: \n",
    "\n",
    "variable $y$ is assigned a value of $22$\n",
    "The compiler store the value of $22$ to a memory location, identified by the name $y$\n"
   ],
   "metadata": {
    "collapsed": false
   },
   "id": "46355a52aba4bb76"
  },
  {
   "cell_type": "code",
   "execution_count": 33,
   "outputs": [],
   "source": [
    "y = 22"
   ],
   "metadata": {
    "collapsed": false,
    "ExecuteTime": {
     "end_time": "2023-08-23T09:46:21.138317800Z",
     "start_time": "2023-08-23T09:46:21.133317500Z"
    }
   },
   "id": "d80c04c8ba5b5322"
  },
  {
   "cell_type": "markdown",
   "source": [
    "As mentioned above, expression with combined elements such as numerical values, mathematical operators, and variables.\n",
    "\n",
    "| Expression                              | Description                                                                                     |\n",
    "|-----------------------------------------|-------------------------------------------------------------------------------------------------|\n",
    "| expression1 = 5 + 3                     | Addition of two numbers using numerical values                                |\n",
    "| expression2 = 10 - 2                    | Subtraction of two numbers using numerical values                          |\n",
    "| expression3 = expression1 * expression2 | Multiplication of two numbers by combining values from two variables with a mathematical operator |\n",
    "\n",
    "\n",
    "<span style=\"color:red\">It is worth noting that Python supports mathematical operations, including addition, subtraction, multiplication, and division. However, for the time being, our focus will be on variable creation.</span>"
   ],
   "metadata": {
    "collapsed": false
   },
   "id": "b8ccf10dcbcef3d7"
  },
  {
   "cell_type": "markdown",
   "source": [
    "## MULTIPLE ASSIGNMENT"
   ],
   "metadata": {
    "collapsed": false
   },
   "id": "a14c0959d72dc1e1"
  },
  {
   "cell_type": "markdown",
   "source": [
    "This notation is usefull for functions that return multiple values"
   ],
   "metadata": {
    "collapsed": false
   },
   "id": "7afb37597654470c"
  },
  {
   "cell_type": "code",
   "execution_count": 3,
   "outputs": [],
   "source": [
    "a, b, c = 5, \"hello\", [1, 2]"
   ],
   "metadata": {
    "collapsed": false,
    "ExecuteTime": {
     "end_time": "2023-08-23T07:18:17.016370100Z",
     "start_time": "2023-08-23T07:18:17.014369700Z"
    }
   },
   "id": "3c9e90955d855622"
  },
  {
   "cell_type": "code",
   "execution_count": 8,
   "outputs": [
    {
     "name": "stdout",
     "output_type": "stream",
     "text": [
      "The value for a: 5,\n",
      "\tvalue for b: hello,\n",
      "\tvalue for c: [1, 2]\n"
     ]
    }
   ],
   "source": [
    "# We can view the variable assignment using print\n",
    "\n",
    "print(f'The value for a: {a},\\n\\tvalue for b: {b},\\n\\tvalue for c: {c}')"
   ],
   "metadata": {
    "collapsed": false,
    "ExecuteTime": {
     "end_time": "2023-08-23T07:19:26.535725200Z",
     "start_time": "2023-08-23T07:19:26.518219100Z"
    }
   },
   "id": "b3aee2cfcd65a3c"
  },
  {
   "cell_type": "markdown",
   "source": [
    "## OVERWRITING VARIABLE\n"
   ],
   "metadata": {
    "collapsed": false
   },
   "id": "3bc5ec3a5dd76622"
  },
  {
   "cell_type": "markdown",
   "source": [
    " The value of a variable can be accessed and changed at any time after it is created."
   ],
   "metadata": {
    "collapsed": false
   },
   "id": "dd79eb0e23075e68"
  },
  {
   "cell_type": "code",
   "execution_count": 14,
   "outputs": [
    {
     "name": "stdout",
     "output_type": "stream",
     "text": [
      "The updated value of x, which was initially 22 and then decreased by 2, is 20\n"
     ]
    }
   ],
   "source": [
    "x = 22\n",
    "x= x - 2\n",
    "print(f'The updated value of x, which was initially 22 and then decreased by 2, is {x}')"
   ],
   "metadata": {
    "collapsed": false,
    "ExecuteTime": {
     "end_time": "2023-08-23T07:22:57.591423700Z",
     "start_time": "2023-08-23T07:22:57.586917900Z"
    }
   },
   "id": "e9572e1a844c44c9"
  },
  {
   "cell_type": "markdown",
   "source": [
    "Variables must be initialized before it can be used."
   ],
   "metadata": {
    "collapsed": false
   },
   "id": "6d39ea418e099a4"
  },
  {
   "cell_type": "code",
   "execution_count": 17,
   "outputs": [
    {
     "ename": "NameError",
     "evalue": "name 't' is not defined",
     "output_type": "error",
     "traceback": [
      "\u001B[1;31m---------------------------------------------------------------------------\u001B[0m",
      "\u001B[1;31mNameError\u001B[0m                                 Traceback (most recent call last)",
      "Cell \u001B[1;32mIn[17], line 1\u001B[0m\n\u001B[1;32m----> 1\u001B[0m z\u001B[38;5;241m=\u001B[39m\u001B[38;5;241m22\u001B[39m\u001B[38;5;241m+\u001B[39m\u001B[43mt\u001B[49m\n",
      "\u001B[1;31mNameError\u001B[0m: name 't' is not defined"
     ]
    }
   ],
   "source": [
    "z= 22 + t"
   ],
   "metadata": {
    "collapsed": false,
    "ExecuteTime": {
     "end_time": "2023-08-23T07:23:32.826397100Z",
     "start_time": "2023-08-23T07:23:32.523282200Z"
    }
   },
   "id": "27277290337c2b85"
  },
  {
   "cell_type": "markdown",
   "source": [
    "## VISUALIZING THE CONTENTS OF VARIABLES\n",
    "\n",
    "We can use the print method to vizualize the content of variable"
   ],
   "metadata": {
    "collapsed": false
   },
   "id": "f9ab850c96c974f8"
  },
  {
   "cell_type": "code",
   "execution_count": 18,
   "outputs": [
    {
     "name": "stdout",
     "output_type": "stream",
     "text": [
      "10\n"
     ]
    }
   ],
   "source": [
    "someVariable = 10\n",
    "print(someVariable)"
   ],
   "metadata": {
    "collapsed": false,
    "ExecuteTime": {
     "end_time": "2023-08-23T07:25:02.061635Z",
     "start_time": "2023-08-23T07:25:02.055634700Z"
    }
   },
   "id": "b6480bf88ae02f11"
  },
  {
   "cell_type": "markdown",
   "source": [
    "You can even do combinations!"
   ],
   "metadata": {
    "collapsed": false
   },
   "id": "2802f525a90e71d2"
  },
  {
   "cell_type": "code",
   "execution_count": 2,
   "outputs": [
    {
     "name": "stdout",
     "output_type": "stream",
     "text": [
      "Your variable is  10\n"
     ]
    }
   ],
   "source": [
    "someVariable = 10\n",
    "\n",
    "print(\"Your variable is \", someVariable)\n"
   ],
   "metadata": {
    "collapsed": false,
    "ExecuteTime": {
     "end_time": "2023-08-23T07:27:29.925689700Z",
     "start_time": "2023-08-23T07:27:29.917689400Z"
    }
   },
   "id": "7482298f1a6b2621"
  },
  {
   "cell_type": "markdown",
   "source": [
    "I prefer to use the `f-string` method to display the variable values"
   ],
   "metadata": {
    "collapsed": false
   },
   "id": "7bf6776dadfe2707"
  },
  {
   "cell_type": "code",
   "execution_count": 20,
   "outputs": [
    {
     "name": "stdout",
     "output_type": "stream",
     "text": [
      "Your variable is 10\n"
     ]
    }
   ],
   "source": [
    "print(f\"Your variable is {someVariable}\")"
   ],
   "metadata": {
    "collapsed": false,
    "ExecuteTime": {
     "end_time": "2023-08-23T07:26:22.170721100Z",
     "start_time": "2023-08-23T07:26:22.165721200Z"
    }
   },
   "id": "c685f699926dd969"
  },
  {
   "cell_type": "markdown",
   "source": [
    "Sometimes, you may want to display the type of variable"
   ],
   "metadata": {
    "collapsed": false
   },
   "id": "a39380d780322400"
  },
  {
   "cell_type": "code",
   "execution_count": 3,
   "outputs": [
    {
     "name": "stdout",
     "output_type": "stream",
     "text": [
      "Your variable is 10 and it is of type <class 'int'>\n"
     ]
    }
   ],
   "source": [
    "print(f\"Your variable is {someVariable} and it is of type {type(someVariable)}\")"
   ],
   "metadata": {
    "collapsed": false,
    "ExecuteTime": {
     "end_time": "2023-08-23T07:27:32.790136200Z",
     "start_time": "2023-08-23T07:27:32.784134200Z"
    }
   },
   "id": "f62487a68c3f8b93"
  },
  {
   "cell_type": "markdown",
   "source": [
    "## EXERCISE 1\n",
    "What will the following code snippet print?"
   ],
   "metadata": {
    "collapsed": false
   },
   "id": "1d51bc125d82b8a2"
  },
  {
   "cell_type": "code",
   "execution_count": 5,
   "outputs": [
    {
     "name": "stdout",
     "output_type": "stream",
     "text": [
      "Your result is: 50\n"
     ]
    }
   ],
   "source": [
    "# a = 10\n",
    "# b = a * 5\n",
    "# c = \"Your result is:\"\n",
    "print(c, b)"
   ],
   "metadata": {
    "collapsed": false,
    "ExecuteTime": {
     "end_time": "2023-08-23T07:30:57.565456700Z",
     "start_time": "2023-08-23T07:30:57.548951700Z"
    }
   },
   "id": "605089a891ef1c64"
  },
  {
   "cell_type": "markdown",
   "source": [
    "## EXERCISE 2\n",
    "\n",
    "What will the following code snippet print?"
   ],
   "metadata": {
    "collapsed": false
   },
   "id": "7c925726a77bbc22"
  },
  {
   "cell_type": "code",
   "execution_count": 6,
   "outputs": [
    {
     "name": "stdout",
     "output_type": "stream",
     "text": [
      "10\n"
     ]
    }
   ],
   "source": [
    "\n",
    "\n",
    "# a = 10\n",
    "# b = a\n",
    "# a = 3\n",
    "# print(b)\n"
   ],
   "metadata": {
    "collapsed": false,
    "ExecuteTime": {
     "end_time": "2023-08-23T07:31:27.640023500Z",
     "start_time": "2023-08-23T07:31:27.622022700Z"
    }
   },
   "id": "9f39d5ccc1a43aa1"
  },
  {
   "cell_type": "markdown",
   "source": [],
   "metadata": {
    "collapsed": false
   },
   "id": "bf2e2fbe8a732644"
  },
  {
   "cell_type": "markdown",
   "source": [
    "## RULES FOR NAMING VARIABLES\n",
    "\n",
    "* Variable names are case sensitive.\n",
    "  - $Hello$ is different from $hello$.\n",
    "* Variable names may only contain alphabetic letters, underscores, or numbers.\n",
    "* Variable names should not start with a number.\n",
    "* Variable names cannot be any other Python keyword (e.g., if, while, def, etc.).\n",
    "* Always give your variables meaningful names!\n",
    "\n",
    "For more details about variable naming, you can refer to the [PEP 8 style guide](https://peps.python.org/pep-0008/).\n"
   ],
   "metadata": {
    "collapsed": false
   },
   "id": "9953cfafc8781ffe"
  },
  {
   "cell_type": "markdown",
   "source": [
    "## Case study"
   ],
   "metadata": {
    "collapsed": false
   },
   "id": "60b6d026db980519"
  },
  {
   "cell_type": "markdown",
   "source": [
    "Say for example,we want to calculate the future value of an investment using the compound interest formula\n",
    "\n",
    "Given the following:\n",
    "* The starting amount of money you're starting with is $RM 100$.\n",
    "* The annual interest rate is $5.0%$.\n",
    "* An investment period of 7 years\n",
    "\n",
    "We can calculate the future value of the investment using the compound interest formula, as below\n",
    "\n",
    "\\begin{equation}\n",
    "A = P \\left(1 + \\frac{100r}{100}\\right)^n\n",
    "\\end{equation}\n",
    "\n",
    "Where:\n",
    "- $A$ is the future value of the investment.\n",
    "- $P$ is the principal amount (initial investment), which is 100 in this case.\n",
    "- $r$ is the annual interest rate in decimal form, which is 0.05 (5% expressed as a decimal).\n",
    "- $n$ is the number of years the money is invested for, which is 7 in this case.\n"
   ],
   "metadata": {
    "collapsed": false
   },
   "id": "f001fe4763817875"
  },
  {
   "cell_type": "markdown",
   "source": [
    "There are two ways to write the code to calculate the future value of the investment\n",
    "\n",
    "But, which one is better?\n",
    "\n",
    "\n",
    "\n",
    "| Code 1                                  | Code 2                                                                 |\n",
    "|----------------------------------------|------------------------------------------------------------------------|\n",
    "|primary = 100                           | initial_amount = 100                                                   |\n",
    "|r = 5.0                                 | interest_rate = 5.0                                                    |\n",
    "|n = 7                                   | number_of_years = 7                                                    |\n",
    "|amount = primary * (1+r/100)**n         | final_amount = initial_amount*(1 + interest_rate/100)**number_of_years |\n",
    "|print(amount)                           | print(final_amount)                                                    |\n"
   ],
   "metadata": {
    "collapsed": false
   },
   "id": "96ba26a53d00f176"
  },
  {
   "cell_type": "code",
   "execution_count": 18,
   "outputs": [
    {
     "name": "stdout",
     "output_type": "stream",
     "text": [
      "The final amount after 7 years is RM 140.71004226562505\n"
     ]
    }
   ],
   "source": [
    "# Code 1\n",
    "\n",
    "primary = 100\n",
    "r = 5.0\n",
    "n = 7\n",
    "amount = primary * (1+r/100)**n\n",
    "print(f'The final amount after {n} years is RM {amount}')"
   ],
   "metadata": {
    "collapsed": false,
    "ExecuteTime": {
     "end_time": "2023-08-23T08:18:15.499177Z",
     "start_time": "2023-08-23T08:18:15.482670700Z"
    }
   },
   "id": "557c26cafd5420b0"
  },
  {
   "cell_type": "code",
   "execution_count": 17,
   "outputs": [
    {
     "name": "stdout",
     "output_type": "stream",
     "text": [
      "The final amount after 7 years is RM 140.71004226562505)\n"
     ]
    }
   ],
   "source": [
    "# Code 2\n",
    "initial_amount = 100\n",
    "interest_rate = 5.0\n",
    "number_of_years = 7\n",
    "final_amount = initial_amount*(1 + interest_rate/100)**number_of_years\n",
    "print(f'The final amount after {number_of_years} years is RM {final_amount})')"
   ],
   "metadata": {
    "collapsed": false,
    "ExecuteTime": {
     "end_time": "2023-08-23T08:18:13.163138Z",
     "start_time": "2023-08-23T08:18:13.149137600Z"
    }
   },
   "id": "460fde2a6cfcf125"
  },
  {
   "cell_type": "markdown",
   "source": [
    "# VARIABLE TYPES\n",
    "\n",
    "## STANDARD DATA TYPES"
   ],
   "metadata": {
    "collapsed": false
   },
   "id": "5bde74545c06648f"
  },
  {
   "cell_type": "markdown",
   "source": [],
   "metadata": {
    "collapsed": false
   },
   "id": "29a3b23a868400cf"
  },
  {
   "cell_type": "markdown",
   "source": [],
   "metadata": {
    "collapsed": false
   },
   "id": "5c140f2beca008c3"
  },
  {
   "cell_type": "markdown",
   "source": [
    "## Python Data Types\n",
    "\n",
    "Python supports various data types for representing different kinds of values. \n",
    "\n",
    "Here's a summary of some common data types in Python:\n",
    "\n",
    "| Type             | Description                |\n",
    "|------------------|----------------------------|\n",
    "| Text Types       | `str`                      |\n",
    "| Numeric Types    | `int`, `float`, `complex`  |\n",
    "| Sequence Types   | `list`, `tuple`, `range`   |\n",
    "| Mapping Type     | `dict`                     |\n",
    "| Set Types        | `set`, `frozenset`         |\n",
    "| Boolean Type     | `bool`                     |\n",
    "| Binary Types     | `bytes`, `bytearray`, `memoryview` |\n",
    "| None Type        | `NoneType`                 |\n",
    "\n",
    "> Note: This information has been extracted from [w3schools](https://www.w3schools.com/python/python_datatypes.asp).\n"
   ],
   "metadata": {
    "collapsed": false
   },
   "id": "9d254b56796d825b"
  },
  {
   "cell_type": "markdown",
   "source": [
    "### Python Numbers\n"
   ],
   "metadata": {
    "collapsed": false
   },
   "id": "492793d2d0053013"
  },
  {
   "cell_type": "markdown",
   "source": [
    "Python supports various numerical types to represent numbers.\n",
    "There are three common different numerical types in Python:\n",
    "\n",
    "* `int` (for integer)\n",
    "    - Integers are whole numbers, such as 1, 2, 3, 4, 5, etc. They do not have a fractional component.it can be positive or negative.\n",
    "* `float` (for floating-point number)\n",
    "    - Floating-point numbers are numbers with a fractional component, such as $3.14159$, $0.0001$, $42.0$, etc. They can be either positive or negative.\n",
    "* `complex` (for complex number)\n",
    "    - Complex numbers are numbers with a real and imaginary component, such as $1.0 + 2.0j$, $1.5 + 2.5j$, etc.\n",
    "\n",
    "As you can see later, python automatically assign the type of variable based on the value assigned to it. \n",
    "For example if $1$, then it will be an `integer`, if $1.0$, then it will be a `float`."
   ],
   "metadata": {
    "collapsed": false
   },
   "id": "6946e630da533efc"
  },
  {
   "cell_type": "markdown",
   "source": [
    "### integer\n",
    "\n",
    "Integers are whole numbers, such as 1, 2, 3, 4, 5, etc. They do not have a fractional component.it can be positive or negative.\n"
   ],
   "metadata": {
    "collapsed": false
   },
   "id": "6d1907b51e174e36"
  },
  {
   "cell_type": "code",
   "execution_count": 23,
   "outputs": [
    {
     "name": "stdout",
     "output_type": "stream",
     "text": [
      "The variable val has type: <class 'int'>\n",
      "The variable dval has type: <class 'int'>\n"
     ]
    }
   ],
   "source": [
    "# Python automatically assigns a variable's type based on the assigned value.\n",
    "# The 'type' function is used to determine the type of a variable.\n",
    "\n",
    "# Assigning an integer value to 'val'\n",
    "integer_value = 1\n",
    "\n",
    "# Explicitly casting 1 to an integer and assigning it to 'dval'\n",
    "converted_to_integer = int(1)\n",
    "\n",
    "# Printing the types of 'val' and 'dval'\n",
    "print(f'The variable val has type: {type(integer_value)}')\n",
    "print(f'The variable dval has type: {type(converted_to_integer)}')\n"
   ],
   "metadata": {
    "collapsed": false,
    "ExecuteTime": {
     "end_time": "2023-08-23T09:13:35.272828200Z",
     "start_time": "2023-08-23T09:13:35.263828200Z"
    }
   },
   "id": "fa0b8cfb334070b"
  },
  {
   "cell_type": "markdown",
   "source": [
    "Assignment via numeric operator also creates a number object:"
   ],
   "metadata": {
    "collapsed": false
   },
   "id": "701dc1163d61e594"
  },
  {
   "cell_type": "code",
   "execution_count": 27,
   "outputs": [
    {
     "name": "stdout",
     "output_type": "stream",
     "text": [
      "The value of c is: 7 and having the type: <class 'int'>\n"
     ]
    }
   ],
   "source": [
    "# In Python, assignment via numeric operators creates number objects.\n",
    "\n",
    "# Assigning an integer value\n",
    "a,b = 3,4\n",
    "\n",
    "# Performing a numeric operation, which creates a new number object.\n",
    "c = a + b\n",
    "\n",
    "# Printing the result\n",
    "print(f'The value of c is: {c} and having the type: {type(c)}')"
   ],
   "metadata": {
    "collapsed": false,
    "ExecuteTime": {
     "end_time": "2023-08-23T09:15:54.333517Z",
     "start_time": "2023-08-23T09:15:54.317510600Z"
    }
   },
   "id": "2186c48322fd2645"
  },
  {
   "cell_type": "markdown",
   "source": [
    "### float"
   ],
   "metadata": {
    "collapsed": false
   },
   "id": "13a34d04210a7d09"
  },
  {
   "cell_type": "markdown",
   "source": [
    "Floating-point numbers are numbers with a fractional component, such as $3.14159$, $0.0001$, $42.0$, etc. They can be either positive or negative."
   ],
   "metadata": {
    "collapsed": false
   },
   "id": "1c2125b311c78d75"
  },
  {
   "cell_type": "markdown",
   "source": [
    "There are two ways to represent a float in Python.\n",
    "* Fractional notation. For example, $3.14159$, $0.0001$, $42.0$, etc.\n",
    "* Scientific (exponent) notation. For example, $1.0e-5$, $2.5e+3$, etc."
   ],
   "metadata": {
    "collapsed": false
   },
   "id": "865b51c050946f6"
  },
  {
   "cell_type": "code",
   "execution_count": 29,
   "outputs": [
    {
     "name": "stdout",
     "output_type": "stream",
     "text": [
      "The value of fractional_number is: 675.456 and having the type: <class 'float'>\n"
     ]
    }
   ],
   "source": [
    "# To create a number in Fractional Form, you simply assign it to a variable\n",
    "fractional_number = 675.456\n",
    "print(f'The value of fractional_number is: {fractional_number} and having the type: {type(fractional_number)}')"
   ],
   "metadata": {
    "collapsed": false,
    "ExecuteTime": {
     "end_time": "2023-08-23T09:20:25.776592600Z",
     "start_time": "2023-08-23T09:20:25.766591500Z"
    }
   },
   "id": "7722836c5f54f84e"
  },
  {
   "cell_type": "markdown",
   "source": [
    "To create a number in Exponent Notation, you can use the E notation (or e) to specify the exponent part. "
   ],
   "metadata": {
    "collapsed": false
   },
   "id": "e17a27fbf911438f"
  },
  {
   "cell_type": "code",
   "execution_count": 30,
   "outputs": [
    {
     "name": "stdout",
     "output_type": "stream",
     "text": [
      "The value of exponent_number is: 675.456 and having the type: <class 'float'>\n"
     ]
    }
   ],
   "source": [
    "exponent_number = 6.75456E2  # Equivalent to 6.75456 * 10^2\n",
    "print(f'The value of exponent_number is: {exponent_number} and having the type: {type(exponent_number)}')"
   ],
   "metadata": {
    "collapsed": false,
    "ExecuteTime": {
     "end_time": "2023-08-23T09:20:50.974788400Z",
     "start_time": "2023-08-23T09:20:50.960783700Z"
    }
   },
   "id": "693d9c7cb7db8cf2"
  },
  {
   "cell_type": "markdown",
   "source": [
    "QUESTION 1\n",
    "What is the type of c?"
   ],
   "metadata": {
    "collapsed": false
   },
   "id": "9632c754a2e82489"
  },
  {
   "cell_type": "code",
   "execution_count": null,
   "outputs": [],
   "source": [
    "# In Python, assignment via numeric operators creates number objects.\n",
    "\n",
    "# Assigning an integer value\n",
    "a,b = 3,4\n",
    "\n",
    "# Performing a numeric operation, which creates a new number object.\n",
    "c = a / b\n",
    "\n",
    "# Printing the result\n",
    "# print(f'The value of c is: {c} and having the type: {type(c)}')"
   ],
   "metadata": {
    "collapsed": false
   },
   "id": "7f9094a9f93cc84d"
  },
  {
   "cell_type": "markdown",
   "source": [
    "### complex\n",
    "\n",
    "Complex numbers are numbers with a real and imaginary component.Python represents complex numbers in the form a+bj.\n",
    "\n",
    "For example, \n",
    "* $1.0 + 2.0j$ \n",
    "* $1.5 + 2.5j$\n"
   ],
   "metadata": {
    "collapsed": false
   },
   "id": "b63fee49b26423a6"
  },
  {
   "cell_type": "code",
   "execution_count": 32,
   "outputs": [
    {
     "name": "stdout",
     "output_type": "stream",
     "text": [
      "The value of complex_number is: (1+2j) and having the type: <class 'complex'>\n"
     ]
    }
   ],
   "source": [
    "# Assigning a complex number to a variable\n",
    "complex_number = 1.0 + 2.0j\n",
    "print(f'The value of complex_number is: {complex_number} and having the type: {type(complex_number)}')"
   ],
   "metadata": {
    "collapsed": false,
    "ExecuteTime": {
     "end_time": "2023-08-23T09:23:23.731393200Z",
     "start_time": "2023-08-23T09:23:23.721392900Z"
    }
   },
   "id": "9d629d53a7ffac7c"
  },
  {
   "cell_type": "markdown",
   "source": [
    "### PYTHON STRING\n",
    "A string is a group of valid characters, such as letters, numbers, spaces, symbols and special characters, that is enclosed within either single quotes (' ') or double quotes (\" \").\n",
    "\n",
    "A string can group any type of known characters, including letters, numbers, spaces, symbols and special characters.\n",
    "\n",
    "A string object is a sequence, i.e., it's a list of characters where each item has a defined position.\n",
    "\n",
    "This means that a string object is a collection of characters that are ordered and indexed. \n",
    "\n",
    "Each character in a string has a unique position, starting from <span style=\"color:red\">0</span>. This allows us to access individual characters in a string by their position.\n",
    "\n",
    "<img src=\"images/string_object_Sabah_bah.png\" width=\"500\" height=\"400\">\n",
    "\n",
    "Interestingly, we also can do backward indexing, which starts from <span style=\"color:red\">-1</span> for the last character in the string.\n",
    "\n"
   ],
   "metadata": {
    "collapsed": false
   },
   "id": "c937c3c6dcbdf3f"
  },
  {
   "cell_type": "code",
   "execution_count": 39,
   "outputs": [
    {
     "name": "stdout",
     "output_type": "stream",
     "text": [
      "To access the character at index 0 of my_text, you can use my_text[0], which returns: S\n"
     ]
    }
   ],
   "source": [
    "my_text='Sabah bah'\n",
    "\n",
    "print(f'To access the character at index 0 of my_text, you can use my_text[0], which returns: {my_text[0]}')"
   ],
   "metadata": {
    "collapsed": false,
    "ExecuteTime": {
     "end_time": "2023-08-23T10:05:57.076459400Z",
     "start_time": "2023-08-23T10:05:57.069459400Z"
    }
   },
   "id": "f1b4e364082f30f0"
  },
  {
   "cell_type": "code",
   "execution_count": 41,
   "outputs": [
    {
     "name": "stdout",
     "output_type": "stream",
     "text": [
      "To get the characters from index 3 to the end of my_text, you can use my_text[3:], which returns: \"bah bah\"\n",
      "To extract characters from index 2 to 4 of my_text, you can use my_text[2:5], which returns: \"bah\"\n"
     ]
    }
   ],
   "source": [
    "# Accessing a slice from index 3 to the end of the string\n",
    "slice1 = my_text[2:]\n",
    "print(f'To get the characters from index 2 to the end of my_text, you can use my_text[3:], which returns: \"{slice1}\"')\n",
    "\n",
    "# Accessing a slice from index 2 to 4 (excluding 5)\n",
    "slice2 = my_text[2:5]\n",
    "print(f'To extract characters from index 2 to 4 of my_text, you can use my_text[2:5], which returns: \"{slice2}\"')"
   ],
   "metadata": {
    "collapsed": false,
    "ExecuteTime": {
     "end_time": "2023-08-23T10:07:47.086887600Z",
     "start_time": "2023-08-23T10:07:47.079887800Z"
    }
   },
   "id": "8e910aa6745fd193"
  },
  {
   "cell_type": "code",
   "execution_count": null,
   "outputs": [],
   "source": [],
   "metadata": {
    "collapsed": false
   },
   "id": "4afec407da25fb72"
  },
  {
   "cell_type": "code",
   "execution_count": 51,
   "outputs": [
    {
     "name": "stdout",
     "output_type": "stream",
     "text": [
      "To get the characters from index -7 to the end of my_text using backward indexing, you can use my_text[-4:], which returns: \"bah bah\"\n",
      "To extract characters from index -7 to -4 of my_text using backward indexing, you can use my_text[-6:-3], which returns: \"bah\"\n"
     ]
    }
   ],
   "source": [
    "my_text = 'Sabah bah'\n",
    "\n",
    "# Accessing a slice from index -4 (inclusive) to the end of the string\n",
    "slice1 = my_text[-7:]\n",
    "print(f'To get the characters from index -7 to the end of my_text using backward indexing, you can use my_text[-4:], which returns: \"{slice1}\"')\n",
    "\n",
    "# Accessing a slice from index -6 (inclusive) to index -3 (exclusive)\n",
    "slice2 = my_text[-7:-4]\n",
    "print(f'To extract characters from index -7 to -4 of my_text using backward indexing, you can use my_text[-6:-3], which returns: \"{slice2}\"')\n"
   ],
   "metadata": {
    "collapsed": false,
    "ExecuteTime": {
     "end_time": "2023-08-23T10:10:59.976616100Z",
     "start_time": "2023-08-23T10:10:59.972615900Z"
    }
   },
   "id": "7d4cd84174f53a2d"
  },
  {
   "cell_type": "markdown",
   "source": [
    "String objects support concatenation using the $+$ operator and repetition operations.\n"
   ],
   "metadata": {
    "collapsed": false
   },
   "id": "a8ad3d2b8626ce3f"
  },
  {
   "cell_type": "markdown",
   "source": [
    "Concatenation is the process of combining two strings together to create a new string.\n",
    "Naively, we can use the $+$ operator to concatenate two strings together."
   ],
   "metadata": {
    "collapsed": false
   },
   "id": "66dc7b10b7ca2f0"
  },
  {
   "cell_type": "code",
   "execution_count": 56,
   "outputs": [
    {
     "name": "stdout",
     "output_type": "stream",
     "text": [
      "Sabah bah ni!\n"
     ]
    }
   ],
   "source": [
    "my_text='Sabah bah'\n",
    "new_text='ni!'\n",
    "concat_text= my_text + ' '+ new_text\n",
    "print(concat_text)"
   ],
   "metadata": {
    "collapsed": false,
    "ExecuteTime": {
     "end_time": "2023-08-23T10:14:05.781574400Z",
     "start_time": "2023-08-23T10:14:05.772063600Z"
    }
   },
   "id": "df99d9e0473f9780"
  },
  {
   "cell_type": "markdown",
   "source": [
    "Repetition operations can be performed using the $*$ operator."
   ],
   "metadata": {
    "collapsed": false
   },
   "id": "8ebc7931d18710e7"
  },
  {
   "cell_type": "code",
   "execution_count": 2,
   "outputs": [
    {
     "name": "stdout",
     "output_type": "stream",
     "text": [
      "The string \"Sabah bah\" repeated 4 times is: Sabah bahSabah bahSabah bahSabah bah\n"
     ]
    }
   ],
   "source": [
    "my_text='Sabah bah'\n",
    "n_repeat=4\n",
    "print(f'The string \"{my_text}\" repeated {n_repeat} times is: {my_text*n_repeat}')"
   ],
   "metadata": {
    "collapsed": false,
    "ExecuteTime": {
     "end_time": "2023-08-23T11:57:41.512871400Z",
     "start_time": "2023-08-23T11:57:41.499858100Z"
    }
   },
   "id": "6b1c59b5c56df794"
  },
  {
   "cell_type": "markdown",
   "source": [
    "### PYTHON LIST"
   ],
   "metadata": {
    "collapsed": false
   },
   "id": "38e743d65605c067"
  },
  {
   "cell_type": "markdown",
   "source": [
    "List is a more general sequence object that allows the individual items to be of different types.\n",
    "* Equivalent to arrays in other languages.\n",
    "* Lists have no fixed size and can be expanded or contracted as needed.\n",
    "* \n",
    "* \n"
   ],
   "metadata": {
    "collapsed": false
   },
   "id": "ecb76ae14e60c827"
  },
  {
   "cell_type": "markdown",
   "source": [
    "A List in Python represents a list of comma separated values of any data type\n",
    "between square brackets"
   ],
   "metadata": {
    "collapsed": false
   },
   "id": "fbf6d00271e457ed"
  },
  {
   "cell_type": "code",
   "execution_count": 6,
   "outputs": [],
   "source": [
    "# Creating a list containing integers\n",
    "my_list = [1, 2, 3, 4, 5]\n",
    "\n",
    "# Creating a list containing strings\n",
    "my_list2 = ['a', 'b', 'c', 'd', 'e']\n",
    "\n",
    "# Creating a list containing mixed data types\n",
    "my_list3 = [1, 'a', 2, 'b', 3, 'c']"
   ],
   "metadata": {
    "collapsed": false,
    "ExecuteTime": {
     "end_time": "2023-08-23T12:03:16.565319900Z",
     "start_time": "2023-08-23T12:03:16.563320300Z"
    }
   },
   "id": "ec08623936d1b8c6"
  },
  {
   "cell_type": "markdown",
   "source": [
    "We can vizualize the list using the print method"
   ],
   "metadata": {
    "collapsed": false
   },
   "id": "59b1e20ed93ef616"
  },
  {
   "cell_type": "code",
   "execution_count": 7,
   "outputs": [
    {
     "name": "stdout",
     "output_type": "stream",
     "text": [
      "The value of my_list is: [1, 2, 3, 4, 5]\n",
      "The value of my_list2 is: ['a', 'b', 'c', 'd', 'e']\n",
      "The value of my_list3 is: [1, 'a', 2, 'b', 3, 'c']\n"
     ]
    }
   ],
   "source": [
    "print(f'The value of my_list is: {my_list}')\n",
    "print(f'The value of my_list2 is: {my_list2}')\n",
    "print(f'The value of my_list3 is: {my_list3}')"
   ],
   "metadata": {
    "collapsed": false,
    "ExecuteTime": {
     "end_time": "2023-08-23T12:03:18.145938800Z",
     "start_time": "2023-08-23T12:03:18.138938700Z"
    }
   },
   "id": "3a4d5e5eed9b11d1"
  },
  {
   "cell_type": "markdown",
   "source": [
    "Lists can be nested just like arrays, i.e., you can have a list of lists."
   ],
   "metadata": {
    "collapsed": false
   },
   "id": "507f362edbc9d91b"
  },
  {
   "cell_type": "code",
   "execution_count": 8,
   "outputs": [
    {
     "name": "stdout",
     "output_type": "stream",
     "text": [
      "The value of my_nested_list is: [[1, 2, 3], [4, 5, 6], [7, 8, 9]]\n"
     ]
    }
   ],
   "source": [
    "# Creating a list containing lists\n",
    "my_nested_list = [[1, 2, 3], [4, 5, 6], [7, 8, 9]]\n",
    "print(f'The value of my_nested_list is: {my_nested_list}')"
   ],
   "metadata": {
    "collapsed": false,
    "ExecuteTime": {
     "end_time": "2023-08-23T12:04:59.812078200Z",
     "start_time": "2023-08-23T12:04:59.798918800Z"
    }
   },
   "id": "7ff1c9ee0af797bf"
  },
  {
   "cell_type": "markdown",
   "source": [
    "Items in list can be retrieved using the index."
   ],
   "metadata": {
    "collapsed": false
   },
   "id": "c467888a11d5f667"
  },
  {
   "cell_type": "code",
   "execution_count": 11,
   "outputs": [
    {
     "name": "stdout",
     "output_type": "stream",
     "text": [
      "The first item in my_list is: 1\n",
      "The second item in my_list is: 2\n",
      "The last item in my_list is: 5\n"
     ]
    }
   ],
   "source": [
    "# Accessing the first item in my_list\n",
    "print(f'The first item in my_list is: {my_list[0]}')\n",
    "\n",
    "# Accessing the second item in my_list\n",
    "print(f'The second item in my_list is: {my_list[1]}')\n",
    "\n",
    "# Accessing the last item in my_list\n",
    "print(f'The last item in my_list is: {my_list[-1]}')"
   ],
   "metadata": {
    "collapsed": false,
    "ExecuteTime": {
     "end_time": "2023-08-23T12:06:38.277932200Z",
     "start_time": "2023-08-23T12:06:38.269932200Z"
    }
   },
   "id": "d25eb2e54fcbc226"
  },
  {
   "cell_type": "markdown",
   "source": [
    "To access the items in a nested list, you can use the same indexing method."
   ],
   "metadata": {
    "collapsed": false
   },
   "id": "998ee697756fd10f"
  },
  {
   "cell_type": "code",
   "execution_count": 12,
   "outputs": [
    {
     "name": "stdout",
     "output_type": "stream",
     "text": [
      "The first item in the first list in my_nested_list is: 1\n",
      "The second item in the first list in my_nested_list is: 2\n",
      "The last item in the last list in my_nested_list is: 9\n"
     ]
    }
   ],
   "source": [
    "# Accessing the first item in the first list in my_nested_list\n",
    "print(f'The first item in the first list in my_nested_list is: {my_nested_list[0][0]}')\n",
    "\n",
    "# Accessing the second item in the first list in my_nested_list\n",
    "print(f'The second item in the first list in my_nested_list is: {my_nested_list[0][1]}')\n",
    "\n",
    "# Accessing the last item in the last list in my_nested_list\n",
    "print(f'The last item in the last list in my_nested_list is: {my_nested_list[-1][-1]}')\n",
    "\n"
   ],
   "metadata": {
    "collapsed": false,
    "ExecuteTime": {
     "end_time": "2023-08-23T12:07:31.485959600Z",
     "start_time": "2023-08-23T12:07:31.478959300Z"
    }
   },
   "id": "ba7da894924ff83a"
  },
  {
   "cell_type": "markdown",
   "source": [
    "## DICTIONARIES\n",
    "\n",
    "* Dictionaries are unordered mappings of ’Name: Value’ associations.\n",
    "* Comparable to hashes and associative arrays in other languages.\n",
    "* Intended to approximate how humans remember associations.\n",
    "\n",
    "There are two ways to create a dictionary in Python.\n",
    "First, you can create a dictionary using the curly braces $\\{ \\}$ notation.\n",
    "\n",
    "\n",
    "`dictionary_name = {key1: value1, key2: value2, key3: value3}`\n",
    "\n",
    "or\n",
    "\n",
    "Second, you can create a dictionary using the `dict()` function.\n",
    "\n",
    "`dictionary_name = dict(key1=value1, key2=value2, key3=value3)`\n",
    "\n",
    "\n",
    "Where:\n",
    "* `dictionary_name` is the name of the dictionary.\n",
    "* `key1`, `key2`, and `key3` are the keys of the dictionary.\n",
    "* `value1`, `value2`, and `value3` are the values associated with the keys.\n",
    "* The keys and values are separated by a colon (:).\n",
    "* The key-value pairs are separated by commas (,).\n",
    "* The entire dictionary is enclosed within curly braces ({ }).\n",
    "* The keys must be unique and immutable (i.e., they cannot be changed).\n",
    "* The values can be of any type and can be duplicated.\n",
    "* The keys and values can be of different types.\n",
    "\n",
    "\n",
    "\n"
   ],
   "metadata": {
    "collapsed": false
   },
   "id": "4eee2456c988481b"
  },
  {
   "cell_type": "markdown",
   "source": [],
   "metadata": {
    "collapsed": false
   },
   "id": "c63761c763a9c5bb"
  },
  {
   "cell_type": "code",
   "execution_count": 21,
   "outputs": [
    {
     "name": "stdout",
     "output_type": "stream",
     "text": [
      "The value of dog is: \n",
      " {'first_name': 'Zoro', 'last_name': 'Google', 'age': 5, 'city': 'Papar'}, \n",
      " and the type is: <class 'dict'>\n"
     ]
    }
   ],
   "source": [
    "# Creating a dictionary using the curly braces notation {}\n",
    "dog_dict = {\n",
    "    \"first_name\": \"Zoro\",\n",
    "    \"last_name\": \"Google\",\n",
    "    \"age\": 5,\n",
    "    \"city\": \"Papar\"\n",
    "}\n",
    "\n",
    "print(f'The value of dog is: \\n {dog_dict}, \\n and the type is: {type(dog_dict)}')"
   ],
   "metadata": {
    "collapsed": false,
    "ExecuteTime": {
     "end_time": "2023-08-23T12:19:11.566739800Z",
     "start_time": "2023-08-23T12:19:11.540065900Z"
    }
   },
   "id": "55328765de6faadc"
  },
  {
   "cell_type": "code",
   "execution_count": 22,
   "outputs": [
    {
     "name": "stdout",
     "output_type": "stream",
     "text": [
      "The value of dog is: \n",
      " {'first_name': 'Zoro', 'last_name': 'Google', 'age': 5, 'city': 'Papar'}, \n",
      " and the type is: <class 'dict'>\n"
     ]
    }
   ],
   "source": [
    "# Creating a dictionary using the dict() function\n",
    "dog_dict = dict(first_name=\"Zoro\", last_name=\"Google\", age=5, city=\"Papar\")\n",
    "print(f'The value of dog is: \\n {dog_dict}, \\n and the type is: {type(dog_dict)}')"
   ],
   "metadata": {
    "collapsed": false,
    "ExecuteTime": {
     "end_time": "2023-08-23T12:19:12.950330600Z",
     "start_time": "2023-08-23T12:19:12.946330400Z"
    }
   },
   "id": "3899f50cffba37a8"
  },
  {
   "cell_type": "markdown",
   "source": [
    "To add a new key-value pair to a dictionary, you can simply assign a value to a new key."
   ],
   "metadata": {
    "collapsed": false
   },
   "id": "4c6a5310f0326779"
  },
  {
   "cell_type": "code",
   "execution_count": 24,
   "outputs": [
    {
     "name": "stdout",
     "output_type": "stream",
     "text": [
      "The new value of dog is: \n",
      " {'first_name': 'Zoro', 'last_name': 'Google', 'age': 5, 'city': 'Papar', 'breed': 'Malionois'}, \n",
      " and the type is: <class 'dict'>\n"
     ]
    }
   ],
   "source": [
    "# Adding a new key-value pair to the dictionary\n",
    "dog_dict[\"breed\"] = \"Malionois\"\n",
    "print(f'The new value of dog is: \\n {dog_dict}, \\n and the type is: {type(dog_dict)}')"
   ],
   "metadata": {
    "collapsed": false,
    "ExecuteTime": {
     "end_time": "2023-08-23T12:20:05.603231600Z",
     "start_time": "2023-08-23T12:20:05.590226800Z"
    }
   },
   "id": "77baec0f0f21d7ed"
  },
  {
   "cell_type": "markdown",
   "source": [
    "It is also possible to update the value of an existing key."
   ],
   "metadata": {
    "collapsed": false
   },
   "id": "d214049753cbba2b"
  },
  {
   "cell_type": "code",
   "execution_count": 25,
   "outputs": [
    {
     "name": "stdout",
     "output_type": "stream",
     "text": [
      "The new value of dog is: \n",
      " {'first_name': 'Zoro', 'last_name': 'Google', 'age': 6, 'city': 'Papar', 'breed': 'Malionois'}, \n",
      " and the type is: <class 'dict'>\n"
     ]
    }
   ],
   "source": [
    "# Updating the value of an existing key\n",
    "dog_dict[\"age\"] = 6\n",
    "print(f'The new value of dog is: \\n {dog_dict}, \\n and the type is: {type(dog_dict)}')"
   ],
   "metadata": {
    "collapsed": false,
    "ExecuteTime": {
     "end_time": "2023-08-23T12:20:38.406112700Z",
     "start_time": "2023-08-23T12:20:38.391130500Z"
    }
   },
   "id": "9325f5a21fae6730"
  },
  {
   "cell_type": "markdown",
   "source": [
    "To access the value associated with a key, you can use the square brackets notation."
   ],
   "metadata": {
    "collapsed": false
   },
   "id": "5481dd18054b91ad"
  },
  {
   "cell_type": "code",
   "execution_count": 27,
   "outputs": [
    {
     "name": "stdout",
     "output_type": "stream",
     "text": [
      "The value associated with the key \"first_name\" is: Zoro\n",
      "The value associated with the key \"last_name\" is: Google\n",
      "The value associated with the key \"age\" is: 6\n"
     ]
    }
   ],
   "source": [
    "# Accessing the value associated with the key \"first_name\"\n",
    "first_name = dog_dict[\"first_name\"]\n",
    "print(f'The value associated with the key \"first_name\" is: {first_name}')\n",
    "\n",
    "# Accessing the value associated with the key \"last_name\"\n",
    "last_name = dog_dict[\"last_name\"]\n",
    "print(f'The value associated with the key \"last_name\" is: {last_name}')\n",
    "\n",
    "# Accessing the value associated with the key \"age\"\n",
    "age = dog_dict[\"age\"]\n",
    "print(f'The value associated with the key \"age\" is: {age}')"
   ],
   "metadata": {
    "collapsed": false,
    "ExecuteTime": {
     "end_time": "2023-08-23T12:22:03.013188500Z",
     "start_time": "2023-08-23T12:22:02.998184100Z"
    }
   },
   "id": "f3abdbbbb0395f19"
  },
  {
   "cell_type": "markdown",
   "source": [
    "It is also possible to access the value associated with a key using the `get()` method."
   ],
   "metadata": {
    "collapsed": false
   },
   "id": "51255c147415ad71"
  },
  {
   "cell_type": "code",
   "execution_count": 28,
   "outputs": [
    {
     "name": "stdout",
     "output_type": "stream",
     "text": [
      "The value associated with the key \"first_name\" is: Zoro\n",
      "The value associated with the key \"last_name\" is: Google\n",
      "The value associated with the key \"age\" is: 6\n"
     ]
    }
   ],
   "source": [
    "# Accessing the value associated with the key \"first_name\"\n",
    "first_name = dog_dict.get(\"first_name\")\n",
    "print(f'The value associated with the key \"first_name\" is: {first_name}')\n",
    "\n",
    "# Accessing the value associated with the key \"last_name\"\n",
    "last_name = dog_dict.get(\"last_name\")\n",
    "print(f'The value associated with the key \"last_name\" is: {last_name}')\n",
    "\n",
    "# Accessing the value associated with the key \"age\"\n",
    "age = dog_dict.get(\"age\")\n",
    "print(f'The value associated with the key \"age\" is: {age}')"
   ],
   "metadata": {
    "collapsed": false,
    "ExecuteTime": {
     "end_time": "2023-08-23T12:22:46.161200400Z",
     "start_time": "2023-08-23T12:22:46.158200500Z"
    }
   },
   "id": "bb1a764beb51df6e"
  },
  {
   "cell_type": "markdown",
   "source": [
    "It is also possible to delete a key-value pair from a dictionary using the `del` keyword."
   ],
   "metadata": {
    "collapsed": false
   },
   "id": "2ffd92064f72d57d"
  },
  {
   "cell_type": "code",
   "execution_count": 29,
   "outputs": [
    {
     "name": "stdout",
     "output_type": "stream",
     "text": [
      "The new value of dog is: \n",
      " {'first_name': 'Zoro', 'last_name': 'Google', 'city': 'Papar', 'breed': 'Malionois'}, \n",
      " and the type is: <class 'dict'>\n"
     ]
    }
   ],
   "source": [
    "# Deleting the key-value pair associated with the key \"age\"\n",
    "del dog_dict[\"age\"]\n",
    "print(f'The new value of dog is: \\n {dog_dict}, \\n and the type is: {type(dog_dict)}')"
   ],
   "metadata": {
    "collapsed": false,
    "ExecuteTime": {
     "end_time": "2023-08-23T12:23:16.289541200Z",
     "start_time": "2023-08-23T12:23:16.280541800Z"
    }
   },
   "id": "273cb021047db27"
  },
  {
   "cell_type": "code",
   "execution_count": 30,
   "outputs": [
    {
     "name": "stdout",
     "output_type": "stream",
     "text": [
      "The new value of dog is: \n",
      " {'first_name': 'Zoro', 'city': 'Papar', 'breed': 'Malionois'}, \n",
      " and the type is: <class 'dict'>\n"
     ]
    }
   ],
   "source": [
    "# Deleting the key-value pair associated with the key \"Last_name\"\n",
    "del dog_dict[\"last_name\"]\n",
    "print(f'The new value of dog is: \\n {dog_dict}, \\n and the type is: {type(dog_dict)}')"
   ],
   "metadata": {
    "collapsed": false,
    "ExecuteTime": {
     "end_time": "2023-08-23T12:23:49.044563400Z",
     "start_time": "2023-08-23T12:23:49.037055600Z"
    }
   },
   "id": "aa9c2c88d8b2b5a7"
  },
  {
   "cell_type": "markdown",
   "source": [
    "## TUPLES"
   ],
   "metadata": {
    "collapsed": false
   },
   "id": "32d8b879611c5ac5"
  },
  {
   "cell_type": "markdown",
   "source": [
    "Tuples are immutable sequences of arbitrary objects.\n",
    "* Comparable to structs in other languages.\n",
    "* Tuples are immutable, which means that they cannot be changed once created.\n",
    "* Tuples are created using the comma (,) notation.\n",
    "* Tuples are enclosed within parentheses ().\n",
    "* Tuples can contain any number of elements.\n",
    "* Tuples can contain elements of different types.\n",
    "* Tuples can be nested.\n",
    "* Tuples can be indexed and sliced.\n",
    "* Tuples can be unpacked.\n",
    "* Tuples can be created using the tuple() function.\n",
    "* Tuples can be created using the tuple constructor.\n",
    "* Tuples can be created using the tuple comprehension.\n",
    "* Tuples can be created using the zip() function.\n",
    "* Tuples can be created using the map() function.\n",
    "* Tuples can be created using the filter() function.\n",
    "* Tuples can be created using the enumerate() function.\n",
    "* Tuples can be created using the reversed() function."
   ],
   "metadata": {
    "collapsed": false
   },
   "id": "c11f7ce7b1fbdf2a"
  },
  {
   "cell_type": "markdown",
   "source": [
    "### Creating a tuple using the comma (,) notation"
   ],
   "metadata": {
    "collapsed": false
   },
   "id": "aafcb7a77d4b007f"
  },
  {
   "cell_type": "code",
   "execution_count": 31,
   "outputs": [
    {
     "name": "stdout",
     "output_type": "stream",
     "text": [
      "The value of my_tuple is: (1, 2, 3, 4, 5) and the type is: <class 'tuple'>\n"
     ]
    }
   ],
   "source": [
    "# Creating a tuple containing integers\n",
    "my_tuple = (1, 2, 3, 4, 5)\n",
    "print(f'The value of my_tuple is: {my_tuple} and the type is: {type(my_tuple)}')"
   ],
   "metadata": {
    "collapsed": false,
    "ExecuteTime": {
     "end_time": "2023-08-23T12:25:46.592851900Z",
     "start_time": "2023-08-23T12:25:46.584851900Z"
    }
   },
   "id": "48bdba53b01b44de"
  },
  {
   "cell_type": "code",
   "execution_count": 32,
   "outputs": [
    {
     "name": "stdout",
     "output_type": "stream",
     "text": [
      "The value of my_tuple2 is: ('a', 'b', 'c', 'd', 'e') and the type is: <class 'tuple'>\n"
     ]
    }
   ],
   "source": [
    "# Creating a tuple containing strings\n",
    "my_tuple2 = ('a', 'b', 'c', 'd', 'e')\n",
    "print(f'The value of my_tuple2 is: {my_tuple2} and the type is: {type(my_tuple2)}')"
   ],
   "metadata": {
    "collapsed": false,
    "ExecuteTime": {
     "end_time": "2023-08-23T12:25:58.807790400Z",
     "start_time": "2023-08-23T12:25:58.799790100Z"
    }
   },
   "id": "5ed757631c293459"
  },
  {
   "cell_type": "code",
   "execution_count": 33,
   "outputs": [
    {
     "name": "stdout",
     "output_type": "stream",
     "text": [
      "The value of my_tuple3 is: (1, 'a', 2, 'b', 3, 'c') and the type is: <class 'tuple'>\n"
     ]
    }
   ],
   "source": [
    "# Creating a tuple containing mixed data types\n",
    "my_tuple3 = (1, 'a', 2, 'b', 3, 'c')\n",
    "print(f'The value of my_tuple3 is: {my_tuple3} and the type is: {type(my_tuple3)}')"
   ],
   "metadata": {
    "collapsed": false,
    "ExecuteTime": {
     "end_time": "2023-08-23T12:26:08.464867700Z",
     "start_time": "2023-08-23T12:26:08.451859Z"
    }
   },
   "id": "3e7e7898a21658b7"
  },
  {
   "cell_type": "code",
   "execution_count": 34,
   "outputs": [
    {
     "name": "stdout",
     "output_type": "stream",
     "text": [
      "The value of my_tuple4 is: ([1, 2, 3], [4, 5, 6], [7, 8, 9]) and the type is: <class 'tuple'>\n"
     ]
    }
   ],
   "source": [
    "# Creating a tuple containing a list\n",
    "my_tuple4 = ([1, 2, 3], [4, 5, 6], [7, 8, 9])\n",
    "print(f'The value of my_tuple4 is: {my_tuple4} and the type is: {type(my_tuple4)}')"
   ],
   "metadata": {
    "collapsed": false,
    "ExecuteTime": {
     "end_time": "2023-08-23T12:26:21.313700600Z",
     "start_time": "2023-08-23T12:26:21.309700400Z"
    }
   },
   "id": "c623e7dac8086e3f"
  },
  {
   "cell_type": "code",
   "execution_count": 35,
   "outputs": [
    {
     "name": "stdout",
     "output_type": "stream",
     "text": [
      "The value of my_tuple5 is: ({'a': 1, 'b': 2, 'c': 3}, {'d': 4, 'e': 5, 'f': 6}, {'g': 7, 'h': 8, 'i': 9}) and the type is: <class 'tuple'>\n"
     ]
    }
   ],
   "source": [
    "# Creating a tuple containing a dictionary\n",
    "my_tuple5 = ({'a': 1, 'b': 2, 'c': 3}, {'d': 4, 'e': 5, 'f': 6}, {'g': 7, 'h': 8, 'i': 9})\n",
    "print(f'The value of my_tuple5 is: {my_tuple5} and the type is: {type(my_tuple5)}')"
   ],
   "metadata": {
    "collapsed": false,
    "ExecuteTime": {
     "end_time": "2023-08-23T12:26:33.176432Z",
     "start_time": "2023-08-23T12:26:33.161431100Z"
    }
   },
   "id": "9e435302b55928ea"
  },
  {
   "cell_type": "code",
   "execution_count": 36,
   "outputs": [
    {
     "name": "stdout",
     "output_type": "stream",
     "text": [
      "The value of my_tuple6 is: ((1, 2, 3), (4, 5, 6), (7, 8, 9)) and the type is: <class 'tuple'>\n"
     ]
    }
   ],
   "source": [
    "# Creating a tuple containing a tuple\n",
    "my_tuple6 = ((1, 2, 3), (4, 5, 6), (7, 8, 9))\n",
    "print(f'The value of my_tuple6 is: {my_tuple6} and the type is: {type(my_tuple6)}')"
   ],
   "metadata": {
    "collapsed": false,
    "ExecuteTime": {
     "end_time": "2023-08-23T12:26:43.256399600Z",
     "start_time": "2023-08-23T12:26:43.243400Z"
    }
   },
   "id": "9fa6a3f328e8714f"
  },
  {
   "cell_type": "code",
   "execution_count": null,
   "outputs": [],
   "source": [
    "# Creating a tuple containing a set\n",
    "my_tuple7 = ({1, 2, 3}, {4, 5, 6}, {7, 8, 9})\n",
    "print(f'The value of my_tuple7 is: {my_tuple7} and the type is: {type(my_tuple7)}')\n"
   ],
   "metadata": {
    "collapsed": false
   },
   "id": "6a28eaa28143643d"
  },
  {
   "cell_type": "code",
   "execution_count": 37,
   "outputs": [
    {
     "name": "stdout",
     "output_type": "stream",
     "text": [
      "The value of my_tuple8 is: (range(1, 4), range(4, 7), range(7, 10)) and the type is: <class 'tuple'>\n"
     ]
    }
   ],
   "source": [
    "# Creating a tuple containing a range\n",
    "my_tuple8 = (range(1, 4), range(4, 7), range(7, 10))\n",
    "print(f'The value of my_tuple8 is: {my_tuple8} and the type is: {type(my_tuple8)}')"
   ],
   "metadata": {
    "collapsed": false,
    "ExecuteTime": {
     "end_time": "2023-08-23T12:27:06.456880800Z",
     "start_time": "2023-08-23T12:27:06.447880200Z"
    }
   },
   "id": "64d46f068fa5e050"
  },
  {
   "cell_type": "code",
   "execution_count": null,
   "outputs": [],
   "source": [
    "# Creating a tuple containing a boolean\n",
    "my_tuple9 = (True, False, True)\n",
    "print(f'The value of my_tuple9 is: {my_tuple9} and the type is: {type(my_tuple9)}')"
   ],
   "metadata": {
    "collapsed": false
   },
   "id": "adef63466b1ef836"
  },
  {
   "cell_type": "code",
   "execution_count": 38,
   "outputs": [
    {
     "name": "stdout",
     "output_type": "stream",
     "text": [
      "The value of my_tuple10 is: (1, 2, 3, 4, 5) and the type is: <class 'tuple'>\n"
     ]
    }
   ],
   "source": [
    "# Tuples can be created using the tuple constructor.\n",
    "my_tuple10 = tuple((1, 2, 3, 4, 5))\n",
    "print(f'The value of my_tuple10 is: {my_tuple10} and the type is: {type(my_tuple10)}')"
   ],
   "metadata": {
    "collapsed": false,
    "ExecuteTime": {
     "end_time": "2023-08-23T12:27:51.799320Z",
     "start_time": "2023-08-23T12:27:51.795319800Z"
    }
   },
   "id": "e6b168903615c32f"
  },
  {
   "cell_type": "code",
   "execution_count": 40,
   "outputs": [
    {
     "name": "stdout",
     "output_type": "stream",
     "text": [
      "The value of my_tuple11 is: (1, 2, 3, 4, 5) and the type is: <class 'tuple'>\n"
     ]
    }
   ],
   "source": [
    "# Tuples can be created using the tuple comprehension\n",
    "my_tuple11 = tuple(i for i in range(1, 6))\n",
    "print(f'The value of my_tuple11 is: {my_tuple11} and the type is: {type(my_tuple11)}')"
   ],
   "metadata": {
    "collapsed": false,
    "ExecuteTime": {
     "end_time": "2023-08-23T12:28:15.349116800Z",
     "start_time": "2023-08-23T12:28:15.338116100Z"
    }
   },
   "id": "ba63d8fae2304180"
  },
  {
   "cell_type": "code",
   "execution_count": 41,
   "outputs": [
    {
     "name": "stdout",
     "output_type": "stream",
     "text": [
      "The value of my_tuple12 is: ((1, 6), (2, 7), (3, 8), (4, 9), (5, 10)) and the type is: <class 'tuple'>\n"
     ]
    }
   ],
   "source": [
    "# Tuples can be created using the zip() function\n",
    "my_tuple12 = tuple(zip(range(1, 6), range(6, 11)))\n",
    "print(f'The value of my_tuple12 is: {my_tuple12} and the type is: {type(my_tuple12)}')"
   ],
   "metadata": {
    "collapsed": false,
    "ExecuteTime": {
     "end_time": "2023-08-23T12:28:35.700917Z",
     "start_time": "2023-08-23T12:28:35.694917Z"
    }
   },
   "id": "b687661b883bae50"
  },
  {
   "cell_type": "code",
   "execution_count": 42,
   "outputs": [
    {
     "name": "stdout",
     "output_type": "stream",
     "text": [
      "The value of my_tuple13 is: (1, 2, 3, 4, 5) and the type is: <class 'tuple'>\n"
     ]
    }
   ],
   "source": [
    "# Tuples can be created using the map() function\n",
    "my_tuple13 = tuple(map(lambda x: x, range(1, 6)))\n",
    "print(f'The value of my_tuple13 is: {my_tuple13} and the type is: {type(my_tuple13)}')"
   ],
   "metadata": {
    "collapsed": false,
    "ExecuteTime": {
     "end_time": "2023-08-23T12:28:52.517426800Z",
     "start_time": "2023-08-23T12:28:52.507426900Z"
    }
   },
   "id": "144a4cba69ad3306"
  },
  {
   "cell_type": "code",
   "execution_count": 44,
   "outputs": [
    {
     "name": "stdout",
     "output_type": "stream",
     "text": [
      "The value of my_tuple14 is: (2, 4) and the type is: <class 'tuple'>\n"
     ]
    }
   ],
   "source": [
    "# Tuples can be created using the filter() function\n",
    "my_tuple14 = tuple(filter(lambda x: x % 2 == 0, range(1, 6)))\n",
    "print(f'The value of my_tuple14 is: {my_tuple14} and the type is: {type(my_tuple14)}')"
   ],
   "metadata": {
    "collapsed": false,
    "ExecuteTime": {
     "end_time": "2023-08-23T12:29:04.056306900Z",
     "start_time": "2023-08-23T12:29:04.051306500Z"
    }
   },
   "id": "260a146af2aa4ec7"
  },
  {
   "cell_type": "code",
   "execution_count": 45,
   "outputs": [
    {
     "name": "stdout",
     "output_type": "stream",
     "text": [
      "The value of my_tuple15 is: ((0, 1), (1, 2), (2, 3), (3, 4), (4, 5)) and the type is: <class 'tuple'>\n"
     ]
    }
   ],
   "source": [
    "# Tuples can be created using the enumerate() function\n",
    "my_tuple15 = tuple(enumerate(range(1, 6)))\n",
    "print(f'The value of my_tuple15 is: {my_tuple15} and the type is: {type(my_tuple15)}')"
   ],
   "metadata": {
    "collapsed": false,
    "ExecuteTime": {
     "end_time": "2023-08-23T12:29:30.456850100Z",
     "start_time": "2023-08-23T12:29:30.447849400Z"
    }
   },
   "id": "342645a3d4052c5e"
  },
  {
   "cell_type": "code",
   "execution_count": 46,
   "outputs": [
    {
     "name": "stdout",
     "output_type": "stream",
     "text": [
      "The value of my_tuple16 is: (5, 4, 3, 2, 1) and the type is: <class 'tuple'>\n"
     ]
    }
   ],
   "source": [
    "# Tuples can be created using the reversed() function\n",
    "my_tuple16 = tuple(reversed(range(1, 6)))\n",
    "print(f'The value of my_tuple16 is: {my_tuple16} and the type is: {type(my_tuple16)}')"
   ],
   "metadata": {
    "collapsed": false,
    "ExecuteTime": {
     "end_time": "2023-08-23T12:29:43.323995100Z",
     "start_time": "2023-08-23T12:29:43.314995400Z"
    }
   },
   "id": "b5f12efa1f687f50"
  },
  {
   "cell_type": "code",
   "execution_count": 47,
   "outputs": [
    {
     "name": "stdout",
     "output_type": "stream",
     "text": [
      "The first item in my_tuple is: 1\n",
      "The second item in my_tuple is: 2\n",
      "The last item in my_tuple is: 5\n"
     ]
    }
   ],
   "source": [
    "# To index a tuple, you can use the square brackets notation.\n",
    "# Accessing the first item in my_tuple\n",
    "print(f'The first item in my_tuple is: {my_tuple[0]}')\n",
    "\n",
    "# Accessing the second item in my_tuple\n",
    "print(f'The second item in my_tuple is: {my_tuple[1]}')\n",
    "\n",
    "# Accessing the last item in my_tuple\n",
    "print(f'The last item in my_tuple is: {my_tuple[-1]}')"
   ],
   "metadata": {
    "collapsed": false,
    "ExecuteTime": {
     "end_time": "2023-08-23T12:30:18.720564400Z",
     "start_time": "2023-08-23T12:30:18.715564200Z"
    }
   },
   "id": "6cbd0983aece8331"
  },
  {
   "cell_type": "markdown",
   "source": [],
   "metadata": {
    "collapsed": false
   },
   "id": "d7916bd22bfc6636"
  },
  {
   "cell_type": "markdown",
   "source": [
    "## SETS\n",
    "\n",
    " Special data type introduced since <span style=\"color: red;\">Python 2.4</span> onwards to support mathematical set theory operations.\n",
    "\n",
    "\n",
    "\n",
    "\n",
    "Sets are unordered collections of unique elements.\n",
    "The purpose of a set is to represent a collection of distinct elements.\n",
    "\n",
    "Set itself is mutable, BUT every item in the set has to be an immutable type.\n",
    "\n",
    "So, sets can have numbers, strings and tuples as items but cannot have lists or dictionaries as\n",
    "items.\n"
   ],
   "metadata": {
    "collapsed": false
   },
   "id": "ff099f2a6cf67a93"
  },
  {
   "cell_type": "markdown",
   "source": [
    "## BOOLEAN\n",
    "Boolean values are the two constant objects False and True.\n",
    "They are used to represent truth values (other values can also be considered false or true).\n",
    "In numeric contexts (for example when used as the argument to an arithmetic operator), they behave like the integers 0 and 1, respectively.\n",
    "\n"
   ],
   "metadata": {
    "collapsed": false
   },
   "id": "43b3f5e9ee321b6f"
  },
  {
   "cell_type": "code",
   "execution_count": null,
   "outputs": [],
   "source": [
    "# Creating a boolean object\n",
    "my_bool = True\n",
    "print(f'The value of my_bool is: {my_bool} and the type is: {type(my_bool)}')\n"
   ],
   "metadata": {
    "collapsed": false
   },
   "id": "c046f092bd9225d1"
  },
  {
   "cell_type": "code",
   "execution_count": 49,
   "outputs": [
    {
     "name": "stdout",
     "output_type": "stream",
     "text": [
      "The value of my_bool is: False and the type is: <class 'bool'>\n"
     ]
    }
   ],
   "source": [
    "# Creating a boolean object\n",
    "my_bool = False\n",
    "print(f'The value of my_bool is: {my_bool} and the type is: {type(my_bool)}')"
   ],
   "metadata": {
    "collapsed": false,
    "ExecuteTime": {
     "end_time": "2023-08-23T12:37:16.778285Z",
     "start_time": "2023-08-23T12:37:16.767284900Z"
    }
   },
   "id": "8a10e2e175da426a"
  },
  {
   "cell_type": "markdown",
   "source": [
    "# range\n",
    "The range type represents an immutable sequence of numbers and is commonly used for looping a specific number of times in for loops.\n",
    "\n"
   ],
   "metadata": {
    "collapsed": false
   },
   "id": "aeaca38d5ec68ef8"
  },
  {
   "cell_type": "code",
   "execution_count": null,
   "outputs": [],
   "source": [
    "# Creating a range object\n",
    "my_range = range(1, 6)\n",
    "print(f'The value of my_range is: {my_range} and the type is: {type(my_range)}')"
   ],
   "metadata": {
    "collapsed": false
   },
   "id": "42a8e117f13465ad"
  },
  {
   "cell_type": "markdown",
   "source": [
    "# bytes\n",
    "The bytes type is an immutable sequence of integers in the range 0 <= x < 256. It is used to represent a sequence of bytes (i.e., a byte string).\n"
   ],
   "metadata": {
    "collapsed": false
   },
   "id": "55f4d8647a1a8a4f"
  },
  {
   "cell_type": "code",
   "execution_count": 51,
   "outputs": [
    {
     "name": "stdout",
     "output_type": "stream",
     "text": [
      "The value of my_bytes is: b'\\x00' and the type is: <class 'bytes'>\n"
     ]
    }
   ],
   "source": [
    "# Creating a bytes object\n",
    "my_bytes = bytes(1)\n",
    "print(f'The value of my_bytes is: {my_bytes} and the type is: {type(my_bytes)}')"
   ],
   "metadata": {
    "collapsed": false,
    "ExecuteTime": {
     "end_time": "2023-08-23T12:38:25.506227800Z",
     "start_time": "2023-08-23T12:38:25.496228400Z"
    }
   },
   "id": "88b2c79c1007f4ac"
  },
  {
   "cell_type": "markdown",
   "source": [
    "# SETS\n",
    "\n",
    "• Special data type introduced since `Python 2.4` onwards to support mathematical set theory\n",
    "operations.\n",
    "• Unordered collection of unique items.\n",
    "• Set itself is mutable, BUT every item in the set\n",
    "has to be an immutable type.\n",
    "• So, sets can have numbers, strings and tuples\n",
    "as items but cannot have lists or dictionaries as\n",
    "items.\n"
   ],
   "metadata": {
    "collapsed": false
   },
   "id": "13ece9257527e045"
  },
  {
   "cell_type": "markdown",
   "source": [
    "# Casting Types\n",
    "Python supports casting, which is the process of changing an object of one type into another type.\n",
    "\n",
    "The purpose of casting is to convert a value from one type to another. It is important because sometimes we need to convert a value from one type to another."
   ],
   "metadata": {
    "collapsed": false
   },
   "id": "b67863501caa92e6"
  },
  {
   "cell_type": "markdown",
   "source": [
    "For example, sometime we may perform mathematical operations on strings, which is not allowed in Python.\n",
    "\n",
    "Which will result in \n",
    "`TypeError: unsupported operand type(s) for +: 'int' and 'str'`"
   ],
   "metadata": {
    "collapsed": false
   },
   "id": "42b4abb12c27d0bf"
  },
  {
   "cell_type": "code",
   "execution_count": 52,
   "outputs": [
    {
     "ename": "TypeError",
     "evalue": "unsupported operand type(s) for +: 'int' and 'str'",
     "output_type": "error",
     "traceback": [
      "\u001B[1;31m---------------------------------------------------------------------------\u001B[0m",
      "\u001B[1;31mTypeError\u001B[0m                                 Traceback (most recent call last)",
      "Cell \u001B[1;32mIn[52], line 2\u001B[0m\n\u001B[0;32m      1\u001B[0m \u001B[38;5;66;03m# Performing a mathematical operation on a string\u001B[39;00m\n\u001B[1;32m----> 2\u001B[0m my_string \u001B[38;5;241m=\u001B[39m \u001B[38;5;241;43m1\u001B[39;49m\u001B[43m \u001B[49m\u001B[38;5;241;43m+\u001B[39;49m\u001B[43m \u001B[49m\u001B[38;5;124;43m\"\u001B[39;49m\u001B[38;5;124;43m2\u001B[39;49m\u001B[38;5;124;43m\"\u001B[39;49m\n",
      "\u001B[1;31mTypeError\u001B[0m: unsupported operand type(s) for +: 'int' and 'str'"
     ]
    }
   ],
   "source": [
    "# Performing a mathematical operation on a string\n",
    "my_string = 1 + \"2\""
   ],
   "metadata": {
    "collapsed": false,
    "ExecuteTime": {
     "end_time": "2023-08-23T12:40:29.673187600Z",
     "start_time": "2023-08-23T12:40:29.658187900Z"
    }
   },
   "id": "b0b1dd9e2c2eb523"
  },
  {
   "cell_type": "markdown",
   "source": [
    "<span style=\"color: red;\">Important lesson to remember!</span>\n",
    "\n",
    "We can't do arithmetic operations on variables of different types. Therefore make\n",
    "sure that you are always aware of your variables types!"
   ],
   "metadata": {
    "collapsed": false
   },
   "id": "35cb35d9d828c4c4"
  },
  {
   "cell_type": "markdown",
   "source": [
    "To solve this problem, we must convert the string to an integer before performing the addition operation.\n",
    "\n",
    "<span style=\"color: green;\">Luckily Python offers us a way of convertin variables to different types!</span>\n",
    "\n",
    "<span style=\"font-size: larger; font-weight: 700;\">CASTING – THE OPERATION OF CONVERTING A VARIABLE TO A DIFFERENT TYPE</span>\n"
   ],
   "metadata": {
    "collapsed": false
   },
   "id": "8a7c14135b663858"
  },
  {
   "cell_type": "code",
   "execution_count": 53,
   "outputs": [
    {
     "name": "stdout",
     "output_type": "stream",
     "text": [
      "The value of my_string is: 3 and the type is: <class 'int'>\n"
     ]
    }
   ],
   "source": [
    "# Performing a mathematical operation on a string\n",
    "my_string = 1 + int(\"2\")    \n",
    "print(f'The value of my_string is: {my_string} and the type is: {type(my_string)}')"
   ],
   "metadata": {
    "collapsed": false,
    "ExecuteTime": {
     "end_time": "2023-08-23T12:45:16.008019300Z",
     "start_time": "2023-08-23T12:45:16.001018400Z"
    }
   },
   "id": "3c92758e411369ed"
  },
  {
   "cell_type": "markdown",
   "source": [
    "Similar method exist for other data types: \n",
    "* `int()` for integer\n",
    "* `float()` for float\n",
    "* `str()` for string"
   ],
   "metadata": {
    "collapsed": false
   },
   "id": "bd420eb76a33aa59"
  },
  {
   "cell_type": "markdown",
   "source": [
    "# QUESTION 2\n",
    "\n",
    "What will be the output of the following code snippet?\n",
    "\n",
    "and explain your answer"
   ],
   "metadata": {
    "collapsed": false
   },
   "id": "a6ad239dd9e9c210"
  },
  {
   "cell_type": "code",
   "execution_count": 55,
   "outputs": [
    {
     "name": "stdout",
     "output_type": "stream",
     "text": [
      "1020\n"
     ]
    }
   ],
   "source": [
    "var_x=\"10\"\n",
    "var_y=\"20\"\n",
    "var_z=var_x + var_y\n",
    "\n",
    "print(var_z)"
   ],
   "metadata": {
    "collapsed": false,
    "ExecuteTime": {
     "end_time": "2023-08-23T12:47:41.763709900Z",
     "start_time": "2023-08-23T12:47:41.757709800Z"
    }
   },
   "id": "89d20d0c858304e5"
  },
  {
   "cell_type": "markdown",
   "source": [
    "# Mutable vs. Immutable Objects in Python\n",
    "\n",
    "In Python, objects can be either mutable or immutable.\n",
    "\n",
    "* **Mutable objects** can be changed after they are created. This means that you can modify their internal state without creating a new object.\n",
    "    * Examples of mutable objects in Python include:\n",
    "        * Lists: `[1, 2, 3]`\n",
    "        * Dictionaries: `{\"key1\": \"value1\", \"key2\": \"value2\"}`\n",
    "        * Sets: `{1, 2, 3}`\n",
    "        * Frozen sets: `frozenset({1, 2, 3})`\n",
    "    * When you change a mutable object, you are actually creating a new object with the changed values. The original object is left unchanged.\n",
    "* **Immutable objects** cannot be changed after they are created. This means that you cannot modify their internal state without creating a new object.\n",
    "    * Examples of immutable objects in Python include:\n",
    "        * Numbers: `1`, `2`, `3`\n",
    "        * Strings: `\"hello\"`, `\"world\"`\n",
    "        * Tuples: `(1, 2, 3)`\n",
    "\n",
    "Here is a table that summarizes the key differences between mutable and immutable objects:\n",
    "\n",
    "| Feature | Mutable Objects | Immutable Objects |\n",
    "|---|---|---|\n",
    "| Can be changed after they are created | Yes | No |\n",
    "| When you change a mutable object, you are actually creating a new object | Yes | No |\n",
    "| The original object is left unchanged | Yes | No |\n",
    "\n",
    "For more in-depth information on mutable and immutable objects in Python, you can refer to this [comprehensive guide](https://www.mygreatlearning.com/blog/understanding-mutable-and-immutable-in-python/#:~:text=Mutable%20is%20when%20something%20is,store%20a%20collection%20of%20data).\n"
   ],
   "metadata": {
    "collapsed": false
   },
   "id": "6da2f434b0d1876b"
  },
  {
   "cell_type": "markdown",
   "source": [
    "### Example of modifying a mutable object"
   ],
   "metadata": {
    "collapsed": false
   },
   "id": "f2db574687d8598f"
  },
  {
   "cell_type": "code",
   "execution_count": 61,
   "outputs": [
    {
     "name": "stdout",
     "output_type": "stream",
     "text": [
      "[4, 2, 3]\n"
     ]
    }
   ],
   "source": [
    "# Create some mutable\n",
    "list_numbers = [1, 2, 3]\n",
    "\n",
    "# Change the value of the first item in the list\n",
    "list_numbers[0] = 4\n",
    "print(list_numbers)"
   ],
   "metadata": {
    "collapsed": false,
    "ExecuteTime": {
     "end_time": "2023-08-23T13:03:33.241330300Z",
     "start_time": "2023-08-23T13:03:33.225330600Z"
    }
   },
   "id": "129ddbad368acb04"
  },
  {
   "cell_type": "code",
   "execution_count": 60,
   "outputs": [
    {
     "name": "stdout",
     "output_type": "stream",
     "text": [
      "{'key1': 'new_value1', 'key2': 'value2'}\n"
     ]
    }
   ],
   "source": [
    "# Create some mutable\n",
    "my_dict = {\"key1\": \"value1\", \"key2\": \"value2\"}\n",
    "\n",
    "# Change the value associated with the key \"key1\"\n",
    "my_dict[\"key1\"] = \"new_value1\"\n",
    "print(my_dict)"
   ],
   "metadata": {
    "collapsed": false,
    "ExecuteTime": {
     "end_time": "2023-08-23T13:03:26.923957Z",
     "start_time": "2023-08-23T13:03:26.917957400Z"
    }
   },
   "id": "5b203de185bf61ca"
  },
  {
   "cell_type": "markdown",
   "source": [
    "### Example of modifying an immutable object"
   ],
   "metadata": {
    "collapsed": false
   },
   "id": "5e9871d9b6bc42b5"
  },
  {
   "cell_type": "code",
   "execution_count": 62,
   "outputs": [
    {
     "ename": "TypeError",
     "evalue": "'tuple' object does not support item assignment",
     "output_type": "error",
     "traceback": [
      "\u001B[1;31m---------------------------------------------------------------------------\u001B[0m",
      "\u001B[1;31mTypeError\u001B[0m                                 Traceback (most recent call last)",
      "Cell \u001B[1;32mIn[62], line 5\u001B[0m\n\u001B[0;32m      2\u001B[0m my_tuple \u001B[38;5;241m=\u001B[39m (\u001B[38;5;241m1\u001B[39m, \u001B[38;5;241m2\u001B[39m, \u001B[38;5;241m3\u001B[39m)\n\u001B[0;32m      4\u001B[0m \u001B[38;5;66;03m# Change the value of the first item in the tuple\u001B[39;00m\n\u001B[1;32m----> 5\u001B[0m my_tuple[\u001B[38;5;241m0\u001B[39m] \u001B[38;5;241m=\u001B[39m \u001B[38;5;241m4\u001B[39m\n",
      "\u001B[1;31mTypeError\u001B[0m: 'tuple' object does not support item assignment"
     ]
    }
   ],
   "source": [
    "# Create some immutable\n",
    "my_tuple = (1, 2, 3)\n",
    "\n",
    "# Change the value of the first item in the tuple\n",
    "my_tuple[0] = 4\n",
    "\n"
   ],
   "metadata": {
    "collapsed": false,
    "ExecuteTime": {
     "end_time": "2023-08-23T13:04:19.722510400Z",
     "start_time": "2023-08-23T13:04:19.683988500Z"
    }
   },
   "id": "8d42dac88d368765"
  },
  {
   "cell_type": "markdown",
   "source": [
    "\n",
    "\n",
    "<span style=\"color: red;\">Here, we show that tuple are immutable, and this therefore maintains the integrity of the data during program execution.</span>\n",
    "\n"
   ],
   "metadata": {
    "collapsed": false
   },
   "id": "40a8cba5909f2d5a"
  },
  {
   "cell_type": "code",
   "execution_count": 63,
   "outputs": [
    {
     "ename": "TypeError",
     "evalue": "'str' object does not support item assignment",
     "output_type": "error",
     "traceback": [
      "\u001B[1;31m---------------------------------------------------------------------------\u001B[0m",
      "\u001B[1;31mTypeError\u001B[0m                                 Traceback (most recent call last)",
      "Cell \u001B[1;32mIn[63], line 5\u001B[0m\n\u001B[0;32m      2\u001B[0m my_string \u001B[38;5;241m=\u001B[39m \u001B[38;5;124m\"\u001B[39m\u001B[38;5;124mhello\u001B[39m\u001B[38;5;124m\"\u001B[39m\n\u001B[0;32m      4\u001B[0m \u001B[38;5;66;03m# Change the value of the first character in the string\u001B[39;00m\n\u001B[1;32m----> 5\u001B[0m my_string[\u001B[38;5;241m0\u001B[39m] \u001B[38;5;241m=\u001B[39m \u001B[38;5;124m\"\u001B[39m\u001B[38;5;124mj\u001B[39m\u001B[38;5;124m\"\u001B[39m\n",
      "\u001B[1;31mTypeError\u001B[0m: 'str' object does not support item assignment"
     ]
    }
   ],
   "source": [
    "# Create some immutable\n",
    "my_string = \"hello\"\n",
    "\n",
    "# Change the value of the first character in the string\n",
    "my_string[0] = \"j\""
   ],
   "metadata": {
    "collapsed": false,
    "ExecuteTime": {
     "end_time": "2023-08-23T13:04:45.518621700Z",
     "start_time": "2023-08-23T13:04:45.503620500Z"
    }
   },
   "id": "66c3feadee8e3732"
  },
  {
   "cell_type": "markdown",
   "source": [
    "As you can see, the immutable object strings cannot be changed after it is created."
   ],
   "metadata": {
    "collapsed": false
   },
   "id": "9442e802772dd5db"
  }
 ],
 "metadata": {
  "kernelspec": {
   "display_name": "Python 3",
   "language": "python",
   "name": "python3"
  },
  "language_info": {
   "codemirror_mode": {
    "name": "ipython",
    "version": 2
   },
   "file_extension": ".py",
   "mimetype": "text/x-python",
   "name": "python",
   "nbconvert_exporter": "python",
   "pygments_lexer": "ipython2",
   "version": "2.7.6"
  }
 },
 "nbformat": 4,
 "nbformat_minor": 5
}
