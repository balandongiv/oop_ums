{
 "cells": [
  {
   "cell_type": "markdown",
   "id": "d00217fe321f8985",
   "metadata": {
    "collapsed": false
   },
   "source": [
    "# SECTION 1: BINDING VARIABLES AND VALUES"
   ]
  },
  {
   "cell_type": "markdown",
   "source": [
    "## Sec 1.1: Variable Assignment"
   ],
   "metadata": {
    "collapsed": false
   },
   "id": "5d60e655a3a9d4e"
  },
  {
   "cell_type": "markdown",
   "id": "4c59295109c930a",
   "metadata": {
    "collapsed": false
   },
   "source": [
    "Python variables are created with an assignment statement.\n",
    "\n",
    "The syntax of $variable$ assignment is\n",
    "\t`variable name = a value (or an expression)`"
   ]
  },
  {
   "cell_type": "markdown",
   "id": "1285ba20cdb96892",
   "metadata": {
    "collapsed": false
   },
   "source": [
    "For example, creating Python variable (red font) with a value (yellow font):\n",
    "\n",
    "<span style=\"color:red\">pi</span> = <span style=\"color:#FFFF00\">3.14159</span>\n",
    "\n",
    "\n",
    "\n",
    "\n",
    "\n",
    "Read as variable $pi$ equals $3.14159$\n",
    "We asking Python to store the value $3.14159$ (or an `expression`) in a designated memory location, identified by the name $pi$.\n",
    "\n",
    "<img src=\"images/variable_storage.png\" width=\"500\" height=\"300\">\n",
    "\n",
    "\n",
    "We can retrieve the $value$ associated with name of variable by invoking the name, by typing $pi$"
   ]
  },
  {
   "cell_type": "markdown",
   "id": "3c5159ca58cd4b71",
   "metadata": {
    "collapsed": false
   },
   "source": [
    "Expression can consist of either individual or combined elements such as \n",
    "* numerical values. \n",
    "    - For example, 1, 2, 3, 4, 5, etc.\n",
    "* mathematical operators. \n",
    "    - For example, $+$, $-$, $*$, $/$, etc.\n",
    "* variables. \n",
    "    - For example, $x$, $y$, $z$, etc."
   ]
  },
  {
   "cell_type": "markdown",
   "id": "46355a52aba4bb76",
   "metadata": {
    "collapsed": false
   },
   "source": [
    "This following cell is read as: \n",
    "\n",
    "variable $y$ is assigned a value of $22$\n",
    "The compiler store the value of $22$ to a memory location, identified by the name $y$\n"
   ]
  },
  {
   "cell_type": "code",
   "execution_count": 1,
   "id": "d80c04c8ba5b5322",
   "metadata": {
    "collapsed": false,
    "ExecuteTime": {
     "end_time": "2023-10-27T07:36:33.694867200Z",
     "start_time": "2023-10-27T07:36:32.457386300Z"
    }
   },
   "outputs": [],
   "source": [
    "y = 22"
   ]
  },
  {
   "cell_type": "markdown",
   "id": "b8ccf10dcbcef3d7",
   "metadata": {
    "collapsed": false
   },
   "source": [
    "As mentioned above, expression with combined elements such as numerical values, mathematical operators, and variables.\n",
    "\n",
    "| Expression                              | Description                                                                                     |\n",
    "|-----------------------------------------|-------------------------------------------------------------------------------------------------|\n",
    "| expression1 = 5 + 3                     | Addition of two numbers using numerical values                                |\n",
    "| expression2 = 10 - 2                    | Subtraction of two numbers using numerical values                          |\n",
    "| expression3 = expression1 * expression2 | Multiplication of two numbers by combining values from two variables with a mathematical operator |\n",
    "\n",
    "\n",
    "<span style=\"color:red\">It is worth noting that Python supports mathematical operations, including addition, subtraction, multiplication, and division. However, for the time being, our focus will be on variable creation.</span>"
   ]
  },
  {
   "cell_type": "markdown",
   "id": "a14c0959d72dc1e1",
   "metadata": {
    "collapsed": false
   },
   "source": [
    "## Sec 1.2 Multiple Assignment\n"
   ]
  },
  {
   "cell_type": "markdown",
   "id": "7afb37597654470c",
   "metadata": {
    "collapsed": false
   },
   "source": [
    "This notation is usefull for functions that return multiple values"
   ]
  },
  {
   "cell_type": "code",
   "execution_count": 2,
   "id": "3c9e90955d855622",
   "metadata": {
    "collapsed": false,
    "ExecuteTime": {
     "end_time": "2023-10-27T07:36:34.272645500Z",
     "start_time": "2023-10-27T07:36:32.463386500Z"
    }
   },
   "outputs": [],
   "source": [
    "a, b, c = 5, \"hello\", [1, 2]"
   ]
  },
  {
   "cell_type": "code",
   "execution_count": 3,
   "id": "b3aee2cfcd65a3c",
   "metadata": {
    "collapsed": false,
    "ExecuteTime": {
     "end_time": "2023-10-27T07:36:34.273645700Z",
     "start_time": "2023-10-27T07:36:32.478386800Z"
    }
   },
   "outputs": [
    {
     "name": "stdout",
     "output_type": "stream",
     "text": [
      "The value for a: 5,\n",
      "\tvalue for b: hello,\n",
      "\tvalue for c: [1, 2]\n"
     ]
    }
   ],
   "source": [
    "# We can view the variable assignment using print\n",
    "\n",
    "print(f'The value for a: {a},\\n\\tvalue for b: {b},\\n\\tvalue for c: {c}')\n"
   ]
  },
  {
   "cell_type": "markdown",
   "id": "c1837440beec75cc",
   "metadata": {
    "collapsed": false
   },
   "source": [
    "## Sec 1.3: Abstracting Expression\n",
    "Giving <span style=\"color:red\">names</span> to values of <span style=\"color:red\">expressions</span> serves several valuable purposes\n",
    "\n",
    "* It enables the reuse of names rather than values, enhancing code readability and maintainability.\n",
    "* This practice makes it easier to modify the code at a later stage, as changes can be made more efficiently by updating the assigned names.\n"
   ]
  },
  {
   "cell_type": "code",
   "execution_count": 4,
   "id": "22ac9c02b912d245",
   "metadata": {
    "collapsed": false,
    "ExecuteTime": {
     "end_time": "2023-10-27T07:36:34.273645700Z",
     "start_time": "2023-10-27T07:36:32.492388100Z"
    }
   },
   "outputs": [],
   "source": [
    "pi = 3.14159\n",
    "radius = 2.2\n",
    "area = pi*(radius**2)"
   ]
  },
  {
   "cell_type": "markdown",
   "id": "55efcdb3988e7441",
   "metadata": {
    "collapsed": false
   },
   "source": [
    "!<img src=\"images/variable_storage_3variable.png\" width=\"500\" height=\"300\">"
   ]
  },
  {
   "cell_type": "markdown",
   "id": "3bc5ec3a5dd76622",
   "metadata": {
    "collapsed": false
   },
   "source": [
    "## Sec 1.4 Overwriting Variable"
   ]
  },
  {
   "cell_type": "markdown",
   "id": "dd79eb0e23075e68",
   "metadata": {
    "collapsed": false
   },
   "source": [
    " The value of a variable can be accessed  at any time after it is created.\n",
    " The value of a variable can be re-bind (change) using new assignment statement, at any time after it is created."
   ]
  },
  {
   "cell_type": "code",
   "execution_count": 5,
   "id": "e9572e1a844c44c9",
   "metadata": {
    "collapsed": false,
    "ExecuteTime": {
     "end_time": "2023-10-27T07:36:34.273645700Z",
     "start_time": "2023-10-27T07:36:32.509893900Z"
    }
   },
   "outputs": [
    {
     "name": "stdout",
     "output_type": "stream",
     "text": [
      "The updated value of x, which was initially 22 and then decreased by 2, is 20\n"
     ]
    }
   ],
   "source": [
    "x = 22\n",
    "x= x - 2\n",
    "print(f'The updated value of x, which was initially 22 and then decreased by 2, is {x}')"
   ]
  },
  {
   "cell_type": "markdown",
   "id": "433234c4f1595cfc",
   "metadata": {
    "collapsed": false
   },
   "source": [
    "Upon re-bind a variable name using new assingmnet statement, the previous values may still stored in memory but lost the handle for accessing it."
   ]
  },
  {
   "cell_type": "code",
   "execution_count": 6,
   "id": "afbe75ffc058cfc6",
   "metadata": {
    "collapsed": false,
    "ExecuteTime": {
     "end_time": "2023-10-27T07:36:34.273645700Z",
     "start_time": "2023-10-27T07:36:32.524894800Z"
    }
   },
   "outputs": [],
   "source": [
    "pi = 3.14159\n",
    "radius = 2.2\n",
    "area = pi*(radius**2)\n",
    "radius= radius + 2"
   ]
  },
  {
   "cell_type": "markdown",
   "id": "3f689dadf66512dc",
   "metadata": {
    "collapsed": false
   },
   "source": [
    "!<img src=\"images/variable_storage_rebinding.png\" alt=\"Alt text\" width=\"480\" height=\"288\">\n"
   ]
  },
  {
   "cell_type": "markdown",
   "id": "6d39ea418e099a4",
   "metadata": {
    "collapsed": false
   },
   "source": [
    "## Sec 1.5: Variable Innitialization\n",
    "\n",
    "Variables must be initialized before it can be used."
   ]
  },
  {
   "cell_type": "code",
   "execution_count": 7,
   "id": "27277290337c2b85",
   "metadata": {
    "collapsed": false,
    "ExecuteTime": {
     "end_time": "2023-10-27T07:36:34.274645600Z",
     "start_time": "2023-10-27T07:36:32.540894200Z"
    }
   },
   "outputs": [
    {
     "ename": "NameError",
     "evalue": "name 't' is not defined",
     "output_type": "error",
     "traceback": [
      "\u001B[1;31m---------------------------------------------------------------------------\u001B[0m",
      "\u001B[1;31mNameError\u001B[0m                                 Traceback (most recent call last)",
      "Cell \u001B[1;32mIn[7], line 1\u001B[0m\n\u001B[1;32m----> 1\u001B[0m z\u001B[38;5;241m=\u001B[39m \u001B[38;5;241m22\u001B[39m \u001B[38;5;241m+\u001B[39m \u001B[43mt\u001B[49m\n",
      "\u001B[1;31mNameError\u001B[0m: name 't' is not defined"
     ]
    }
   ],
   "source": [
    "z= 22 + t"
   ]
  },
  {
   "cell_type": "markdown",
   "id": "f9ab850c96c974f8",
   "metadata": {
    "collapsed": false
   },
   "source": [
    "## Sec 1.6: Visualizing The Content of Variables\n",
    "\n",
    "We can use the print method to vizualize the content of variable"
   ]
  },
  {
   "cell_type": "code",
   "execution_count": null,
   "id": "b6480bf88ae02f11",
   "metadata": {
    "collapsed": false,
    "ExecuteTime": {
     "start_time": "2023-10-27T07:36:32.856928100Z"
    }
   },
   "outputs": [],
   "source": [
    "someVariable = 10\n",
    "print(someVariable)"
   ]
  },
  {
   "cell_type": "markdown",
   "id": "2802f525a90e71d2",
   "metadata": {
    "collapsed": false
   },
   "source": [
    "You can even do combinations!"
   ]
  },
  {
   "cell_type": "code",
   "execution_count": null,
   "id": "7482298f1a6b2621",
   "metadata": {
    "collapsed": false,
    "ExecuteTime": {
     "start_time": "2023-10-27T07:36:32.857928100Z"
    }
   },
   "outputs": [],
   "source": [
    "someVariable = 10\n",
    "\n",
    "print(\"Your variable is \", someVariable)\n"
   ]
  },
  {
   "cell_type": "markdown",
   "id": "7bf6776dadfe2707",
   "metadata": {
    "collapsed": false
   },
   "source": [
    "I prefer to use the `f-string` method to display the variable values"
   ]
  },
  {
   "cell_type": "code",
   "execution_count": null,
   "id": "c685f699926dd969",
   "metadata": {
    "collapsed": false,
    "ExecuteTime": {
     "start_time": "2023-10-27T07:36:32.858928100Z"
    }
   },
   "outputs": [],
   "source": [
    "print(f\"Your variable is {someVariable}\")"
   ]
  },
  {
   "cell_type": "markdown",
   "id": "a39380d780322400",
   "metadata": {
    "collapsed": false
   },
   "source": [
    "Sometimes, you may want to display the type of variable"
   ]
  },
  {
   "cell_type": "code",
   "execution_count": null,
   "id": "f62487a68c3f8b93",
   "metadata": {
    "collapsed": false,
    "ExecuteTime": {
     "start_time": "2023-10-27T07:36:32.859928100Z"
    }
   },
   "outputs": [],
   "source": [
    "print(f\"Your variable is {someVariable} and it is of type {type(someVariable)}\")"
   ]
  },
  {
   "cell_type": "markdown",
   "id": "1d51bc125d82b8a2",
   "metadata": {
    "collapsed": false
   },
   "source": [
    "### EXERCISE 1\n",
    "What will the following code snippet print?"
   ]
  },
  {
   "cell_type": "code",
   "execution_count": null,
   "id": "605089a891ef1c64",
   "metadata": {
    "collapsed": false,
    "ExecuteTime": {
     "start_time": "2023-10-27T07:36:32.859928100Z"
    }
   },
   "outputs": [],
   "source": [
    "# a = 10\n",
    "# b = a * 5\n",
    "# c = \"Your result is:\"\n",
    "print(c, b)"
   ]
  },
  {
   "cell_type": "markdown",
   "id": "7c925726a77bbc22",
   "metadata": {
    "collapsed": false
   },
   "source": [
    "### EXERCISE 2\n",
    "\n",
    "What will the following code snippet print?"
   ]
  },
  {
   "cell_type": "code",
   "execution_count": null,
   "id": "9f39d5ccc1a43aa1",
   "metadata": {
    "collapsed": false,
    "ExecuteTime": {
     "start_time": "2023-10-27T07:36:32.860927700Z"
    }
   },
   "outputs": [],
   "source": [
    "\n",
    "\n",
    "# a = 10\n",
    "# b = a\n",
    "# a = 3\n",
    "# print(b)\n"
   ]
  },
  {
   "cell_type": "markdown",
   "id": "bf2e2fbe8a732644",
   "metadata": {
    "collapsed": false
   },
   "source": []
  },
  {
   "cell_type": "markdown",
   "id": "9953cfafc8781ffe",
   "metadata": {
    "collapsed": false
   },
   "source": [
    "## Sec 1.7 Rules for Naming Variable\n",
    "\n",
    "* Variable names are case sensitive.\n",
    "  - $Hello$ is different from $hello$.\n",
    "* Variable names may only contain alphabetic letters, underscores, or numbers.\n",
    "* Variable names should not start with a number.\n",
    "* Variable names cannot be any other Python keyword (e.g., if, while, def, etc.).\n",
    "* Always give your variables meaningful names!\n",
    "\n",
    "For more details about variable naming, you can refer to the [PEP 8 style guide](https://peps.python.org/pep-0008/).\n"
   ]
  },
  {
   "cell_type": "markdown",
   "id": "60b6d026db980519",
   "metadata": {
    "collapsed": false
   },
   "source": [
    "## Sec 1.8: Case study"
   ]
  },
  {
   "cell_type": "markdown",
   "id": "f001fe4763817875",
   "metadata": {
    "collapsed": false
   },
   "source": [
    "Say for example,we want to calculate the future value of an investment using the compound interest formula\n",
    "\n",
    "Given the following:\n",
    "* The starting amount of money you're starting with is $RM 100$.\n",
    "* The annual interest rate is $5.0%$.\n",
    "* An investment period of 7 years\n",
    "\n",
    "We can calculate the future value of the investment using the compound interest formula, as below\n",
    "\n",
    "\\begin{equation}\n",
    "A = P \\left(1 + \\frac{100r}{100}\\right)^n\n",
    "\\end{equation}\n",
    "\n",
    "Where:\n",
    "- $A$ is the future value of the investment.\n",
    "- $P$ is the principal amount (initial investment), which is 100 in this case.\n",
    "- $r$ is the annual interest rate in decimal form, which is 0.05 (5% expressed as a decimal).\n",
    "- $n$ is the number of years the money is invested for, which is 7 in this case.\n"
   ]
  },
  {
   "cell_type": "markdown",
   "id": "96ba26a53d00f176",
   "metadata": {
    "collapsed": false
   },
   "source": [
    "There are two ways to write the code to calculate the future value of the investment\n",
    "\n",
    "But, which one is better?\n",
    "\n",
    "\n",
    "\n",
    "| Code 1                                  | Code 2                                                                 |\n",
    "|----------------------------------------|------------------------------------------------------------------------|\n",
    "|primary = 100                           | initial_amount = 100                                                   |\n",
    "|r = 5.0                                 | interest_rate = 5.0                                                    |\n",
    "|n = 7                                   | number_of_years = 7                                                    |\n",
    "|amount = primary * (1+r/100)**n         | final_amount = initial_amount*(1 + interest_rate/100)**number_of_years |\n",
    "|print(amount)                           | print(final_amount)                                                    |\n"
   ]
  },
  {
   "cell_type": "code",
   "execution_count": null,
   "id": "557c26cafd5420b0",
   "metadata": {
    "collapsed": false,
    "ExecuteTime": {
     "start_time": "2023-10-27T07:36:32.861927600Z"
    }
   },
   "outputs": [],
   "source": [
    "# Code 1\n",
    "\n",
    "primary = 100\n",
    "r = 5.0\n",
    "n = 7\n",
    "amount = primary * (1+r/100)**n\n",
    "print(f'The final amount after {n} years is RM {amount}')"
   ]
  },
  {
   "cell_type": "code",
   "execution_count": null,
   "id": "460fde2a6cfcf125",
   "metadata": {
    "collapsed": false,
    "ExecuteTime": {
     "start_time": "2023-10-27T07:36:32.862927600Z"
    }
   },
   "outputs": [],
   "source": [
    "# Code 2\n",
    "initial_amount = 100\n",
    "interest_rate = 5.0\n",
    "number_of_years = 7\n",
    "final_amount = initial_amount*(1 + interest_rate/100)**number_of_years\n",
    "print(f'The final amount after {number_of_years} years is RM {final_amount})')"
   ]
  },
  {
   "cell_type": "markdown",
   "id": "5bde74545c06648f",
   "metadata": {
    "collapsed": false
   },
   "source": [
    "# SECTION 2: VARIABLE TYPES\n",
    "\n",
    "## Sec 2.1 Standard Data Types"
   ]
  },
  {
   "cell_type": "markdown",
   "id": "9d254b56796d825b",
   "metadata": {
    "collapsed": false
   },
   "source": [
    "Python supports various data types for representing different kinds of values. \n",
    "\n",
    "Here's a summary of some common data types in Python:\n",
    "\n",
    "\n",
    "!<img src=\"images/map_datatypes.png\" alt=\"Alt text\">\n",
    "\n",
    "<!--\n",
    "| Type             | Description                |\n",
    "|------------------|----------------------------|\n",
    "| Text Types       | `str`                      |\n",
    "| Numeric Types    | `int`, `float`, `complex`  |\n",
    "| Sequence Types   | `list`, `tuple`, `range`   |\n",
    "| Mapping Type     | `dict`                     |\n",
    "| Set Types        | `set`, `frozenset`         |\n",
    "| Boolean Type     | `bool`                     |\n",
    "| Binary Types     | `bytes`, `bytearray`, `memoryview` |\n",
    "| None Type        | `NoneType`                 |\n",
    "-->\n",
    "> Note: This information has been extracted from [w3schools](https://www.w3schools.com/python/python_datatypes.asp) and [geeksfoorgeeks](https://www.geeksforgeeks.org/python-data-types/).\n"
   ]
  },
  {
   "cell_type": "markdown",
   "id": "492793d2d0053013",
   "metadata": {
    "collapsed": false
   },
   "source": [
    "## Sec 2.2: Numeric Types\n",
    "!<img src=\"images/python_numeric.png\" alt=\"Alt text\">"
   ]
  },
  {
   "cell_type": "markdown",
   "id": "6946e630da533efc",
   "metadata": {
    "collapsed": false
   },
   "source": [
    "Python supports various numerical types to represent numbers.\n",
    "There are three common different numerical types in Python:\n",
    "\n",
    "* `int` (for integer)\n",
    "    - Integers are whole numbers, such as 1, 2, 3, 4, 5, etc. They do not have a fractional component.it can be positive or negative.\n",
    "* `float` (for floating-point number)\n",
    "    - Floating-point numbers are numbers with a fractional component, such as $3.14159$, $0.0001$, $42.0$, etc. They can be either positive or negative.\n",
    "* `complex` (for complex number)\n",
    "    - Complex numbers are numbers with a real and imaginary component, such as $1.0 + 2.0j$, $1.5 + 2.5j$, etc.\n"
   ]
  },
  {
   "cell_type": "markdown",
   "source": [
    "As you can see later, python automatically assign the type of variable based on the value assigned to it. \n",
    "For example if $1$, then it will be an `integer`, if $1.0$, then it will be a `float`.\n",
    "\n",
    "You can bold and highlight the specified phrases in the Markdown format like this:\n",
    "\n",
    "\n",
    "As you can see later, **<span style=\"color:red\">python automatically</span>** assign the **<span style=\"color:red\">type of variable</span>** based on the value assigned to it. \n",
    "\n",
    "\n",
    "For example if $1$, then it will be an `integer`, if $1.0$, then it will be a `float`."
   ],
   "metadata": {
    "collapsed": false
   },
   "id": "d9fd6075f793242b"
  },
  {
   "cell_type": "markdown",
   "id": "6d1907b51e174e36",
   "metadata": {
    "collapsed": false
   },
   "source": [
    "#### integer\n",
    "\n",
    "Integers are whole numbers, such as 1, 2, 3, 4, 5, etc. They do not have a fractional component.it can be positive or negative.\n"
   ]
  },
  {
   "cell_type": "code",
   "execution_count": null,
   "id": "fa0b8cfb334070b",
   "metadata": {
    "collapsed": false,
    "ExecuteTime": {
     "start_time": "2023-10-27T07:36:32.863928100Z"
    }
   },
   "outputs": [],
   "source": [
    "# Python automatically assigns a variable's type based on the assigned value.\n",
    "# The 'type' function is used to determine the type of a variable.\n",
    "\n",
    "# Assigning an integer value to 'val'\n",
    "integer_value = 1\n",
    "\n",
    "# Explicitly casting 1 to an integer and assigning it to 'dval'\n",
    "converted_to_integer = int(1)\n",
    "\n",
    "# Printing the types of 'val' and 'dval'\n",
    "print(f'The variable val has type: {type(integer_value)}')\n",
    "print(f'The variable dval has type: {type(converted_to_integer)}')\n"
   ]
  },
  {
   "cell_type": "markdown",
   "id": "701dc1163d61e594",
   "metadata": {
    "collapsed": false
   },
   "source": [
    "Assignment via numeric operator also creates a number object:"
   ]
  },
  {
   "cell_type": "code",
   "execution_count": null,
   "id": "2186c48322fd2645",
   "metadata": {
    "collapsed": false,
    "ExecuteTime": {
     "start_time": "2023-10-27T07:36:32.864927500Z"
    }
   },
   "outputs": [],
   "source": [
    "# In Python, assignment via numeric operators creates number objects.\n",
    "\n",
    "# Assigning an integer value\n",
    "a,b = 3,4\n",
    "\n",
    "# Performing a numeric operation, which creates a new number object.\n",
    "c = a + b\n",
    "\n",
    "# Printing the result\n",
    "print(f'The value of c is: {c} and having the type: {type(c)}')"
   ]
  },
  {
   "cell_type": "markdown",
   "id": "13a34d04210a7d09",
   "metadata": {
    "collapsed": false
   },
   "source": [
    "#### float"
   ]
  },
  {
   "cell_type": "markdown",
   "id": "1c2125b311c78d75",
   "metadata": {
    "collapsed": false
   },
   "source": [
    "Floating-point numbers are numbers with a fractional component, such as $3.14159$, $0.0001$, $42.0$, etc. They can be either positive or negative."
   ]
  },
  {
   "cell_type": "markdown",
   "id": "865b51c050946f6",
   "metadata": {
    "collapsed": false
   },
   "source": [
    "There are two ways to represent a float in Python.\n",
    "* Fractional notation. For example, $3.14159$, $0.0001$, $42.0$, etc.\n",
    "* Scientific (exponent) notation. For example, $1.0e-5$, $2.5e+3$, etc."
   ]
  },
  {
   "cell_type": "code",
   "execution_count": null,
   "id": "7722836c5f54f84e",
   "metadata": {
    "collapsed": false,
    "ExecuteTime": {
     "start_time": "2023-10-27T07:36:32.865927700Z"
    }
   },
   "outputs": [],
   "source": [
    "# To create a number in Fractional Form, you simply assign it to a variable\n",
    "fractional_number = 675.456\n",
    "print(f'The value of fractional_number is: {fractional_number} and having the type: {type(fractional_number)}')"
   ]
  },
  {
   "cell_type": "markdown",
   "id": "e17a27fbf911438f",
   "metadata": {
    "collapsed": false
   },
   "source": [
    "To create a number in Exponent Notation, you can use the E notation (or e) to specify the exponent part. "
   ]
  },
  {
   "cell_type": "code",
   "execution_count": null,
   "id": "693d9c7cb7db8cf2",
   "metadata": {
    "collapsed": false,
    "ExecuteTime": {
     "start_time": "2023-10-27T07:36:32.866927900Z"
    }
   },
   "outputs": [],
   "source": [
    "exponent_number = 6.75456E2  # Equivalent to 6.75456 * 10^2\n",
    "print(f'The value of exponent_number is: {exponent_number} and having the type: {type(exponent_number)}')"
   ]
  },
  {
   "cell_type": "markdown",
   "id": "9632c754a2e82489",
   "metadata": {
    "collapsed": false
   },
   "source": [
    "QUESTION 1\n",
    "What is the type of c?"
   ]
  },
  {
   "cell_type": "code",
   "execution_count": null,
   "id": "7f9094a9f93cc84d",
   "metadata": {
    "collapsed": false,
    "ExecuteTime": {
     "start_time": "2023-10-27T07:36:32.867927500Z"
    }
   },
   "outputs": [],
   "source": [
    "# In Python, assignment via numeric operators creates number objects.\n",
    "\n",
    "# Assigning an integer value\n",
    "a,b = 3,4\n",
    "\n",
    "# Performing a numeric operation, which creates a new number object.\n",
    "c = a / b\n",
    "\n",
    "# Printing the result\n",
    "# print(f'The value of c is: {c} and having the type: {type(c)}')"
   ]
  },
  {
   "cell_type": "markdown",
   "id": "b63fee49b26423a6",
   "metadata": {
    "collapsed": false
   },
   "source": [
    "#### complex\n",
    "\n",
    "Complex numbers are numbers with a real and imaginary component.Python represents complex numbers in the form a+bj.\n",
    "\n",
    "For example, \n",
    "* $1.0 + 2.0j$ \n",
    "* $1.5 + 2.5j$\n"
   ]
  },
  {
   "cell_type": "code",
   "execution_count": null,
   "id": "9d629d53a7ffac7c",
   "metadata": {
    "collapsed": false,
    "ExecuteTime": {
     "start_time": "2023-10-27T07:36:32.868928Z"
    }
   },
   "outputs": [],
   "source": [
    "# Assigning a complex number to a variable\n",
    "complex_number = 1.0 + 2.0j\n",
    "print(f'The value of complex_number is: {complex_number} and having the type: {type(complex_number)}')"
   ]
  },
  {
   "cell_type": "markdown",
   "id": "c937c3c6dcbdf3f",
   "metadata": {
    "collapsed": false
   },
   "source": [
    "### Python String"
   ]
  },
  {
   "cell_type": "markdown",
   "source": [
    "!<img src=\"images/python_string.png\" alt=\"Alt text\">\n",
    "\n",
    "A string is a group of valid characters, such as \n",
    "* letters\n",
    "* digits\n",
    "* spaces\n",
    "* special characters\n",
    "\n"
   ],
   "metadata": {
    "collapsed": false
   },
   "id": "aa23a13732ab0d63"
  },
  {
   "cell_type": "markdown",
   "source": [
    "These valid character is enclosed within either single quotes (' ') or double quotes (\" \")."
   ],
   "metadata": {
    "collapsed": false
   },
   "id": "1c0411d4df705deb"
  },
  {
   "cell_type": "code",
   "execution_count": null,
   "outputs": [],
   "source": [
    "university_name = 'University Malaysia'\n",
    "var_str=\"This is also a string\"\n"
   ],
   "metadata": {
    "collapsed": false,
    "ExecuteTime": {
     "start_time": "2023-10-27T07:36:32.869928200Z"
    }
   },
   "id": "a88d33d38685e877"
  },
  {
   "cell_type": "markdown",
   "source": [
    "\n",
    "\n",
    "\n",
    "A valid character that is not properly enclosed within single or double quotes will result in an error."
   ],
   "metadata": {
    "collapsed": false
   },
   "id": "bd4b2a7d27534d7a"
  },
  {
   "cell_type": "code",
   "execution_count": null,
   "outputs": [],
   "source": [
    "var_not_proper_string= \"This is not a string'"
   ],
   "metadata": {
    "collapsed": false,
    "ExecuteTime": {
     "start_time": "2023-10-27T07:36:32.870927500Z"
    }
   },
   "id": "5b8171b4de922300"
  },
  {
   "cell_type": "markdown",
   "source": [
    "**<span style=\"color:red\">EVEN WORSE</span>**\n",
    "a valid character that is not enclosed within single or double quotes will result in an error."
   ],
   "metadata": {
    "collapsed": false
   },
   "id": "a1b7ff1353dc62c6"
  },
  {
   "cell_type": "code",
   "execution_count": null,
   "outputs": [],
   "source": [
    "\n",
    "# var_not_proper_string= This is not a string"
   ],
   "metadata": {
    "collapsed": false,
    "ExecuteTime": {
     "start_time": "2023-10-27T07:36:32.872927500Z"
    }
   },
   "id": "e1daf861e20e6cfe"
  },
  {
   "cell_type": "markdown",
   "source": [
    "#### Concatenate Strings"
   ],
   "metadata": {
    "collapsed": false
   },
   "id": "9adc263a5de04de5"
  },
  {
   "cell_type": "markdown",
   "id": "a8ad3d2b8626ce3f",
   "metadata": {
    "collapsed": false
   },
   "source": [
    "String objects support concatenation using the $+$ operator and repetition operations.\n"
   ]
  },
  {
   "cell_type": "markdown",
   "id": "66dc7b10b7ca2f0",
   "metadata": {
    "collapsed": false
   },
   "source": [
    "Concatenation is the process of combining two strings together to create a new string.\n",
    "Naively, we can use the $+$ operator to concatenate two strings together."
   ]
  },
  {
   "cell_type": "code",
   "execution_count": null,
   "id": "df99d9e0473f9780",
   "metadata": {
    "collapsed": false,
    "ExecuteTime": {
     "start_time": "2023-10-27T07:36:32.872927500Z"
    }
   },
   "outputs": [],
   "source": [
    "my_text='Sabah bah'\n",
    "new_text='ni!'\n",
    "concat_text= my_text + ' '+ new_text\n",
    "print(concat_text)"
   ]
  },
  {
   "cell_type": "markdown",
   "id": "8ebc7931d18710e7",
   "metadata": {
    "collapsed": false
   },
   "source": [
    "#### String Repetition\n",
    "Repetition operations can be performed using the $*$ operator."
   ]
  },
  {
   "cell_type": "code",
   "execution_count": null,
   "id": "6b1c59b5c56df794",
   "metadata": {
    "collapsed": false,
    "ExecuteTime": {
     "start_time": "2023-10-27T07:36:32.873927800Z"
    }
   },
   "outputs": [],
   "source": [
    "my_text='Sabah bah'\n",
    "n_repeat=4\n",
    "print(f'The string \"{my_text}\" repeated {n_repeat} times is: {my_text*n_repeat}')"
   ]
  },
  {
   "cell_type": "markdown",
   "id": "38e743d65605c067",
   "metadata": {
    "collapsed": false
   },
   "source": [
    "### Sequence Type\n",
    "\n",
    "!<img src=\"images/python_sequence.png\" alt=\"Alt text\">\n",
    "\n",
    "\n",
    "Sequence types are used to store a collection of items\n",
    "There are three subtypes\n",
    "* list\n",
    "* tuple\n",
    "* range"
   ]
  },
  {
   "cell_type": "markdown",
   "source": [
    "#### 2a) List"
   ],
   "metadata": {
    "collapsed": false
   },
   "id": "3e941fa89b8fbba7"
  },
  {
   "cell_type": "markdown",
   "id": "ecb76ae14e60c827",
   "metadata": {
    "collapsed": false
   },
   "source": [
    "List is a more general sequence object that allows the individual items to be of different types.\n",
    "* Equivalent to arrays in other languages.\n",
    "* Lists have no fixed size and can be expanded or contracted as needed."
   ]
  },
  {
   "cell_type": "markdown",
   "id": "fbf6d00271e457ed",
   "metadata": {
    "collapsed": false
   },
   "source": [
    "A List in Python represents a list of comma separated values of any data type\n",
    "between square brackets"
   ]
  },
  {
   "cell_type": "code",
   "execution_count": null,
   "id": "ec08623936d1b8c6",
   "metadata": {
    "collapsed": false,
    "ExecuteTime": {
     "start_time": "2023-10-27T07:36:32.874927500Z"
    }
   },
   "outputs": [],
   "source": [
    "# Creating a list containing integers\n",
    "my_list = [1, 2, 3, 4, 5]\n",
    "\n",
    "# Creating a list containing strings\n",
    "my_list2 = ['a', 'b', 'c', 'd', 'e']\n",
    "\n",
    "# Creating a list containing mixed data types\n",
    "my_list3 = [1, 'a', 2, 'b', 3, 'c']"
   ]
  },
  {
   "cell_type": "markdown",
   "id": "59b1e20ed93ef616",
   "metadata": {
    "collapsed": false
   },
   "source": [
    "We can vizualize the list using the print method"
   ]
  },
  {
   "cell_type": "code",
   "execution_count": null,
   "id": "3a4d5e5eed9b11d1",
   "metadata": {
    "collapsed": false,
    "ExecuteTime": {
     "start_time": "2023-10-27T07:36:32.875927400Z"
    }
   },
   "outputs": [],
   "source": [
    "print(f'The value of my_list is: {my_list}')\n",
    "print(f'The value of my_list2 is: {my_list2}')\n",
    "print(f'The value of my_list3 is: {my_list3}')"
   ]
  },
  {
   "cell_type": "markdown",
   "id": "507f362edbc9d91b",
   "metadata": {
    "collapsed": false
   },
   "source": [
    "Lists can be nested just like arrays, i.e., you can have a list of lists."
   ]
  },
  {
   "cell_type": "code",
   "execution_count": null,
   "id": "7ff1c9ee0af797bf",
   "metadata": {
    "collapsed": false,
    "ExecuteTime": {
     "start_time": "2023-10-27T07:36:32.876928Z"
    }
   },
   "outputs": [],
   "source": [
    "# Creating a list containing lists\n",
    "my_nested_list = [[1, 2, 3], [4, 5, 6], [7, 8, 9]]\n",
    "print(f'The value of my_nested_list is: {my_nested_list}')"
   ]
  },
  {
   "cell_type": "markdown",
   "id": "c467888a11d5f667",
   "metadata": {
    "collapsed": false
   },
   "source": [
    "##### Item Retrieval\n",
    "\n",
    "Items in list can be retrieved using the index."
   ]
  },
  {
   "cell_type": "code",
   "execution_count": null,
   "id": "d25eb2e54fcbc226",
   "metadata": {
    "collapsed": false,
    "ExecuteTime": {
     "start_time": "2023-10-27T07:36:32.877928Z"
    }
   },
   "outputs": [],
   "source": [
    "# Accessing the first item in my_list\n",
    "print(f'The first item in my_list is: {my_list[0]}')\n",
    "\n",
    "# Accessing the second item in my_list\n",
    "print(f'The second item in my_list is: {my_list[1]}')\n",
    "\n",
    "# Accessing the last item in my_list\n",
    "print(f'The last item in my_list is: {my_list[-1]}')"
   ]
  },
  {
   "cell_type": "markdown",
   "id": "998ee697756fd10f",
   "metadata": {
    "collapsed": false
   },
   "source": [
    "To access the items in a nested list, you can use the same indexing method."
   ]
  },
  {
   "cell_type": "code",
   "execution_count": null,
   "id": "ba7da894924ff83a",
   "metadata": {
    "collapsed": false,
    "ExecuteTime": {
     "start_time": "2023-10-27T07:36:32.878927900Z"
    }
   },
   "outputs": [],
   "source": [
    "# Accessing the first item in the first list in my_nested_list\n",
    "print(f'The first item in the first list in my_nested_list is: {my_nested_list[0][0]}')\n",
    "\n",
    "# Accessing the second item in the first list in my_nested_list\n",
    "print(f'The second item in the first list in my_nested_list is: {my_nested_list[0][1]}')\n",
    "\n",
    "# Accessing the last item in the last list in my_nested_list\n",
    "print(f'The last item in the last list in my_nested_list is: {my_nested_list[-1][-1]}')\n",
    "\n"
   ]
  },
  {
   "cell_type": "markdown",
   "source": [
    "#### 2b) Tuples"
   ],
   "metadata": {
    "collapsed": false
   },
   "id": "fe0bd6f709772946"
  },
  {
   "cell_type": "markdown",
   "source": [
    "Tuples are immutable sequences of arbitrary objects.\n",
    "* Comparable to structs in other languages.\n",
    "* Tuples are immutable, which means that they cannot be changed once created.\n",
    "* Tuples are created using the comma (,) notation.\n",
    "* Tuples are enclosed within parentheses ().\n",
    "* Tuples can contain any number of elements.\n",
    "* Tuples can contain elements of different types.\n",
    "* Tuples can be nested.\n",
    "* Tuples can be indexed and sliced.\n",
    "* Tuples can be unpacked.\n",
    "* Tuples can be created using the tuple() function.\n",
    "* Tuples can be created using the tuple constructor.\n",
    "* Tuples can be created using the tuple comprehension.\n",
    "* Tuples can be created using the zip() function.\n",
    "* Tuples can be created using the map() function.\n",
    "* Tuples can be created using the filter() function.\n",
    "* Tuples can be created using the enumerate() function.\n",
    "* Tuples can be created using the reversed() function."
   ],
   "metadata": {
    "collapsed": false
   },
   "id": "2b76ebc1edc72153"
  },
  {
   "cell_type": "code",
   "execution_count": null,
   "outputs": [],
   "source": [
    "### Creating a tuple using the comma (,) notation"
   ],
   "metadata": {
    "collapsed": false
   },
   "id": "4c175d5c3efa212e"
  },
  {
   "cell_type": "markdown",
   "source": [],
   "metadata": {
    "collapsed": false
   },
   "id": "96982e4d80864747"
  },
  {
   "cell_type": "code",
   "execution_count": null,
   "outputs": [],
   "source": [
    "# Creating a tuple containing integers\n",
    "my_tuple = (1, 2, 3, 4, 5)\n",
    "print(f'The value of my_tuple is: {my_tuple} and the type is: {type(my_tuple)}')"
   ],
   "metadata": {
    "collapsed": false
   },
   "id": "93a379f91e38a5d0"
  },
  {
   "cell_type": "code",
   "execution_count": null,
   "outputs": [],
   "source": [
    "# Creating a tuple containing strings\n",
    "my_tuple2 = ('a', 'b', 'c', 'd', 'e')\n",
    "print(f'The value of my_tuple2 is: {my_tuple2} and the type is: {type(my_tuple2)}')"
   ],
   "metadata": {
    "collapsed": false
   },
   "id": "e149704316ea9320"
  },
  {
   "cell_type": "code",
   "execution_count": null,
   "outputs": [],
   "source": [
    "# Creating a tuple containing mixed data types\n",
    "my_tuple3 = (1, 'a', 2, 'b', 3, 'c')\n",
    "print(f'The value of my_tuple3 is: {my_tuple3} and the type is: {type(my_tuple3)}')"
   ],
   "metadata": {
    "collapsed": false
   },
   "id": "5f4c43c7d158512b"
  },
  {
   "cell_type": "code",
   "execution_count": null,
   "outputs": [],
   "source": [
    "# Creating a tuple containing a list\n",
    "my_tuple4 = ([1, 2, 3], [4, 5, 6], [7, 8, 9])\n",
    "print(f'The value of my_tuple4 is: {my_tuple4} and the type is: {type(my_tuple4)}')"
   ],
   "metadata": {
    "collapsed": false
   },
   "id": "9f125f30bd309c61"
  },
  {
   "cell_type": "code",
   "execution_count": null,
   "outputs": [],
   "source": [
    "# Creating a tuple containing a dictionary\n",
    "my_tuple5 = ({'a': 1, 'b': 2, 'c': 3}, {'d': 4, 'e': 5, 'f': 6}, {'g': 7, 'h': 8, 'i': 9})\n",
    "print(f'The value of my_tuple5 is: {my_tuple5} and the type is: {type(my_tuple5)}')"
   ],
   "metadata": {
    "collapsed": false
   },
   "id": "3c5e2d4f0a23be20"
  },
  {
   "cell_type": "code",
   "execution_count": null,
   "outputs": [],
   "source": [
    "# Creating a tuple containing a tuple\n",
    "my_tuple6 = ((1, 2, 3), (4, 5, 6), (7, 8, 9))\n",
    "print(f'The value of my_tuple6 is: {my_tuple6} and the type is: {type(my_tuple6)}')"
   ],
   "metadata": {
    "collapsed": false
   },
   "id": "b7801da90ad85a38"
  },
  {
   "cell_type": "code",
   "execution_count": null,
   "outputs": [],
   "source": [
    "# Creating a tuple containing a set\n",
    "my_tuple7 = ({1, 2, 3}, {4, 5, 6}, {7, 8, 9})\n",
    "print(f'The value of my_tuple7 is: {my_tuple7} and the type is: {type(my_tuple7)}')\n"
   ],
   "metadata": {
    "collapsed": false
   },
   "id": "8a75c51cdadb9b38"
  },
  {
   "cell_type": "code",
   "execution_count": null,
   "outputs": [],
   "source": [
    "# Creating a tuple containing a range\n",
    "my_tuple8 = (range(1, 4), range(4, 7), range(7, 10))\n",
    "print(f'The value of my_tuple8 is: {my_tuple8} and the type is: {type(my_tuple8)}')"
   ],
   "metadata": {
    "collapsed": false
   },
   "id": "b86bb756d33f89b8"
  },
  {
   "cell_type": "code",
   "execution_count": null,
   "outputs": [],
   "source": [
    "# Creating a tuple containing a boolean\n",
    "my_tuple9 = (True, False, True)\n",
    "print(f'The value of my_tuple9 is: {my_tuple9} and the type is: {type(my_tuple9)}')"
   ],
   "metadata": {
    "collapsed": false
   },
   "id": "cebeae8f8308f5d6"
  },
  {
   "cell_type": "code",
   "execution_count": null,
   "outputs": [],
   "source": [
    "# Tuples can be created using the tuple constructor.\n",
    "my_tuple10 = tuple((1, 2, 3, 4, 5))\n",
    "print(f'The value of my_tuple10 is: {my_tuple10} and the type is: {type(my_tuple10)}')"
   ],
   "metadata": {
    "collapsed": false
   },
   "id": "a5c3e1d663c8753f"
  },
  {
   "cell_type": "code",
   "execution_count": null,
   "outputs": [],
   "source": [
    "# Tuples can be created using the tuple comprehension\n",
    "my_tuple11 = tuple(i for i in range(1, 6))\n",
    "print(f'The value of my_tuple11 is: {my_tuple11} and the type is: {type(my_tuple11)}')"
   ],
   "metadata": {
    "collapsed": false
   },
   "id": "cf4469d33d52a806"
  },
  {
   "cell_type": "code",
   "execution_count": null,
   "outputs": [],
   "source": [
    "# Tuples can be created using the zip() function\n",
    "my_tuple12 = tuple(zip(range(1, 6), range(6, 11)))\n",
    "print(f'The value of my_tuple12 is: {my_tuple12} and the type is: {type(my_tuple12)}')"
   ],
   "metadata": {
    "collapsed": false
   },
   "id": "6cae4ced2beb6275"
  },
  {
   "cell_type": "code",
   "execution_count": null,
   "outputs": [],
   "source": [
    "# Tuples can be created using the map() function\n",
    "my_tuple13 = tuple(map(lambda x: x, range(1, 6)))\n",
    "print(f'The value of my_tuple13 is: {my_tuple13} and the type is: {type(my_tuple13)}')"
   ],
   "metadata": {
    "collapsed": false
   },
   "id": "cc3286b042502d8e"
  },
  {
   "cell_type": "code",
   "execution_count": null,
   "outputs": [],
   "source": [
    "# Tuples can be created using the filter() function\n",
    "my_tuple14 = tuple(filter(lambda x: x % 2 == 0, range(1, 6)))\n",
    "print(f'The value of my_tuple14 is: {my_tuple14} and the type is: {type(my_tuple14)}')"
   ],
   "metadata": {
    "collapsed": false
   },
   "id": "70aa60fd67d98eee"
  },
  {
   "cell_type": "code",
   "execution_count": null,
   "outputs": [],
   "source": [
    "# Tuples can be created using the enumerate() function\n",
    "my_tuple15 = tuple(enumerate(range(1, 6)))\n",
    "print(f'The value of my_tuple15 is: {my_tuple15} and the type is: {type(my_tuple15)}')"
   ],
   "metadata": {
    "collapsed": false
   },
   "id": "42e7f504c181de7d"
  },
  {
   "cell_type": "code",
   "execution_count": null,
   "outputs": [],
   "source": [
    "# Tuples can be created using the reversed() function\n",
    "my_tuple16 = tuple(reversed(range(1, 6)))\n",
    "print(f'The value of my_tuple16 is: {my_tuple16} and the type is: {type(my_tuple16)}')"
   ],
   "metadata": {
    "collapsed": false
   },
   "id": "e5ed6c950692ab34"
  },
  {
   "cell_type": "markdown",
   "source": [
    "##### Tuple Slicing"
   ],
   "metadata": {
    "collapsed": false
   },
   "id": "c565dd74532f0f59"
  },
  {
   "cell_type": "code",
   "execution_count": null,
   "outputs": [],
   "source": [
    "# To index a tuple, you can use the square brackets notation.\n",
    "# Accessing the first item in my_tuple\n",
    "print(f'The first item in my_tuple is: {my_tuple[0]}')\n",
    "\n",
    "# Accessing the second item in my_tuple\n",
    "print(f'The second item in my_tuple is: {my_tuple[1]}')\n",
    "\n",
    "# Accessing the last item in my_tuple\n",
    "print(f'The last item in my_tuple is: {my_tuple[-1]}')"
   ],
   "metadata": {
    "collapsed": false
   },
   "id": "f9ed6cdce67b2324"
  },
  {
   "cell_type": "markdown",
   "source": [
    "#### 2c) Range\n",
    "\n",
    "The range type represents an immutable sequence of numbers and is commonly used for looping a specific number of times in for loops.\n",
    "\n"
   ],
   "metadata": {
    "collapsed": false
   },
   "id": "4ed0a8d337b89d1a"
  },
  {
   "cell_type": "code",
   "execution_count": 8,
   "outputs": [
    {
     "name": "stdout",
     "output_type": "stream",
     "text": [
      "The value of my_range is: range(1, 6) and the type is: <class 'range'>\n"
     ]
    }
   ],
   "source": [
    "# Creating a range object\n",
    "my_range = range(1, 6)\n",
    "print(f'The value of my_range is: {my_range} and the type is: {type(my_range)}')"
   ],
   "metadata": {
    "collapsed": false,
    "ExecuteTime": {
     "end_time": "2023-10-27T07:45:41.488458200Z",
     "start_time": "2023-10-27T07:45:41.450458100Z"
    }
   },
   "id": "948a216bdcaa3a36"
  },
  {
   "cell_type": "markdown",
   "source": [
    "\n",
    "#### String Object as a sequence of list of characters\n",
    "A string can group any type of known characters, including letters, numbers, spaces, symbols and special characters.\n",
    "\n",
    "A string object is a sequence, i.e., it's a list of characters where each item has a defined position.\n",
    "\n",
    "This means that a string object is a collection of characters that are ordered and indexed. \n",
    "\n",
    "Each character in a string has a unique position, starting from <span style=\"color:red\">0</span>. This allows us to access individual characters in a string by their position.\n",
    "\n",
    "<img src=\"images/string_object_Sabah_bah.png\" width=\"500\" height=\"400\">\n",
    "\n",
    "Interestingly, we also can do backward indexing, which starts from <span style=\"color:red\">-1</span> for the last character in the string."
   ],
   "metadata": {
    "collapsed": false
   },
   "id": "e2aad6c4b3da0160"
  },
  {
   "cell_type": "code",
   "execution_count": null,
   "outputs": [],
   "source": [
    "my_text='Sabah bah'\n",
    "\n",
    "print(f'To access the character at index 0 of my_text, you can use my_text[0], which returns: {my_text[0]}')"
   ],
   "metadata": {
    "collapsed": false,
    "ExecuteTime": {
     "start_time": "2023-10-27T07:36:32.879927800Z"
    }
   },
   "id": "10efe78ceb42a1a5"
  },
  {
   "cell_type": "code",
   "execution_count": null,
   "outputs": [],
   "source": [
    "# Accessing a slice from index 3 to the end of the string\n",
    "slice1 = my_text[2:]\n",
    "print(f'To get the characters from index 2 to the end of my_text, you can use my_text[3:], which returns: \"{slice1}\"')\n",
    "\n",
    "# Accessing a slice from index 2 to 4 (excluding 5)\n",
    "slice2 = my_text[2:5]\n",
    "print(f'To extract characters from index 2 to 4 of my_text, you can use my_text[2:5], which returns: \"{slice2}\"')"
   ],
   "metadata": {
    "collapsed": false,
    "ExecuteTime": {
     "start_time": "2023-10-27T07:36:32.879927800Z"
    }
   },
   "id": "7a08b0a3350da127"
  },
  {
   "cell_type": "code",
   "execution_count": null,
   "outputs": [],
   "source": [
    "my_text = 'Sabah bah'\n",
    "\n",
    "# Accessing a slice from index -4 (inclusive) to the end of the string\n",
    "slice1 = my_text[-7:]\n",
    "print(f'To get the characters from index -7 to the end of my_text using backward indexing, you can use my_text[-4:], which returns: \"{slice1}\"')\n",
    "\n",
    "# Accessing a slice from index -6 (inclusive) to index -3 (exclusive)\n",
    "slice2 = my_text[-7:-4]\n",
    "print(f'To extract characters from index -7 to -4 of my_text using backward indexing, you can use my_text[-6:-3], which returns: \"{slice2}\"')\n"
   ],
   "metadata": {
    "collapsed": false,
    "ExecuteTime": {
     "start_time": "2023-10-27T07:36:32.880928Z"
    }
   },
   "id": "19eaee206759eed5"
  },
  {
   "cell_type": "markdown",
   "id": "4eee2456c988481b",
   "metadata": {
    "collapsed": false
   },
   "source": [
    "### Mapping\n",
    "!<img src=\"images/python_mapping.png\" alt=\"Alt text\">\n",
    "\n",
    "This is used to store key-value pairs.\n",
    "\n",
    "\n",
    "#### DICTIONARIES\n",
    "\n",
    "* Dictionaries are unordered mappings of ’Name: Value’ associations.\n",
    "* Comparable to hashes and associative arrays in other languages.\n",
    "* Intended to approximate how humans remember associations.\n",
    "\n",
    "There are two ways to create a dictionary in Python.\n",
    "First, you can create a dictionary using the curly braces $\\{ \\}$ notation.\n",
    "\n",
    "\n",
    "`dictionary_name = {key1: value1, key2: value2, key3: value3}`\n",
    "\n",
    "or\n",
    "\n",
    "Second, you can create a dictionary using the `dict()` function.\n",
    "\n",
    "`dictionary_name = dict(key1=value1, key2=value2, key3=value3)`\n",
    "\n",
    "\n",
    "Where:\n",
    "* `dictionary_name` is the name of the dictionary.\n",
    "* `key1`, `key2`, and `key3` are the keys of the dictionary.\n",
    "* `value1`, `value2`, and `value3` are the values associated with the keys.\n",
    "* The keys and values are separated by a colon (:).\n",
    "* The key-value pairs are separated by commas (,).\n",
    "* The entire dictionary is enclosed within curly braces ({ }).\n",
    "* The keys must be unique and immutable (i.e., they cannot be changed).\n",
    "* The values can be of any type and can be duplicated.\n",
    "* The keys and values can be of different types.\n",
    "\n",
    "\n",
    "\n"
   ]
  },
  {
   "cell_type": "markdown",
   "id": "c63761c763a9c5bb",
   "metadata": {
    "collapsed": false
   },
   "source": []
  },
  {
   "cell_type": "code",
   "execution_count": null,
   "id": "55328765de6faadc",
   "metadata": {
    "collapsed": false,
    "ExecuteTime": {
     "start_time": "2023-10-27T07:36:32.881927900Z"
    }
   },
   "outputs": [],
   "source": [
    "# Creating a dictionary using the curly braces notation {}\n",
    "dog_dict = {\n",
    "    \"first_name\": \"Zoro\",\n",
    "    \"last_name\": \"Google\",\n",
    "    \"age\": 5,\n",
    "    \"city\": \"Papar\"\n",
    "}\n",
    "\n",
    "print(f'The value of dog is: \\n {dog_dict}, \\n and the type is: {type(dog_dict)}')"
   ]
  },
  {
   "cell_type": "code",
   "execution_count": null,
   "id": "3899f50cffba37a8",
   "metadata": {
    "collapsed": false,
    "ExecuteTime": {
     "start_time": "2023-10-27T07:36:32.882927400Z"
    }
   },
   "outputs": [],
   "source": [
    "# Creating a dictionary using the dict() function\n",
    "dog_dict = dict(first_name=\"Zoro\", last_name=\"Google\", age=5, city=\"Papar\")\n",
    "print(f'The value of dog is: \\n {dog_dict}, \\n and the type is: {type(dog_dict)}')"
   ]
  },
  {
   "cell_type": "markdown",
   "id": "4c6a5310f0326779",
   "metadata": {
    "collapsed": false
   },
   "source": [
    "To add a new key-value pair to a dictionary, you can simply assign a value to a new key."
   ]
  },
  {
   "cell_type": "code",
   "execution_count": null,
   "id": "77baec0f0f21d7ed",
   "metadata": {
    "collapsed": false,
    "ExecuteTime": {
     "start_time": "2023-10-27T07:36:32.883927600Z"
    }
   },
   "outputs": [],
   "source": [
    "# Adding a new key-value pair to the dictionary\n",
    "dog_dict[\"breed\"] = \"Malionois\"\n",
    "print(f'The new value of dog is: \\n {dog_dict}, \\n and the type is: {type(dog_dict)}')"
   ]
  },
  {
   "cell_type": "markdown",
   "id": "d214049753cbba2b",
   "metadata": {
    "collapsed": false
   },
   "source": [
    "It is also possible to update the value of an existing key."
   ]
  },
  {
   "cell_type": "code",
   "execution_count": null,
   "id": "9325f5a21fae6730",
   "metadata": {
    "collapsed": false,
    "ExecuteTime": {
     "start_time": "2023-10-27T07:36:32.884927400Z"
    }
   },
   "outputs": [],
   "source": [
    "# Updating the value of an existing key\n",
    "dog_dict[\"age\"] = 6\n",
    "print(f'The new value of dog is: \\n {dog_dict}, \\n and the type is: {type(dog_dict)}')"
   ]
  },
  {
   "cell_type": "markdown",
   "id": "5481dd18054b91ad",
   "metadata": {
    "collapsed": false
   },
   "source": [
    "To access the value associated with a key, you can use the square brackets notation."
   ]
  },
  {
   "cell_type": "code",
   "execution_count": null,
   "id": "f3abdbbbb0395f19",
   "metadata": {
    "collapsed": false,
    "ExecuteTime": {
     "start_time": "2023-10-27T07:36:32.885927700Z"
    }
   },
   "outputs": [],
   "source": [
    "# Accessing the value associated with the key \"first_name\"\n",
    "first_name = dog_dict[\"first_name\"]\n",
    "print(f'The value associated with the key \"first_name\" is: {first_name}')\n",
    "\n",
    "# Accessing the value associated with the key \"last_name\"\n",
    "last_name = dog_dict[\"last_name\"]\n",
    "print(f'The value associated with the key \"last_name\" is: {last_name}')\n",
    "\n",
    "# Accessing the value associated with the key \"age\"\n",
    "age = dog_dict[\"age\"]\n",
    "print(f'The value associated with the key \"age\" is: {age}')"
   ]
  },
  {
   "cell_type": "markdown",
   "id": "51255c147415ad71",
   "metadata": {
    "collapsed": false
   },
   "source": [
    "It is also possible to access the value associated with a key using the `get()` method."
   ]
  },
  {
   "cell_type": "code",
   "execution_count": null,
   "id": "bb1a764beb51df6e",
   "metadata": {
    "collapsed": false,
    "ExecuteTime": {
     "start_time": "2023-10-27T07:36:32.887929Z"
    }
   },
   "outputs": [],
   "source": [
    "# Accessing the value associated with the key \"first_name\"\n",
    "first_name = dog_dict.get(\"first_name\")\n",
    "print(f'The value associated with the key \"first_name\" is: {first_name}')\n",
    "\n",
    "# Accessing the value associated with the key \"last_name\"\n",
    "last_name = dog_dict.get(\"last_name\")\n",
    "print(f'The value associated with the key \"last_name\" is: {last_name}')\n",
    "\n",
    "# Accessing the value associated with the key \"age\"\n",
    "age = dog_dict.get(\"age\")\n",
    "print(f'The value associated with the key \"age\" is: {age}')"
   ]
  },
  {
   "cell_type": "markdown",
   "id": "2ffd92064f72d57d",
   "metadata": {
    "collapsed": false
   },
   "source": [
    "It is also possible to delete a key-value pair from a dictionary using the `del` keyword."
   ]
  },
  {
   "cell_type": "code",
   "execution_count": null,
   "id": "273cb021047db27",
   "metadata": {
    "collapsed": false,
    "ExecuteTime": {
     "start_time": "2023-10-27T07:36:32.888929200Z"
    }
   },
   "outputs": [],
   "source": [
    "# Deleting the key-value pair associated with the key \"age\"\n",
    "del dog_dict[\"age\"]\n",
    "print(f'The new value of dog is: \\n {dog_dict}, \\n and the type is: {type(dog_dict)}')"
   ]
  },
  {
   "cell_type": "code",
   "execution_count": null,
   "id": "aa9c2c88d8b2b5a7",
   "metadata": {
    "collapsed": false,
    "ExecuteTime": {
     "start_time": "2023-10-27T07:36:32.888929200Z"
    }
   },
   "outputs": [],
   "source": [
    "# Deleting the key-value pair associated with the key \"Last_name\"\n",
    "del dog_dict[\"last_name\"]\n",
    "print(f'The new value of dog is: \\n {dog_dict}, \\n and the type is: {type(dog_dict)}')"
   ]
  },
  {
   "cell_type": "markdown",
   "id": "c11f7ce7b1fbdf2a",
   "metadata": {
    "collapsed": false
   },
   "source": []
  },
  {
   "cell_type": "markdown",
   "id": "aafcb7a77d4b007f",
   "metadata": {
    "collapsed": false
   },
   "source": []
  },
  {
   "cell_type": "markdown",
   "id": "ff099f2a6cf67a93",
   "metadata": {
    "collapsed": false
   },
   "source": [
    "### SETS\n",
    "\n",
    "\n",
    "!<img src=\"images/python_set.png\" alt=\"Alt text\">\n",
    "\n",
    " Special data type introduced since <span style=\"color: red;\">Python 2.4</span> onwards to support mathematical set theory operations.\n",
    "\n",
    "\n",
    "\n",
    "\n",
    "\n",
    "• Special data type introduced since `Python 2.4` onwards to support mathematical set theory\n",
    "operations.\n",
    "• Unordered collection of unique items.\n",
    "• Set itself is mutable, BUT every item in the set\n",
    "has to be an immutable type.\n",
    "• So, sets can have numbers, strings and tuples\n",
    "as items but cannot have lists or dictionaries as\n",
    "items.\n",
    "\n",
    "\n",
    "\n",
    "Sets are unordered collections of unique elements. In other word, it used to store multiple items in a single variable.\n",
    "The purpose of a set is to represent a collection of distinct elements.\n",
    "\n",
    "Set itself is mutable, BUT every item in the set has to be an immutable type.\n",
    "\n",
    "So, sets can have numbers, strings and tuples as items but cannot have lists or dictionaries as\n",
    "items.\n"
   ]
  },
  {
   "cell_type": "markdown",
   "source": [
    "1) Set"
   ],
   "metadata": {
    "collapsed": false
   },
   "id": "260973ead8a7762f"
  },
  {
   "cell_type": "code",
   "execution_count": null,
   "outputs": [],
   "source": [
    "x = {\"apple\", \"banana\", \"cherry\"}"
   ],
   "metadata": {
    "collapsed": false
   },
   "id": "4a7a39c83ef68ecc"
  },
  {
   "cell_type": "markdown",
   "source": [
    "2) frozenset\n",
    "Immutable set type"
   ],
   "metadata": {
    "collapsed": false
   },
   "id": "aea1eaef40ffe98a"
  },
  {
   "cell_type": "code",
   "execution_count": 9,
   "outputs": [],
   "source": [
    "x = frozenset({\"apple\", \"banana\", \"cherry\"})"
   ],
   "metadata": {
    "collapsed": false,
    "ExecuteTime": {
     "end_time": "2023-10-27T07:52:32.871096200Z",
     "start_time": "2023-10-27T07:52:32.847095800Z"
    }
   },
   "id": "16e93a3273e835b8"
  },
  {
   "cell_type": "markdown",
   "id": "43b3f5e9ee321b6f",
   "metadata": {
    "collapsed": false
   },
   "source": [
    "### BOOLEAN\n",
    "Boolean values are the two constant objects False and True.\n",
    "They are used to represent truth values (other values can also be considered false or true).\n",
    "In numeric contexts (for example when used as the argument to an arithmetic operator), they behave like the integers 0 and 1, respectively.\n",
    "\n"
   ]
  },
  {
   "cell_type": "code",
   "execution_count": null,
   "id": "c046f092bd9225d1",
   "metadata": {
    "collapsed": false,
    "ExecuteTime": {
     "start_time": "2023-10-27T07:36:32.906435700Z"
    }
   },
   "outputs": [],
   "source": [
    "# Creating a boolean object\n",
    "my_bool = True\n",
    "print(f'The value of my_bool is: {my_bool} and the type is: {type(my_bool)}')\n"
   ]
  },
  {
   "cell_type": "code",
   "execution_count": null,
   "id": "8a10e2e175da426a",
   "metadata": {
    "collapsed": false,
    "ExecuteTime": {
     "start_time": "2023-10-27T07:36:32.907435600Z"
    }
   },
   "outputs": [],
   "source": [
    "# Creating a boolean object\n",
    "my_bool = False\n",
    "print(f'The value of my_bool is: {my_bool} and the type is: {type(my_bool)}')"
   ]
  },
  {
   "cell_type": "markdown",
   "id": "aeaca38d5ec68ef8",
   "metadata": {
    "collapsed": false
   },
   "source": []
  },
  {
   "cell_type": "markdown",
   "source": [
    "### Binary Types"
   ],
   "metadata": {
    "collapsed": false
   },
   "id": "81baa2b4298b32f9"
  },
  {
   "cell_type": "markdown",
   "id": "55f4d8647a1a8a4f",
   "metadata": {
    "collapsed": false
   },
   "source": [
    "#### bytes\n",
    "The bytes type is an immutable sequence of integers in the range 0 <= x < 256. It is used to represent a sequence of bytes (i.e., a byte string).\n"
   ]
  },
  {
   "cell_type": "code",
   "execution_count": null,
   "id": "88b2c79c1007f4ac",
   "metadata": {
    "collapsed": false,
    "ExecuteTime": {
     "start_time": "2023-10-27T07:36:32.908435700Z"
    }
   },
   "outputs": [],
   "source": [
    "# Creating a bytes object\n",
    "my_bytes = bytes(1)\n",
    "print(f'The value of my_bytes is: {my_bytes} and the type is: {type(my_bytes)}')"
   ]
  },
  {
   "cell_type": "markdown",
   "source": [
    "#### bytearray"
   ],
   "metadata": {
    "collapsed": false
   },
   "id": "cfcd258e82dc3d0c"
  },
  {
   "cell_type": "markdown",
   "source": [
    "#### memoryview"
   ],
   "metadata": {
    "collapsed": false
   },
   "id": "bec53abdf912051b"
  },
  {
   "cell_type": "markdown",
   "id": "13ece9257527e045",
   "metadata": {
    "collapsed": false
   },
   "source": [
    "### None"
   ]
  },
  {
   "cell_type": "markdown",
   "id": "b67863501caa92e6",
   "metadata": {
    "collapsed": false
   },
   "source": [
    "# SECTION 3: CASTING TYPES\n",
    "Python supports casting, which is the process of changing an object of one type into another type.\n",
    "\n",
    "The purpose of casting is to convert a value from one type to another. It is important because sometimes we need to convert a value from one type to another."
   ]
  },
  {
   "cell_type": "markdown",
   "id": "42b4abb12c27d0bf",
   "metadata": {
    "collapsed": false
   },
   "source": [
    "For example, sometime we may perform mathematical operations on strings, which is not allowed in Python.\n",
    "\n",
    "Which will result in \n",
    "`TypeError: unsupported operand type(s) for +: 'int' and 'str'`"
   ]
  },
  {
   "cell_type": "code",
   "execution_count": null,
   "id": "b0b1dd9e2c2eb523",
   "metadata": {
    "collapsed": false,
    "ExecuteTime": {
     "start_time": "2023-10-27T07:36:32.908435700Z"
    }
   },
   "outputs": [],
   "source": [
    "# Performing a mathematical operation on a string\n",
    "my_string = 1 + \"2\""
   ]
  },
  {
   "cell_type": "markdown",
   "id": "35cb35d9d828c4c4",
   "metadata": {
    "collapsed": false
   },
   "source": [
    "<span style=\"color: red;\">Important lesson to remember!</span>\n",
    "\n",
    "We can't do arithmetic operations on variables of different types. Therefore make\n",
    "sure that you are always aware of your variables types!"
   ]
  },
  {
   "cell_type": "markdown",
   "id": "8a7c14135b663858",
   "metadata": {
    "collapsed": false
   },
   "source": [
    "To solve this problem, we must convert the string to an integer before performing the addition operation.\n",
    "\n",
    "<span style=\"color: green;\">Luckily Python offers us a way of convertin variables to different types!</span>\n",
    "\n",
    "<span style=\"font-size: larger; font-weight: 700;\">CASTING – THE OPERATION OF CONVERTING A VARIABLE TO A DIFFERENT TYPE</span>\n"
   ]
  },
  {
   "cell_type": "code",
   "execution_count": null,
   "id": "3c92758e411369ed",
   "metadata": {
    "collapsed": false,
    "ExecuteTime": {
     "start_time": "2023-10-27T07:36:32.909435700Z"
    }
   },
   "outputs": [],
   "source": [
    "# Performing a mathematical operation on a string\n",
    "my_string = 1 + int(\"2\")    \n",
    "print(f'The value of my_string is: {my_string} and the type is: {type(my_string)}')"
   ]
  },
  {
   "cell_type": "markdown",
   "id": "bd420eb76a33aa59",
   "metadata": {
    "collapsed": false
   },
   "source": [
    "Similar method exist for other data types: \n",
    "* `int()` for integer\n",
    "* `float()` for float\n",
    "* `str()` for string"
   ]
  },
  {
   "cell_type": "markdown",
   "id": "a6ad239dd9e9c210",
   "metadata": {
    "collapsed": false
   },
   "source": []
  },
  {
   "cell_type": "markdown",
   "id": "6da2f434b0d1876b",
   "metadata": {
    "collapsed": false
   },
   "source": [
    "# SECTION 4: OBJECT'S MUTABILITY IN PYTHON\n",
    "\n",
    "Mutable vs. Immutable Objects in Python\n",
    "\n",
    "In Python, objects can be either mutable or immutable.\n",
    "\n",
    "* **Mutable objects** can be changed after they are created. This means that you can modify their internal state without creating a new object.\n",
    "    * Examples of mutable objects in Python include:\n",
    "        * Lists: `[1, 2, 3]`\n",
    "        * Dictionaries: `{\"key1\": \"value1\", \"key2\": \"value2\"}`\n",
    "        * Sets: `{1, 2, 3}`\n",
    "        * Frozen sets: `frozenset({1, 2, 3})`\n",
    "    * When you change a mutable object, you are actually creating a new object with the changed values. The original object is left unchanged.\n",
    "* **Immutable objects** cannot be changed after they are created. This means that you cannot modify their internal state without creating a new object.\n",
    "    * Examples of immutable objects in Python include:\n",
    "        * Numbers: `1`, `2`, `3`\n",
    "        * Strings: `\"hello\"`, `\"world\"`\n",
    "        * Tuples: `(1, 2, 3)`\n",
    "\n",
    "Here is a table that summarizes the key differences between mutable and immutable objects:\n",
    "\n",
    "| Feature | Mutable Objects | Immutable Objects |\n",
    "|---|---|---|\n",
    "| Can be changed after they are created | Yes | No |\n",
    "| When you change a mutable object, you are actually creating a new object | Yes | No |\n",
    "| The original object is left unchanged | Yes | No |\n",
    "\n",
    "For more in-depth information on mutable and immutable objects in Python, you can refer to this [comprehensive guide](https://www.mygreatlearning.com/blog/understanding-mutable-and-immutable-in-python/#:~:text=Mutable%20is%20when%20something%20is,store%20a%20collection%20of%20data).\n"
   ]
  },
  {
   "cell_type": "markdown",
   "id": "f2db574687d8598f",
   "metadata": {
    "collapsed": false
   },
   "source": [
    "### Example of modifying a mutable object"
   ]
  },
  {
   "cell_type": "code",
   "execution_count": null,
   "id": "129ddbad368acb04",
   "metadata": {
    "collapsed": false,
    "ExecuteTime": {
     "start_time": "2023-10-27T07:36:32.910435700Z"
    }
   },
   "outputs": [],
   "source": [
    "# Create some mutable\n",
    "list_numbers = [1, 2, 3]\n",
    "\n",
    "# Change the value of the first item in the list\n",
    "list_numbers[0] = 4\n",
    "print(list_numbers)"
   ]
  },
  {
   "cell_type": "code",
   "execution_count": null,
   "id": "5b203de185bf61ca",
   "metadata": {
    "collapsed": false,
    "ExecuteTime": {
     "start_time": "2023-10-27T07:36:32.911435600Z"
    }
   },
   "outputs": [],
   "source": [
    "# Create some mutable\n",
    "my_dict = {\"key1\": \"value1\", \"key2\": \"value2\"}\n",
    "\n",
    "# Change the value associated with the key \"key1\"\n",
    "my_dict[\"key1\"] = \"new_value1\"\n",
    "print(my_dict)"
   ]
  },
  {
   "cell_type": "markdown",
   "id": "5e9871d9b6bc42b5",
   "metadata": {
    "collapsed": false
   },
   "source": [
    "### Example of modifying an immutable object"
   ]
  },
  {
   "cell_type": "code",
   "execution_count": null,
   "id": "8d42dac88d368765",
   "metadata": {
    "collapsed": false,
    "ExecuteTime": {
     "start_time": "2023-10-27T07:36:32.912435300Z"
    }
   },
   "outputs": [],
   "source": [
    "# Create some immutable\n",
    "my_tuple = (1, 2, 3)\n",
    "\n",
    "# Change the value of the first item in the tuple\n",
    "my_tuple[0] = 4\n",
    "\n"
   ]
  },
  {
   "cell_type": "markdown",
   "id": "40a8cba5909f2d5a",
   "metadata": {
    "collapsed": false
   },
   "source": [
    "\n",
    "\n",
    "<span style=\"color: red;\">Here, we show that tuple are immutable, and this therefore maintains the integrity of the data during program execution.</span>\n",
    "\n"
   ]
  },
  {
   "cell_type": "code",
   "execution_count": null,
   "id": "66c3feadee8e3732",
   "metadata": {
    "collapsed": false,
    "ExecuteTime": {
     "start_time": "2023-10-27T07:36:32.912435300Z"
    }
   },
   "outputs": [],
   "source": [
    "# Create some immutable\n",
    "my_string = \"hello\"\n",
    "\n",
    "# Change the value of the first character in the string\n",
    "my_string[0] = \"j\""
   ]
  },
  {
   "cell_type": "markdown",
   "id": "9442e802772dd5db",
   "metadata": {
    "collapsed": false
   },
   "source": [
    "As you can see, the immutable object strings cannot be changed after it is created."
   ]
  },
  {
   "cell_type": "markdown",
   "source": [
    "# QUESTION SET"
   ],
   "metadata": {
    "collapsed": false
   },
   "id": "854bf38f30367cd6"
  },
  {
   "cell_type": "markdown",
   "source": [
    "## QUESTION 2\n",
    "\n",
    "What will be the output of the following code snippet?\n",
    "\n",
    "and explain your answer"
   ],
   "metadata": {
    "collapsed": false
   },
   "id": "206363092abd048a"
  },
  {
   "cell_type": "code",
   "execution_count": null,
   "outputs": [],
   "source": [
    "var_x=\"10\"\n",
    "var_y=\"20\"\n",
    "var_z=var_x + var_y\n",
    "\n",
    "print(var_z)"
   ],
   "metadata": {
    "collapsed": false
   },
   "id": "ee58ade78f1c1f44"
  }
 ],
 "metadata": {
  "kernelspec": {
   "display_name": "Python 3",
   "language": "python",
   "name": "python3"
  },
  "language_info": {
   "codemirror_mode": {
    "name": "ipython",
    "version": 2
   },
   "file_extension": ".py",
   "mimetype": "text/x-python",
   "name": "python",
   "nbconvert_exporter": "python",
   "pygments_lexer": "ipython2",
   "version": "2.7.6"
  }
 },
 "nbformat": 4,
 "nbformat_minor": 5
}
