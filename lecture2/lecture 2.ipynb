{
 "cells": [
  {
   "cell_type": "markdown",
   "source": [
    "# CREATING PYTHON VARIABLES"
   ],
   "metadata": {
    "collapsed": false
   },
   "id": "d00217fe321f8985"
  },
  {
   "cell_type": "markdown",
   "source": [
    "Python variables are created with an assignment statement.\n",
    "\n",
    "The syntax of `variable` assignment is\n",
    "\t`variable name = a value (or an expression)`"
   ],
   "metadata": {
    "collapsed": false
   },
   "id": "4c59295109c930a"
  },
  {
   "cell_type": "markdown",
   "source": [
    "For example, creating Python variable:\n",
    "\n",
    "`x = expression`\n",
    "\n",
    "Read as variable `x` equals expression\n",
    "We asking Python to store the value (or an `expression`) in a designated memory location, identified by the name `x`."
   ],
   "metadata": {
    "collapsed": false
   },
   "id": "1285ba20cdb96892"
  },
  {
   "cell_type": "markdown",
   "source": [
    "Expression can consist of either individual or combined elements such as \n",
    "* numerical values. \n",
    "    - For example, 1, 2, 3, 4, 5, etc.\n",
    "* mathematical operators. \n",
    "    - For example, +, -, *, /, etc.\n",
    "* variables. \n",
    "    - For example, x, y, z, etc."
   ],
   "metadata": {
    "collapsed": false
   },
   "id": "3c5159ca58cd4b71"
  },
  {
   "cell_type": "markdown",
   "source": [
    "This following cell is read as: \n",
    "\n",
    "variable `y` is assigned a value of `22`\n",
    "The compiler store the value of `22` to a memory location, identified by the name `y`\n"
   ],
   "metadata": {
    "collapsed": false
   },
   "id": "46355a52aba4bb76"
  },
  {
   "cell_type": "code",
   "execution_count": 33,
   "outputs": [],
   "source": [
    "y = 22"
   ],
   "metadata": {
    "collapsed": false,
    "ExecuteTime": {
     "end_time": "2023-08-23T09:46:21.138317800Z",
     "start_time": "2023-08-23T09:46:21.133317500Z"
    }
   },
   "id": "d80c04c8ba5b5322"
  },
  {
   "cell_type": "markdown",
   "source": [
    "As mentioned above, expression with combined elements such as numerical values, mathematical operators, and variables.\n",
    "\n",
    "| Expression                              | Description                                                                                     |\n",
    "|-----------------------------------------|-------------------------------------------------------------------------------------------------|\n",
    "| expression1 = 5 + 3                     | Addition of two numbers using numerical values                                |\n",
    "| expression2 = 10 - 2                    | Subtraction of two numbers using numerical values                          |\n",
    "| expression3 = expression1 * expression2 | Multiplication of two numbers by combining values from two variables with a mathematical operator |\n",
    "\n",
    "\n",
    "<span style=\"color:red\">It is worth noting that Python supports mathematical operations, including addition, subtraction, multiplication, and division. However, for the time being, our focus will be on variable creation.</span>"
   ],
   "metadata": {
    "collapsed": false
   },
   "id": "b8ccf10dcbcef3d7"
  },
  {
   "cell_type": "markdown",
   "source": [
    "## MULTIPLE ASSIGNMENT"
   ],
   "metadata": {
    "collapsed": false
   },
   "id": "a14c0959d72dc1e1"
  },
  {
   "cell_type": "markdown",
   "source": [
    "This notation is usefull for functions that return multiple values"
   ],
   "metadata": {
    "collapsed": false
   },
   "id": "7afb37597654470c"
  },
  {
   "cell_type": "code",
   "execution_count": 3,
   "outputs": [],
   "source": [
    "a, b, c = 5, \"hello\", [1, 2]"
   ],
   "metadata": {
    "collapsed": false,
    "ExecuteTime": {
     "end_time": "2023-08-23T07:18:17.016370100Z",
     "start_time": "2023-08-23T07:18:17.014369700Z"
    }
   },
   "id": "3c9e90955d855622"
  },
  {
   "cell_type": "code",
   "execution_count": 8,
   "outputs": [
    {
     "name": "stdout",
     "output_type": "stream",
     "text": [
      "The value for a: 5,\n",
      "\tvalue for b: hello,\n",
      "\tvalue for c: [1, 2]\n"
     ]
    }
   ],
   "source": [
    "# We can view the variable assignment using print\n",
    "\n",
    "print(f'The value for a: {a},\\n\\tvalue for b: {b},\\n\\tvalue for c: {c}')"
   ],
   "metadata": {
    "collapsed": false,
    "ExecuteTime": {
     "end_time": "2023-08-23T07:19:26.535725200Z",
     "start_time": "2023-08-23T07:19:26.518219100Z"
    }
   },
   "id": "b3aee2cfcd65a3c"
  },
  {
   "cell_type": "markdown",
   "source": [
    "## OVERWRITING VARIABLE\n"
   ],
   "metadata": {
    "collapsed": false
   },
   "id": "3bc5ec3a5dd76622"
  },
  {
   "cell_type": "markdown",
   "source": [
    " The value of a variable can be accessed and changed at any time after it is created."
   ],
   "metadata": {
    "collapsed": false
   },
   "id": "dd79eb0e23075e68"
  },
  {
   "cell_type": "code",
   "execution_count": 14,
   "outputs": [
    {
     "name": "stdout",
     "output_type": "stream",
     "text": [
      "The updated value of x, which was initially 22 and then decreased by 2, is 20\n"
     ]
    }
   ],
   "source": [
    "x = 22\n",
    "x= x - 2\n",
    "print(f'The updated value of x, which was initially 22 and then decreased by 2, is {x}')"
   ],
   "metadata": {
    "collapsed": false,
    "ExecuteTime": {
     "end_time": "2023-08-23T07:22:57.591423700Z",
     "start_time": "2023-08-23T07:22:57.586917900Z"
    }
   },
   "id": "e9572e1a844c44c9"
  },
  {
   "cell_type": "markdown",
   "source": [
    "Variables must be initialized before it can be used."
   ],
   "metadata": {
    "collapsed": false
   },
   "id": "6d39ea418e099a4"
  },
  {
   "cell_type": "code",
   "execution_count": 17,
   "outputs": [
    {
     "ename": "NameError",
     "evalue": "name 't' is not defined",
     "output_type": "error",
     "traceback": [
      "\u001B[1;31m---------------------------------------------------------------------------\u001B[0m",
      "\u001B[1;31mNameError\u001B[0m                                 Traceback (most recent call last)",
      "Cell \u001B[1;32mIn[17], line 1\u001B[0m\n\u001B[1;32m----> 1\u001B[0m z\u001B[38;5;241m=\u001B[39m\u001B[38;5;241m22\u001B[39m\u001B[38;5;241m+\u001B[39m\u001B[43mt\u001B[49m\n",
      "\u001B[1;31mNameError\u001B[0m: name 't' is not defined"
     ]
    }
   ],
   "source": [
    "z= 22 + t"
   ],
   "metadata": {
    "collapsed": false,
    "ExecuteTime": {
     "end_time": "2023-08-23T07:23:32.826397100Z",
     "start_time": "2023-08-23T07:23:32.523282200Z"
    }
   },
   "id": "27277290337c2b85"
  },
  {
   "cell_type": "markdown",
   "source": [
    "## VISUALIZING THE CONTENTS OF VARIABLES\n",
    "\n",
    "We can use the print method to vizualize the content of variable"
   ],
   "metadata": {
    "collapsed": false
   },
   "id": "f9ab850c96c974f8"
  },
  {
   "cell_type": "code",
   "execution_count": 18,
   "outputs": [
    {
     "name": "stdout",
     "output_type": "stream",
     "text": [
      "10\n"
     ]
    }
   ],
   "source": [
    "someVariable = 10\n",
    "print(someVariable)"
   ],
   "metadata": {
    "collapsed": false,
    "ExecuteTime": {
     "end_time": "2023-08-23T07:25:02.061635Z",
     "start_time": "2023-08-23T07:25:02.055634700Z"
    }
   },
   "id": "b6480bf88ae02f11"
  },
  {
   "cell_type": "markdown",
   "source": [
    "You can even do combinations!"
   ],
   "metadata": {
    "collapsed": false
   },
   "id": "2802f525a90e71d2"
  },
  {
   "cell_type": "code",
   "execution_count": 2,
   "outputs": [
    {
     "name": "stdout",
     "output_type": "stream",
     "text": [
      "Your variable is  10\n"
     ]
    }
   ],
   "source": [
    "someVariable = 10\n",
    "\n",
    "print(\"Your variable is \", someVariable)\n"
   ],
   "metadata": {
    "collapsed": false,
    "ExecuteTime": {
     "end_time": "2023-08-23T07:27:29.925689700Z",
     "start_time": "2023-08-23T07:27:29.917689400Z"
    }
   },
   "id": "7482298f1a6b2621"
  },
  {
   "cell_type": "markdown",
   "source": [
    "I prefer to use the f-string method to display the variable values"
   ],
   "metadata": {
    "collapsed": false
   },
   "id": "7bf6776dadfe2707"
  },
  {
   "cell_type": "code",
   "execution_count": 20,
   "outputs": [
    {
     "name": "stdout",
     "output_type": "stream",
     "text": [
      "Your variable is 10\n"
     ]
    }
   ],
   "source": [
    "print(f\"Your variable is {someVariable}\")"
   ],
   "metadata": {
    "collapsed": false,
    "ExecuteTime": {
     "end_time": "2023-08-23T07:26:22.170721100Z",
     "start_time": "2023-08-23T07:26:22.165721200Z"
    }
   },
   "id": "c685f699926dd969"
  },
  {
   "cell_type": "markdown",
   "source": [
    "Sometimes, you may want to display the type of variable"
   ],
   "metadata": {
    "collapsed": false
   },
   "id": "a39380d780322400"
  },
  {
   "cell_type": "code",
   "execution_count": 3,
   "outputs": [
    {
     "name": "stdout",
     "output_type": "stream",
     "text": [
      "Your variable is 10 and it is of type <class 'int'>\n"
     ]
    }
   ],
   "source": [
    "print(f\"Your variable is {someVariable} and it is of type {type(someVariable)}\")"
   ],
   "metadata": {
    "collapsed": false,
    "ExecuteTime": {
     "end_time": "2023-08-23T07:27:32.790136200Z",
     "start_time": "2023-08-23T07:27:32.784134200Z"
    }
   },
   "id": "f62487a68c3f8b93"
  },
  {
   "cell_type": "markdown",
   "source": [
    "## EXERCISE 1\n",
    "What will the following code snippet print?"
   ],
   "metadata": {
    "collapsed": false
   },
   "id": "1d51bc125d82b8a2"
  },
  {
   "cell_type": "code",
   "execution_count": 5,
   "outputs": [
    {
     "name": "stdout",
     "output_type": "stream",
     "text": [
      "Your result is: 50\n"
     ]
    }
   ],
   "source": [
    "# a = 10\n",
    "# b = a * 5\n",
    "# c = \"Your result is:\"\n",
    "print(c, b)"
   ],
   "metadata": {
    "collapsed": false,
    "ExecuteTime": {
     "end_time": "2023-08-23T07:30:57.565456700Z",
     "start_time": "2023-08-23T07:30:57.548951700Z"
    }
   },
   "id": "605089a891ef1c64"
  },
  {
   "cell_type": "markdown",
   "source": [
    "## EXERCISE 2\n",
    "\n",
    "What will the following code snippet print?"
   ],
   "metadata": {
    "collapsed": false
   },
   "id": "7c925726a77bbc22"
  },
  {
   "cell_type": "code",
   "execution_count": 6,
   "outputs": [
    {
     "name": "stdout",
     "output_type": "stream",
     "text": [
      "10\n"
     ]
    }
   ],
   "source": [
    "\n",
    "\n",
    "# a = 10\n",
    "# b = a\n",
    "# a = 3\n",
    "# print(b)\n"
   ],
   "metadata": {
    "collapsed": false,
    "ExecuteTime": {
     "end_time": "2023-08-23T07:31:27.640023500Z",
     "start_time": "2023-08-23T07:31:27.622022700Z"
    }
   },
   "id": "9f39d5ccc1a43aa1"
  },
  {
   "cell_type": "markdown",
   "source": [],
   "metadata": {
    "collapsed": false
   },
   "id": "bf2e2fbe8a732644"
  },
  {
   "cell_type": "markdown",
   "source": [
    "## RULES FOR NAMING VARIABLES\n",
    "\n",
    "\n",
    "## RULES FOR NAMING VARIABLES\n",
    "\n",
    "* Variable names are case sensitive.\n",
    "  - \"Hello\" is different from \"hello\".\n",
    "* Variable names may only contain alphabetic letters, underscores, or numbers.\n",
    "* Variable names should not start with a number.\n",
    "* Variable names cannot be any other Python keyword (e.g., if, while, def, etc.).\n",
    "* Always give your variables meaningful names!\n",
    "\n",
    "For more details about variable naming, you can refer to the [PEP 8 style guide](https://peps.python.org/pep-0008/).\n"
   ],
   "metadata": {
    "collapsed": false
   },
   "id": "9953cfafc8781ffe"
  },
  {
   "cell_type": "markdown",
   "source": [
    "## Case study"
   ],
   "metadata": {
    "collapsed": false
   },
   "id": "60b6d026db980519"
  },
  {
   "cell_type": "markdown",
   "source": [
    "Say for example,we want to calculate the future value of an investment using the compound interest formula\n",
    "\n",
    "Given the following:\n",
    "* The starting amount of money you're starting with is RM 100.\n",
    "* The annual interest rate is 5.0%.\n",
    "* An investment period of 7 years\n",
    "\n",
    "We can calculate the future value of the investment using the compound interest formula, as below\n",
    "\n",
    "\\begin{equation}\n",
    "A = P \\left(1 + \\frac{100r}{100}\\right)^n\n",
    "\\end{equation}\n",
    "\n",
    "Where:\n",
    "- *A* is the future value of the investment.\n",
    "- *P* is the principal amount (initial investment), which is 100 in this case.\n",
    "- *r* is the annual interest rate in decimal form, which is 0.05 (5% expressed as a decimal).\n",
    "- *n* is the number of years the money is invested for, which is 7 in this case.\n"
   ],
   "metadata": {
    "collapsed": false
   },
   "id": "f001fe4763817875"
  },
  {
   "cell_type": "markdown",
   "source": [
    "There are two ways to write the code to calculate the future value of the investment\n",
    "\n",
    "But, which one is better?\n",
    "\n",
    "\n",
    "\n",
    "| Code 1                                  | Code 2                                                                 |\n",
    "|----------------------------------------|------------------------------------------------------------------------|\n",
    "|primary = 100                           | initial_amount = 100                                                   |\n",
    "|r = 5.0                                 | interest_rate = 5.0                                                    |\n",
    "|n = 7                                   | number_of_years = 7                                                    |\n",
    "|amount = primary * (1+r/100)**n         | final_amount = initial_amount*(1 + interest_rate/100)**number_of_years |\n",
    "|print(amount)                           | print(final_amount)                                                    |\n"
   ],
   "metadata": {
    "collapsed": false
   },
   "id": "96ba26a53d00f176"
  },
  {
   "cell_type": "code",
   "execution_count": 18,
   "outputs": [
    {
     "name": "stdout",
     "output_type": "stream",
     "text": [
      "The final amount after 7 years is RM 140.71004226562505\n"
     ]
    }
   ],
   "source": [
    "# Code 1\n",
    "\n",
    "primary = 100\n",
    "r = 5.0\n",
    "n = 7\n",
    "amount = primary * (1+r/100)**n\n",
    "print(f'The final amount after {n} years is RM {amount}')"
   ],
   "metadata": {
    "collapsed": false,
    "ExecuteTime": {
     "end_time": "2023-08-23T08:18:15.499177Z",
     "start_time": "2023-08-23T08:18:15.482670700Z"
    }
   },
   "id": "557c26cafd5420b0"
  },
  {
   "cell_type": "code",
   "execution_count": 17,
   "outputs": [
    {
     "name": "stdout",
     "output_type": "stream",
     "text": [
      "The final amount after 7 years is RM 140.71004226562505)\n"
     ]
    }
   ],
   "source": [
    "# Code 2\n",
    "initial_amount = 100\n",
    "interest_rate = 5.0\n",
    "number_of_years = 7\n",
    "final_amount = initial_amount*(1 + interest_rate/100)**number_of_years\n",
    "print(f'The final amount after {number_of_years} years is RM {final_amount})')"
   ],
   "metadata": {
    "collapsed": false,
    "ExecuteTime": {
     "end_time": "2023-08-23T08:18:13.163138Z",
     "start_time": "2023-08-23T08:18:13.149137600Z"
    }
   },
   "id": "460fde2a6cfcf125"
  },
  {
   "cell_type": "markdown",
   "source": [
    "# VARIABLE TYPES\n",
    "\n",
    "## STANDARD DATA TYPES"
   ],
   "metadata": {
    "collapsed": false
   },
   "id": "5bde74545c06648f"
  },
  {
   "cell_type": "markdown",
   "source": [],
   "metadata": {
    "collapsed": false
   },
   "id": "29a3b23a868400cf"
  },
  {
   "cell_type": "markdown",
   "source": [],
   "metadata": {
    "collapsed": false
   },
   "id": "5c140f2beca008c3"
  },
  {
   "cell_type": "markdown",
   "source": [
    "## Python Data Types\n",
    "\n",
    "Python supports various data types for representing different kinds of values. \n",
    "\n",
    "Here's a summary of some common data types in Python:\n",
    "\n",
    "| Type             | Description                |\n",
    "|------------------|----------------------------|\n",
    "| Text Types       | `str`                      |\n",
    "| Numeric Types    | `int`, `float`, `complex`  |\n",
    "| Sequence Types   | `list`, `tuple`, `range`   |\n",
    "| Mapping Type     | `dict`                     |\n",
    "| Set Types        | `set`, `frozenset`         |\n",
    "| Boolean Type     | `bool`                     |\n",
    "| Binary Types     | `bytes`, `bytearray`, `memoryview` |\n",
    "| None Type        | `NoneType`                 |\n",
    "\n",
    "> Note: This information has been extracted from [w3schools](https://www.w3schools.com/python/python_datatypes.asp).\n"
   ],
   "metadata": {
    "collapsed": false
   },
   "id": "9d254b56796d825b"
  },
  {
   "cell_type": "markdown",
   "source": [
    "### Python Numbers\n"
   ],
   "metadata": {
    "collapsed": false
   },
   "id": "492793d2d0053013"
  },
  {
   "cell_type": "markdown",
   "source": [
    "Python supports various numerical types to represent numbers.\n",
    "There are three common different numerical types in Python:\n",
    "\n",
    "* `int` (for integer)\n",
    "    - Integers are whole numbers, such as 1, 2, 3, 4, 5, etc. They do not have a fractional component.it can be positive or negative.\n",
    "* `float` (for floating-point number)\n",
    "    - Floating-point numbers are numbers with a fractional component, such as 3.14159, 0.0001, 42.0, etc. They can be either positive or negative.\n",
    "* `complex` (for complex number)\n",
    "    - Complex numbers are numbers with a real and imaginary component, such as 1.0 + 2.0j, 1.5 + 2.5j, etc.\n",
    "\n",
    "As you can see later, python automatically assign the type of variable based on the value assigned to it. For example if 1, then it will be an integer, if 1.0, then it will be a float."
   ],
   "metadata": {
    "collapsed": false
   },
   "id": "6946e630da533efc"
  },
  {
   "cell_type": "markdown",
   "source": [
    "### integer\n",
    "\n",
    "Integers are whole numbers, such as 1, 2, 3, 4, 5, etc. They do not have a fractional component.it can be positive or negative.\n"
   ],
   "metadata": {
    "collapsed": false
   },
   "id": "6d1907b51e174e36"
  },
  {
   "cell_type": "code",
   "execution_count": 23,
   "outputs": [
    {
     "name": "stdout",
     "output_type": "stream",
     "text": [
      "The variable val has type: <class 'int'>\n",
      "The variable dval has type: <class 'int'>\n"
     ]
    }
   ],
   "source": [
    "# Python automatically assigns a variable's type based on the assigned value.\n",
    "# The 'type' function is used to determine the type of a variable.\n",
    "\n",
    "# Assigning an integer value to 'val'\n",
    "integer_value = 1\n",
    "\n",
    "# Explicitly casting 1 to an integer and assigning it to 'dval'\n",
    "converted_to_integer = int(1)\n",
    "\n",
    "# Printing the types of 'val' and 'dval'\n",
    "print(f'The variable val has type: {type(integer_value)}')\n",
    "print(f'The variable dval has type: {type(converted_to_integer)}')\n"
   ],
   "metadata": {
    "collapsed": false,
    "ExecuteTime": {
     "end_time": "2023-08-23T09:13:35.272828200Z",
     "start_time": "2023-08-23T09:13:35.263828200Z"
    }
   },
   "id": "fa0b8cfb334070b"
  },
  {
   "cell_type": "markdown",
   "source": [
    "Assignment via numeric operator also creates a number object:"
   ],
   "metadata": {
    "collapsed": false
   },
   "id": "701dc1163d61e594"
  },
  {
   "cell_type": "code",
   "execution_count": 27,
   "outputs": [
    {
     "name": "stdout",
     "output_type": "stream",
     "text": [
      "The value of c is: 7 and having the type: <class 'int'>\n"
     ]
    }
   ],
   "source": [
    "# In Python, assignment via numeric operators creates number objects.\n",
    "\n",
    "# Assigning an integer value\n",
    "a,b = 3,4\n",
    "\n",
    "# Performing a numeric operation, which creates a new number object.\n",
    "c = a + b\n",
    "\n",
    "# Printing the result\n",
    "print(f'The value of c is: {c} and having the type: {type(c)}')"
   ],
   "metadata": {
    "collapsed": false,
    "ExecuteTime": {
     "end_time": "2023-08-23T09:15:54.333517Z",
     "start_time": "2023-08-23T09:15:54.317510600Z"
    }
   },
   "id": "2186c48322fd2645"
  },
  {
   "cell_type": "markdown",
   "source": [
    "### float"
   ],
   "metadata": {
    "collapsed": false
   },
   "id": "13a34d04210a7d09"
  },
  {
   "cell_type": "markdown",
   "source": [
    "Floating-point numbers are numbers with a fractional component, such as 3.14159, 0.0001, 42.0, etc. They can be either positive or negative."
   ],
   "metadata": {
    "collapsed": false
   },
   "id": "1c2125b311c78d75"
  },
  {
   "cell_type": "markdown",
   "source": [
    "There are two ways to represent a float in Python.\n",
    "* Fractional notation. For example, 3.14159, 0.0001, 42.0, etc.\n",
    "* Scientific (exponent) notation. For example, 1.0e-5, 2.5e+3, etc."
   ],
   "metadata": {
    "collapsed": false
   },
   "id": "865b51c050946f6"
  },
  {
   "cell_type": "code",
   "execution_count": 29,
   "outputs": [
    {
     "name": "stdout",
     "output_type": "stream",
     "text": [
      "The value of fractional_number is: 675.456 and having the type: <class 'float'>\n"
     ]
    }
   ],
   "source": [
    "# To create a number in Fractional Form, you simply assign it to a variable\n",
    "fractional_number = 675.456\n",
    "print(f'The value of fractional_number is: {fractional_number} and having the type: {type(fractional_number)}')"
   ],
   "metadata": {
    "collapsed": false,
    "ExecuteTime": {
     "end_time": "2023-08-23T09:20:25.776592600Z",
     "start_time": "2023-08-23T09:20:25.766591500Z"
    }
   },
   "id": "7722836c5f54f84e"
  },
  {
   "cell_type": "markdown",
   "source": [
    "To create a number in Exponent Notation, you can use the E notation (or e) to specify the exponent part. "
   ],
   "metadata": {
    "collapsed": false
   },
   "id": "e17a27fbf911438f"
  },
  {
   "cell_type": "code",
   "execution_count": 30,
   "outputs": [
    {
     "name": "stdout",
     "output_type": "stream",
     "text": [
      "The value of exponent_number is: 675.456 and having the type: <class 'float'>\n"
     ]
    }
   ],
   "source": [
    "exponent_number = 6.75456E2  # Equivalent to 6.75456 * 10^2\n",
    "print(f'The value of exponent_number is: {exponent_number} and having the type: {type(exponent_number)}')"
   ],
   "metadata": {
    "collapsed": false,
    "ExecuteTime": {
     "end_time": "2023-08-23T09:20:50.974788400Z",
     "start_time": "2023-08-23T09:20:50.960783700Z"
    }
   },
   "id": "693d9c7cb7db8cf2"
  },
  {
   "cell_type": "markdown",
   "source": [
    "QUESTION 1\n",
    "What is the type of c?"
   ],
   "metadata": {
    "collapsed": false
   },
   "id": "9632c754a2e82489"
  },
  {
   "cell_type": "code",
   "execution_count": null,
   "outputs": [],
   "source": [
    "# In Python, assignment via numeric operators creates number objects.\n",
    "\n",
    "# Assigning an integer value\n",
    "a,b = 3,4\n",
    "\n",
    "# Performing a numeric operation, which creates a new number object.\n",
    "c = a / b\n",
    "\n",
    "# Printing the result\n",
    "# print(f'The value of c is: {c} and having the type: {type(c)}')"
   ],
   "metadata": {
    "collapsed": false
   },
   "id": "7f9094a9f93cc84d"
  },
  {
   "cell_type": "markdown",
   "source": [
    "### complex\n",
    "\n",
    "Complex numbers are numbers with a real and imaginary component.Python represents complex numbers in the form a+bj.\n",
    "\n",
    "For example, \n",
    "* 1.0 + 2.0j \n",
    "* 1.5 + 2.5j\n"
   ],
   "metadata": {
    "collapsed": false
   },
   "id": "b63fee49b26423a6"
  },
  {
   "cell_type": "code",
   "execution_count": 32,
   "outputs": [
    {
     "name": "stdout",
     "output_type": "stream",
     "text": [
      "The value of complex_number is: (1+2j) and having the type: <class 'complex'>\n"
     ]
    }
   ],
   "source": [
    "# Assigning a complex number to a variable\n",
    "complex_number = 1.0 + 2.0j\n",
    "print(f'The value of complex_number is: {complex_number} and having the type: {type(complex_number)}')"
   ],
   "metadata": {
    "collapsed": false,
    "ExecuteTime": {
     "end_time": "2023-08-23T09:23:23.731393200Z",
     "start_time": "2023-08-23T09:23:23.721392900Z"
    }
   },
   "id": "9d629d53a7ffac7c"
  },
  {
   "cell_type": "markdown",
   "source": [
    "### PYTHON STRING\n",
    "A string is a group of valid characters, such as letters, numbers, spaces, symbols and special characters, that is enclosed within either single quotes (' ') or double quotes (\" \").\n",
    "\n",
    "A string can group any type of known characters, including letters, numbers, spaces, symbols and special characters.\n",
    "\n",
    "A string object is a sequence, i.e., it's a list of characters where each item has a defined position.\n",
    "\n",
    "This means that a string object is a collection of characters that are ordered and indexed. \n",
    "\n",
    "Each character in a string has a unique position, starting from 0. This allows us to access individual characters in a string by their position.\n",
    "\n",
    "<img src=\"images/string_object_Sabah_bah.png\" width=\"500\" height=\"400\">\n",
    "\n",
    "Interestingly, we also can do backward indexing, which starts from -1 for the last character in the string."
   ],
   "metadata": {
    "collapsed": false
   },
   "id": "c937c3c6dcbdf3f"
  },
  {
   "cell_type": "code",
   "execution_count": 39,
   "outputs": [
    {
     "name": "stdout",
     "output_type": "stream",
     "text": [
      "To access the character at index 0 of my_text, you can use my_text[0], which returns: S\n"
     ]
    }
   ],
   "source": [
    "my_text='Sabah bah'\n",
    "\n",
    "print(f'To access the character at index 0 of my_text, you can use my_text[0], which returns: {my_text[0]}')"
   ],
   "metadata": {
    "collapsed": false,
    "ExecuteTime": {
     "end_time": "2023-08-23T10:05:57.076459400Z",
     "start_time": "2023-08-23T10:05:57.069459400Z"
    }
   },
   "id": "f1b4e364082f30f0"
  },
  {
   "cell_type": "code",
   "execution_count": 41,
   "outputs": [
    {
     "name": "stdout",
     "output_type": "stream",
     "text": [
      "To get the characters from index 3 to the end of my_text, you can use my_text[3:], which returns: \"bah bah\"\n",
      "To extract characters from index 2 to 4 of my_text, you can use my_text[2:5], which returns: \"bah\"\n"
     ]
    }
   ],
   "source": [
    "# Accessing a slice from index 3 to the end of the string\n",
    "slice1 = my_text[2:]\n",
    "print(f'To get the characters from index 2 to the end of my_text, you can use my_text[3:], which returns: \"{slice1}\"')\n",
    "\n",
    "# Accessing a slice from index 2 to 4 (excluding 5)\n",
    "slice2 = my_text[2:5]\n",
    "print(f'To extract characters from index 2 to 4 of my_text, you can use my_text[2:5], which returns: \"{slice2}\"')"
   ],
   "metadata": {
    "collapsed": false,
    "ExecuteTime": {
     "end_time": "2023-08-23T10:07:47.086887600Z",
     "start_time": "2023-08-23T10:07:47.079887800Z"
    }
   },
   "id": "8e910aa6745fd193"
  },
  {
   "cell_type": "code",
   "execution_count": null,
   "outputs": [],
   "source": [],
   "metadata": {
    "collapsed": false
   },
   "id": "4afec407da25fb72"
  },
  {
   "cell_type": "code",
   "execution_count": 51,
   "outputs": [
    {
     "name": "stdout",
     "output_type": "stream",
     "text": [
      "To get the characters from index -7 to the end of my_text using backward indexing, you can use my_text[-4:], which returns: \"bah bah\"\n",
      "To extract characters from index -7 to -4 of my_text using backward indexing, you can use my_text[-6:-3], which returns: \"bah\"\n"
     ]
    }
   ],
   "source": [
    "my_text = 'Sabah bah'\n",
    "\n",
    "# Accessing a slice from index -4 (inclusive) to the end of the string\n",
    "slice1 = my_text[-7:]\n",
    "print(f'To get the characters from index -7 to the end of my_text using backward indexing, you can use my_text[-4:], which returns: \"{slice1}\"')\n",
    "\n",
    "# Accessing a slice from index -6 (inclusive) to index -3 (exclusive)\n",
    "slice2 = my_text[-7:-4]\n",
    "print(f'To extract characters from index -7 to -4 of my_text using backward indexing, you can use my_text[-6:-3], which returns: \"{slice2}\"')\n"
   ],
   "metadata": {
    "collapsed": false,
    "ExecuteTime": {
     "end_time": "2023-08-23T10:10:59.976616100Z",
     "start_time": "2023-08-23T10:10:59.972615900Z"
    }
   },
   "id": "7d4cd84174f53a2d"
  },
  {
   "cell_type": "markdown",
   "source": [
    "String objects support concatenation using the + operator and repetition operations.\n"
   ],
   "metadata": {
    "collapsed": false
   },
   "id": "a8ad3d2b8626ce3f"
  },
  {
   "cell_type": "code",
   "execution_count": 56,
   "outputs": [
    {
     "name": "stdout",
     "output_type": "stream",
     "text": [
      "Sabah bah ni!\n"
     ]
    }
   ],
   "source": [
    "my_text='Sabah bah'\n",
    "new_text='ni!'\n",
    "concat_text= my_text + ' '+ new_text\n",
    "print(concat_text)"
   ],
   "metadata": {
    "collapsed": false,
    "ExecuteTime": {
     "end_time": "2023-08-23T10:14:05.781574400Z",
     "start_time": "2023-08-23T10:14:05.772063600Z"
    }
   },
   "id": "df99d9e0473f9780"
  },
  {
   "cell_type": "markdown",
   "source": [
    "my_text='Sabah bah'"
   ],
   "metadata": {
    "collapsed": false
   },
   "id": "4afec87d591126b5"
  },
  {
   "cell_type": "code",
   "execution_count": 57,
   "outputs": [
    {
     "name": "stdout",
     "output_type": "stream",
     "text": [
      "Sabah bah ni!Sabah bah ni!Sabah bah ni!Sabah bah ni!\n"
     ]
    }
   ],
   "source": [
    "n_repeat=4\n",
    "print(concat_text * n_repeat)"
   ],
   "metadata": {
    "collapsed": false,
    "ExecuteTime": {
     "end_time": "2023-08-23T10:14:07.871946700Z",
     "start_time": "2023-08-23T10:14:07.869946600Z"
    }
   },
   "id": "6b1c59b5c56df794"
  }
 ],
 "metadata": {
  "kernelspec": {
   "display_name": "Python 3",
   "language": "python",
   "name": "python3"
  },
  "language_info": {
   "codemirror_mode": {
    "name": "ipython",
    "version": 2
   },
   "file_extension": ".py",
   "mimetype": "text/x-python",
   "name": "python",
   "nbconvert_exporter": "python",
   "pygments_lexer": "ipython2",
   "version": "2.7.6"
  }
 },
 "nbformat": 4,
 "nbformat_minor": 5
}
