{
 "cells": [
  {
   "cell_type": "markdown",
   "source": [
    "Course Content Outline: Python Function Fundamentals\n",
    "\n",
    "Module 1: Introduction to Python Functions\n",
    "1.1 What is a Function in Python and Its Importance\n",
    "1.2 Anatomy of a Python Function\n",
    "a) Function Definition\n",
    "b) Function Call\n",
    "c) Functions with Multiple Parameters\n",
    "d) Functions That Return Values\n",
    "e) Functions with Different Scopes\n",
    "f) Functions with Multiple Return Values\n",
    "\n",
    "Module 2: Python Function Arguments\n",
    "2.1 Understanding Different Types of Function Arguments\n",
    "a) Positional Arguments\n",
    "b) Keyword Arguments\n",
    "c) Combining Positional and Keyword Arguments\n",
    "d) Default Values\n",
    "e) Arbitrary Positional Arguments\n",
    "f) Arbitrary Keyword Arguments\n",
    "g) Combining *args and **kwargs"
   ],
   "metadata": {
    "collapsed": false
   },
   "id": "fffec852194a97fe"
  },
  {
   "cell_type": "markdown",
   "source": [],
   "metadata": {
    "collapsed": false
   },
   "id": "5f9d9d52198e9545"
  },
  {
   "cell_type": "markdown",
   "source": [
    "# Section 1: Motivation"
   ],
   "metadata": {
    "collapsed": false
   },
   "id": "ce4b8101cb4b7e"
  },
  {
   "cell_type": "markdown",
   "source": [
    "## Sec 1.1: How do we write code?"
   ],
   "metadata": {
    "collapsed": false
   },
   "id": "dcb901240e5167e"
  },
  {
   "cell_type": "markdown",
   "source": [
    "* **So far…**\n",
    "    * Covered Language Mechanisms\n",
    "    * Know how to write different files for each computation.\n",
    "    * Each file is some piece of code.\n",
    "    * Each code is a sequence of instructions.\n",
    "\n",
    "* **Problems with this Approach**\n",
    "    * Easy for Small-Scale Problems\n",
    "    * Messy for Larger Problems\n",
    "    * Hard to Keep Track of Details\n",
    "    * How do you know the right info is supplied to the right part of the code?\n"
   ],
   "metadata": {
    "collapsed": false
   },
   "id": "f638756bfd5dd5"
  },
  {
   "cell_type": "markdown",
   "source": [
    "## Sec 1.2: Good Programming Practice\n",
    "\n",
    "* more code not necessarily a good thing\n",
    "* measure good programmers by the amount of functionality\n",
    "* introduce functions\n",
    "* mechanism to achieve abstraction and decomposition"
   ],
   "metadata": {
    "collapsed": false
   },
   "id": "fdd4bdcb249063b3"
  },
  {
   "cell_type": "markdown",
   "source": [
    "### Sec 1.2.1: Abstraction Analogy\n",
    "\n",
    "Example- Projector\n",
    "\n",
    "* A projector is a black box\n",
    "* Its inner workings may remain a mystery to many users.\n",
    "* However, users can easily navigate its interface, understanding the input and output functionalities.know the interface: input/output\n",
    "* By simply connecting compatible electronic devices to its input, user  can project images onto a wall with a magnified effect.\n",
    "* ABSTRACTION IDEA: User don't need an in-depth understanding of the projector's mechanics in order to operate it\n"
   ],
   "metadata": {
    "collapsed": false
   },
   "id": "6f80c4e7e9b192a8"
  },
  {
   "cell_type": "markdown",
   "source": [
    "### Sec 1.2.2: Decomposition Analogy\n",
    "\n",
    "\n",
    "* Creating a large image on a wall requires projection from multiple projectors\n",
    "* Each projector receives its own input and generates its own output.\n",
    "* All the projectors collaborate to create a larger image.\n",
    "* DECOMPOSITION IDEA: Different devices work together to achieve a common goal."
   ],
   "metadata": {
    "collapsed": false
   },
   "id": "770bde80036505bf"
  },
  {
   "cell_type": "markdown",
   "source": [
    "!<img src=\"images/apply_programming.png\" width=\"1218\" height=\"563\">"
   ],
   "metadata": {
    "collapsed": false
   },
   "id": "65b949034449dc91"
  },
  {
   "cell_type": "markdown",
   "source": [
    "## Sec 1.3: CREATE STRUCTURE with DECOMPOSITION\n",
    "\n",
    "* in projector example, separate devices\n",
    "* in programming, divide code into <span style=\"color:red;\">**modules**</span>\n",
    "    * are **self-contained**\n",
    "    * used to **break up** code\n",
    "    * intended to be **reusable**\n",
    "    * keep code **organized**\n",
    "    * **keep code coherent**\n",
    "* this lecture, achieve decomposition with functions\n",
    "* in a few weeks, achieve decomposition with classes"
   ],
   "metadata": {
    "collapsed": false
   },
   "id": "3cb1245f1d76b874"
  },
  {
   "cell_type": "markdown",
   "source": [
    "## Sec 1.4: SUPRESS DETAILS with ABSTRACTION"
   ],
   "metadata": {
    "collapsed": false
   },
   "id": "81245cadf63e72cc"
  },
  {
   "cell_type": "markdown",
   "source": [
    "* in projector example, instructions for how to use it are sufficient, no need to know how to build one\n",
    "* in programming, think of a piece of code as a <span style=\"color:red;\">**black box**</span> \n",
    "    * cannot see details\n",
    "    * do not need to see details\n",
    "    * do not want to see details\n",
    "    * hide tedious coding details\n",
    " achieve abstraction with <span style=\"color:red;\">**function specifications**</span>   or <span style=\"color:red;\">**docstrings**</span>"
   ],
   "metadata": {
    "collapsed": false
   },
   "id": "6affe813853b2176"
  },
  {
   "cell_type": "markdown",
   "source": [
    "# Section 2: Functions\n",
    "A function is a block of code which only runs when it is called.\n",
    "They are really useful if you have operations that need to be done repeatedly; i.e. calculations.\n",
    "In other word, a function is a block of organized, reusable code that is used to perform a single, related action, and can be use over and over again\n",
    "\n",
    "\n",
    "Treat it like a black box\n",
    "\n",
    "\n",
    "<img src=\"images/function_input.png\" width=\"200\" height=\"300\">\n",
    "\n",
    "\n",
    "\n",
    "\n",
    "\n",
    "You pass it (optional) values, it does some work, and it (optionally) returns values\n",
    "\n",
    "You “call it”,”invoke it”, or “use it” by using its name and parentheses\n",
    "\n",
    "The arguments you pass it go inside the parentheses\n",
    "\n",
    "output= function(input)\n",
    "\n",
    "\n"
   ],
   "metadata": {
    "collapsed": false
   },
   "id": "8fe96ef06fdcb77e"
  },
  {
   "cell_type": "markdown",
   "source": [
    "# Section 3: Python Function"
   ],
   "metadata": {
    "collapsed": false
   },
   "id": "dda97698dfad1d1f"
  },
  {
   "cell_type": "markdown",
   "source": [
    "## Sec 3.1: Anatomy"
   ],
   "metadata": {
    "collapsed": false
   },
   "id": "ee83560b0abae5a3"
  },
  {
   "cell_type": "markdown",
   "source": [
    "The function definition starts with the keyword def. It must be followed by the function name and the parenthesized list of formal parameters. The statements that form the body of the function start at the next line and must be indented. — [Python documentation](https://docs.python.org/3/tutorial/controlflow.html#defining-functions).\n"
   ],
   "metadata": {
    "collapsed": false
   },
   "id": "e95968f5c63975ac"
  },
  {
   "cell_type": "markdown",
   "source": [
    "The function definition follows a specific structure, as shown below:\n",
    "\n",
    "<pre><code class=\"python\" language=\"python\" style=\"font-size:0.8em\">\n",
    "def function_name(param):\n",
    "\tstatement\n",
    "\tstatement\n",
    "\t…\n",
    "\tstatement\n",
    "</code></pre>\n",
    "\n",
    "<!-- Add an empty line for spacing -->\n",
    "<br>\n",
    "\n",
    "\n",
    "| Keyword        | Description                                                                                                               |\n",
    "| -------------- |---------------------------------------------------------------------------------------------------------------------------|\n",
    "| `def`            | The def keyword is used to create a new function in Python. <br><br> It signifies the beginning of a function definition. |\n",
    "| `function_name`  | This is the name of the function.                                                                                         |\n",
    "| (`param`)        | `param` are variables that act as placeholders for values that will be provided when the function is called               |\n",
    "|statement       | The statements that make up the body of the function.    <br><br> For example, `print('hi') is a statement                |\n",
    "\n"
   ],
   "metadata": {
    "collapsed": false
   },
   "id": "1a935cd71245018"
  },
  {
   "cell_type": "markdown",
   "source": [
    "<span style=\"color:red;\">**For example**</span>\n",
    "\n",
    "\n",
    "\n",
    "<pre><code class=\"python\" language=\"python\" style=\"font-size:0.8em\">\n",
    "1 def print_text(param):\n",
    "2   print(param)\n",
    "</code></pre>\n",
    "\n",
    "<br> \n",
    "\n",
    "| Keyword        | Description                                                                                                      |\n",
    "| -------------- |------------------------------------------------------------------------------------------------------------------|\n",
    "| `def`          | The keyword signifies the beginning of a function definition.<br>                                                  |\n",
    "| `print_text `  | This is the name of the function.<br>                                                                             |\n",
    "| `param`         | This is the parameter of the function. <br>  It is a placeholder for the value that will be provided when the function is called.<br> |\n",
    "| `print(param)`   | This is the body of the function. <br>  It is the statement that will be executed when the function is called.     |\n",
    "\n",
    "\n",
    "\n"
   ],
   "metadata": {
    "collapsed": false
   },
   "id": "bd8fcfe995a0e614"
  },
  {
   "cell_type": "markdown",
   "source": [
    "The function must be defined before it is called. In other words, the block of code that makes up the function must come before the block of code that makes use of the function."
   ],
   "metadata": {
    "collapsed": false
   },
   "id": "257486fc0544d9eb"
  },
  {
   "cell_type": "markdown",
   "source": [
    "## Sec 3.2: Function Call\n",
    "\n",
    "* A <span style=\"color: red;\">**function call**</span> in Python is the act of executing a function\n",
    "\n",
    "* A function is call by  using it's <span style=\"color: red;\">**identifier (name)**</span> followed by <span style=\"color: red;\">**parenthesis**</span>. \n",
    "    -   <span style=\"font-size:18px;\"><code>some_function_name()</code></span>\n",
    "    \n",
    "* If the function takes any <span style=\"color: red;\">**arguments**</span>, they are included within the <span style=\"color: red;\">**parentheses**</span>.\n",
    "    - <span style=\"font-size:18px;\"><code>some_function_name(input1, input2,..)</code></span>\n",
    "\n"
   ],
   "metadata": {
    "collapsed": false
   },
   "id": "de0479a9c426cf1d"
  },
  {
   "cell_type": "markdown",
   "source": [
    "Say for example, we have a function called <span style=\"font-size:18px;\"><code>print_text</code></span> that prints out a string. \n",
    "\n",
    "<pre><code class=\"python\" language=\"python\" style=\"font-size:18px\">\n",
    "1 def print_text(param):\n",
    "2   print(param)\n",
    "</code></pre>\n",
    "\n",
    "<br>\n",
    "\n",
    "We can call the function by using the following syntax:\n",
    "\n",
    "<pre><code class=\"python\" language=\"python\" style=\"font-size:0.8em\"> print_text('Hello World')\n",
    "</code></pre>\n",
    "\n",
    "<br>\n",
    "\n",
    "In the above example, we are calling the function <span style=\"font-size:18px;\"><code>print_text</code></span> and passing in the string\n",
    " <span style=\"font-size:18px;\"><code>Hello World</code></span> as the argument."
   ],
   "metadata": {
    "collapsed": false
   },
   "id": "c7f70880c176b70d"
  },
  {
   "cell_type": "code",
   "execution_count": 3,
   "outputs": [
    {
     "name": "stdout",
     "output_type": "stream",
     "text": [
      "Hello Zoro My Dog\n"
     ]
    }
   ],
   "source": [
    "# Example 1\n",
    "# The function definition for a function that prints out a string\n",
    "def print_text(param):\n",
    "  print(param)\n",
    "  \n",
    "# The function call\n",
    "print_text('Hello Zoro My Dog')"
   ],
   "metadata": {
    "collapsed": false,
    "ExecuteTime": {
     "end_time": "2023-08-24T05:04:33.631455200Z",
     "start_time": "2023-08-24T05:04:33.600455100Z"
    }
   },
   "id": "6d12c2a5e8267faf"
  },
  {
   "cell_type": "markdown",
   "source": [
    "## Sec 3.3: Parameter-Argument Position Matching"
   ],
   "metadata": {
    "collapsed": false
   },
   "id": "db55d70c87cd474f"
  },
  {
   "cell_type": "markdown",
   "source": [
    "The positions of the parameters in the function definition and the corresponding arguments in the function call should match.\n",
    "<br>\n",
    "This arrangement ensures that the right values are assigned to the correct parameters when the function is executed.\n",
    "\n",
    "Take for example, the function definition below:\n",
    "\n",
    "<pre><code class=\"python\" language=\"python\" style=\"font-size:0.8em\">\n",
    "def function-name(param0, param1, ...):\n",
    "\t\tstatement\n",
    "\t\tstatement\n",
    "\t\t…\n",
    "\t\tstatement\n",
    "\n",
    "function-name(arg0, arg1, ...)\n",
    "</code></pre>\n",
    "\n",
    "The arguments `arg0` and `arg1` are assigned to the parameters `param0` and `param1` respectively."
   ],
   "metadata": {
    "collapsed": false
   },
   "id": "59f47c2dd1e347dd"
  },
  {
   "cell_type": "markdown",
   "source": [
    "Take for example, the function definition below:\n",
    "\n",
    "It is important to note that, when working with Jupiter Notebook, or Google Colab, the function definition and the function call can be in different cells. However, the function definition must be executed before the function call."
   ],
   "metadata": {
    "collapsed": false
   },
   "id": "ae59d4cb534bad44"
  },
  {
   "cell_type": "code",
   "execution_count": 4,
   "outputs": [],
   "source": [
    "# Example 2\n",
    "# The function definition for a function that prints out a string\n",
    "# It is important to execute the function definition before the function call\n",
    "\n",
    "\n",
    "def calculate_power(base, exponent):\n",
    "    result = base ** exponent   # ** is the exponentiation operator\n",
    "    return result               # The return statement returns the value of result"
   ],
   "metadata": {
    "collapsed": false,
    "ExecuteTime": {
     "end_time": "2023-08-24T05:23:42.531211800Z",
     "start_time": "2023-08-24T05:23:42.522705100Z"
    }
   },
   "id": "bbf33c454370ab7"
  },
  {
   "cell_type": "markdown",
   "source": [
    "When calling the function calculate_power, the arguments base_value and exponent_value are provided.\n",
    "Inside the function, base corresponds to base_value and exponent corresponds to exponent_value.\n"
   ],
   "metadata": {
    "collapsed": false
   },
   "id": "88bb26c6a55c067a"
  },
  {
   "cell_type": "code",
   "execution_count": 5,
   "outputs": [
    {
     "name": "stdout",
     "output_type": "stream",
     "text": [
      "8\n"
     ]
    }
   ],
   "source": [
    "# This cell represent the function call for the funtion calculate_power in the previous cell\n",
    "base_value = 2\n",
    "exponent_value = 3\n",
    "\n",
    "# The function call assigns the value of base_value to base and exponent_value to exponent, and it will assign the value to the variable result\n",
    "result = calculate_power(base_value, exponent_value) \n",
    "print(result)  # Output: 8"
   ],
   "metadata": {
    "collapsed": false,
    "ExecuteTime": {
     "end_time": "2023-08-24T05:23:45.109375700Z",
     "start_time": "2023-08-24T05:23:45.095370200Z"
    }
   },
   "id": "fef2f9afc5999d65"
  },
  {
   "cell_type": "markdown",
   "source": [
    "## Sec 3.4: Function with return Value(s)\n",
    "\n",
    "* Python functions can return value(s). \n",
    "* The <span style=\"color: red;\">return statement</span> signals the **end**  of the function's execution and therefore **affects** the flow of execution.\n",
    "* The <span style=\"color: red;\">return statement</span> is used to **return** a value from a function\n",
    "* Whenever the flow of execution hits a return statement it jumps back to the place where the function was called\n",
    "\n",
    "\n",
    "<pre><code class=\"python\" language=\"python\" style=\"font-size:15px\">\n",
    "        def function_name(param0):\n",
    "          statement\n",
    "            …   \n",
    "          statement\n",
    "          \n",
    "          <span style=\"color: red;\">return value1, value2, ...</span>\n",
    "</code></pre>\n",
    "\n",
    "<br>\n",
    "\n",
    "The calling function is similar as before, but now the function call is an expression that evaluates to the return value of the function.\n",
    "\n",
    "<pre><code class=\"python\" language=\"python\" style=\"font-size:0.8em\">\n",
    "output = function_name(param0)\n",
    "</code></pre>\n"
   ],
   "metadata": {
    "collapsed": false
   },
   "id": "f152211cd688e995"
  },
  {
   "cell_type": "markdown",
   "source": [
    "### Sec 3.4.1: Single Return value\n",
    "In the example below, the value returned is the result of the area calculation\n"
   ],
   "metadata": {
    "collapsed": false
   },
   "id": "eb7f2e5fcd2f26cb"
  },
  {
   "cell_type": "code",
   "execution_count": 6,
   "outputs": [
    {
     "name": "stdout",
     "output_type": "stream",
     "text": [
      "The area of the circle is: 78.5\n"
     ]
    }
   ],
   "source": [
    "# Example 3\n",
    "# The function definition for a function that calculates the area of a circle\n",
    "\n",
    "def area(radius):\n",
    "    calculated_area = 3.14 * radius**2\n",
    "    return calculated_area  # The return statement returns the value of calculated_area\n",
    "\n",
    "\n",
    "# We define the radius of the circle\n",
    "circle_radius = 5\n",
    "\n",
    "# The function call assigns the value of circle_radius to radius, and it will assign the value to the variable circle_area\n",
    "circle_area = area(circle_radius) \n",
    "\n",
    "# We print the value of circle_area\n",
    "print(\"The area of the circle is:\", circle_area)"
   ],
   "metadata": {
    "collapsed": false,
    "ExecuteTime": {
     "start_time": "2023-08-24T05:56:14.138636300Z"
    }
   },
   "id": "c3626f6a80078b16"
  },
  {
   "cell_type": "markdown",
   "source": [
    "### Sec 3.4.1: Multiple Return Value\n",
    "The return statement can be used to return multiple values from a function by separating them with commas.\n",
    "\n",
    "This is tuple packing, and the returned values can be unpacked into multiple variables."
   ],
   "metadata": {
    "collapsed": false
   },
   "id": "a38cb45ab0519943"
  },
  {
   "cell_type": "code",
   "execution_count": 1,
   "outputs": [
    {
     "name": "stdout",
     "output_type": "stream",
     "text": [
      "Circle Area: 78.5\n",
      "Circle Circumference: 31.400000000000002\n"
     ]
    }
   ],
   "source": [
    "def calculate_circle_properties(radius):\n",
    "    area = 3.14 * radius**2\n",
    "    circumference = 2 * 3.14 * radius\n",
    "    return area, circumference\n",
    "\n",
    "circle_radius = 5\n",
    "circle_area, circle_circumference = calculate_circle_properties(circle_radius)\n",
    "\n",
    "print(\"Circle Area:\", circle_area)\n",
    "print(\"Circle Circumference:\", circle_circumference)\n"
   ],
   "metadata": {
    "collapsed": false,
    "ExecuteTime": {
     "end_time": "2023-10-27T13:44:49.564758900Z",
     "start_time": "2023-10-27T13:44:49.547252900Z"
    }
   },
   "id": "77a67d9ff312f7da"
  },
  {
   "cell_type": "markdown",
   "source": [
    "## Sec 3.5: Variable Scope\n",
    "\n",
    "Same name, Different Scope\n",
    "\n",
    "\n",
    "Variables within a function are considered local. \n",
    "Each function has it own variables, even in cases where the names coincide.\n",
    "This enables writing functions independently without worrying about using identical variable names across multiple functions\n"
   ],
   "metadata": {
    "collapsed": false
   },
   "id": "a6ffccd097a524b4"
  },
  {
   "cell_type": "code",
   "execution_count": 7,
   "outputs": [
    {
     "name": "stdout",
     "output_type": "stream",
     "text": [
      "Area of a circle with radius 3: 28.26\n",
      "Circumference of a circle with radius 3: 18.84\n",
      "Value of 'a': 20\n"
     ]
    }
   ],
   "source": [
    "def area(radius):\n",
    "    a = 3.14 * radius**2\n",
    "    return a\n",
    "\n",
    "def circumference(radius):\n",
    "    a = 3.14 * 2 * radius\n",
    "    return a\n",
    "\n",
    "a = 20\n",
    "print(\"Area of a circle with radius 3:\", area(3))\n",
    "print(\"Circumference of a circle with radius 3:\", circumference(3))\n",
    "print(\"Value of 'a':\", a)\n"
   ],
   "metadata": {
    "collapsed": false,
    "ExecuteTime": {
     "start_time": "2023-08-24T06:03:52.120208300Z"
    }
   },
   "id": "3716a8b3d744f3c"
  },
  {
   "cell_type": "markdown",
   "source": [
    "# Section 4: Type of Arguments\n"
   ],
   "metadata": {
    "collapsed": false
   },
   "id": "956217575e9dcb62"
  },
  {
   "cell_type": "markdown",
   "source": [
    "## Sec 4.1 Positional Arguments"
   ],
   "metadata": {
    "collapsed": false
   },
   "id": "3800ca244b7be957"
  },
  {
   "cell_type": "markdown",
   "source": [
    "Positional arguments refer to arguments that must be included in the correct position or sequence. \n",
    "\n",
    "The first positional argument should always come first when invoking the function. \n",
    "Subsequently, the second positional argument must follow, and the third positional argument should be the subsequent entry, and so forth. "
   ],
   "metadata": {
    "collapsed": false
   },
   "id": "a0bc826fa9f267d4"
  },
  {
   "cell_type": "markdown",
   "source": [
    "Take for example the calculate_power function below:\n",
    "\n",
    "<pre><code class=\"python\" language=\"python\" style=\"font-size:0.8em\">\n",
    "def calculate_power(base_val, exponent_val):\n",
    "    result = base ** exponent\n",
    "    return result\n",
    "</code></pre>\n",
    "\n",
    "<br>\n",
    "and its function call:\n",
    "<pre><code class=\"python\" language=\"python\" style=\"font-size:0.8em\">\n",
    "calculate_power(base_value, exponent_value)\n",
    "</code></pre>\n",
    "\n",
    "\n",
    "In the example above, the arguments base_value and exponent_value are positional arguments.\n",
    "The first positional argument `base_value` is assigned to the first parameter `base`, and the second positional argument `exponent_value` is assigned to the second parameter `exponent`."
   ],
   "metadata": {
    "collapsed": false
   },
   "id": "31e5daae655062c7"
  },
  {
   "cell_type": "code",
   "execution_count": null,
   "outputs": [],
   "source": [
    "# Example 2\n",
    "# The function definition for a function that prints out a string\n",
    "# It is important to execute the function definition before the function call\n",
    "\n",
    "\n",
    "def calculate_power(base_val, exponent_val):\n",
    "    result = base_val ** exponent_val  # ** is the exponentiation operator\n",
    "    return result  # The return statement returns the value of result\n",
    "\n",
    "\n",
    "# This cell represent the function call for the funtion calculate_power in the previous cell\n",
    "base_value = 2\n",
    "exponent_value = 3\n",
    "\n",
    "# The function call assigns the value of base_value to base and exponent_value to exponent, and it will assign the value to the variable result\n",
    "result = calculate_power(base_value, exponent_value)\n",
    "print(result)  # Output: 8"
   ],
   "metadata": {
    "collapsed": false
   },
   "id": "c2fe6b5bc502ccaa"
  },
  {
   "cell_type": "markdown",
   "source": [
    "## Sec 4.2 Keyword Arguments\n"
   ],
   "metadata": {
    "collapsed": false
   },
   "id": "55f13fdbcd87631c"
  },
  {
   "cell_type": "markdown",
   "source": [
    "a keyword argument is a type of function or method argument that is passed to a function using its parameter name, along with a value, during a function call. \n"
   ],
   "metadata": {
    "collapsed": false
   },
   "id": "9586401ca97ed821"
  },
  {
   "cell_type": "markdown",
   "source": [
    "Keyword arguments can be used to pass arguments to a function in any order \n",
    "\n",
    "In the example below, the arguments `base` and `exponent` are keyword arguments.\n",
    "We assign the value of `base` equal to 4 to the parameter `base`.\n"
   ],
   "metadata": {
    "collapsed": false
   },
   "id": "e1886a7bc4037da5"
  },
  {
   "cell_type": "code",
   "execution_count": 12,
   "outputs": [],
   "source": [
    "def calculate_power(base_val=2, exponent_val=3):\n",
    "    return base_val ** exponent_val\n",
    "\n",
    "result = calculate_power(base_val=4) # Output 64\n",
    "\n"
   ],
   "metadata": {
    "collapsed": false,
    "ExecuteTime": {
     "end_time": "2023-08-24T06:28:45.034770500Z",
     "start_time": "2023-08-24T06:28:45.028823700Z"
    }
   },
   "id": "aa5c8362ef54301b"
  },
  {
   "cell_type": "markdown",
   "source": [
    "Below is another example of passing the argument in any order. If you notice, the order of the arguments in the function call is different from the order of the parameters in the function definition."
   ],
   "metadata": {
    "collapsed": false
   },
   "id": "beb6276cd429ad74"
  },
  {
   "cell_type": "code",
   "execution_count": 11,
   "outputs": [
    {
     "name": "stdout",
     "output_type": "stream",
     "text": [
      "4\n"
     ]
    }
   ],
   "source": [
    "def calculate_power(base_val=2, exponent_val=3):\n",
    "    return base_val ** exponent_val\n",
    "\n",
    "result = calculate_power(exponent_val=1, base_val=4)  # Output 4\n",
    "print(result)"
   ],
   "metadata": {
    "collapsed": false,
    "ExecuteTime": {
     "end_time": "2023-08-24T06:28:26.254965700Z",
     "start_time": "2023-08-24T06:28:26.249433900Z"
    }
   },
   "id": "be0a3acda4a624d7"
  },
  {
   "cell_type": "markdown",
   "source": [
    "Functions with keyword arguments are more flexible as user can omit any arguments that have default values.\n",
    "\n",
    "As you can see in the function call, there are no arguments passed to the function.This is because the function has default values for the parameters.Therefore, the function will use the default values for the parameters.\n"
   ],
   "metadata": {
    "collapsed": false
   },
   "id": "37856c4ab86466e7"
  },
  {
   "cell_type": "code",
   "execution_count": 13,
   "outputs": [],
   "source": [
    "def calculate_power(base_val=2, exponent_val=3):\n",
    "    return base_val ** exponent_val\n",
    "\n",
    "result = calculate_power() # Output 8\n"
   ],
   "metadata": {
    "collapsed": false,
    "ExecuteTime": {
     "end_time": "2023-08-24T06:30:06.994534600Z",
     "start_time": "2023-08-24T06:30:06.980517Z"
    }
   },
   "id": "1593f824262b47db"
  },
  {
   "cell_type": "markdown",
   "source": [
    "## Sec 4.3 Combine Positional and Keyword Arguments\n",
    "It’s even possible to combine positional and keyword arguments in a single call. \n"
   ],
   "metadata": {
    "collapsed": false
   },
   "id": "6c904a100018762d"
  },
  {
   "cell_type": "markdown",
   "source": [
    "In the example below, all positional are matched first from left to right in the header, before keywords are matched by name\n"
   ],
   "metadata": {
    "collapsed": false
   },
   "id": "2ffa0a76385c6eb7"
  },
  {
   "cell_type": "code",
   "execution_count": 14,
   "outputs": [
    {
     "name": "stdout",
     "output_type": "stream",
     "text": [
      "18\n",
      "17\n",
      "17\n",
      "9\n",
      "9\n"
     ]
    }
   ],
   "source": [
    "def add(a, b=5, c=10):\n",
    "    return a + b + c\n",
    "\n",
    "# Using keyword arguments for clarity\n",
    "print(add(3))\t\t\t# output 18\n",
    "print(add(a=3, b=4))\t# output 17\n",
    "print(add(3, b=4))\t\t# output 17\n",
    "print(add(2, b=3, c=4))\t# output 9\n",
    "print(add(a=2, c=4,b=3))# output 9"
   ],
   "metadata": {
    "collapsed": false,
    "ExecuteTime": {
     "end_time": "2023-08-24T06:31:02.898789900Z",
     "start_time": "2023-08-24T06:31:02.886375Z"
    }
   },
   "id": "c3ad74f543cd749a"
  },
  {
   "cell_type": "markdown",
   "source": [
    "## Sec 4.4 Default Argument\n",
    "Default arguments are a way to make your functions more flexible by allowing callers to omit certain arguments if they're satisfied with the default values.\n",
    " \n",
    "They also make the function easier to use in cases where the same values are often used for certain parameters. Just remember that when using default arguments, they must appear after the non-default (mandatory) arguments in the function signature.\n"
   ],
   "metadata": {
    "collapsed": false
   },
   "id": "e509201b53c19403"
  },
  {
   "cell_type": "markdown",
   "source": [
    "For this section, we will use the `add` function as our running example.\n",
    "\n",
    "In the `add` function, the variable `a` is a mandatory (required) argument, while both variables `b` and `c` are optional arguments with default values of `5` and `10`, respectively."
   ],
   "metadata": {
    "collapsed": false
   },
   "id": "86c6b78740b89805"
  },
  {
   "cell_type": "code",
   "execution_count": null,
   "outputs": [],
   "source": [
    "def add(a, b=5, c=10):\n",
    "    return a + b + c"
   ],
   "metadata": {
    "collapsed": false
   },
   "id": "4e4938c80a501228"
  },
  {
   "cell_type": "markdown",
   "source": [
    "### Sec 4.4.1: Giving only the mandatory argument\n",
    "\n",
    "Here, we only supply the variable `a` with a value of `3`. Wheras, no values were provided to the variable  `b` and `c` , and the compiler will use their default values (5 and 10).\n"
   ],
   "metadata": {
    "collapsed": false
   },
   "id": "6f1cefba3562f5a6"
  },
  {
   "cell_type": "code",
   "execution_count": 15,
   "outputs": [
    {
     "name": "stdout",
     "output_type": "stream",
     "text": [
      "18\n"
     ]
    }
   ],
   "source": [
    "# Running this example will return the output of 18\n",
    "print(add(3))\n"
   ],
   "metadata": {
    "collapsed": false,
    "ExecuteTime": {
     "end_time": "2023-08-24T06:35:42.708714500Z",
     "start_time": "2023-08-24T06:35:42.699748300Z"
    }
   },
   "id": "fe00a380ea226f2d"
  },
  {
   "cell_type": "markdown",
   "source": [
    "### Sec 4.4.2: Giving one of the optional arguments\n",
    "\n",
    "Here, we only supply the variable `a` and `b` with a value of `3` and `4`, repsectively. Wheras, no value was  provided to the variable  and `c` , and the compiler will use their default value `10`.\n"
   ],
   "metadata": {
    "collapsed": false
   },
   "id": "31d964e5748cf475"
  },
  {
   "cell_type": "code",
   "execution_count": 16,
   "outputs": [
    {
     "name": "stdout",
     "output_type": "stream",
     "text": [
      "17\n"
     ]
    }
   ],
   "source": [
    "# Running this example will return the output of 17\n",
    "print(add(3, 4))"
   ],
   "metadata": {
    "collapsed": false,
    "ExecuteTime": {
     "end_time": "2023-08-24T06:36:08.119570400Z",
     "start_time": "2023-08-24T06:36:08.107570900Z"
    }
   },
   "id": "cdc2935bfd62764"
  },
  {
   "cell_type": "markdown",
   "source": [
    "### Sec 4.4.3: Giving all the arguments\n",
    "Here, we supply the variables `a`, `b`, and `c`  with a value of `2`, `3`, and `4`, repsectively. "
   ],
   "metadata": {
    "collapsed": false
   },
   "id": "97bfe1fd22be6b16"
  },
  {
   "cell_type": "code",
   "execution_count": 17,
   "outputs": [
    {
     "name": "stdout",
     "output_type": "stream",
     "text": [
      "9\n"
     ]
    }
   ],
   "source": [
    "# Running this example will return the output of 9\n",
    "print(add(2, 3, 4))"
   ],
   "metadata": {
    "collapsed": false,
    "ExecuteTime": {
     "end_time": "2023-08-24T06:36:24.617825100Z",
     "start_time": "2023-08-24T06:36:24.602825300Z"
    }
   },
   "id": "56a6a98112e9cd9"
  },
  {
   "cell_type": "markdown",
   "source": [
    "However, the above example is not very readable. It is advisable to use keyword arguments for clarity."
   ],
   "metadata": {
    "collapsed": false
   },
   "id": "dbcd5d4335f5eef8"
  },
  {
   "cell_type": "code",
   "execution_count": null,
   "outputs": [],
   "source": [
    "# Running this example will return the output of 9\n",
    "print(add(a=2, b=3, c=4))"
   ],
   "metadata": {
    "collapsed": false
   },
   "id": "2934470eb293afc7"
  },
  {
   "cell_type": "code",
   "execution_count": null,
   "outputs": [],
   "source": [
    "print(add(a=3, b=4))"
   ],
   "metadata": {
    "collapsed": false
   },
   "id": "8575bf83e9fdd721"
  },
  {
   "cell_type": "markdown",
   "source": [],
   "metadata": {
    "collapsed": false
   },
   "id": "effcfc015409224e"
  },
  {
   "cell_type": "markdown",
   "source": [
    "## Sec 4.5 Arbitrary Positional Arguments\n",
    "You can pass any number of positional arguments to the function when using `*args`.\n",
    "\n",
    "The name args is a convention, but you can choose any name you like by using the asterisk (*) before the parameter.\n",
    "\n",
    "<br>\n",
    "\n",
    "<pre><code class=\"python\" language=\"python\" style=\"font-size:0.8em\">\n",
    "def function_name(*args):\n",
    "    # Do something with the arguments\n",
    "</code></pre>\n"
   ],
   "metadata": {
    "collapsed": false
   },
   "id": "1785f04df1c9e142"
  },
  {
   "cell_type": "markdown",
   "source": [
    "\n",
    "<br>\n",
    "\n",
    "Say for example, we have a function\n",
    "\n",
    "<pre><code class=\"python\" language=\"python\" style=\"font-size:0.8em\">\n",
    "def my_function(*args):\n",
    "    print(\"List of animals:\", args)\n",
    "</code></pre>\n",
    "\n",
    "We can supply the arguments\n",
    "\n",
    "<pre><code class=\"python\" language=\"python\" style=\"font-size:0.8em\">\n",
    "my_function(\"cat\", \"dog\", \"bat\",\"cow\",\"rat\")\n",
    "</code></pre>\n",
    "\n",
    "The function treats these arguments as a tuple inside its body.\n",
    "\n",
    "The compiler will return the output\n",
    "\n",
    "<pre><code class=\"python\" language=\"python\" style=\"font-size:0.8em\">\n",
    ">> List of animals: ('cat', 'dog', 'bat', 'cow', 'rat’)\n",
    "</code></pre>"
   ],
   "metadata": {
    "collapsed": false
   },
   "id": "4c33f155e2eb0f63"
  },
  {
   "cell_type": "code",
   "execution_count": 20,
   "outputs": [
    {
     "name": "stdout",
     "output_type": "stream",
     "text": [
      "List of animals: ('cat', 'dog', 'bat', 'cow', 'rat')\n"
     ]
    }
   ],
   "source": [
    "# The executable script for the code snippet above\n",
    "def my_function(*args):\n",
    "    print(\"List of animals:\", args)\n",
    "\n",
    "my_function(\"cat\", \"dog\", \"bat\",\"cow\",\"rat\")"
   ],
   "metadata": {
    "collapsed": false,
    "ExecuteTime": {
     "end_time": "2023-08-24T06:44:20.964529900Z",
     "start_time": "2023-08-24T06:44:20.958530500Z"
    }
   },
   "id": "bb3108498de5ec69"
  },
  {
   "cell_type": "markdown",
   "source": [
    "## Sec 4.6: Arbitrary Keyword Arguments"
   ],
   "metadata": {
    "collapsed": false
   },
   "id": "212a04d5f795a442"
  },
  {
   "cell_type": "markdown",
   "source": [
    "The `**kwargs` syntax allows a function to accept an arbitrary number of keyword arguments (i.e., arguments passed with a specific keyword). \n",
    "The name kwargs is a convention, but you can choose any name you like by using two asterisks (`**`) before the parameter.\n"
   ],
   "metadata": {
    "collapsed": false
   },
   "id": "4faba006af2bfc74"
  },
  {
   "cell_type": "code",
   "execution_count": null,
   "outputs": [],
   "source": [],
   "metadata": {
    "collapsed": false
   },
   "id": "281e6851d4049dfb"
  },
  {
   "cell_type": "markdown",
   "source": [
    "Usage:\n",
    "You can pass any number of keyword arguments to the function when using **kwargs.\n",
    "The function treats these arguments as a dictionary inside its body, with the argument names as keys and their values as values.\n"
   ],
   "metadata": {
    "collapsed": false
   },
   "id": "28de6413b93f2836"
  },
  {
   "cell_type": "code",
   "execution_count": 21,
   "outputs": [
    {
     "name": "stdout",
     "output_type": "stream",
     "text": [
      "name: John\n",
      "age: 30\n",
      "city: New York\n"
     ]
    }
   ],
   "source": [
    "def print_details(**kwargs):\n",
    "    for key, value in kwargs.items():\n",
    "        print(f\"{key}: {value}\")\n",
    "\n",
    "print_details(name=\"John\", age=30, city=\"New York\")\n"
   ],
   "metadata": {
    "collapsed": false,
    "ExecuteTime": {
     "end_time": "2023-08-24T06:53:10.132570500Z",
     "start_time": "2023-08-24T06:53:10.116570200Z"
    }
   },
   "id": "10d0543677284615"
  },
  {
   "cell_type": "markdown",
   "source": [
    "## Sec 4.7: Combining args and kwargs:\n"
   ],
   "metadata": {
    "collapsed": false
   },
   "id": "e1183b543420669e"
  },
  {
   "cell_type": "markdown",
   "source": [
    "You can also use both `*args` and `**kwargs` in the same function definition. \n",
    "\n",
    "The order of parameters should be `*args` first, followed by `**kwargs`.\n",
    "\n",
    "\n",
    "<br>\n",
    "\n",
    "<pre><code class=\"python\" language=\"python\" style=\"font-size:0.8em\">\n",
    "def function_name(*args, **kwargs):\n",
    "    # Function code here\n",
    "</code></pre>\n",
    "\n",
    "This allows the function to handle both positional and keyword arguments simultaneously.\n",
    "\n",
    "\n",
    "\n"
   ],
   "metadata": {
    "collapsed": false
   },
   "id": "38cc7aa66b82f56a"
  },
  {
   "cell_type": "code",
   "execution_count": 22,
   "outputs": [
    {
     "name": "stdout",
     "output_type": "stream",
     "text": [
      "Positional arguments: (1, 2, 3)\n",
      "Keyword arguments: {'name': 'Zoro', 'age': 5}\n"
     ]
    }
   ],
   "source": [
    "def print_all_arguments(*args, **kwargs):\n",
    "    print(\"Positional arguments:\", args)\n",
    "    print(\"Keyword arguments:\", kwargs)\n",
    "\n",
    "print_all_arguments(1, 2, 3, name=\"Zoro\", age=5)\n"
   ],
   "metadata": {
    "collapsed": false,
    "ExecuteTime": {
     "end_time": "2023-08-24T06:54:57.884948200Z",
     "start_time": "2023-08-24T06:54:57.877948Z"
    }
   },
   "id": "237a342cd9c1868b"
  }
 ],
 "metadata": {
  "kernelspec": {
   "display_name": "Python 3",
   "language": "python",
   "name": "python3"
  },
  "language_info": {
   "codemirror_mode": {
    "name": "ipython",
    "version": 2
   },
   "file_extension": ".py",
   "mimetype": "text/x-python",
   "name": "python",
   "nbconvert_exporter": "python",
   "pygments_lexer": "ipython2",
   "version": "2.7.6"
  }
 },
 "nbformat": 4,
 "nbformat_minor": 5
}
